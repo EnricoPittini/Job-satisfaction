{
 "cells": [
  {
   "cell_type": "code",
   "execution_count": 1,
   "id": "0a9204b6",
   "metadata": {},
   "outputs": [],
   "source": [
    "import pandas as pd"
   ]
  },
  {
   "cell_type": "code",
   "execution_count": 326,
   "id": "74ff147a",
   "metadata": {},
   "outputs": [],
   "source": [
    "df = pd.read_excel('IBM_Job_satisfaction.xlsm')"
   ]
  },
  {
   "cell_type": "code",
   "execution_count": 327,
   "id": "f61c187f",
   "metadata": {},
   "outputs": [
    {
     "name": "stdout",
     "output_type": "stream",
     "text": [
      "<class 'pandas.core.frame.DataFrame'>\n",
      "RangeIndex: 19478 entries, 0 to 19477\n",
      "Data columns (total 30 columns):\n",
      " #   Column                    Non-Null Count  Dtype \n",
      "---  ------                    --------------  ----- \n",
      " 0   Age                       19478 non-null  int64 \n",
      " 1   BusinessTravel            19478 non-null  object\n",
      " 2   DailyRate                 19478 non-null  int64 \n",
      " 3   Department                19478 non-null  object\n",
      " 4   DistanceFromHome          19478 non-null  int64 \n",
      " 5   Education                 19478 non-null  int64 \n",
      " 6   EnvironmentSatisfaction   19478 non-null  int64 \n",
      " 7   Gender                    19478 non-null  object\n",
      " 8   HourlyRate                19478 non-null  int64 \n",
      " 9   JobInvolvement            19478 non-null  int64 \n",
      " 10  JobLevel                  19478 non-null  int64 \n",
      " 11  JobRole                   19478 non-null  object\n",
      " 12  JobSatisfaction           19478 non-null  int64 \n",
      " 13  MaritalStatus             19478 non-null  object\n",
      " 14  MonthlyIncome             19478 non-null  int64 \n",
      " 15  MonthlyRate               19478 non-null  int64 \n",
      " 16  NumCompaniesWorked        19478 non-null  int64 \n",
      " 17  OverTime                  19478 non-null  object\n",
      " 18  PercentSalaryHike         19478 non-null  int64 \n",
      " 19  RelationshipSatisfaction  19478 non-null  int64 \n",
      " 20  StandardHours             19478 non-null  int64 \n",
      " 21  StockOptionLevel          19478 non-null  int64 \n",
      " 22  TotalWorkingYears         19478 non-null  int64 \n",
      " 23  TrainingTimesLastYear     19478 non-null  int64 \n",
      " 24  WorkLifeBalance           19478 non-null  int64 \n",
      " 25  YearsAtCompany            19478 non-null  int64 \n",
      " 26  YearsInCurrentRole        19478 non-null  int64 \n",
      " 27  YearsSinceLastPromotion   19478 non-null  int64 \n",
      " 28  YearsWithCurrManager      19478 non-null  int64 \n",
      " 29  Employee Source           19478 non-null  object\n",
      "dtypes: int64(23), object(7)\n",
      "memory usage: 4.5+ MB\n"
     ]
    }
   ],
   "source": [
    "df.info()"
   ]
  },
  {
   "cell_type": "code",
   "execution_count": 328,
   "id": "a43d152d",
   "metadata": {},
   "outputs": [],
   "source": [
    "df = df[['Age', 'Department', 'Education', 'Gender', 'JobLevel', 'MonthlyIncome', 'WorkLifeBalance','JobSatisfaction']]"
   ]
  },
  {
   "cell_type": "code",
   "execution_count": 329,
   "id": "b98be1f3",
   "metadata": {},
   "outputs": [
    {
     "name": "stdout",
     "output_type": "stream",
     "text": [
      "<class 'pandas.core.frame.DataFrame'>\n",
      "RangeIndex: 19478 entries, 0 to 19477\n",
      "Data columns (total 8 columns):\n",
      " #   Column           Non-Null Count  Dtype \n",
      "---  ------           --------------  ----- \n",
      " 0   Age              19478 non-null  int64 \n",
      " 1   Department       19478 non-null  object\n",
      " 2   Education        19478 non-null  int64 \n",
      " 3   Gender           19478 non-null  object\n",
      " 4   JobLevel         19478 non-null  int64 \n",
      " 5   MonthlyIncome    19478 non-null  int64 \n",
      " 6   WorkLifeBalance  19478 non-null  int64 \n",
      " 7   JobSatisfaction  19478 non-null  int64 \n",
      "dtypes: int64(6), object(2)\n",
      "memory usage: 1.2+ MB\n"
     ]
    }
   ],
   "source": [
    "df.info()"
   ]
  },
  {
   "cell_type": "markdown",
   "id": "de88f014",
   "metadata": {},
   "source": [
    "Non-numerical attrbitues"
   ]
  },
  {
   "cell_type": "code",
   "execution_count": 330,
   "id": "f161724c",
   "metadata": {},
   "outputs": [
    {
     "data": {
      "text/plain": [
       "array(['Research & Development', 'Human Resources', 'Sales'], dtype=object)"
      ]
     },
     "execution_count": 330,
     "metadata": {},
     "output_type": "execute_result"
    }
   ],
   "source": [
    "df['Department'].unique()"
   ]
  },
  {
   "cell_type": "code",
   "execution_count": 331,
   "id": "258e5eac",
   "metadata": {},
   "outputs": [
    {
     "data": {
      "text/plain": [
       "{'Research & Development': 0, 'Human Resources': 1, 'Sales': 2}"
      ]
     },
     "execution_count": 331,
     "metadata": {},
     "output_type": "execute_result"
    }
   ],
   "source": [
    "dept_dict = {d:i for i,d in enumerate(df['Department'].unique())}\n",
    "dept_dict_inv = {i:d for d,i in dept_dict.items()}\n",
    "dept_dict"
   ]
  },
  {
   "cell_type": "code",
   "execution_count": 332,
   "id": "bdc074e1",
   "metadata": {},
   "outputs": [
    {
     "data": {
      "text/plain": [
       "{'Male': 0, 'Female': 1}"
      ]
     },
     "execution_count": 332,
     "metadata": {},
     "output_type": "execute_result"
    }
   ],
   "source": [
    "gender_dict = {g:i for i,g in enumerate(df['Gender'].unique())}\n",
    "gender_dict_inv = {i:g for g,i in dept_dict.items()}\n",
    "gender_dict"
   ]
  },
  {
   "cell_type": "code",
   "execution_count": 333,
   "id": "a1f444af",
   "metadata": {},
   "outputs": [],
   "source": [
    "df['Department'] = df['Department'].map(dept_dict)\n",
    "df['Gender'] = df['Gender'].map(gender_dict)"
   ]
  },
  {
   "cell_type": "code",
   "execution_count": 334,
   "id": "087edd6e",
   "metadata": {},
   "outputs": [
    {
     "name": "stdout",
     "output_type": "stream",
     "text": [
      "<class 'pandas.core.frame.DataFrame'>\n",
      "RangeIndex: 19478 entries, 0 to 19477\n",
      "Data columns (total 8 columns):\n",
      " #   Column           Non-Null Count  Dtype\n",
      "---  ------           --------------  -----\n",
      " 0   Age              19478 non-null  int64\n",
      " 1   Department       19478 non-null  int64\n",
      " 2   Education        19478 non-null  int64\n",
      " 3   Gender           19478 non-null  int64\n",
      " 4   JobLevel         19478 non-null  int64\n",
      " 5   MonthlyIncome    19478 non-null  int64\n",
      " 6   WorkLifeBalance  19478 non-null  int64\n",
      " 7   JobSatisfaction  19478 non-null  int64\n",
      "dtypes: int64(8)\n",
      "memory usage: 1.2 MB\n"
     ]
    }
   ],
   "source": [
    "df.info()"
   ]
  },
  {
   "cell_type": "code",
   "execution_count": 335,
   "id": "ae6755e0",
   "metadata": {},
   "outputs": [
    {
     "data": {
      "text/html": [
       "<div>\n",
       "<style scoped>\n",
       "    .dataframe tbody tr th:only-of-type {\n",
       "        vertical-align: middle;\n",
       "    }\n",
       "\n",
       "    .dataframe tbody tr th {\n",
       "        vertical-align: top;\n",
       "    }\n",
       "\n",
       "    .dataframe thead th {\n",
       "        text-align: right;\n",
       "    }\n",
       "</style>\n",
       "<table border=\"1\" class=\"dataframe\">\n",
       "  <thead>\n",
       "    <tr style=\"text-align: right;\">\n",
       "      <th></th>\n",
       "      <th>Age</th>\n",
       "      <th>Department</th>\n",
       "      <th>Education</th>\n",
       "      <th>Gender</th>\n",
       "      <th>JobLevel</th>\n",
       "      <th>MonthlyIncome</th>\n",
       "      <th>WorkLifeBalance</th>\n",
       "      <th>JobSatisfaction</th>\n",
       "    </tr>\n",
       "  </thead>\n",
       "  <tbody>\n",
       "    <tr>\n",
       "      <th>count</th>\n",
       "      <td>19478.000000</td>\n",
       "      <td>19478.000000</td>\n",
       "      <td>19478.000000</td>\n",
       "      <td>19478.000000</td>\n",
       "      <td>19478.000000</td>\n",
       "      <td>19478.000000</td>\n",
       "      <td>19478.000000</td>\n",
       "      <td>19478.000000</td>\n",
       "    </tr>\n",
       "    <tr>\n",
       "      <th>mean</th>\n",
       "      <td>37.524489</td>\n",
       "      <td>0.617569</td>\n",
       "      <td>2.924274</td>\n",
       "      <td>0.402146</td>\n",
       "      <td>2.104990</td>\n",
       "      <td>6665.078961</td>\n",
       "      <td>2.769689</td>\n",
       "      <td>2.752849</td>\n",
       "    </tr>\n",
       "    <tr>\n",
       "      <th>std</th>\n",
       "      <td>8.860420</td>\n",
       "      <td>0.901080</td>\n",
       "      <td>1.026008</td>\n",
       "      <td>0.490344</td>\n",
       "      <td>1.115506</td>\n",
       "      <td>4781.062495</td>\n",
       "      <td>0.700480</td>\n",
       "      <td>1.097875</td>\n",
       "    </tr>\n",
       "    <tr>\n",
       "      <th>min</th>\n",
       "      <td>18.000000</td>\n",
       "      <td>0.000000</td>\n",
       "      <td>1.000000</td>\n",
       "      <td>0.000000</td>\n",
       "      <td>1.000000</td>\n",
       "      <td>1009.000000</td>\n",
       "      <td>1.000000</td>\n",
       "      <td>1.000000</td>\n",
       "    </tr>\n",
       "    <tr>\n",
       "      <th>25%</th>\n",
       "      <td>31.000000</td>\n",
       "      <td>0.000000</td>\n",
       "      <td>2.000000</td>\n",
       "      <td>0.000000</td>\n",
       "      <td>1.000000</td>\n",
       "      <td>3038.000000</td>\n",
       "      <td>2.000000</td>\n",
       "      <td>2.000000</td>\n",
       "    </tr>\n",
       "    <tr>\n",
       "      <th>50%</th>\n",
       "      <td>36.000000</td>\n",
       "      <td>0.000000</td>\n",
       "      <td>3.000000</td>\n",
       "      <td>0.000000</td>\n",
       "      <td>2.000000</td>\n",
       "      <td>5042.000000</td>\n",
       "      <td>3.000000</td>\n",
       "      <td>3.000000</td>\n",
       "    </tr>\n",
       "    <tr>\n",
       "      <th>75%</th>\n",
       "      <td>43.000000</td>\n",
       "      <td>2.000000</td>\n",
       "      <td>4.000000</td>\n",
       "      <td>1.000000</td>\n",
       "      <td>3.000000</td>\n",
       "      <td>8620.000000</td>\n",
       "      <td>3.000000</td>\n",
       "      <td>4.000000</td>\n",
       "    </tr>\n",
       "    <tr>\n",
       "      <th>max</th>\n",
       "      <td>60.000000</td>\n",
       "      <td>2.000000</td>\n",
       "      <td>5.000000</td>\n",
       "      <td>1.000000</td>\n",
       "      <td>5.000000</td>\n",
       "      <td>19999.000000</td>\n",
       "      <td>4.000000</td>\n",
       "      <td>4.000000</td>\n",
       "    </tr>\n",
       "  </tbody>\n",
       "</table>\n",
       "</div>"
      ],
      "text/plain": [
       "                Age    Department     Education        Gender      JobLevel  \\\n",
       "count  19478.000000  19478.000000  19478.000000  19478.000000  19478.000000   \n",
       "mean      37.524489      0.617569      2.924274      0.402146      2.104990   \n",
       "std        8.860420      0.901080      1.026008      0.490344      1.115506   \n",
       "min       18.000000      0.000000      1.000000      0.000000      1.000000   \n",
       "25%       31.000000      0.000000      2.000000      0.000000      1.000000   \n",
       "50%       36.000000      0.000000      3.000000      0.000000      2.000000   \n",
       "75%       43.000000      2.000000      4.000000      1.000000      3.000000   \n",
       "max       60.000000      2.000000      5.000000      1.000000      5.000000   \n",
       "\n",
       "       MonthlyIncome  WorkLifeBalance  JobSatisfaction  \n",
       "count   19478.000000     19478.000000     19478.000000  \n",
       "mean     6665.078961         2.769689         2.752849  \n",
       "std      4781.062495         0.700480         1.097875  \n",
       "min      1009.000000         1.000000         1.000000  \n",
       "25%      3038.000000         2.000000         2.000000  \n",
       "50%      5042.000000         3.000000         3.000000  \n",
       "75%      8620.000000         3.000000         4.000000  \n",
       "max     19999.000000         4.000000         4.000000  "
      ]
     },
     "execution_count": 335,
     "metadata": {},
     "output_type": "execute_result"
    }
   ],
   "source": [
    "df.describe()"
   ]
  },
  {
   "cell_type": "code",
   "execution_count": 336,
   "id": "ed445bd0",
   "metadata": {},
   "outputs": [
    {
     "data": {
      "text/plain": [
       "<AxesSubplot:>"
      ]
     },
     "execution_count": 336,
     "metadata": {},
     "output_type": "execute_result"
    },
    {
     "data": {
      "image/png": "[encoded data removed]",
      "text/plain": [
       "<Figure size 432x288 with 1 Axes>"
      ]
     },
     "metadata": {
      "needs_background": "light"
     },
     "output_type": "display_data"
    }
   ],
   "source": [
    "df['MonthlyIncome'].sort_values().plot(use_index=False)"
   ]
  },
  {
   "cell_type": "code",
   "execution_count": 337,
   "id": "e84cf7df",
   "metadata": {},
   "outputs": [
    {
     "data": {
      "text/plain": [
       "<seaborn.axisgrid.PairGrid at 0x15ac8cde670>"
      ]
     },
     "execution_count": 337,
     "metadata": {},
     "output_type": "execute_result"
    },
    {
     "data": {
      "image/png": "[encoded data removed]",
      "text/plain": [
       "<Figure size 1440x1440 with 72 Axes>"
      ]
     },
     "metadata": {
      "needs_background": "light"
     },
     "output_type": "display_data"
    }
   ],
   "source": [
    "import seaborn as sns\n",
    "sns.pairplot(df)"
   ]
  },
  {
   "cell_type": "code",
   "execution_count": 338,
   "id": "9f33ec97",
   "metadata": {},
   "outputs": [
    {
     "data": {
      "text/plain": [
       "<AxesSubplot:>"
      ]
     },
     "execution_count": 338,
     "metadata": {},
     "output_type": "execute_result"
    },
    {
     "data": {
      "image/png": "[encoded data removed]",
      "text/plain": [
       "<Figure size 432x288 with 2 Axes>"
      ]
     },
     "metadata": {
      "needs_background": "light"
     },
     "output_type": "display_data"
    }
   ],
   "source": [
    "corr = df[df.columns].corr()\n",
    "sns.heatmap(corr, cmap=\"YlGnBu\", annot=True)"
   ]
  },
  {
   "cell_type": "code",
   "execution_count": 339,
   "id": "ce5dfbd3",
   "metadata": {},
   "outputs": [
    {
     "data": {
      "text/plain": [
       "<AxesSubplot:xlabel='Gender', ylabel='JobLevel'>"
      ]
     },
     "execution_count": 339,
     "metadata": {},
     "output_type": "execute_result"
    },
    {
     "data": {
      "image/png": "[encoded data removed]",
      "text/plain": [
       "<Figure size 432x288 with 1 Axes>"
      ]
     },
     "metadata": {
      "needs_background": "light"
     },
     "output_type": "display_data"
    }
   ],
   "source": [
    "sns.boxplot(x='Gender', y='JobLevel', data = df)"
   ]
  },
  {
   "cell_type": "markdown",
   "id": "b5d5b3be",
   "metadata": {},
   "source": [
    "Discretization"
   ]
  },
  {
   "cell_type": "code",
   "execution_count": 340,
   "id": "4219db83",
   "metadata": {},
   "outputs": [
    {
     "data": {
      "text/plain": [
       "(18, 60)"
      ]
     },
     "execution_count": 340,
     "metadata": {},
     "output_type": "execute_result"
    }
   ],
   "source": [
    "df['Age'].min(), df['Age'].max()"
   ]
  },
  {
   "cell_type": "code",
   "execution_count": 341,
   "id": "d24ddc0e",
   "metadata": {},
   "outputs": [],
   "source": [
    "def f(age):\n",
    "    if age<=32:\n",
    "        return '18-32'\n",
    "    elif age>32 and age<=46:\n",
    "        return '32-46'\n",
    "    elif age>=46:\n",
    "        return '46-60'\n",
    "    \n",
    "df['Age'] = df['Age'].map(f)"
   ]
  },
  {
   "cell_type": "code",
   "execution_count": 342,
   "id": "8a3ed9c7",
   "metadata": {},
   "outputs": [
    {
     "data": {
      "text/plain": [
       "0        46-60\n",
       "1        46-60\n",
       "2        46-60\n",
       "3        46-60\n",
       "4        46-60\n",
       "         ...  \n",
       "19473    46-60\n",
       "19474    32-46\n",
       "19475    32-46\n",
       "19476    46-60\n",
       "19477    18-32\n",
       "Name: Age, Length: 19478, dtype: object"
      ]
     },
     "execution_count": 342,
     "metadata": {},
     "output_type": "execute_result"
    }
   ],
   "source": [
    "df['Age']"
   ]
  },
  {
   "cell_type": "code",
   "execution_count": 343,
   "id": "c1fb2c85",
   "metadata": {},
   "outputs": [
    {
     "data": {
      "text/plain": [
       "{'18-32': 0, '32-46': 1, '46-60': 2}"
      ]
     },
     "execution_count": 343,
     "metadata": {},
     "output_type": "execute_result"
    }
   ],
   "source": [
    "age_dict = {a:i for i,a in enumerate(sorted(df['Age'].unique()))}\n",
    "age_dict_inv = {i:a for a,i in age_dict.items()}\n",
    "age_dict"
   ]
  },
  {
   "cell_type": "code",
   "execution_count": 344,
   "id": "02d80777",
   "metadata": {},
   "outputs": [],
   "source": [
    "df['Age'] = df['Age'].map(age_dict)"
   ]
  },
  {
   "cell_type": "code",
   "execution_count": 345,
   "id": "dfaf0846",
   "metadata": {},
   "outputs": [
    {
     "data": {
      "text/plain": [
       "(1009, 19999)"
      ]
     },
     "execution_count": 345,
     "metadata": {},
     "output_type": "execute_result"
    }
   ],
   "source": [
    "df['MonthlyIncome'].min(), df['MonthlyIncome'].max()"
   ]
  },
  {
   "cell_type": "code",
   "execution_count": 346,
   "id": "ce707b91",
   "metadata": {},
   "outputs": [],
   "source": [
    "def f(income):\n",
    "    if income<=7336:\n",
    "        return '1009-7336'\n",
    "    elif income>7336 and income<=13669:\n",
    "        return '7336-13669'\n",
    "    elif income>=13669:\n",
    "        return '13669-19999'\n",
    "    \n",
    "df['MonthlyIncome'] = df['MonthlyIncome'].map(f)"
   ]
  },
  {
   "cell_type": "code",
   "execution_count": 347,
   "id": "61359eb0",
   "metadata": {},
   "outputs": [
    {
     "data": {
      "text/plain": [
       "0         1009-7336\n",
       "1         1009-7336\n",
       "2         1009-7336\n",
       "3         1009-7336\n",
       "4         1009-7336\n",
       "            ...    \n",
       "19473     1009-7336\n",
       "19474     1009-7336\n",
       "19475     1009-7336\n",
       "19476    7336-13669\n",
       "19477     1009-7336\n",
       "Name: MonthlyIncome, Length: 19478, dtype: object"
      ]
     },
     "execution_count": 347,
     "metadata": {},
     "output_type": "execute_result"
    }
   ],
   "source": [
    "df['MonthlyIncome']"
   ]
  },
  {
   "cell_type": "code",
   "execution_count": 348,
   "id": "5f62692b",
   "metadata": {},
   "outputs": [
    {
     "data": {
      "text/plain": [
       "{'1009-7336': 0, '7336-13669': 1, '13669-19999': 2}"
      ]
     },
     "execution_count": 348,
     "metadata": {},
     "output_type": "execute_result"
    }
   ],
   "source": [
    "income_dict = {inc:i for i,inc in enumerate(sorted(df['MonthlyIncome'].unique(), key=lambda inc: int(inc.split('-')[0])))}\n",
    "income_dict_inv = {inc:a for a,inc in income_dict.items()}\n",
    "income_dict"
   ]
  },
  {
   "cell_type": "code",
   "execution_count": 349,
   "id": "da66c66f",
   "metadata": {},
   "outputs": [],
   "source": [
    "df['MonthlyIncome'] = df['MonthlyIncome'].map(income_dict)"
   ]
  },
  {
   "cell_type": "code",
   "execution_count": 350,
   "id": "54c68ea2",
   "metadata": {
    "scrolled": true
   },
   "outputs": [
    {
     "data": {
      "text/html": [
       "<div>\n",
       "<style scoped>\n",
       "    .dataframe tbody tr th:only-of-type {\n",
       "        vertical-align: middle;\n",
       "    }\n",
       "\n",
       "    .dataframe tbody tr th {\n",
       "        vertical-align: top;\n",
       "    }\n",
       "\n",
       "    .dataframe thead th {\n",
       "        text-align: right;\n",
       "    }\n",
       "</style>\n",
       "<table border=\"1\" class=\"dataframe\">\n",
       "  <thead>\n",
       "    <tr style=\"text-align: right;\">\n",
       "      <th></th>\n",
       "      <th>Age</th>\n",
       "      <th>Department</th>\n",
       "      <th>Education</th>\n",
       "      <th>Gender</th>\n",
       "      <th>JobLevel</th>\n",
       "      <th>MonthlyIncome</th>\n",
       "      <th>WorkLifeBalance</th>\n",
       "      <th>JobSatisfaction</th>\n",
       "    </tr>\n",
       "  </thead>\n",
       "  <tbody>\n",
       "    <tr>\n",
       "      <th>count</th>\n",
       "      <td>19478.000000</td>\n",
       "      <td>19478.000000</td>\n",
       "      <td>19478.000000</td>\n",
       "      <td>19478.000000</td>\n",
       "      <td>19478.000000</td>\n",
       "      <td>19478.000000</td>\n",
       "      <td>19478.000000</td>\n",
       "      <td>19478.000000</td>\n",
       "    </tr>\n",
       "    <tr>\n",
       "      <th>mean</th>\n",
       "      <td>0.854246</td>\n",
       "      <td>0.617569</td>\n",
       "      <td>2.924274</td>\n",
       "      <td>0.402146</td>\n",
       "      <td>2.104990</td>\n",
       "      <td>0.408358</td>\n",
       "      <td>2.769689</td>\n",
       "      <td>2.752849</td>\n",
       "    </tr>\n",
       "    <tr>\n",
       "      <th>std</th>\n",
       "      <td>0.680115</td>\n",
       "      <td>0.901080</td>\n",
       "      <td>1.026008</td>\n",
       "      <td>0.490344</td>\n",
       "      <td>1.115506</td>\n",
       "      <td>0.683305</td>\n",
       "      <td>0.700480</td>\n",
       "      <td>1.097875</td>\n",
       "    </tr>\n",
       "    <tr>\n",
       "      <th>min</th>\n",
       "      <td>0.000000</td>\n",
       "      <td>0.000000</td>\n",
       "      <td>1.000000</td>\n",
       "      <td>0.000000</td>\n",
       "      <td>1.000000</td>\n",
       "      <td>0.000000</td>\n",
       "      <td>1.000000</td>\n",
       "      <td>1.000000</td>\n",
       "    </tr>\n",
       "    <tr>\n",
       "      <th>25%</th>\n",
       "      <td>0.000000</td>\n",
       "      <td>0.000000</td>\n",
       "      <td>2.000000</td>\n",
       "      <td>0.000000</td>\n",
       "      <td>1.000000</td>\n",
       "      <td>0.000000</td>\n",
       "      <td>2.000000</td>\n",
       "      <td>2.000000</td>\n",
       "    </tr>\n",
       "    <tr>\n",
       "      <th>50%</th>\n",
       "      <td>1.000000</td>\n",
       "      <td>0.000000</td>\n",
       "      <td>3.000000</td>\n",
       "      <td>0.000000</td>\n",
       "      <td>2.000000</td>\n",
       "      <td>0.000000</td>\n",
       "      <td>3.000000</td>\n",
       "      <td>3.000000</td>\n",
       "    </tr>\n",
       "    <tr>\n",
       "      <th>75%</th>\n",
       "      <td>1.000000</td>\n",
       "      <td>2.000000</td>\n",
       "      <td>4.000000</td>\n",
       "      <td>1.000000</td>\n",
       "      <td>3.000000</td>\n",
       "      <td>1.000000</td>\n",
       "      <td>3.000000</td>\n",
       "      <td>4.000000</td>\n",
       "    </tr>\n",
       "    <tr>\n",
       "      <th>max</th>\n",
       "      <td>2.000000</td>\n",
       "      <td>2.000000</td>\n",
       "      <td>5.000000</td>\n",
       "      <td>1.000000</td>\n",
       "      <td>5.000000</td>\n",
       "      <td>2.000000</td>\n",
       "      <td>4.000000</td>\n",
       "      <td>4.000000</td>\n",
       "    </tr>\n",
       "  </tbody>\n",
       "</table>\n",
       "</div>"
      ],
      "text/plain": [
       "                Age    Department     Education        Gender      JobLevel  \\\n",
       "count  19478.000000  19478.000000  19478.000000  19478.000000  19478.000000   \n",
       "mean       0.854246      0.617569      2.924274      0.402146      2.104990   \n",
       "std        0.680115      0.901080      1.026008      0.490344      1.115506   \n",
       "min        0.000000      0.000000      1.000000      0.000000      1.000000   \n",
       "25%        0.000000      0.000000      2.000000      0.000000      1.000000   \n",
       "50%        1.000000      0.000000      3.000000      0.000000      2.000000   \n",
       "75%        1.000000      2.000000      4.000000      1.000000      3.000000   \n",
       "max        2.000000      2.000000      5.000000      1.000000      5.000000   \n",
       "\n",
       "       MonthlyIncome  WorkLifeBalance  JobSatisfaction  \n",
       "count   19478.000000     19478.000000     19478.000000  \n",
       "mean        0.408358         2.769689         2.752849  \n",
       "std         0.683305         0.700480         1.097875  \n",
       "min         0.000000         1.000000         1.000000  \n",
       "25%         0.000000         2.000000         2.000000  \n",
       "50%         0.000000         3.000000         3.000000  \n",
       "75%         1.000000         3.000000         4.000000  \n",
       "max         2.000000         4.000000         4.000000  "
      ]
     },
     "execution_count": 350,
     "metadata": {},
     "output_type": "execute_result"
    }
   ],
   "source": [
    "df.describe()"
   ]
  },
  {
   "cell_type": "markdown",
   "id": "49e7428d",
   "metadata": {},
   "source": [
    "Further discretization"
   ]
  },
  {
   "cell_type": "code",
   "execution_count": 351,
   "id": "23baff74",
   "metadata": {},
   "outputs": [],
   "source": [
    "def f(e):\n",
    "    if e>=1 and e<=2:\n",
    "        return 0\n",
    "    elif e>=3 and e<=4:\n",
    "        return 1\n",
    "    else: \n",
    "        return 2\n",
    "\n",
    "df['Education'] = df['Education'].map(f)"
   ]
  },
  {
   "cell_type": "code",
   "execution_count": 352,
   "id": "4f24f442",
   "metadata": {},
   "outputs": [],
   "source": [
    "def f(e):\n",
    "    if e>=1 and e<=2:\n",
    "        return 0\n",
    "    elif e>=3 and e<=4:\n",
    "        return 1\n",
    "    else: \n",
    "        return 2\n",
    "\n",
    "df['JobLevel'] = df['JobLevel'].map(f)"
   ]
  },
  {
   "cell_type": "code",
   "execution_count": 353,
   "id": "16277f35",
   "metadata": {},
   "outputs": [],
   "source": [
    "def f(e):\n",
    "    if e>=1 and e<=2:\n",
    "        return 0\n",
    "    elif e>=3 and e<=4:\n",
    "        return 1\n",
    "\n",
    "df['WorkLifeBalance'] = df['WorkLifeBalance'].map(f)"
   ]
  },
  {
   "cell_type": "code",
   "execution_count": 354,
   "id": "d181e085",
   "metadata": {},
   "outputs": [],
   "source": [
    "def f(e):\n",
    "    if e>=1 and e<=2:\n",
    "        return 0\n",
    "    elif e>=3 and e<=4:\n",
    "        return 1\n",
    "\n",
    "df['JobSatisfaction'] = df['JobSatisfaction'].map(f)"
   ]
  },
  {
   "cell_type": "code",
   "execution_count": 355,
   "id": "3c565b8c",
   "metadata": {},
   "outputs": [
    {
     "data": {
      "text/html": [
       "<div>\n",
       "<style scoped>\n",
       "    .dataframe tbody tr th:only-of-type {\n",
       "        vertical-align: middle;\n",
       "    }\n",
       "\n",
       "    .dataframe tbody tr th {\n",
       "        vertical-align: top;\n",
       "    }\n",
       "\n",
       "    .dataframe thead th {\n",
       "        text-align: right;\n",
       "    }\n",
       "</style>\n",
       "<table border=\"1\" class=\"dataframe\">\n",
       "  <thead>\n",
       "    <tr style=\"text-align: right;\">\n",
       "      <th></th>\n",
       "      <th>Age</th>\n",
       "      <th>Department</th>\n",
       "      <th>Education</th>\n",
       "      <th>Gender</th>\n",
       "      <th>JobLevel</th>\n",
       "      <th>MonthlyIncome</th>\n",
       "      <th>WorkLifeBalance</th>\n",
       "      <th>JobSatisfaction</th>\n",
       "    </tr>\n",
       "  </thead>\n",
       "  <tbody>\n",
       "    <tr>\n",
       "      <th>count</th>\n",
       "      <td>19478.000000</td>\n",
       "      <td>19478.000000</td>\n",
       "      <td>19478.000000</td>\n",
       "      <td>19478.000000</td>\n",
       "      <td>19478.000000</td>\n",
       "      <td>19478.000000</td>\n",
       "      <td>19478.000000</td>\n",
       "      <td>19478.000000</td>\n",
       "    </tr>\n",
       "    <tr>\n",
       "      <th>mean</th>\n",
       "      <td>0.854246</td>\n",
       "      <td>0.617569</td>\n",
       "      <td>0.727847</td>\n",
       "      <td>0.402146</td>\n",
       "      <td>0.326317</td>\n",
       "      <td>0.408358</td>\n",
       "      <td>0.716295</td>\n",
       "      <td>0.620700</td>\n",
       "    </tr>\n",
       "    <tr>\n",
       "      <th>std</th>\n",
       "      <td>0.680115</td>\n",
       "      <td>0.901080</td>\n",
       "      <td>0.517016</td>\n",
       "      <td>0.490344</td>\n",
       "      <td>0.567104</td>\n",
       "      <td>0.683305</td>\n",
       "      <td>0.450807</td>\n",
       "      <td>0.485225</td>\n",
       "    </tr>\n",
       "    <tr>\n",
       "      <th>min</th>\n",
       "      <td>0.000000</td>\n",
       "      <td>0.000000</td>\n",
       "      <td>0.000000</td>\n",
       "      <td>0.000000</td>\n",
       "      <td>0.000000</td>\n",
       "      <td>0.000000</td>\n",
       "      <td>0.000000</td>\n",
       "      <td>0.000000</td>\n",
       "    </tr>\n",
       "    <tr>\n",
       "      <th>25%</th>\n",
       "      <td>0.000000</td>\n",
       "      <td>0.000000</td>\n",
       "      <td>0.000000</td>\n",
       "      <td>0.000000</td>\n",
       "      <td>0.000000</td>\n",
       "      <td>0.000000</td>\n",
       "      <td>0.000000</td>\n",
       "      <td>0.000000</td>\n",
       "    </tr>\n",
       "    <tr>\n",
       "      <th>50%</th>\n",
       "      <td>1.000000</td>\n",
       "      <td>0.000000</td>\n",
       "      <td>1.000000</td>\n",
       "      <td>0.000000</td>\n",
       "      <td>0.000000</td>\n",
       "      <td>0.000000</td>\n",
       "      <td>1.000000</td>\n",
       "      <td>1.000000</td>\n",
       "    </tr>\n",
       "    <tr>\n",
       "      <th>75%</th>\n",
       "      <td>1.000000</td>\n",
       "      <td>2.000000</td>\n",
       "      <td>1.000000</td>\n",
       "      <td>1.000000</td>\n",
       "      <td>1.000000</td>\n",
       "      <td>1.000000</td>\n",
       "      <td>1.000000</td>\n",
       "      <td>1.000000</td>\n",
       "    </tr>\n",
       "    <tr>\n",
       "      <th>max</th>\n",
       "      <td>2.000000</td>\n",
       "      <td>2.000000</td>\n",
       "      <td>2.000000</td>\n",
       "      <td>1.000000</td>\n",
       "      <td>2.000000</td>\n",
       "      <td>2.000000</td>\n",
       "      <td>1.000000</td>\n",
       "      <td>1.000000</td>\n",
       "    </tr>\n",
       "  </tbody>\n",
       "</table>\n",
       "</div>"
      ],
      "text/plain": [
       "                Age    Department     Education        Gender      JobLevel  \\\n",
       "count  19478.000000  19478.000000  19478.000000  19478.000000  19478.000000   \n",
       "mean       0.854246      0.617569      0.727847      0.402146      0.326317   \n",
       "std        0.680115      0.901080      0.517016      0.490344      0.567104   \n",
       "min        0.000000      0.000000      0.000000      0.000000      0.000000   \n",
       "25%        0.000000      0.000000      0.000000      0.000000      0.000000   \n",
       "50%        1.000000      0.000000      1.000000      0.000000      0.000000   \n",
       "75%        1.000000      2.000000      1.000000      1.000000      1.000000   \n",
       "max        2.000000      2.000000      2.000000      1.000000      2.000000   \n",
       "\n",
       "       MonthlyIncome  WorkLifeBalance  JobSatisfaction  \n",
       "count   19478.000000     19478.000000     19478.000000  \n",
       "mean        0.408358         0.716295         0.620700  \n",
       "std         0.683305         0.450807         0.485225  \n",
       "min         0.000000         0.000000         0.000000  \n",
       "25%         0.000000         0.000000         0.000000  \n",
       "50%         0.000000         1.000000         1.000000  \n",
       "75%         1.000000         1.000000         1.000000  \n",
       "max         2.000000         1.000000         1.000000  "
      ]
     },
     "execution_count": 355,
     "metadata": {},
     "output_type": "execute_result"
    }
   ],
   "source": [
    "df.describe()"
   ]
  },
  {
   "cell_type": "code",
   "execution_count": 356,
   "id": "33bfd61f",
   "metadata": {},
   "outputs": [
    {
     "data": {
      "text/plain": [
       "<seaborn.axisgrid.PairGrid at 0x15ac6763520>"
      ]
     },
     "execution_count": 356,
     "metadata": {},
     "output_type": "execute_result"
    },
    {
     "data": {
      "image/png": "[encoded data removed]",
      "text/plain": [
       "<Figure size 1440x1440 with 72 Axes>"
      ]
     },
     "metadata": {
      "needs_background": "light"
     },
     "output_type": "display_data"
    }
   ],
   "source": [
    "import seaborn as sns\n",
    "sns.pairplot(df)"
   ]
  },
  {
   "cell_type": "code",
   "execution_count": 357,
   "id": "687f2d04",
   "metadata": {},
   "outputs": [
    {
     "data": {
      "text/plain": [
       "<AxesSubplot:>"
      ]
     },
     "execution_count": 357,
     "metadata": {},
     "output_type": "execute_result"
    },
    {
     "data": {
      "image/png": "[encoded data removed]",
      "text/plain": [
       "<Figure size 432x288 with 2 Axes>"
      ]
     },
     "metadata": {
      "needs_background": "light"
     },
     "output_type": "display_data"
    }
   ],
   "source": [
    "corr = df[df.columns].corr()\n",
    "sns.heatmap(corr, cmap=\"YlGnBu\", annot=True)"
   ]
  },
  {
   "cell_type": "code",
   "execution_count": 358,
   "id": "5a6bbdb2",
   "metadata": {},
   "outputs": [
    {
     "data": {
      "text/plain": [
       "<AxesSubplot:xlabel='JobLevel', ylabel='MonthlyIncome'>"
      ]
     },
     "execution_count": 358,
     "metadata": {},
     "output_type": "execute_result"
    },
    {
     "data": {
      "image/png": "[encoded data removed]",
      "text/plain": [
       "<Figure size 432x288 with 1 Axes>"
      ]
     },
     "metadata": {
      "needs_background": "light"
     },
     "output_type": "display_data"
    }
   ],
   "source": [
    "sns.boxplot(x='JobLevel', y='MonthlyIncome', data = df)"
   ]
  },
  {
   "cell_type": "code",
   "execution_count": 236,
   "id": "d5147df4",
   "metadata": {},
   "outputs": [],
   "source": [
    "import numpy as np\n",
    "\n",
    "def compute_cpd(data, variable, evidences=None):\n",
    "    variable_support = sorted(data[variable].unique())\n",
    "    m = len(variable_support)\n",
    "    #print(m)\n",
    "    \n",
    "    if evidences is None:\n",
    "        n = 1\n",
    "        rows_constraints = [[]]\n",
    "    else:\n",
    "        rows_constraints = list(itertools.product(*[sorted(data[evidence].unique()) for evidence in evidences]))\n",
    "        n = len(rows_constraints)\n",
    "        #print(rows_constraints)\n",
    "                \n",
    "    cpd = pd.DataFrame(np.zeros((n,m)), columns=variable_support)\n",
    "    #print(cpd)\n",
    "    \n",
    "    index = []\n",
    "                \n",
    "    for row,row_constraints in enumerate(rows_constraints):\n",
    "        #print(f'Row {row}')\n",
    "        data_supp = data.copy()\n",
    "        idx = ''\n",
    "        for i,constr in enumerate(row_constraints):\n",
    "            evidence = evidences[i]\n",
    "            #print(f'\\t{evidence}=={constr}')\n",
    "            idx += f' {evidence}=={constr} '\n",
    "            data_supp = data_supp[data_supp[evidence]==constr]\n",
    "        #print(data_supp[variable].count() )\n",
    "        new_row = [data_supp[variable][data_supp[variable]==variable_value].count()/data_supp[variable].count() \n",
    "                   for variable_value in variable_support]\n",
    "        #print(len(new_row))\n",
    "        #print(new_row)\n",
    "        cpd.iloc[row,:] = new_row \n",
    "        index.append(idx)\n",
    "        \n",
    "    values = {evidence:cpd[variable_value].mean() for variable_value in variable_support}\n",
    "    cpd = cpd.fillna(values)\n",
    "        \n",
    "    cpd['Evidences'] = index\n",
    "    cpd = cpd.set_index('Evidences')\n",
    "    \n",
    "    cpd.columns.name = variable\n",
    "        \n",
    "    return cpd"
   ]
  },
  {
   "cell_type": "code",
   "execution_count": 192,
   "id": "17b91853",
   "metadata": {},
   "outputs": [
    {
     "name": "stdout",
     "output_type": "stream",
     "text": [
      "3\n",
      "Row 0\n",
      "19478\n",
      "[0.3147653763220043, 0.5162234315638156, 0.16901119211418011]\n"
     ]
    },
    {
     "data": {
      "text/html": [
       "<div>\n",
       "<style scoped>\n",
       "    .dataframe tbody tr th:only-of-type {\n",
       "        vertical-align: middle;\n",
       "    }\n",
       "\n",
       "    .dataframe tbody tr th {\n",
       "        vertical-align: top;\n",
       "    }\n",
       "\n",
       "    .dataframe thead th {\n",
       "        text-align: right;\n",
       "    }\n",
       "</style>\n",
       "<table border=\"1\" class=\"dataframe\">\n",
       "  <thead>\n",
       "    <tr style=\"text-align: right;\">\n",
       "      <th>Age</th>\n",
       "      <th>0</th>\n",
       "      <th>1</th>\n",
       "      <th>2</th>\n",
       "    </tr>\n",
       "    <tr>\n",
       "      <th>Evidences</th>\n",
       "      <th></th>\n",
       "      <th></th>\n",
       "      <th></th>\n",
       "    </tr>\n",
       "  </thead>\n",
       "  <tbody>\n",
       "    <tr>\n",
       "      <th></th>\n",
       "      <td>0.314765</td>\n",
       "      <td>0.516223</td>\n",
       "      <td>0.169011</td>\n",
       "    </tr>\n",
       "  </tbody>\n",
       "</table>\n",
       "</div>"
      ],
      "text/plain": [
       "Age               0         1         2\n",
       "Evidences                              \n",
       "           0.314765  0.516223  0.169011"
      ]
     },
     "execution_count": 192,
     "metadata": {},
     "output_type": "execute_result"
    }
   ],
   "source": [
    "compute_cpd(data=df, variable='Age')"
   ]
  },
  {
   "cell_type": "code",
   "execution_count": 193,
   "id": "d1a0df38",
   "metadata": {},
   "outputs": [
    {
     "data": {
      "text/plain": [
       "0.3147653763220043"
      ]
     },
     "execution_count": 193,
     "metadata": {},
     "output_type": "execute_result"
    }
   ],
   "source": [
    "(df['Age']==0).sum()/df.shape[0]"
   ]
  },
  {
   "cell_type": "code",
   "execution_count": 194,
   "id": "d1e9fa57",
   "metadata": {},
   "outputs": [
    {
     "data": {
      "text/plain": [
       "0.5162234315638156"
      ]
     },
     "execution_count": 194,
     "metadata": {},
     "output_type": "execute_result"
    }
   ],
   "source": [
    "(df['Age']==1).sum()/df.shape[0]"
   ]
  },
  {
   "cell_type": "code",
   "execution_count": 195,
   "id": "46e6d622",
   "metadata": {},
   "outputs": [
    {
     "data": {
      "text/plain": [
       "0.16901119211418011"
      ]
     },
     "execution_count": 195,
     "metadata": {},
     "output_type": "execute_result"
    }
   ],
   "source": [
    "(df['Age']==2).sum()/df.shape[0]"
   ]
  },
  {
   "cell_type": "code",
   "execution_count": 196,
   "id": "c3429c07",
   "metadata": {},
   "outputs": [
    {
     "name": "stdout",
     "output_type": "stream",
     "text": [
      "3\n",
      "[(0, 0), (0, 1), (0, 2), (1, 0), (1, 1), (1, 2), (2, 0), (2, 1), (2, 2)]\n",
      "Row 0\n",
      "\tAge==0\n",
      "\tEducation==0\n",
      "2501\n",
      "[0.8096761295481807, 0.16473410635745703, 0.025589764094362255]\n",
      "Row 1\n",
      "\tAge==0\n",
      "\tEducation==1\n",
      "3534\n",
      "[0.8174872665534805, 0.14968873797396717, 0.032823995472552346]\n",
      "Row 2\n",
      "\tAge==0\n",
      "\tEducation==2\n",
      "96\n",
      "[0.9166666666666666, 0.08333333333333333, 0.0]\n",
      "Row 3\n",
      "\tAge==1\n",
      "\tEducation==0\n",
      "2743\n",
      "[0.7291286912139993, 0.20707254830477578, 0.06379876048122493]\n",
      "Row 4\n",
      "\tAge==1\n",
      "\tEducation==1\n",
      "6890\n",
      "[0.7197387518142235, 0.2386066763425254, 0.04165457184325109]\n",
      "Row 5\n",
      "\tAge==1\n",
      "\tEducation==2\n",
      "422\n",
      "[0.6492890995260664, 0.33175355450236965, 0.018957345971563982]\n",
      "Row 6\n",
      "\tAge==2\n",
      "\tEducation==0\n",
      "731\n",
      "[0.6073871409028728, 0.307797537619699, 0.08481532147742818]\n",
      "Row 7\n",
      "\tAge==2\n",
      "\tEducation==1\n",
      "2405\n",
      "[0.5667359667359667, 0.3234927234927235, 0.10977130977130978]\n",
      "Row 8\n",
      "\tAge==2\n",
      "\tEducation==2\n",
      "156\n",
      "[0.4551282051282051, 0.44871794871794873, 0.09615384615384616]\n"
     ]
    },
    {
     "data": {
      "text/html": [
       "<div>\n",
       "<style scoped>\n",
       "    .dataframe tbody tr th:only-of-type {\n",
       "        vertical-align: middle;\n",
       "    }\n",
       "\n",
       "    .dataframe tbody tr th {\n",
       "        vertical-align: top;\n",
       "    }\n",
       "\n",
       "    .dataframe thead th {\n",
       "        text-align: right;\n",
       "    }\n",
       "</style>\n",
       "<table border=\"1\" class=\"dataframe\">\n",
       "  <thead>\n",
       "    <tr style=\"text-align: right;\">\n",
       "      <th>JobLevel</th>\n",
       "      <th>0</th>\n",
       "      <th>1</th>\n",
       "      <th>2</th>\n",
       "    </tr>\n",
       "    <tr>\n",
       "      <th>Evidences</th>\n",
       "      <th></th>\n",
       "      <th></th>\n",
       "      <th></th>\n",
       "    </tr>\n",
       "  </thead>\n",
       "  <tbody>\n",
       "    <tr>\n",
       "      <th>Age==0  Education==0</th>\n",
       "      <td>0.809676</td>\n",
       "      <td>0.164734</td>\n",
       "      <td>0.025590</td>\n",
       "    </tr>\n",
       "    <tr>\n",
       "      <th>Age==0  Education==1</th>\n",
       "      <td>0.817487</td>\n",
       "      <td>0.149689</td>\n",
       "      <td>0.032824</td>\n",
       "    </tr>\n",
       "    <tr>\n",
       "      <th>Age==0  Education==2</th>\n",
       "      <td>0.916667</td>\n",
       "      <td>0.083333</td>\n",
       "      <td>0.000000</td>\n",
       "    </tr>\n",
       "    <tr>\n",
       "      <th>Age==1  Education==0</th>\n",
       "      <td>0.729129</td>\n",
       "      <td>0.207073</td>\n",
       "      <td>0.063799</td>\n",
       "    </tr>\n",
       "    <tr>\n",
       "      <th>Age==1  Education==1</th>\n",
       "      <td>0.719739</td>\n",
       "      <td>0.238607</td>\n",
       "      <td>0.041655</td>\n",
       "    </tr>\n",
       "    <tr>\n",
       "      <th>Age==1  Education==2</th>\n",
       "      <td>0.649289</td>\n",
       "      <td>0.331754</td>\n",
       "      <td>0.018957</td>\n",
       "    </tr>\n",
       "    <tr>\n",
       "      <th>Age==2  Education==0</th>\n",
       "      <td>0.607387</td>\n",
       "      <td>0.307798</td>\n",
       "      <td>0.084815</td>\n",
       "    </tr>\n",
       "    <tr>\n",
       "      <th>Age==2  Education==1</th>\n",
       "      <td>0.566736</td>\n",
       "      <td>0.323493</td>\n",
       "      <td>0.109771</td>\n",
       "    </tr>\n",
       "    <tr>\n",
       "      <th>Age==2  Education==2</th>\n",
       "      <td>0.455128</td>\n",
       "      <td>0.448718</td>\n",
       "      <td>0.096154</td>\n",
       "    </tr>\n",
       "  </tbody>\n",
       "</table>\n",
       "</div>"
      ],
      "text/plain": [
       "JobLevel                       0         1         2\n",
       "Evidences                                           \n",
       " Age==0  Education==0   0.809676  0.164734  0.025590\n",
       " Age==0  Education==1   0.817487  0.149689  0.032824\n",
       " Age==0  Education==2   0.916667  0.083333  0.000000\n",
       " Age==1  Education==0   0.729129  0.207073  0.063799\n",
       " Age==1  Education==1   0.719739  0.238607  0.041655\n",
       " Age==1  Education==2   0.649289  0.331754  0.018957\n",
       " Age==2  Education==0   0.607387  0.307798  0.084815\n",
       " Age==2  Education==1   0.566736  0.323493  0.109771\n",
       " Age==2  Education==2   0.455128  0.448718  0.096154"
      ]
     },
     "execution_count": 196,
     "metadata": {},
     "output_type": "execute_result"
    }
   ],
   "source": [
    "compute_cpd(data=df, variable='JobLevel', evidences=['Age','Education'])"
   ]
  },
  {
   "cell_type": "code",
   "execution_count": 197,
   "id": "a19d1331",
   "metadata": {},
   "outputs": [
    {
     "data": {
      "text/plain": [
       "(array([2, 1, 0], dtype=int64), array([0, 1, 2], dtype=int64))"
      ]
     },
     "execution_count": 197,
     "metadata": {},
     "output_type": "execute_result"
    }
   ],
   "source": [
    "df['Age'].unique(), df['Education'].unique()"
   ]
  },
  {
   "cell_type": "code",
   "execution_count": 199,
   "id": "1f1f8791",
   "metadata": {},
   "outputs": [
    {
     "data": {
      "text/plain": [
       "0.8096761295481807"
      ]
     },
     "execution_count": 199,
     "metadata": {},
     "output_type": "execute_result"
    }
   ],
   "source": [
    "(df['Age'][df['Age']==0][df['Education']==0][df['JobLevel']==0].count())/(df['Age'][df['Age']==0][df['Education']==0].count())"
   ]
  },
  {
   "cell_type": "code",
   "execution_count": 200,
   "id": "a2f3013b",
   "metadata": {},
   "outputs": [
    {
     "data": {
      "text/plain": [
       "0.16473410635745703"
      ]
     },
     "execution_count": 200,
     "metadata": {},
     "output_type": "execute_result"
    }
   ],
   "source": [
    "(df['Age'][df['Age']==0][df['Education']==0][df['JobLevel']==1].count())/(df['Age'][df['Age']==0][df['Education']==0].count())"
   ]
  },
  {
   "cell_type": "code",
   "execution_count": 201,
   "id": "ea4aa243",
   "metadata": {},
   "outputs": [
    {
     "data": {
      "text/plain": [
       "0.025589764094362255"
      ]
     },
     "execution_count": 201,
     "metadata": {},
     "output_type": "execute_result"
    }
   ],
   "source": [
    "(df['Age'][df['Age']==0][df['Education']==0][df['JobLevel']==2].count())/(df['Age'][df['Age']==0][df['Education']==0].count())"
   ]
  },
  {
   "cell_type": "code",
   "execution_count": 202,
   "id": "0a46b190",
   "metadata": {},
   "outputs": [
    {
     "data": {
      "text/plain": [
       "0.9166666666666666"
      ]
     },
     "execution_count": 202,
     "metadata": {},
     "output_type": "execute_result"
    }
   ],
   "source": [
    "(df['Age'][df['Age']==0][df['Education']==2][df['JobLevel']==0].count())/(df['Age'][df['Age']==0][df['Education']==2].count())"
   ]
  },
  {
   "cell_type": "code",
   "execution_count": 204,
   "id": "cc779f8b",
   "metadata": {},
   "outputs": [
    {
     "data": {
      "text/plain": [
       "0.8174872665534805"
      ]
     },
     "execution_count": 204,
     "metadata": {},
     "output_type": "execute_result"
    }
   ],
   "source": [
    "(df['Age'][df['Age']==0][df['Education']==1][df['JobLevel']==0].count())/(df['Age'][df['Age']==0][df['Education']==1].count())"
   ]
  },
  {
   "cell_type": "code",
   "execution_count": 203,
   "id": "94159e7c",
   "metadata": {},
   "outputs": [
    {
     "data": {
      "text/plain": [
       "0.0"
      ]
     },
     "execution_count": 203,
     "metadata": {},
     "output_type": "execute_result"
    }
   ],
   "source": [
    "(df['Age'][df['Age']==0][df['Education']==2][df['JobLevel']==2].count())/(df['Age'][df['Age']==0][df['Education']==2].count())"
   ]
  },
  {
   "cell_type": "code",
   "execution_count": 205,
   "id": "5034a197",
   "metadata": {},
   "outputs": [
    {
     "data": {
      "text/plain": [
       "0.09615384615384616"
      ]
     },
     "execution_count": 205,
     "metadata": {},
     "output_type": "execute_result"
    }
   ],
   "source": [
    "(df['Age'][df['Age']==2][df['Education']==2][df['JobLevel']==2].count())/(df['Age'][df['Age']==2][df['Education']==2].count())"
   ]
  },
  {
   "cell_type": "code",
   "execution_count": 105,
   "id": "308257cd",
   "metadata": {},
   "outputs": [
    {
     "data": {
      "text/plain": [
       "[(1, 3, 'a'),\n",
       " (1, 3, 'b'),\n",
       " (1, 4, 'a'),\n",
       " (1, 4, 'b'),\n",
       " (1, 5, 'a'),\n",
       " (1, 5, 'b'),\n",
       " (2, 3, 'a'),\n",
       " (2, 3, 'b'),\n",
       " (2, 4, 'a'),\n",
       " (2, 4, 'b'),\n",
       " (2, 5, 'a'),\n",
       " (2, 5, 'b'),\n",
       " (3, 3, 'a'),\n",
       " (3, 3, 'b'),\n",
       " (3, 4, 'a'),\n",
       " (3, 4, 'b'),\n",
       " (3, 5, 'a'),\n",
       " (3, 5, 'b')]"
      ]
     },
     "execution_count": 105,
     "metadata": {},
     "output_type": "execute_result"
    }
   ],
   "source": [
    "import itertools\n",
    "list(itertools.product([1,2,3],[3,4,5],['a','b']))"
   ]
  },
  {
   "cell_type": "code",
   "execution_count": 143,
   "id": "a5e543b3",
   "metadata": {},
   "outputs": [],
   "source": [
    "def f(e):\n",
    "    if e>=1 and e<=2:\n",
    "        return 0\n",
    "    elif e>=3 and e<=4:\n",
    "        return 1\n",
    "    else: \n",
    "        return 2\n",
    "\n",
    "df_t = df.copy()\n",
    "\n",
    "df_t['Education'] = df['Education'].map(f)"
   ]
  },
  {
   "cell_type": "code",
   "execution_count": 144,
   "id": "58e1023c",
   "metadata": {},
   "outputs": [],
   "source": [
    "df_t['JobLevel'] = df['JobLevel'].map(f)"
   ]
  },
  {
   "cell_type": "code",
   "execution_count": 153,
   "id": "6e5df57f",
   "metadata": {},
   "outputs": [
    {
     "name": "stdout",
     "output_type": "stream",
     "text": [
      "3\n",
      "[(0, 0), (0, 1), (0, 2), (1, 0), (1, 1), (1, 2), (2, 0), (2, 1), (2, 2), (3, 0), (3, 1), (3, 2)]\n",
      "Row 0\n",
      "\tAge==0\n",
      "\tEducation==0\n",
      "2007\n",
      "[0.8086696562032885, 0.16741405082212257, 0.02391629297458894]\n",
      "Row 1\n",
      "\tAge==0\n",
      "\tEducation==1\n",
      "2490\n",
      "[0.8485943775100402, 0.12008032128514057, 0.03132530120481928]\n",
      "Row 2\n",
      "\tAge==0\n",
      "\tEducation==2\n",
      "48\n",
      "[1.0, 0.0, 0.0]\n",
      "Row 3\n",
      "\tAge==1\n",
      "\tEducation==0\n",
      "2357\n",
      "[0.7878659312685617, 0.171828595672465, 0.04030547305897327]\n",
      "Row 4\n",
      "\tAge==1\n",
      "\tEducation==1\n",
      "5757\n",
      "[0.7476116032655897, 0.22546465172833072, 0.026923745006079556]\n",
      "Row 5\n",
      "\tAge==1\n",
      "\tEducation==2\n",
      "312\n",
      "[0.5993589743589743, 0.375, 0.02564102564102564]\n",
      "Row 6\n",
      "\tAge==2\n",
      "\tEducation==0\n",
      "1195\n",
      "[0.6133891213389121, 0.27364016736401675, 0.11297071129707113]\n",
      "Row 7\n",
      "\tAge==2\n",
      "\tEducation==1\n",
      "3112\n",
      "[0.653598971722365, 0.25931876606683807, 0.08708226221079692]\n",
      "Row 8\n",
      "\tAge==2\n",
      "\tEducation==2\n",
      "252\n",
      "[0.6904761904761905, 0.2777777777777778, 0.031746031746031744]\n",
      "Row 9\n",
      "\tAge==3\n",
      "\tEducation==0\n",
      "416\n",
      "[0.6153846153846154, 0.3293269230769231, 0.055288461538461536]\n",
      "Row 10\n",
      "\tAge==3\n",
      "\tEducation==1\n",
      "1470\n",
      "[0.5170068027210885, 0.37210884353741497, 0.1108843537414966]\n",
      "Row 11\n",
      "\tAge==3\n",
      "\tEducation==2\n",
      "62\n",
      "[0.3870967741935484, 0.5, 0.11290322580645161]\n"
     ]
    },
    {
     "data": {
      "text/html": [
       "<div>\n",
       "<style scoped>\n",
       "    .dataframe tbody tr th:only-of-type {\n",
       "        vertical-align: middle;\n",
       "    }\n",
       "\n",
       "    .dataframe tbody tr th {\n",
       "        vertical-align: top;\n",
       "    }\n",
       "\n",
       "    .dataframe thead th {\n",
       "        text-align: right;\n",
       "    }\n",
       "</style>\n",
       "<table border=\"1\" class=\"dataframe\">\n",
       "  <thead>\n",
       "    <tr style=\"text-align: right;\">\n",
       "      <th>JobLevel</th>\n",
       "      <th>0</th>\n",
       "      <th>1</th>\n",
       "      <th>2</th>\n",
       "    </tr>\n",
       "    <tr>\n",
       "      <th>Evidences</th>\n",
       "      <th></th>\n",
       "      <th></th>\n",
       "      <th></th>\n",
       "    </tr>\n",
       "  </thead>\n",
       "  <tbody>\n",
       "    <tr>\n",
       "      <th>Age==0  Education==0</th>\n",
       "      <td>0.808670</td>\n",
       "      <td>0.167414</td>\n",
       "      <td>0.023916</td>\n",
       "    </tr>\n",
       "    <tr>\n",
       "      <th>Age==0  Education==1</th>\n",
       "      <td>0.848594</td>\n",
       "      <td>0.120080</td>\n",
       "      <td>0.031325</td>\n",
       "    </tr>\n",
       "    <tr>\n",
       "      <th>Age==0  Education==2</th>\n",
       "      <td>1.000000</td>\n",
       "      <td>0.000000</td>\n",
       "      <td>0.000000</td>\n",
       "    </tr>\n",
       "    <tr>\n",
       "      <th>Age==1  Education==0</th>\n",
       "      <td>0.787866</td>\n",
       "      <td>0.171829</td>\n",
       "      <td>0.040305</td>\n",
       "    </tr>\n",
       "    <tr>\n",
       "      <th>Age==1  Education==1</th>\n",
       "      <td>0.747612</td>\n",
       "      <td>0.225465</td>\n",
       "      <td>0.026924</td>\n",
       "    </tr>\n",
       "    <tr>\n",
       "      <th>Age==1  Education==2</th>\n",
       "      <td>0.599359</td>\n",
       "      <td>0.375000</td>\n",
       "      <td>0.025641</td>\n",
       "    </tr>\n",
       "    <tr>\n",
       "      <th>Age==2  Education==0</th>\n",
       "      <td>0.613389</td>\n",
       "      <td>0.273640</td>\n",
       "      <td>0.112971</td>\n",
       "    </tr>\n",
       "    <tr>\n",
       "      <th>Age==2  Education==1</th>\n",
       "      <td>0.653599</td>\n",
       "      <td>0.259319</td>\n",
       "      <td>0.087082</td>\n",
       "    </tr>\n",
       "    <tr>\n",
       "      <th>Age==2  Education==2</th>\n",
       "      <td>0.690476</td>\n",
       "      <td>0.277778</td>\n",
       "      <td>0.031746</td>\n",
       "    </tr>\n",
       "    <tr>\n",
       "      <th>Age==3  Education==0</th>\n",
       "      <td>0.615385</td>\n",
       "      <td>0.329327</td>\n",
       "      <td>0.055288</td>\n",
       "    </tr>\n",
       "    <tr>\n",
       "      <th>Age==3  Education==1</th>\n",
       "      <td>0.517007</td>\n",
       "      <td>0.372109</td>\n",
       "      <td>0.110884</td>\n",
       "    </tr>\n",
       "    <tr>\n",
       "      <th>Age==3  Education==2</th>\n",
       "      <td>0.387097</td>\n",
       "      <td>0.500000</td>\n",
       "      <td>0.112903</td>\n",
       "    </tr>\n",
       "  </tbody>\n",
       "</table>\n",
       "</div>"
      ],
      "text/plain": [
       "JobLevel                       0         1         2\n",
       "Evidences                                           \n",
       " Age==0  Education==0   0.808670  0.167414  0.023916\n",
       " Age==0  Education==1   0.848594  0.120080  0.031325\n",
       " Age==0  Education==2   1.000000  0.000000  0.000000\n",
       " Age==1  Education==0   0.787866  0.171829  0.040305\n",
       " Age==1  Education==1   0.747612  0.225465  0.026924\n",
       " Age==1  Education==2   0.599359  0.375000  0.025641\n",
       " Age==2  Education==0   0.613389  0.273640  0.112971\n",
       " Age==2  Education==1   0.653599  0.259319  0.087082\n",
       " Age==2  Education==2   0.690476  0.277778  0.031746\n",
       " Age==3  Education==0   0.615385  0.329327  0.055288\n",
       " Age==3  Education==1   0.517007  0.372109  0.110884\n",
       " Age==3  Education==2   0.387097  0.500000  0.112903"
      ]
     },
     "execution_count": 153,
     "metadata": {},
     "output_type": "execute_result"
    }
   ],
   "source": [
    "compute_cpd(data=df_t, variable='JobLevel', evidences=['Age','Education'])"
   ]
  },
  {
   "cell_type": "code",
   "execution_count": 158,
   "id": "0c92b81f",
   "metadata": {},
   "outputs": [],
   "source": [
    "def f(e):\n",
    "    if e>=0 and e<=1:\n",
    "        return 0\n",
    "    elif e>=2 and e<3:\n",
    "        return 1\n",
    "    else: \n",
    "        return 2\n",
    "\n",
    "df_t['Age'] = df['Age'].map(f)"
   ]
  },
  {
   "cell_type": "code",
   "execution_count": 159,
   "id": "4f8f98bf",
   "metadata": {},
   "outputs": [
    {
     "name": "stdout",
     "output_type": "stream",
     "text": [
      "3\n",
      "[(0, 0), (0, 1), (0, 2), (1, 0), (1, 1), (1, 2), (2, 0), (2, 1), (2, 2)]\n",
      "Row 0\n",
      "\tAge==0\n",
      "\tEducation==0\n",
      "4364\n",
      "[0.7974335472043996, 0.16979835013748854, 0.03276810265811182]\n",
      "Row 1\n",
      "\tAge==0\n",
      "\tEducation==1\n",
      "8247\n",
      "[0.7781011276827937, 0.19364617436643627, 0.028252697950769977]\n",
      "Row 2\n",
      "\tAge==0\n",
      "\tEducation==2\n",
      "360\n",
      "[0.6527777777777778, 0.325, 0.022222222222222223]\n",
      "Row 3\n",
      "\tAge==1\n",
      "\tEducation==0\n",
      "1195\n",
      "[0.6133891213389121, 0.27364016736401675, 0.11297071129707113]\n",
      "Row 4\n",
      "\tAge==1\n",
      "\tEducation==1\n",
      "3112\n",
      "[0.653598971722365, 0.25931876606683807, 0.08708226221079692]\n",
      "Row 5\n",
      "\tAge==1\n",
      "\tEducation==2\n",
      "252\n",
      "[0.6904761904761905, 0.2777777777777778, 0.031746031746031744]\n",
      "Row 6\n",
      "\tAge==2\n",
      "\tEducation==0\n",
      "416\n",
      "[0.6153846153846154, 0.3293269230769231, 0.055288461538461536]\n",
      "Row 7\n",
      "\tAge==2\n",
      "\tEducation==1\n",
      "1470\n",
      "[0.5170068027210885, 0.37210884353741497, 0.1108843537414966]\n",
      "Row 8\n",
      "\tAge==2\n",
      "\tEducation==2\n",
      "62\n",
      "[0.3870967741935484, 0.5, 0.11290322580645161]\n"
     ]
    },
    {
     "data": {
      "text/html": [
       "<div>\n",
       "<style scoped>\n",
       "    .dataframe tbody tr th:only-of-type {\n",
       "        vertical-align: middle;\n",
       "    }\n",
       "\n",
       "    .dataframe tbody tr th {\n",
       "        vertical-align: top;\n",
       "    }\n",
       "\n",
       "    .dataframe thead th {\n",
       "        text-align: right;\n",
       "    }\n",
       "</style>\n",
       "<table border=\"1\" class=\"dataframe\">\n",
       "  <thead>\n",
       "    <tr style=\"text-align: right;\">\n",
       "      <th>JobLevel</th>\n",
       "      <th>0</th>\n",
       "      <th>1</th>\n",
       "      <th>2</th>\n",
       "    </tr>\n",
       "    <tr>\n",
       "      <th>Evidences</th>\n",
       "      <th></th>\n",
       "      <th></th>\n",
       "      <th></th>\n",
       "    </tr>\n",
       "  </thead>\n",
       "  <tbody>\n",
       "    <tr>\n",
       "      <th>Age==0  Education==0</th>\n",
       "      <td>0.797434</td>\n",
       "      <td>0.169798</td>\n",
       "      <td>0.032768</td>\n",
       "    </tr>\n",
       "    <tr>\n",
       "      <th>Age==0  Education==1</th>\n",
       "      <td>0.778101</td>\n",
       "      <td>0.193646</td>\n",
       "      <td>0.028253</td>\n",
       "    </tr>\n",
       "    <tr>\n",
       "      <th>Age==0  Education==2</th>\n",
       "      <td>0.652778</td>\n",
       "      <td>0.325000</td>\n",
       "      <td>0.022222</td>\n",
       "    </tr>\n",
       "    <tr>\n",
       "      <th>Age==1  Education==0</th>\n",
       "      <td>0.613389</td>\n",
       "      <td>0.273640</td>\n",
       "      <td>0.112971</td>\n",
       "    </tr>\n",
       "    <tr>\n",
       "      <th>Age==1  Education==1</th>\n",
       "      <td>0.653599</td>\n",
       "      <td>0.259319</td>\n",
       "      <td>0.087082</td>\n",
       "    </tr>\n",
       "    <tr>\n",
       "      <th>Age==1  Education==2</th>\n",
       "      <td>0.690476</td>\n",
       "      <td>0.277778</td>\n",
       "      <td>0.031746</td>\n",
       "    </tr>\n",
       "    <tr>\n",
       "      <th>Age==2  Education==0</th>\n",
       "      <td>0.615385</td>\n",
       "      <td>0.329327</td>\n",
       "      <td>0.055288</td>\n",
       "    </tr>\n",
       "    <tr>\n",
       "      <th>Age==2  Education==1</th>\n",
       "      <td>0.517007</td>\n",
       "      <td>0.372109</td>\n",
       "      <td>0.110884</td>\n",
       "    </tr>\n",
       "    <tr>\n",
       "      <th>Age==2  Education==2</th>\n",
       "      <td>0.387097</td>\n",
       "      <td>0.500000</td>\n",
       "      <td>0.112903</td>\n",
       "    </tr>\n",
       "  </tbody>\n",
       "</table>\n",
       "</div>"
      ],
      "text/plain": [
       "JobLevel                       0         1         2\n",
       "Evidences                                           \n",
       " Age==0  Education==0   0.797434  0.169798  0.032768\n",
       " Age==0  Education==1   0.778101  0.193646  0.028253\n",
       " Age==0  Education==2   0.652778  0.325000  0.022222\n",
       " Age==1  Education==0   0.613389  0.273640  0.112971\n",
       " Age==1  Education==1   0.653599  0.259319  0.087082\n",
       " Age==1  Education==2   0.690476  0.277778  0.031746\n",
       " Age==2  Education==0   0.615385  0.329327  0.055288\n",
       " Age==2  Education==1   0.517007  0.372109  0.110884\n",
       " Age==2  Education==2   0.387097  0.500000  0.112903"
      ]
     },
     "execution_count": 159,
     "metadata": {},
     "output_type": "execute_result"
    }
   ],
   "source": [
    "compute_cpd(data=df_t, variable='JobLevel', evidences=['Age','Education'])"
   ]
  },
  {
   "cell_type": "code",
   "execution_count": 160,
   "id": "56072475",
   "metadata": {
    "scrolled": true
   },
   "outputs": [
    {
     "data": {
      "text/html": [
       "<div>\n",
       "<style scoped>\n",
       "    .dataframe tbody tr th:only-of-type {\n",
       "        vertical-align: middle;\n",
       "    }\n",
       "\n",
       "    .dataframe tbody tr th {\n",
       "        vertical-align: top;\n",
       "    }\n",
       "\n",
       "    .dataframe thead th {\n",
       "        text-align: right;\n",
       "    }\n",
       "</style>\n",
       "<table border=\"1\" class=\"dataframe\">\n",
       "  <thead>\n",
       "    <tr style=\"text-align: right;\">\n",
       "      <th></th>\n",
       "      <th>Age</th>\n",
       "      <th>Department</th>\n",
       "      <th>Education</th>\n",
       "      <th>Gender</th>\n",
       "      <th>JobLevel</th>\n",
       "      <th>MonthlyIncome</th>\n",
       "      <th>WorkLifeBalance</th>\n",
       "      <th>JobSatisfaction</th>\n",
       "    </tr>\n",
       "  </thead>\n",
       "  <tbody>\n",
       "    <tr>\n",
       "      <th>count</th>\n",
       "      <td>19478.000000</td>\n",
       "      <td>19478.000000</td>\n",
       "      <td>19478.000000</td>\n",
       "      <td>19478.000000</td>\n",
       "      <td>19478.000000</td>\n",
       "      <td>19478.000000</td>\n",
       "      <td>19478.000000</td>\n",
       "      <td>19478.000000</td>\n",
       "    </tr>\n",
       "    <tr>\n",
       "      <th>mean</th>\n",
       "      <td>1.200739</td>\n",
       "      <td>0.617569</td>\n",
       "      <td>2.924274</td>\n",
       "      <td>0.402146</td>\n",
       "      <td>2.104990</td>\n",
       "      <td>0.802495</td>\n",
       "      <td>2.769689</td>\n",
       "      <td>2.752849</td>\n",
       "    </tr>\n",
       "    <tr>\n",
       "      <th>std</th>\n",
       "      <td>0.909498</td>\n",
       "      <td>0.901080</td>\n",
       "      <td>1.026008</td>\n",
       "      <td>0.490344</td>\n",
       "      <td>1.115506</td>\n",
       "      <td>0.974312</td>\n",
       "      <td>0.700480</td>\n",
       "      <td>1.097875</td>\n",
       "    </tr>\n",
       "    <tr>\n",
       "      <th>min</th>\n",
       "      <td>0.000000</td>\n",
       "      <td>0.000000</td>\n",
       "      <td>1.000000</td>\n",
       "      <td>0.000000</td>\n",
       "      <td>1.000000</td>\n",
       "      <td>0.000000</td>\n",
       "      <td>1.000000</td>\n",
       "      <td>1.000000</td>\n",
       "    </tr>\n",
       "    <tr>\n",
       "      <th>25%</th>\n",
       "      <td>1.000000</td>\n",
       "      <td>0.000000</td>\n",
       "      <td>2.000000</td>\n",
       "      <td>0.000000</td>\n",
       "      <td>1.000000</td>\n",
       "      <td>0.000000</td>\n",
       "      <td>2.000000</td>\n",
       "      <td>2.000000</td>\n",
       "    </tr>\n",
       "    <tr>\n",
       "      <th>50%</th>\n",
       "      <td>1.000000</td>\n",
       "      <td>0.000000</td>\n",
       "      <td>3.000000</td>\n",
       "      <td>0.000000</td>\n",
       "      <td>2.000000</td>\n",
       "      <td>1.000000</td>\n",
       "      <td>3.000000</td>\n",
       "      <td>3.000000</td>\n",
       "    </tr>\n",
       "    <tr>\n",
       "      <th>75%</th>\n",
       "      <td>2.000000</td>\n",
       "      <td>2.000000</td>\n",
       "      <td>4.000000</td>\n",
       "      <td>1.000000</td>\n",
       "      <td>3.000000</td>\n",
       "      <td>1.000000</td>\n",
       "      <td>3.000000</td>\n",
       "      <td>4.000000</td>\n",
       "    </tr>\n",
       "    <tr>\n",
       "      <th>max</th>\n",
       "      <td>3.000000</td>\n",
       "      <td>2.000000</td>\n",
       "      <td>5.000000</td>\n",
       "      <td>1.000000</td>\n",
       "      <td>5.000000</td>\n",
       "      <td>3.000000</td>\n",
       "      <td>4.000000</td>\n",
       "      <td>4.000000</td>\n",
       "    </tr>\n",
       "  </tbody>\n",
       "</table>\n",
       "</div>"
      ],
      "text/plain": [
       "                Age    Department     Education        Gender      JobLevel  \\\n",
       "count  19478.000000  19478.000000  19478.000000  19478.000000  19478.000000   \n",
       "mean       1.200739      0.617569      2.924274      0.402146      2.104990   \n",
       "std        0.909498      0.901080      1.026008      0.490344      1.115506   \n",
       "min        0.000000      0.000000      1.000000      0.000000      1.000000   \n",
       "25%        1.000000      0.000000      2.000000      0.000000      1.000000   \n",
       "50%        1.000000      0.000000      3.000000      0.000000      2.000000   \n",
       "75%        2.000000      2.000000      4.000000      1.000000      3.000000   \n",
       "max        3.000000      2.000000      5.000000      1.000000      5.000000   \n",
       "\n",
       "       MonthlyIncome  WorkLifeBalance  JobSatisfaction  \n",
       "count   19478.000000     19478.000000     19478.000000  \n",
       "mean        0.802495         2.769689         2.752849  \n",
       "std         0.974312         0.700480         1.097875  \n",
       "min         0.000000         1.000000         1.000000  \n",
       "25%         0.000000         2.000000         2.000000  \n",
       "50%         1.000000         3.000000         3.000000  \n",
       "75%         1.000000         3.000000         4.000000  \n",
       "max         3.000000         4.000000         4.000000  "
      ]
     },
     "execution_count": 160,
     "metadata": {},
     "output_type": "execute_result"
    }
   ],
   "source": [
    "df.describe()"
   ]
  },
  {
   "cell_type": "code",
   "execution_count": null,
   "id": "b95c2aa5",
   "metadata": {},
   "outputs": [],
   "source": []
  },
  {
   "cell_type": "code",
   "execution_count": 210,
   "id": "bc2c9289",
   "metadata": {},
   "outputs": [
    {
     "data": {
      "text/html": [
       "<div>\n",
       "<style scoped>\n",
       "    .dataframe tbody tr th:only-of-type {\n",
       "        vertical-align: middle;\n",
       "    }\n",
       "\n",
       "    .dataframe tbody tr th {\n",
       "        vertical-align: top;\n",
       "    }\n",
       "\n",
       "    .dataframe thead th {\n",
       "        text-align: right;\n",
       "    }\n",
       "</style>\n",
       "<table border=\"1\" class=\"dataframe\">\n",
       "  <thead>\n",
       "    <tr style=\"text-align: right;\">\n",
       "      <th>JobLevel</th>\n",
       "      <th>0</th>\n",
       "      <th>1</th>\n",
       "      <th>2</th>\n",
       "    </tr>\n",
       "    <tr>\n",
       "      <th>Evidences</th>\n",
       "      <th></th>\n",
       "      <th></th>\n",
       "      <th></th>\n",
       "    </tr>\n",
       "  </thead>\n",
       "  <tbody>\n",
       "    <tr>\n",
       "      <th>Age==0  Education==0</th>\n",
       "      <td>0.797434</td>\n",
       "      <td>0.169798</td>\n",
       "      <td>0.032768</td>\n",
       "    </tr>\n",
       "    <tr>\n",
       "      <th>Age==0  Education==1</th>\n",
       "      <td>0.778101</td>\n",
       "      <td>0.193646</td>\n",
       "      <td>0.028253</td>\n",
       "    </tr>\n",
       "    <tr>\n",
       "      <th>Age==0  Education==2</th>\n",
       "      <td>0.652778</td>\n",
       "      <td>0.325000</td>\n",
       "      <td>0.022222</td>\n",
       "    </tr>\n",
       "    <tr>\n",
       "      <th>Age==1  Education==0</th>\n",
       "      <td>0.613389</td>\n",
       "      <td>0.273640</td>\n",
       "      <td>0.112971</td>\n",
       "    </tr>\n",
       "    <tr>\n",
       "      <th>Age==1  Education==1</th>\n",
       "      <td>0.653599</td>\n",
       "      <td>0.259319</td>\n",
       "      <td>0.087082</td>\n",
       "    </tr>\n",
       "    <tr>\n",
       "      <th>Age==1  Education==2</th>\n",
       "      <td>0.690476</td>\n",
       "      <td>0.277778</td>\n",
       "      <td>0.031746</td>\n",
       "    </tr>\n",
       "    <tr>\n",
       "      <th>Age==2  Education==0</th>\n",
       "      <td>0.615385</td>\n",
       "      <td>0.329327</td>\n",
       "      <td>0.055288</td>\n",
       "    </tr>\n",
       "    <tr>\n",
       "      <th>Age==2  Education==1</th>\n",
       "      <td>0.517007</td>\n",
       "      <td>0.372109</td>\n",
       "      <td>0.110884</td>\n",
       "    </tr>\n",
       "    <tr>\n",
       "      <th>Age==2  Education==2</th>\n",
       "      <td>0.387097</td>\n",
       "      <td>0.500000</td>\n",
       "      <td>0.112903</td>\n",
       "    </tr>\n",
       "  </tbody>\n",
       "</table>\n",
       "</div>"
      ],
      "text/plain": [
       "JobLevel                       0         1         2\n",
       "Evidences                                           \n",
       " Age==0  Education==0   0.797434  0.169798  0.032768\n",
       " Age==0  Education==1   0.778101  0.193646  0.028253\n",
       " Age==0  Education==2   0.652778  0.325000  0.022222\n",
       " Age==1  Education==0   0.613389  0.273640  0.112971\n",
       " Age==1  Education==1   0.653599  0.259319  0.087082\n",
       " Age==1  Education==2   0.690476  0.277778  0.031746\n",
       " Age==2  Education==0   0.615385  0.329327  0.055288\n",
       " Age==2  Education==1   0.517007  0.372109  0.110884\n",
       " Age==2  Education==2   0.387097  0.500000  0.112903"
      ]
     },
     "execution_count": 210,
     "metadata": {},
     "output_type": "execute_result"
    }
   ],
   "source": [
    "compute_cpd(data=df_t, variable='JobLevel', evidences=['Age','Education'])"
   ]
  },
  {
   "cell_type": "code",
   "execution_count": 212,
   "id": "5779effd",
   "metadata": {},
   "outputs": [
    {
     "data": {
      "text/plain": [
       "array([[0.79743355, 0.77810113, 0.65277778, 0.61338912, 0.65359897,\n",
       "        0.69047619, 0.61538462, 0.5170068 , 0.38709677],\n",
       "       [0.16979835, 0.19364617, 0.325     , 0.27364017, 0.25931877,\n",
       "        0.27777778, 0.32932692, 0.37210884, 0.5       ],\n",
       "       [0.0327681 , 0.0282527 , 0.02222222, 0.11297071, 0.08708226,\n",
       "        0.03174603, 0.05528846, 0.11088435, 0.11290323]])"
      ]
     },
     "execution_count": 212,
     "metadata": {},
     "output_type": "execute_result"
    }
   ],
   "source": [
    "compute_cpd(data=df_t, variable='JobLevel', evidences=['Age','Education']).values.T"
   ]
  },
  {
   "cell_type": "code",
   "execution_count": 223,
   "id": "44cd3d69",
   "metadata": {
    "scrolled": true
   },
   "outputs": [
    {
     "data": {
      "text/html": [
       "<div>\n",
       "<style scoped>\n",
       "    .dataframe tbody tr th:only-of-type {\n",
       "        vertical-align: middle;\n",
       "    }\n",
       "\n",
       "    .dataframe tbody tr th {\n",
       "        vertical-align: top;\n",
       "    }\n",
       "\n",
       "    .dataframe thead th {\n",
       "        text-align: right;\n",
       "    }\n",
       "</style>\n",
       "<table border=\"1\" class=\"dataframe\">\n",
       "  <thead>\n",
       "    <tr style=\"text-align: right;\">\n",
       "      <th>JobLevel</th>\n",
       "      <th>0</th>\n",
       "      <th>1</th>\n",
       "      <th>2</th>\n",
       "    </tr>\n",
       "    <tr>\n",
       "      <th>Evidences</th>\n",
       "      <th></th>\n",
       "      <th></th>\n",
       "      <th></th>\n",
       "    </tr>\n",
       "  </thead>\n",
       "  <tbody>\n",
       "    <tr>\n",
       "      <th>Age==0  Education==0  Gender==0</th>\n",
       "      <td>0.820203</td>\n",
       "      <td>0.159466</td>\n",
       "      <td>0.020330</td>\n",
       "    </tr>\n",
       "    <tr>\n",
       "      <th>Age==0  Education==0  Gender==1</th>\n",
       "      <td>0.791802</td>\n",
       "      <td>0.173679</td>\n",
       "      <td>0.034520</td>\n",
       "    </tr>\n",
       "    <tr>\n",
       "      <th>Age==0  Education==1  Gender==0</th>\n",
       "      <td>0.838340</td>\n",
       "      <td>0.117310</td>\n",
       "      <td>0.044349</td>\n",
       "    </tr>\n",
       "    <tr>\n",
       "      <th>Age==0  Education==1  Gender==1</th>\n",
       "      <td>0.787056</td>\n",
       "      <td>0.196938</td>\n",
       "      <td>0.016006</td>\n",
       "    </tr>\n",
       "    <tr>\n",
       "      <th>Age==0  Education==2  Gender==0</th>\n",
       "      <td>1.000000</td>\n",
       "      <td>0.000000</td>\n",
       "      <td>0.000000</td>\n",
       "    </tr>\n",
       "    <tr>\n",
       "      <th>Age==0  Education==2  Gender==1</th>\n",
       "      <td>0.666667</td>\n",
       "      <td>0.333333</td>\n",
       "      <td>0.000000</td>\n",
       "    </tr>\n",
       "    <tr>\n",
       "      <th>Age==1  Education==0  Gender==0</th>\n",
       "      <td>0.712304</td>\n",
       "      <td>0.211098</td>\n",
       "      <td>0.076598</td>\n",
       "    </tr>\n",
       "    <tr>\n",
       "      <th>Age==1  Education==0  Gender==1</th>\n",
       "      <td>0.754839</td>\n",
       "      <td>0.200922</td>\n",
       "      <td>0.044240</td>\n",
       "    </tr>\n",
       "    <tr>\n",
       "      <th>Age==1  Education==1  Gender==0</th>\n",
       "      <td>0.738534</td>\n",
       "      <td>0.219622</td>\n",
       "      <td>0.041844</td>\n",
       "    </tr>\n",
       "    <tr>\n",
       "      <th>Age==1  Education==1  Gender==1</th>\n",
       "      <td>0.689850</td>\n",
       "      <td>0.268797</td>\n",
       "      <td>0.041353</td>\n",
       "    </tr>\n",
       "    <tr>\n",
       "      <th>Age==1  Education==2  Gender==0</th>\n",
       "      <td>0.697368</td>\n",
       "      <td>0.302632</td>\n",
       "      <td>0.000000</td>\n",
       "    </tr>\n",
       "    <tr>\n",
       "      <th>Age==1  Education==2  Gender==1</th>\n",
       "      <td>0.592784</td>\n",
       "      <td>0.365979</td>\n",
       "      <td>0.041237</td>\n",
       "    </tr>\n",
       "    <tr>\n",
       "      <th>Age==2  Education==0  Gender==0</th>\n",
       "      <td>0.580282</td>\n",
       "      <td>0.304225</td>\n",
       "      <td>0.115493</td>\n",
       "    </tr>\n",
       "    <tr>\n",
       "      <th>Age==2  Education==0  Gender==1</th>\n",
       "      <td>0.632979</td>\n",
       "      <td>0.311170</td>\n",
       "      <td>0.055851</td>\n",
       "    </tr>\n",
       "    <tr>\n",
       "      <th>Age==2  Education==1  Gender==0</th>\n",
       "      <td>0.580311</td>\n",
       "      <td>0.298298</td>\n",
       "      <td>0.121392</td>\n",
       "    </tr>\n",
       "    <tr>\n",
       "      <th>Age==2  Education==1  Gender==1</th>\n",
       "      <td>0.549336</td>\n",
       "      <td>0.355787</td>\n",
       "      <td>0.094877</td>\n",
       "    </tr>\n",
       "    <tr>\n",
       "      <th>Age==2  Education==2  Gender==0</th>\n",
       "      <td>0.500000</td>\n",
       "      <td>0.312500</td>\n",
       "      <td>0.187500</td>\n",
       "    </tr>\n",
       "    <tr>\n",
       "      <th>Age==2  Education==2  Gender==1</th>\n",
       "      <td>0.407895</td>\n",
       "      <td>0.592105</td>\n",
       "      <td>0.000000</td>\n",
       "    </tr>\n",
       "  </tbody>\n",
       "</table>\n",
       "</div>"
      ],
      "text/plain": [
       "JobLevel                                  0         1         2\n",
       "Evidences                                                      \n",
       " Age==0  Education==0  Gender==0   0.820203  0.159466  0.020330\n",
       " Age==0  Education==0  Gender==1   0.791802  0.173679  0.034520\n",
       " Age==0  Education==1  Gender==0   0.838340  0.117310  0.044349\n",
       " Age==0  Education==1  Gender==1   0.787056  0.196938  0.016006\n",
       " Age==0  Education==2  Gender==0   1.000000  0.000000  0.000000\n",
       " Age==0  Education==2  Gender==1   0.666667  0.333333  0.000000\n",
       " Age==1  Education==0  Gender==0   0.712304  0.211098  0.076598\n",
       " Age==1  Education==0  Gender==1   0.754839  0.200922  0.044240\n",
       " Age==1  Education==1  Gender==0   0.738534  0.219622  0.041844\n",
       " Age==1  Education==1  Gender==1   0.689850  0.268797  0.041353\n",
       " Age==1  Education==2  Gender==0   0.697368  0.302632  0.000000\n",
       " Age==1  Education==2  Gender==1   0.592784  0.365979  0.041237\n",
       " Age==2  Education==0  Gender==0   0.580282  0.304225  0.115493\n",
       " Age==2  Education==0  Gender==1   0.632979  0.311170  0.055851\n",
       " Age==2  Education==1  Gender==0   0.580311  0.298298  0.121392\n",
       " Age==2  Education==1  Gender==1   0.549336  0.355787  0.094877\n",
       " Age==2  Education==2  Gender==0   0.500000  0.312500  0.187500\n",
       " Age==2  Education==2  Gender==1   0.407895  0.592105  0.000000"
      ]
     },
     "execution_count": 223,
     "metadata": {},
     "output_type": "execute_result"
    }
   ],
   "source": [
    "compute_cpd(data=df, variable='JobLevel', evidences=['Age','Education','Gender'])"
   ]
  },
  {
   "cell_type": "code",
   "execution_count": 222,
   "id": "e17bf26b",
   "metadata": {},
   "outputs": [
    {
     "data": {
      "text/plain": [
       "0.020330368487928845"
      ]
     },
     "execution_count": 222,
     "metadata": {},
     "output_type": "execute_result"
    }
   ],
   "source": [
    "df['Age'][df['Age']==0][df['Education']==0][df['Gender']==0][df['JobLevel']==2].count()/df['Age'][df['Age']==0][df['Education']==0][df['Gender']==0].count()"
   ]
  },
  {
   "cell_type": "code",
   "execution_count": 224,
   "id": "077a51ab",
   "metadata": {},
   "outputs": [
    {
     "data": {
      "text/plain": [
       "0.9999999999999999"
      ]
     },
     "execution_count": 224,
     "metadata": {},
     "output_type": "execute_result"
    }
   ],
   "source": [
    "compute_cpd(data=df, variable='JobLevel', evidences=['Age','Education','Gender']).iloc[0].sum()"
   ]
  },
  {
   "cell_type": "code",
   "execution_count": 226,
   "id": "5f889ee0",
   "metadata": {
    "scrolled": true
   },
   "outputs": [
    {
     "data": {
      "text/html": [
       "<div>\n",
       "<style scoped>\n",
       "    .dataframe tbody tr th:only-of-type {\n",
       "        vertical-align: middle;\n",
       "    }\n",
       "\n",
       "    .dataframe tbody tr th {\n",
       "        vertical-align: top;\n",
       "    }\n",
       "\n",
       "    .dataframe thead th {\n",
       "        text-align: right;\n",
       "    }\n",
       "</style>\n",
       "<table border=\"1\" class=\"dataframe\">\n",
       "  <thead>\n",
       "    <tr style=\"text-align: right;\">\n",
       "      <th>MonthlyIncome</th>\n",
       "      <th>0</th>\n",
       "      <th>1</th>\n",
       "      <th>2</th>\n",
       "    </tr>\n",
       "    <tr>\n",
       "      <th>Evidences</th>\n",
       "      <th></th>\n",
       "      <th></th>\n",
       "      <th></th>\n",
       "    </tr>\n",
       "  </thead>\n",
       "  <tbody>\n",
       "    <tr>\n",
       "      <th>JobLevel==0  Department==0</th>\n",
       "      <td>0.968955</td>\n",
       "      <td>0.030211</td>\n",
       "      <td>0.000833</td>\n",
       "    </tr>\n",
       "    <tr>\n",
       "      <th>JobLevel==0  Department==1</th>\n",
       "      <td>0.967797</td>\n",
       "      <td>0.030508</td>\n",
       "      <td>0.001695</td>\n",
       "    </tr>\n",
       "    <tr>\n",
       "      <th>JobLevel==0  Department==2</th>\n",
       "      <td>0.934760</td>\n",
       "      <td>0.064475</td>\n",
       "      <td>0.000765</td>\n",
       "    </tr>\n",
       "    <tr>\n",
       "      <th>JobLevel==1  Department==0</th>\n",
       "      <td>0.042878</td>\n",
       "      <td>0.663154</td>\n",
       "      <td>0.293968</td>\n",
       "    </tr>\n",
       "    <tr>\n",
       "      <th>JobLevel==1  Department==1</th>\n",
       "      <td>0.000000</td>\n",
       "      <td>0.559441</td>\n",
       "      <td>0.440559</td>\n",
       "    </tr>\n",
       "    <tr>\n",
       "      <th>JobLevel==1  Department==2</th>\n",
       "      <td>0.034483</td>\n",
       "      <td>0.743746</td>\n",
       "      <td>0.221771</td>\n",
       "    </tr>\n",
       "    <tr>\n",
       "      <th>JobLevel==2  Department==0</th>\n",
       "      <td>0.008511</td>\n",
       "      <td>0.000000</td>\n",
       "      <td>0.991489</td>\n",
       "    </tr>\n",
       "    <tr>\n",
       "      <th>JobLevel==2  Department==1</th>\n",
       "      <td>0.024390</td>\n",
       "      <td>0.000000</td>\n",
       "      <td>0.975610</td>\n",
       "    </tr>\n",
       "    <tr>\n",
       "      <th>JobLevel==2  Department==2</th>\n",
       "      <td>0.004902</td>\n",
       "      <td>0.000000</td>\n",
       "      <td>0.995098</td>\n",
       "    </tr>\n",
       "  </tbody>\n",
       "</table>\n",
       "</div>"
      ],
      "text/plain": [
       "MonthlyIncome                        0         1         2\n",
       "Evidences                                                 \n",
       " JobLevel==0  Department==0   0.968955  0.030211  0.000833\n",
       " JobLevel==0  Department==1   0.967797  0.030508  0.001695\n",
       " JobLevel==0  Department==2   0.934760  0.064475  0.000765\n",
       " JobLevel==1  Department==0   0.042878  0.663154  0.293968\n",
       " JobLevel==1  Department==1   0.000000  0.559441  0.440559\n",
       " JobLevel==1  Department==2   0.034483  0.743746  0.221771\n",
       " JobLevel==2  Department==0   0.008511  0.000000  0.991489\n",
       " JobLevel==2  Department==1   0.024390  0.000000  0.975610\n",
       " JobLevel==2  Department==2   0.004902  0.000000  0.995098"
      ]
     },
     "execution_count": 226,
     "metadata": {},
     "output_type": "execute_result"
    }
   ],
   "source": [
    "compute_cpd(data=df, variable='MonthlyIncome', evidences=['JobLevel','Department'])"
   ]
  },
  {
   "cell_type": "code",
   "execution_count": 359,
   "id": "ffb2e3dc",
   "metadata": {},
   "outputs": [
    {
     "name": "stdout",
     "output_type": "stream",
     "text": [
      "{0: 0.24622525663577408, 1: 0.7537747433642259}\n"
     ]
    },
    {
     "data": {
      "text/html": [
       "<div>\n",
       "<style scoped>\n",
       "    .dataframe tbody tr th:only-of-type {\n",
       "        vertical-align: middle;\n",
       "    }\n",
       "\n",
       "    .dataframe tbody tr th {\n",
       "        vertical-align: top;\n",
       "    }\n",
       "\n",
       "    .dataframe thead th {\n",
       "        text-align: right;\n",
       "    }\n",
       "</style>\n",
       "<table border=\"1\" class=\"dataframe\">\n",
       "  <thead>\n",
       "    <tr style=\"text-align: right;\">\n",
       "      <th>WorkLifeBalance</th>\n",
       "      <th>0</th>\n",
       "      <th>1</th>\n",
       "    </tr>\n",
       "    <tr>\n",
       "      <th>Evidences</th>\n",
       "      <th></th>\n",
       "      <th></th>\n",
       "    </tr>\n",
       "  </thead>\n",
       "  <tbody>\n",
       "    <tr>\n",
       "      <th>JobLevel==0  Department==0</th>\n",
       "      <td>0.300865</td>\n",
       "      <td>0.699135</td>\n",
       "    </tr>\n",
       "    <tr>\n",
       "      <th>JobLevel==0  Department==1</th>\n",
       "      <td>0.311864</td>\n",
       "      <td>0.688136</td>\n",
       "    </tr>\n",
       "    <tr>\n",
       "      <th>JobLevel==0  Department==2</th>\n",
       "      <td>0.245158</td>\n",
       "      <td>0.754842</td>\n",
       "    </tr>\n",
       "    <tr>\n",
       "      <th>JobLevel==1  Department==0</th>\n",
       "      <td>0.284884</td>\n",
       "      <td>0.715116</td>\n",
       "    </tr>\n",
       "    <tr>\n",
       "      <th>JobLevel==1  Department==1</th>\n",
       "      <td>0.111888</td>\n",
       "      <td>0.888112</td>\n",
       "    </tr>\n",
       "    <tr>\n",
       "      <th>JobLevel==1  Department==2</th>\n",
       "      <td>0.293442</td>\n",
       "      <td>0.706558</td>\n",
       "    </tr>\n",
       "    <tr>\n",
       "      <th>JobLevel==2  Department==0</th>\n",
       "      <td>0.296454</td>\n",
       "      <td>0.703546</td>\n",
       "    </tr>\n",
       "    <tr>\n",
       "      <th>JobLevel==2  Department==1</th>\n",
       "      <td>0.219512</td>\n",
       "      <td>0.780488</td>\n",
       "    </tr>\n",
       "    <tr>\n",
       "      <th>JobLevel==2  Department==2</th>\n",
       "      <td>0.151961</td>\n",
       "      <td>0.848039</td>\n",
       "    </tr>\n",
       "  </tbody>\n",
       "</table>\n",
       "</div>"
      ],
      "text/plain": [
       "WorkLifeBalance                      0         1\n",
       "Evidences                                       \n",
       " JobLevel==0  Department==0   0.300865  0.699135\n",
       " JobLevel==0  Department==1   0.311864  0.688136\n",
       " JobLevel==0  Department==2   0.245158  0.754842\n",
       " JobLevel==1  Department==0   0.284884  0.715116\n",
       " JobLevel==1  Department==1   0.111888  0.888112\n",
       " JobLevel==1  Department==2   0.293442  0.706558\n",
       " JobLevel==2  Department==0   0.296454  0.703546\n",
       " JobLevel==2  Department==1   0.219512  0.780488\n",
       " JobLevel==2  Department==2   0.151961  0.848039"
      ]
     },
     "execution_count": 359,
     "metadata": {},
     "output_type": "execute_result"
    }
   ],
   "source": [
    "compute_cpd(data=df, variable='WorkLifeBalance', evidences=['JobLevel','Department'])"
   ]
  },
  {
   "cell_type": "code",
   "execution_count": 247,
   "id": "814986e5",
   "metadata": {},
   "outputs": [],
   "source": [
    "import numpy as np\n",
    "\n",
    "def compute_cpd(data, variable, evidences=None):\n",
    "    variable_support = sorted(data[variable].unique())\n",
    "    m = len(variable_support)\n",
    "    #print(m)\n",
    "    \n",
    "    if evidences is None:\n",
    "        n = 1\n",
    "        rows_constraints = [[]]\n",
    "    else:\n",
    "        rows_constraints = list(itertools.product(*[sorted(data[evidence].unique()) for evidence in evidences]))\n",
    "        n = len(rows_constraints)\n",
    "        #print(rows_constraints)\n",
    "                \n",
    "    cpd = pd.DataFrame(np.zeros((n,m)), columns=variable_support)\n",
    "    #print(cpd)\n",
    "    \n",
    "    index = []\n",
    "                \n",
    "    for row,row_constraints in enumerate(rows_constraints):\n",
    "        #print(f'Row {row}')\n",
    "        data_supp = data.copy()\n",
    "        idx = ''\n",
    "        for i,constr in enumerate(row_constraints):\n",
    "            evidence = evidences[i]\n",
    "            #print(f'\\t{evidence}=={constr}')\n",
    "            idx += f' {evidence}=={constr} '\n",
    "            data_supp = data_supp[data_supp[evidence]==constr]\n",
    "        #print(data_supp[variable].count() )\n",
    "        new_row = [data_supp[variable][data_supp[variable]==variable_value].count()/data_supp[variable].count() \n",
    "                   for variable_value in variable_support]\n",
    "        #print(len(new_row))\n",
    "        #print(new_row)\n",
    "        cpd.iloc[row,:] = new_row \n",
    "        index.append(idx)\n",
    "        \n",
    "    values = {variable_value:cpd.fillna(0.0)[variable_value].mean() for variable_value in variable_support[:-1]}\n",
    "    values[variable_support[-1]] = 1-sum([fill for v,fill in values.items()])\n",
    "    print(values)\n",
    "    cpd = cpd.fillna(values)\n",
    "        \n",
    "    cpd['Evidences'] = index\n",
    "    cpd = cpd.set_index('Evidences')\n",
    "    \n",
    "    cpd.columns.name = variable\n",
    "        \n",
    "    return cpd"
   ]
  },
  {
   "cell_type": "code",
   "execution_count": 248,
   "id": "d52df589",
   "metadata": {},
   "outputs": [
    {
     "name": "stdout",
     "output_type": "stream",
     "text": [
      "{0: 0.3486494486775365, 1: 0.32157858939313094, 2: 0.32977196192933256}\n"
     ]
    },
    {
     "name": "stderr",
     "output_type": "stream",
     "text": [
      "<ipython-input-247-745742b61e16>:31: RuntimeWarning: invalid value encountered in long_scalars\n",
      "  new_row = [data_supp[variable][data_supp[variable]==variable_value].count()/data_supp[variable].count()\n",
      "<ipython-input-247-745742b61e16>:31: RuntimeWarning: invalid value encountered in long_scalars\n",
      "  new_row = [data_supp[variable][data_supp[variable]==variable_value].count()/data_supp[variable].count()\n",
      "<ipython-input-247-745742b61e16>:31: RuntimeWarning: invalid value encountered in long_scalars\n",
      "  new_row = [data_supp[variable][data_supp[variable]==variable_value].count()/data_supp[variable].count()\n"
     ]
    },
    {
     "data": {
      "text/html": [
       "<div>\n",
       "<style scoped>\n",
       "    .dataframe tbody tr th:only-of-type {\n",
       "        vertical-align: middle;\n",
       "    }\n",
       "\n",
       "    .dataframe tbody tr th {\n",
       "        vertical-align: top;\n",
       "    }\n",
       "\n",
       "    .dataframe thead th {\n",
       "        text-align: right;\n",
       "    }\n",
       "</style>\n",
       "<table border=\"1\" class=\"dataframe\">\n",
       "  <thead>\n",
       "    <tr style=\"text-align: right;\">\n",
       "      <th>JobSatisfaction</th>\n",
       "      <th>0</th>\n",
       "      <th>1</th>\n",
       "      <th>2</th>\n",
       "    </tr>\n",
       "    <tr>\n",
       "      <th>Evidences</th>\n",
       "      <th></th>\n",
       "      <th></th>\n",
       "      <th></th>\n",
       "    </tr>\n",
       "  </thead>\n",
       "  <tbody>\n",
       "    <tr>\n",
       "      <th>JobLevel==0  MonthlyIncome==0</th>\n",
       "      <td>0.370679</td>\n",
       "      <td>0.303397</td>\n",
       "      <td>0.325923</td>\n",
       "    </tr>\n",
       "    <tr>\n",
       "      <th>JobLevel==0  MonthlyIncome==1</th>\n",
       "      <td>0.399287</td>\n",
       "      <td>0.194296</td>\n",
       "      <td>0.406417</td>\n",
       "    </tr>\n",
       "    <tr>\n",
       "      <th>JobLevel==0  MonthlyIncome==2</th>\n",
       "      <td>0.583333</td>\n",
       "      <td>0.333333</td>\n",
       "      <td>0.083333</td>\n",
       "    </tr>\n",
       "    <tr>\n",
       "      <th>JobLevel==1  MonthlyIncome==0</th>\n",
       "      <td>0.384615</td>\n",
       "      <td>0.366864</td>\n",
       "      <td>0.248521</td>\n",
       "    </tr>\n",
       "    <tr>\n",
       "      <th>JobLevel==1  MonthlyIncome==1</th>\n",
       "      <td>0.410649</td>\n",
       "      <td>0.291847</td>\n",
       "      <td>0.297504</td>\n",
       "    </tr>\n",
       "    <tr>\n",
       "      <th>JobLevel==1  MonthlyIncome==2</th>\n",
       "      <td>0.384167</td>\n",
       "      <td>0.264167</td>\n",
       "      <td>0.351667</td>\n",
       "    </tr>\n",
       "    <tr>\n",
       "      <th>JobLevel==2  MonthlyIncome==0</th>\n",
       "      <td>0.222222</td>\n",
       "      <td>0.777778</td>\n",
       "      <td>0.000000</td>\n",
       "    </tr>\n",
       "    <tr>\n",
       "      <th>JobLevel==2  MonthlyIncome==1</th>\n",
       "      <td>0.348649</td>\n",
       "      <td>0.321579</td>\n",
       "      <td>0.329772</td>\n",
       "    </tr>\n",
       "    <tr>\n",
       "      <th>JobLevel==2  MonthlyIncome==2</th>\n",
       "      <td>0.382892</td>\n",
       "      <td>0.362525</td>\n",
       "      <td>0.254582</td>\n",
       "    </tr>\n",
       "  </tbody>\n",
       "</table>\n",
       "</div>"
      ],
      "text/plain": [
       "JobSatisfaction                         0         1         2\n",
       "Evidences                                                    \n",
       " JobLevel==0  MonthlyIncome==0   0.370679  0.303397  0.325923\n",
       " JobLevel==0  MonthlyIncome==1   0.399287  0.194296  0.406417\n",
       " JobLevel==0  MonthlyIncome==2   0.583333  0.333333  0.083333\n",
       " JobLevel==1  MonthlyIncome==0   0.384615  0.366864  0.248521\n",
       " JobLevel==1  MonthlyIncome==1   0.410649  0.291847  0.297504\n",
       " JobLevel==1  MonthlyIncome==2   0.384167  0.264167  0.351667\n",
       " JobLevel==2  MonthlyIncome==0   0.222222  0.777778  0.000000\n",
       " JobLevel==2  MonthlyIncome==1   0.348649  0.321579  0.329772\n",
       " JobLevel==2  MonthlyIncome==2   0.382892  0.362525  0.254582"
      ]
     },
     "execution_count": 248,
     "metadata": {},
     "output_type": "execute_result"
    }
   ],
   "source": [
    "cpd = compute_cpd(data=df, variable='JobSatisfaction', evidences=['JobLevel', 'MonthlyIncome'])\n",
    "cpd"
   ]
  },
  {
   "cell_type": "code",
   "execution_count": 251,
   "id": "c3a5ef1f",
   "metadata": {},
   "outputs": [
    {
     "name": "stdout",
     "output_type": "stream",
     "text": [
      "1.0\n",
      "1.0\n",
      "1.0\n",
      "1.0\n",
      "1.0\n",
      "1.0\n",
      "1.0\n",
      "1.0\n",
      "1.0\n"
     ]
    }
   ],
   "source": [
    "for row in range(cpd.shape[0]):\n",
    "    print(cpd.iloc[row].sum())"
   ]
  },
  {
   "cell_type": "code",
   "execution_count": 253,
   "id": "0be74752",
   "metadata": {},
   "outputs": [
    {
     "name": "stdout",
     "output_type": "stream",
     "text": [
      "{0: 0.33139970614464886, 1: 0.28667332588550115, 2: 0.38192696796985004}\n"
     ]
    },
    {
     "name": "stderr",
     "output_type": "stream",
     "text": [
      "<ipython-input-247-745742b61e16>:31: RuntimeWarning: invalid value encountered in long_scalars\n",
      "  new_row = [data_supp[variable][data_supp[variable]==variable_value].count()/data_supp[variable].count()\n",
      "<ipython-input-247-745742b61e16>:31: RuntimeWarning: invalid value encountered in long_scalars\n",
      "  new_row = [data_supp[variable][data_supp[variable]==variable_value].count()/data_supp[variable].count()\n",
      "<ipython-input-247-745742b61e16>:31: RuntimeWarning: invalid value encountered in long_scalars\n",
      "  new_row = [data_supp[variable][data_supp[variable]==variable_value].count()/data_supp[variable].count()\n",
      "<ipython-input-247-745742b61e16>:31: RuntimeWarning: invalid value encountered in long_scalars\n",
      "  new_row = [data_supp[variable][data_supp[variable]==variable_value].count()/data_supp[variable].count()\n",
      "<ipython-input-247-745742b61e16>:31: RuntimeWarning: invalid value encountered in long_scalars\n",
      "  new_row = [data_supp[variable][data_supp[variable]==variable_value].count()/data_supp[variable].count()\n",
      "<ipython-input-247-745742b61e16>:31: RuntimeWarning: invalid value encountered in long_scalars\n",
      "  new_row = [data_supp[variable][data_supp[variable]==variable_value].count()/data_supp[variable].count()\n",
      "<ipython-input-247-745742b61e16>:31: RuntimeWarning: invalid value encountered in long_scalars\n",
      "  new_row = [data_supp[variable][data_supp[variable]==variable_value].count()/data_supp[variable].count()\n",
      "<ipython-input-247-745742b61e16>:31: RuntimeWarning: invalid value encountered in long_scalars\n",
      "  new_row = [data_supp[variable][data_supp[variable]==variable_value].count()/data_supp[variable].count()\n",
      "<ipython-input-247-745742b61e16>:31: RuntimeWarning: invalid value encountered in long_scalars\n",
      "  new_row = [data_supp[variable][data_supp[variable]==variable_value].count()/data_supp[variable].count()\n",
      "<ipython-input-247-745742b61e16>:31: RuntimeWarning: invalid value encountered in long_scalars\n",
      "  new_row = [data_supp[variable][data_supp[variable]==variable_value].count()/data_supp[variable].count()\n",
      "<ipython-input-247-745742b61e16>:31: RuntimeWarning: invalid value encountered in long_scalars\n",
      "  new_row = [data_supp[variable][data_supp[variable]==variable_value].count()/data_supp[variable].count()\n",
      "<ipython-input-247-745742b61e16>:31: RuntimeWarning: invalid value encountered in long_scalars\n",
      "  new_row = [data_supp[variable][data_supp[variable]==variable_value].count()/data_supp[variable].count()\n"
     ]
    },
    {
     "data": {
      "text/html": [
       "<div>\n",
       "<style scoped>\n",
       "    .dataframe tbody tr th:only-of-type {\n",
       "        vertical-align: middle;\n",
       "    }\n",
       "\n",
       "    .dataframe tbody tr th {\n",
       "        vertical-align: top;\n",
       "    }\n",
       "\n",
       "    .dataframe thead th {\n",
       "        text-align: right;\n",
       "    }\n",
       "</style>\n",
       "<table border=\"1\" class=\"dataframe\">\n",
       "  <thead>\n",
       "    <tr style=\"text-align: right;\">\n",
       "      <th>JobSatisfaction</th>\n",
       "      <th>0</th>\n",
       "      <th>1</th>\n",
       "      <th>2</th>\n",
       "    </tr>\n",
       "    <tr>\n",
       "      <th>Evidences</th>\n",
       "      <th></th>\n",
       "      <th></th>\n",
       "      <th></th>\n",
       "    </tr>\n",
       "  </thead>\n",
       "  <tbody>\n",
       "    <tr>\n",
       "      <th>JobLevel==0  MonthlyIncome==0  WorkLifeBalance==0</th>\n",
       "      <td>0.364984</td>\n",
       "      <td>0.295005</td>\n",
       "      <td>0.340010</td>\n",
       "    </tr>\n",
       "    <tr>\n",
       "      <th>JobLevel==0  MonthlyIncome==0  WorkLifeBalance==1</th>\n",
       "      <td>0.368421</td>\n",
       "      <td>0.308804</td>\n",
       "      <td>0.322775</td>\n",
       "    </tr>\n",
       "    <tr>\n",
       "      <th>JobLevel==0  MonthlyIncome==0  WorkLifeBalance==2</th>\n",
       "      <td>0.399856</td>\n",
       "      <td>0.294329</td>\n",
       "      <td>0.305815</td>\n",
       "    </tr>\n",
       "    <tr>\n",
       "      <th>JobLevel==0  MonthlyIncome==1  WorkLifeBalance==0</th>\n",
       "      <td>0.168421</td>\n",
       "      <td>0.178947</td>\n",
       "      <td>0.652632</td>\n",
       "    </tr>\n",
       "    <tr>\n",
       "      <th>JobLevel==0  MonthlyIncome==1  WorkLifeBalance==1</th>\n",
       "      <td>0.558140</td>\n",
       "      <td>0.249169</td>\n",
       "      <td>0.192691</td>\n",
       "    </tr>\n",
       "    <tr>\n",
       "      <th>JobLevel==0  MonthlyIncome==1  WorkLifeBalance==2</th>\n",
       "      <td>0.342857</td>\n",
       "      <td>0.000000</td>\n",
       "      <td>0.657143</td>\n",
       "    </tr>\n",
       "    <tr>\n",
       "      <th>JobLevel==0  MonthlyIncome==2  WorkLifeBalance==0</th>\n",
       "      <td>0.331400</td>\n",
       "      <td>0.286673</td>\n",
       "      <td>0.381927</td>\n",
       "    </tr>\n",
       "    <tr>\n",
       "      <th>JobLevel==0  MonthlyIncome==2  WorkLifeBalance==1</th>\n",
       "      <td>0.545455</td>\n",
       "      <td>0.363636</td>\n",
       "      <td>0.090909</td>\n",
       "    </tr>\n",
       "    <tr>\n",
       "      <th>JobLevel==0  MonthlyIncome==2  WorkLifeBalance==2</th>\n",
       "      <td>1.000000</td>\n",
       "      <td>0.000000</td>\n",
       "      <td>0.000000</td>\n",
       "    </tr>\n",
       "    <tr>\n",
       "      <th>JobLevel==1  MonthlyIncome==0  WorkLifeBalance==0</th>\n",
       "      <td>0.250000</td>\n",
       "      <td>0.083333</td>\n",
       "      <td>0.666667</td>\n",
       "    </tr>\n",
       "    <tr>\n",
       "      <th>JobLevel==1  MonthlyIncome==0  WorkLifeBalance==1</th>\n",
       "      <td>0.455285</td>\n",
       "      <td>0.414634</td>\n",
       "      <td>0.130081</td>\n",
       "    </tr>\n",
       "    <tr>\n",
       "      <th>JobLevel==1  MonthlyIncome==0  WorkLifeBalance==2</th>\n",
       "      <td>0.000000</td>\n",
       "      <td>0.800000</td>\n",
       "      <td>0.200000</td>\n",
       "    </tr>\n",
       "    <tr>\n",
       "      <th>JobLevel==1  MonthlyIncome==1  WorkLifeBalance==0</th>\n",
       "      <td>0.411150</td>\n",
       "      <td>0.277584</td>\n",
       "      <td>0.311266</td>\n",
       "    </tr>\n",
       "    <tr>\n",
       "      <th>JobLevel==1  MonthlyIncome==1  WorkLifeBalance==1</th>\n",
       "      <td>0.423333</td>\n",
       "      <td>0.275000</td>\n",
       "      <td>0.301667</td>\n",
       "    </tr>\n",
       "    <tr>\n",
       "      <th>JobLevel==1  MonthlyIncome==1  WorkLifeBalance==2</th>\n",
       "      <td>0.343023</td>\n",
       "      <td>0.415698</td>\n",
       "      <td>0.241279</td>\n",
       "    </tr>\n",
       "    <tr>\n",
       "      <th>JobLevel==1  MonthlyIncome==2  WorkLifeBalance==0</th>\n",
       "      <td>0.299703</td>\n",
       "      <td>0.255193</td>\n",
       "      <td>0.445104</td>\n",
       "    </tr>\n",
       "    <tr>\n",
       "      <th>JobLevel==1  MonthlyIncome==2  WorkLifeBalance==1</th>\n",
       "      <td>0.402490</td>\n",
       "      <td>0.283541</td>\n",
       "      <td>0.313970</td>\n",
       "    </tr>\n",
       "    <tr>\n",
       "      <th>JobLevel==1  MonthlyIncome==2  WorkLifeBalance==2</th>\n",
       "      <td>0.492857</td>\n",
       "      <td>0.185714</td>\n",
       "      <td>0.321429</td>\n",
       "    </tr>\n",
       "    <tr>\n",
       "      <th>JobLevel==2  MonthlyIncome==0  WorkLifeBalance==0</th>\n",
       "      <td>0.250000</td>\n",
       "      <td>0.750000</td>\n",
       "      <td>0.000000</td>\n",
       "    </tr>\n",
       "    <tr>\n",
       "      <th>JobLevel==2  MonthlyIncome==0  WorkLifeBalance==1</th>\n",
       "      <td>0.000000</td>\n",
       "      <td>1.000000</td>\n",
       "      <td>0.000000</td>\n",
       "    </tr>\n",
       "    <tr>\n",
       "      <th>JobLevel==2  MonthlyIncome==0  WorkLifeBalance==2</th>\n",
       "      <td>1.000000</td>\n",
       "      <td>0.000000</td>\n",
       "      <td>0.000000</td>\n",
       "    </tr>\n",
       "    <tr>\n",
       "      <th>JobLevel==2  MonthlyIncome==1  WorkLifeBalance==0</th>\n",
       "      <td>0.331400</td>\n",
       "      <td>0.286673</td>\n",
       "      <td>0.381927</td>\n",
       "    </tr>\n",
       "    <tr>\n",
       "      <th>JobLevel==2  MonthlyIncome==1  WorkLifeBalance==1</th>\n",
       "      <td>0.331400</td>\n",
       "      <td>0.286673</td>\n",
       "      <td>0.381927</td>\n",
       "    </tr>\n",
       "    <tr>\n",
       "      <th>JobLevel==2  MonthlyIncome==1  WorkLifeBalance==2</th>\n",
       "      <td>0.331400</td>\n",
       "      <td>0.286673</td>\n",
       "      <td>0.381927</td>\n",
       "    </tr>\n",
       "    <tr>\n",
       "      <th>JobLevel==2  MonthlyIncome==2  WorkLifeBalance==0</th>\n",
       "      <td>0.472441</td>\n",
       "      <td>0.212598</td>\n",
       "      <td>0.314961</td>\n",
       "    </tr>\n",
       "    <tr>\n",
       "      <th>JobLevel==2  MonthlyIncome==2  WorkLifeBalance==1</th>\n",
       "      <td>0.399376</td>\n",
       "      <td>0.372855</td>\n",
       "      <td>0.227769</td>\n",
       "    </tr>\n",
       "    <tr>\n",
       "      <th>JobLevel==2  MonthlyIncome==2  WorkLifeBalance==2</th>\n",
       "      <td>0.000000</td>\n",
       "      <td>0.724138</td>\n",
       "      <td>0.275862</td>\n",
       "    </tr>\n",
       "  </tbody>\n",
       "</table>\n",
       "</div>"
      ],
      "text/plain": [
       "JobSatisfaction                                            0         1  \\\n",
       "Evidences                                                                \n",
       " JobLevel==0  MonthlyIncome==0  WorkLifeBalance...  0.364984  0.295005   \n",
       " JobLevel==0  MonthlyIncome==0  WorkLifeBalance...  0.368421  0.308804   \n",
       " JobLevel==0  MonthlyIncome==0  WorkLifeBalance...  0.399856  0.294329   \n",
       " JobLevel==0  MonthlyIncome==1  WorkLifeBalance...  0.168421  0.178947   \n",
       " JobLevel==0  MonthlyIncome==1  WorkLifeBalance...  0.558140  0.249169   \n",
       " JobLevel==0  MonthlyIncome==1  WorkLifeBalance...  0.342857  0.000000   \n",
       " JobLevel==0  MonthlyIncome==2  WorkLifeBalance...  0.331400  0.286673   \n",
       " JobLevel==0  MonthlyIncome==2  WorkLifeBalance...  0.545455  0.363636   \n",
       " JobLevel==0  MonthlyIncome==2  WorkLifeBalance...  1.000000  0.000000   \n",
       " JobLevel==1  MonthlyIncome==0  WorkLifeBalance...  0.250000  0.083333   \n",
       " JobLevel==1  MonthlyIncome==0  WorkLifeBalance...  0.455285  0.414634   \n",
       " JobLevel==1  MonthlyIncome==0  WorkLifeBalance...  0.000000  0.800000   \n",
       " JobLevel==1  MonthlyIncome==1  WorkLifeBalance...  0.411150  0.277584   \n",
       " JobLevel==1  MonthlyIncome==1  WorkLifeBalance...  0.423333  0.275000   \n",
       " JobLevel==1  MonthlyIncome==1  WorkLifeBalance...  0.343023  0.415698   \n",
       " JobLevel==1  MonthlyIncome==2  WorkLifeBalance...  0.299703  0.255193   \n",
       " JobLevel==1  MonthlyIncome==2  WorkLifeBalance...  0.402490  0.283541   \n",
       " JobLevel==1  MonthlyIncome==2  WorkLifeBalance...  0.492857  0.185714   \n",
       " JobLevel==2  MonthlyIncome==0  WorkLifeBalance...  0.250000  0.750000   \n",
       " JobLevel==2  MonthlyIncome==0  WorkLifeBalance...  0.000000  1.000000   \n",
       " JobLevel==2  MonthlyIncome==0  WorkLifeBalance...  1.000000  0.000000   \n",
       " JobLevel==2  MonthlyIncome==1  WorkLifeBalance...  0.331400  0.286673   \n",
       " JobLevel==2  MonthlyIncome==1  WorkLifeBalance...  0.331400  0.286673   \n",
       " JobLevel==2  MonthlyIncome==1  WorkLifeBalance...  0.331400  0.286673   \n",
       " JobLevel==2  MonthlyIncome==2  WorkLifeBalance...  0.472441  0.212598   \n",
       " JobLevel==2  MonthlyIncome==2  WorkLifeBalance...  0.399376  0.372855   \n",
       " JobLevel==2  MonthlyIncome==2  WorkLifeBalance...  0.000000  0.724138   \n",
       "\n",
       "JobSatisfaction                                            2  \n",
       "Evidences                                                     \n",
       " JobLevel==0  MonthlyIncome==0  WorkLifeBalance...  0.340010  \n",
       " JobLevel==0  MonthlyIncome==0  WorkLifeBalance...  0.322775  \n",
       " JobLevel==0  MonthlyIncome==0  WorkLifeBalance...  0.305815  \n",
       " JobLevel==0  MonthlyIncome==1  WorkLifeBalance...  0.652632  \n",
       " JobLevel==0  MonthlyIncome==1  WorkLifeBalance...  0.192691  \n",
       " JobLevel==0  MonthlyIncome==1  WorkLifeBalance...  0.657143  \n",
       " JobLevel==0  MonthlyIncome==2  WorkLifeBalance...  0.381927  \n",
       " JobLevel==0  MonthlyIncome==2  WorkLifeBalance...  0.090909  \n",
       " JobLevel==0  MonthlyIncome==2  WorkLifeBalance...  0.000000  \n",
       " JobLevel==1  MonthlyIncome==0  WorkLifeBalance...  0.666667  \n",
       " JobLevel==1  MonthlyIncome==0  WorkLifeBalance...  0.130081  \n",
       " JobLevel==1  MonthlyIncome==0  WorkLifeBalance...  0.200000  \n",
       " JobLevel==1  MonthlyIncome==1  WorkLifeBalance...  0.311266  \n",
       " JobLevel==1  MonthlyIncome==1  WorkLifeBalance...  0.301667  \n",
       " JobLevel==1  MonthlyIncome==1  WorkLifeBalance...  0.241279  \n",
       " JobLevel==1  MonthlyIncome==2  WorkLifeBalance...  0.445104  \n",
       " JobLevel==1  MonthlyIncome==2  WorkLifeBalance...  0.313970  \n",
       " JobLevel==1  MonthlyIncome==2  WorkLifeBalance...  0.321429  \n",
       " JobLevel==2  MonthlyIncome==0  WorkLifeBalance...  0.000000  \n",
       " JobLevel==2  MonthlyIncome==0  WorkLifeBalance...  0.000000  \n",
       " JobLevel==2  MonthlyIncome==0  WorkLifeBalance...  0.000000  \n",
       " JobLevel==2  MonthlyIncome==1  WorkLifeBalance...  0.381927  \n",
       " JobLevel==2  MonthlyIncome==1  WorkLifeBalance...  0.381927  \n",
       " JobLevel==2  MonthlyIncome==1  WorkLifeBalance...  0.381927  \n",
       " JobLevel==2  MonthlyIncome==2  WorkLifeBalance...  0.314961  \n",
       " JobLevel==2  MonthlyIncome==2  WorkLifeBalance...  0.227769  \n",
       " JobLevel==2  MonthlyIncome==2  WorkLifeBalance...  0.275862  "
      ]
     },
     "execution_count": 253,
     "metadata": {},
     "output_type": "execute_result"
    }
   ],
   "source": [
    "cpd = compute_cpd(data=df, variable='JobSatisfaction', evidences=['JobLevel', 'MonthlyIncome','WorkLifeBalance'])\n",
    "cpd"
   ]
  },
  {
   "cell_type": "code",
   "execution_count": 254,
   "id": "0742c819",
   "metadata": {},
   "outputs": [
    {
     "name": "stdout",
     "output_type": "stream",
     "text": [
      "1.0\n",
      "0.9999999999999999\n",
      "1.0\n",
      "1.0\n",
      "1.0\n",
      "1.0\n",
      "1.0\n",
      "1.0\n",
      "1.0\n",
      "1.0\n",
      "1.0\n",
      "1.0\n",
      "1.0\n",
      "1.0\n",
      "1.0\n",
      "1.0\n",
      "1.0\n",
      "1.0\n",
      "1.0\n",
      "1.0\n",
      "1.0\n",
      "1.0\n",
      "1.0\n",
      "1.0\n",
      "1.0\n",
      "1.0\n",
      "1.0\n"
     ]
    }
   ],
   "source": [
    "for row in range(cpd.shape[0]):\n",
    "    print(cpd.iloc[row].sum())"
   ]
  },
  {
   "cell_type": "code",
   "execution_count": 256,
   "id": "6ba024e4",
   "metadata": {},
   "outputs": [
    {
     "name": "stdout",
     "output_type": "stream",
     "text": [
      "Collecting pgmpy\n",
      "  Downloading pgmpy-0.1.19-py3-none-any.whl (1.9 MB)\n",
      "     ---------------------------------------- 1.9/1.9 MB 3.2 MB/s eta 0:00:00\n",
      "Requirement already satisfied: pandas in c:\\users\\pitti\\anaconda3\\lib\\site-packages (from pgmpy) (1.2.4)\n",
      "Requirement already satisfied: scipy in c:\\users\\pitti\\anaconda3\\lib\\site-packages (from pgmpy) (1.6.2)\n",
      "Requirement already satisfied: tqdm in c:\\users\\pitti\\anaconda3\\lib\\site-packages (from pgmpy) (4.59.0)\n",
      "Collecting torch\n",
      "  Downloading torch-1.12.0-cp38-cp38-win_amd64.whl (161.9 MB)\n",
      "     -------------------------------------- 161.9/161.9 MB 2.8 MB/s eta 0:00:00\n",
      "Requirement already satisfied: scikit-learn in c:\\users\\pitti\\anaconda3\\lib\\site-packages (from pgmpy) (0.24.1)\n",
      "Requirement already satisfied: networkx in c:\\users\\pitti\\anaconda3\\lib\\site-packages (from pgmpy) (2.5)\n",
      "Requirement already satisfied: pyparsing in c:\\users\\pitti\\anaconda3\\lib\\site-packages (from pgmpy) (2.4.7)\n",
      "Requirement already satisfied: joblib in c:\\users\\pitti\\anaconda3\\lib\\site-packages (from pgmpy) (1.0.1)\n",
      "Requirement already satisfied: statsmodels in c:\\users\\pitti\\anaconda3\\lib\\site-packages (from pgmpy) (0.12.2)\n",
      "Requirement already satisfied: numpy in c:\\users\\pitti\\anaconda3\\lib\\site-packages (from pgmpy) (1.20.1)\n",
      "Requirement already satisfied: decorator>=4.3.0 in c:\\users\\pitti\\anaconda3\\lib\\site-packages (from networkx->pgmpy) (5.0.6)\n",
      "Requirement already satisfied: python-dateutil>=2.7.3 in c:\\users\\pitti\\anaconda3\\lib\\site-packages (from pandas->pgmpy) (2.8.1)\n",
      "Requirement already satisfied: pytz>=2017.3 in c:\\users\\pitti\\anaconda3\\lib\\site-packages (from pandas->pgmpy) (2021.1)\n",
      "Requirement already satisfied: threadpoolctl>=2.0.0 in c:\\users\\pitti\\anaconda3\\lib\\site-packages (from scikit-learn->pgmpy) (2.1.0)\n",
      "Requirement already satisfied: patsy>=0.5 in c:\\users\\pitti\\anaconda3\\lib\\site-packages (from statsmodels->pgmpy) (0.5.1)\n",
      "Requirement already satisfied: typing-extensions in c:\\users\\pitti\\anaconda3\\lib\\site-packages (from torch->pgmpy) (3.7.4.3)\n",
      "Requirement already satisfied: six in c:\\users\\pitti\\anaconda3\\lib\\site-packages (from patsy>=0.5->statsmodels->pgmpy) (1.15.0)\n",
      "Installing collected packages: torch, pgmpy\n",
      "Successfully installed pgmpy-0.1.19 torch-1.12.0\n"
     ]
    },
    {
     "name": "stderr",
     "output_type": "stream",
     "text": [
      "WARNING: You are using pip version 22.0.3; however, version 22.1.2 is available.\n",
      "You should consider upgrading via the 'c:\\users\\pitti\\anaconda3\\python.exe -m pip install --upgrade pip' command.\n"
     ]
    }
   ],
   "source": [
    "!pip install pgmpy"
   ]
  },
  {
   "cell_type": "code",
   "execution_count": 360,
   "id": "75ff3130",
   "metadata": {},
   "outputs": [],
   "source": [
    "from pgmpy.models import BayesianNetwork\n",
    "\n",
    "job_satisfaction_model = BayesianNetwork(\n",
    "    [\n",
    "        ('Age', 'JobLevel'),\n",
    "        ('Education', 'JobLevel'),\n",
    "        ('Gender', 'JobLevel'),\n",
    "        ('Department', 'MonthlyIncome'),\n",
    "        ('JobLevel', 'MonthlyIncome'),\n",
    "        ('Department', 'WorkLifeBalance'),\n",
    "        ('JobLevel', 'WorkLifeBalance'),\n",
    "        ('JobLevel', 'JobSatisfaction'),\n",
    "        ('MonthlyIncome', 'JobSatisfaction'),\n",
    "        ('WorkLifeBalance', 'JobSatisfaction'),\n",
    "    ]\n",
    ")"
   ]
  },
  {
   "cell_type": "code",
   "execution_count": 363,
   "id": "cf25e876",
   "metadata": {},
   "outputs": [
    {
     "name": "stdout",
     "output_type": "stream",
     "text": [
      "<class 'pandas.core.frame.DataFrame'>\n",
      "RangeIndex: 19478 entries, 0 to 19477\n",
      "Data columns (total 8 columns):\n",
      " #   Column           Non-Null Count  Dtype\n",
      "---  ------           --------------  -----\n",
      " 0   Age              19478 non-null  int64\n",
      " 1   Department       19478 non-null  int64\n",
      " 2   Education        19478 non-null  int64\n",
      " 3   Gender           19478 non-null  int64\n",
      " 4   JobLevel         19478 non-null  int64\n",
      " 5   MonthlyIncome    19478 non-null  int64\n",
      " 6   WorkLifeBalance  19478 non-null  int64\n",
      " 7   JobSatisfaction  19478 non-null  int64\n",
      "dtypes: int64(8)\n",
      "memory usage: 1.2 MB\n"
     ]
    }
   ],
   "source": [
    "df.info()"
   ]
  },
  {
   "cell_type": "code",
   "execution_count": 368,
   "id": "23f47025",
   "metadata": {},
   "outputs": [],
   "source": [
    "from pgmpy.estimators import BayesianEstimator"
   ]
  },
  {
   "cell_type": "code",
   "execution_count": 369,
   "id": "6653a86e",
   "metadata": {},
   "outputs": [],
   "source": [
    "job_satisfaction_model.fit(data=df, estimator=BayesianEstimator)"
   ]
  },
  {
   "cell_type": "code",
   "execution_count": 370,
   "id": "c6202726",
   "metadata": {},
   "outputs": [
    {
     "name": "stdout",
     "output_type": "stream",
     "text": [
      "+-------------+----------------------+-----+---------------------+-----------------------+\n",
      "| Age         | Age(0)               | ... | Age(2)              | Age(2)                |\n",
      "+-------------+----------------------+-----+---------------------+-----------------------+\n",
      "| Education   | Education(0)         | ... | Education(2)        | Education(2)          |\n",
      "+-------------+----------------------+-----+---------------------+-----------------------+\n",
      "| Gender      | Gender(0)            | ... | Gender(0)           | Gender(1)             |\n",
      "+-------------+----------------------+-----+---------------------+-----------------------+\n",
      "| JobLevel(0) | 0.8201173965722083   | ... | 0.4994232987312572  | 0.407623209516873     |\n",
      "+-------------+----------------------+-----+---------------------+-----------------------+\n",
      "| JobLevel(1) | 0.15949700626977684  | ... | 0.3125720876585928  | 0.5911629036173829    |\n",
      "+-------------+----------------------+-----+---------------------+-----------------------+\n",
      "| JobLevel(2) | 0.020385597158014846 | ... | 0.18800461361014995 | 0.0012138868657441124 |\n",
      "+-------------+----------------------+-----+---------------------+-----------------------+\n"
     ]
    }
   ],
   "source": [
    "print(str(job_satisfaction_model.get_cpds('JobLevel')))"
   ]
  },
  {
   "cell_type": "code",
   "execution_count": 371,
   "id": "706be212",
   "metadata": {},
   "outputs": [],
   "source": [
    "cpd = job_satisfaction_model.get_cpds('JobLevel')"
   ]
  },
  {
   "cell_type": "code",
   "execution_count": 372,
   "id": "d8631435",
   "metadata": {},
   "outputs": [
    {
     "data": {
      "text/plain": [
       "array([[8.20117397e-01, 1.59497006e-01, 2.03855972e-02],\n",
       "       [7.91664170e-01, 1.73726360e-01, 3.46094702e-02],\n",
       "       [8.38273600e-01, 1.17339055e-01, 4.43873451e-02],\n",
       "       [7.86968678e-01, 1.96964426e-01, 1.60668960e-02],\n",
       "       [9.97437868e-01, 1.28106585e-03, 1.28106585e-03],\n",
       "       [6.62852784e-01, 3.33333333e-01, 3.81388253e-03],\n",
       "       [7.12240499e-01, 2.11118184e-01, 7.66413169e-02],\n",
       "       [7.54730825e-01, 2.00955550e-01, 4.43136251e-02],\n",
       "       [7.38507672e-01, 2.19629216e-01, 4.18631120e-02],\n",
       "       [6.89812398e-01, 2.68803731e-01, 4.13838711e-02],\n",
       "       [6.96925448e-01, 3.02668938e-01, 4.05613694e-04],\n",
       "       [5.92412544e-01, 3.65932704e-01, 4.16547517e-02],\n",
       "       [5.80088611e-01, 3.04248111e-01, 1.15663279e-01],\n",
       "       [6.32757518e-01, 3.11186574e-01, 5.60559083e-02],\n",
       "       [5.80260110e-01, 2.98304760e-01, 1.21435130e-01],\n",
       "       [5.49278952e-01, 3.55781560e-01, 9.49394882e-02],\n",
       "       [4.99423299e-01, 3.12572088e-01, 1.88004614e-01],\n",
       "       [4.07623210e-01, 5.91162904e-01, 1.21388687e-03]])"
      ]
     },
     "execution_count": 372,
     "metadata": {},
     "output_type": "execute_result"
    }
   ],
   "source": [
    "cpd.get_values().T"
   ]
  },
  {
   "cell_type": "code",
   "execution_count": 373,
   "id": "61cbde90",
   "metadata": {},
   "outputs": [
    {
     "name": "stdout",
     "output_type": "stream",
     "text": [
      "{0: 0.6855860415910602, 1: 0.26243675744435835, 2: 0.05197720096458147}\n"
     ]
    },
    {
     "data": {
      "text/plain": [
       "array([[0.8202033 , 0.15946633, 0.02033037],\n",
       "       [0.79180151, 0.17367853, 0.03451996],\n",
       "       [0.83834049, 0.11731044, 0.04434907],\n",
       "       [0.78705637, 0.19693807, 0.01600557],\n",
       "       [1.        , 0.        , 0.        ],\n",
       "       [0.66666667, 0.33333333, 0.        ],\n",
       "       [0.71230398, 0.21109771, 0.07659831],\n",
       "       [0.75483871, 0.20092166, 0.04423963],\n",
       "       [0.73853428, 0.21962175, 0.04184397],\n",
       "       [0.68984962, 0.26879699, 0.04135338],\n",
       "       [0.69736842, 0.30263158, 0.        ],\n",
       "       [0.59278351, 0.36597938, 0.04123711],\n",
       "       [0.58028169, 0.30422535, 0.11549296],\n",
       "       [0.63297872, 0.31117021, 0.05585106],\n",
       "       [0.58031088, 0.29829756, 0.12139156],\n",
       "       [0.54933586, 0.35578748, 0.09487666],\n",
       "       [0.5       , 0.3125    , 0.1875    ],\n",
       "       [0.40789474, 0.59210526, 0.        ]])"
      ]
     },
     "execution_count": 373,
     "metadata": {},
     "output_type": "execute_result"
    }
   ],
   "source": [
    "compute_cpd(data=df, variable='JobLevel', evidences=['Age', 'Education','Gender']).values"
   ]
  },
  {
   "cell_type": "code",
   "execution_count": 374,
   "id": "06a92fc5",
   "metadata": {},
   "outputs": [
    {
     "data": {
      "text/plain": [
       "True"
      ]
     },
     "execution_count": 374,
     "metadata": {},
     "output_type": "execute_result"
    }
   ],
   "source": [
    "job_satisfaction_model.check_model()"
   ]
  },
  {
   "cell_type": "code",
   "execution_count": 375,
   "id": "6ea5e3ce",
   "metadata": {},
   "outputs": [],
   "source": [
    "from pgmpy.inference import VariableElimination"
   ]
  },
  {
   "cell_type": "code",
   "execution_count": 376,
   "id": "a7caa6eb",
   "metadata": {},
   "outputs": [],
   "source": [
    "job_satisfaction_inference = VariableElimination(job_satisfaction_model)"
   ]
  },
  {
   "cell_type": "code",
   "execution_count": 377,
   "id": "7316d813",
   "metadata": {},
   "outputs": [
    {
     "data": {
      "application/vnd.jupyter.widget-view+json": {
       "model_id": "80825133cd014562ba7c5afac7004a88",
       "version_major": 2,
       "version_minor": 0
      },
      "text/plain": [
       "  0%|          | 0/7 [00:00<?, ?it/s]"
      ]
     },
     "metadata": {},
     "output_type": "display_data"
    },
    {
     "data": {
      "application/vnd.jupyter.widget-view+json": {
       "model_id": "667d68471ac049d4bd316eff6d189857",
       "version_major": 2,
       "version_minor": 0
      },
      "text/plain": [
       "  0%|          | 0/7 [00:00<?, ?it/s]"
      ]
     },
     "metadata": {},
     "output_type": "display_data"
    },
    {
     "name": "stdout",
     "output_type": "stream",
     "text": [
      "+--------------------+------------------------+\n",
      "| JobSatisfaction    |   phi(JobSatisfaction) |\n",
      "+====================+========================+\n",
      "| JobSatisfaction(0) |                 0.3798 |\n",
      "+--------------------+------------------------+\n",
      "| JobSatisfaction(1) |                 0.6202 |\n",
      "+--------------------+------------------------+\n"
     ]
    }
   ],
   "source": [
    "print(job_satisfaction_inference.query(['JobSatisfaction']))"
   ]
  },
  {
   "cell_type": "code",
   "execution_count": 393,
   "id": "1857be1d",
   "metadata": {},
   "outputs": [
    {
     "data": {
      "application/vnd.jupyter.widget-view+json": {
       "model_id": "1c6a05552c544d12a3f09bd964b349c3",
       "version_major": 2,
       "version_minor": 0
      },
      "text/plain": [
       "  0%|          | 0/3 [00:00<?, ?it/s]"
      ]
     },
     "metadata": {},
     "output_type": "display_data"
    },
    {
     "data": {
      "application/vnd.jupyter.widget-view+json": {
       "model_id": "f7fc54afa96f4e69b2863398bd2579b5",
       "version_major": 2,
       "version_minor": 0
      },
      "text/plain": [
       "  0%|          | 0/3 [00:00<?, ?it/s]"
      ]
     },
     "metadata": {},
     "output_type": "display_data"
    },
    {
     "name": "stdout",
     "output_type": "stream",
     "text": [
      "+--------------------+------------------------+\n",
      "| JobSatisfaction    |   phi(JobSatisfaction) |\n",
      "+====================+========================+\n",
      "| JobSatisfaction(0) |                 0.4020 |\n",
      "+--------------------+------------------------+\n",
      "| JobSatisfaction(1) |                 0.5980 |\n",
      "+--------------------+------------------------+\n"
     ]
    }
   ],
   "source": [
    "# Middle job level\n",
    "print(job_satisfaction_inference.query(['JobSatisfaction'],{'JobLevel':1}))"
   ]
  },
  {
   "cell_type": "code",
   "execution_count": 409,
   "id": "726bec21",
   "metadata": {},
   "outputs": [
    {
     "data": {
      "application/vnd.jupyter.widget-view+json": {
       "model_id": "b720b1daa0ab4bc6a83e3f61ccbf5e8a",
       "version_major": 2,
       "version_minor": 0
      },
      "text/plain": [
       "  0%|          | 0/2 [00:00<?, ?it/s]"
      ]
     },
     "metadata": {},
     "output_type": "display_data"
    },
    {
     "data": {
      "application/vnd.jupyter.widget-view+json": {
       "model_id": "fd6e51d10eb140a18052d139672b31ae",
       "version_major": 2,
       "version_minor": 0
      },
      "text/plain": [
       "  0%|          | 0/2 [00:00<?, ?it/s]"
      ]
     },
     "metadata": {},
     "output_type": "display_data"
    },
    {
     "name": "stdout",
     "output_type": "stream",
     "text": [
      "+--------------------+------------------------+\n",
      "| JobSatisfaction    |   phi(JobSatisfaction) |\n",
      "+====================+========================+\n",
      "| JobSatisfaction(0) |                 0.3575 |\n",
      "+--------------------+------------------------+\n",
      "| JobSatisfaction(1) |                 0.6425 |\n",
      "+--------------------+------------------------+\n"
     ]
    }
   ],
   "source": [
    "# Modest job with modest education with hard-work\n",
    "print(job_satisfaction_inference.query(['JobSatisfaction'],{'WorkLifeBalance':0, 'Education':0, 'JobLevel':0}))"
   ]
  },
  {
   "cell_type": "code",
   "execution_count": 412,
   "id": "d24b088f",
   "metadata": {},
   "outputs": [
    {
     "data": {
      "application/vnd.jupyter.widget-view+json": {
       "model_id": "99ee9c009ee846d69b0cc3d9ab0682b0",
       "version_major": 2,
       "version_minor": 0
      },
      "text/plain": [
       "0it [00:00, ?it/s]"
      ]
     },
     "metadata": {},
     "output_type": "display_data"
    },
    {
     "data": {
      "application/vnd.jupyter.widget-view+json": {
       "model_id": "5caaacaf539947e1b9d9f7d6ea5e9b8f",
       "version_major": 2,
       "version_minor": 0
      },
      "text/plain": [
       "0it [00:00, ?it/s]"
      ]
     },
     "metadata": {},
     "output_type": "display_data"
    },
    {
     "name": "stdout",
     "output_type": "stream",
     "text": [
      "+--------------------+------------------------+\n",
      "| JobSatisfaction    |   phi(JobSatisfaction) |\n",
      "+====================+========================+\n",
      "| JobSatisfaction(0) |                 0.1689 |\n",
      "+--------------------+------------------------+\n",
      "| JobSatisfaction(1) |                 0.8311 |\n",
      "+--------------------+------------------------+\n"
     ]
    }
   ],
   "source": [
    "# Modest job with modest education with hard-work, plus middle salary\n",
    "print(job_satisfaction_inference.query(['JobSatisfaction'],{'WorkLifeBalance':0, 'Education':0, 'JobLevel':0, 'MonthlyIncome':1}))"
   ]
  },
  {
   "cell_type": "code",
   "execution_count": 415,
   "id": "eac3abd8",
   "metadata": {},
   "outputs": [
    {
     "data": {
      "application/vnd.jupyter.widget-view+json": {
       "model_id": "55e53e787f474ac1bc0f513ee6fb7c91",
       "version_major": 2,
       "version_minor": 0
      },
      "text/plain": [
       "0it [00:00, ?it/s]"
      ]
     },
     "metadata": {},
     "output_type": "display_data"
    },
    {
     "data": {
      "application/vnd.jupyter.widget-view+json": {
       "model_id": "e49e7683f16e45e59e46ddd8a79b6902",
       "version_major": 2,
       "version_minor": 0
      },
      "text/plain": [
       "0it [00:00, ?it/s]"
      ]
     },
     "metadata": {},
     "output_type": "display_data"
    },
    {
     "name": "stdout",
     "output_type": "stream",
     "text": [
      "+--------------------+------------------------+\n",
      "| JobSatisfaction    |   phi(JobSatisfaction) |\n",
      "+====================+========================+\n",
      "| JobSatisfaction(0) |                 0.5000 |\n",
      "+--------------------+------------------------+\n",
      "| JobSatisfaction(1) |                 0.5000 |\n",
      "+--------------------+------------------------+\n"
     ]
    }
   ],
   "source": [
    "# Same of before, but high salary\n",
    "print(job_satisfaction_inference.query(['JobSatisfaction'],{'WorkLifeBalance':0, 'Education':0, 'JobLevel':0, 'MonthlyIncome':2}))"
   ]
  },
  {
   "cell_type": "code",
   "execution_count": 421,
   "id": "dcc8a8e5",
   "metadata": {},
   "outputs": [
    {
     "data": {
      "application/vnd.jupyter.widget-view+json": {
       "model_id": "114f0fdc4ac94686b47e1dbbf6656cb0",
       "version_major": 2,
       "version_minor": 0
      },
      "text/plain": [
       "  0%|          | 0/2 [00:00<?, ?it/s]"
      ]
     },
     "metadata": {},
     "output_type": "display_data"
    },
    {
     "data": {
      "application/vnd.jupyter.widget-view+json": {
       "model_id": "61a9e2e4511e4e1c97341dac1b4d8489",
       "version_major": 2,
       "version_minor": 0
      },
      "text/plain": [
       "  0%|          | 0/2 [00:00<?, ?it/s]"
      ]
     },
     "metadata": {},
     "output_type": "display_data"
    },
    {
     "name": "stdout",
     "output_type": "stream",
     "text": [
      "+--------------------+------------------------+\n",
      "| JobSatisfaction    |   phi(JobSatisfaction) |\n",
      "+====================+========================+\n",
      "| JobSatisfaction(0) |                 0.3506 |\n",
      "+--------------------+------------------------+\n",
      "| JobSatisfaction(1) |                 0.6494 |\n",
      "+--------------------+------------------------+\n"
     ]
    }
   ],
   "source": [
    "# High job, with high work-life balance\n",
    "print(job_satisfaction_inference.query(['JobSatisfaction'],{'WorkLifeBalance':1, 'JobLevel':2}))"
   ]
  },
  {
   "cell_type": "code",
   "execution_count": 431,
   "id": "6861d7ef",
   "metadata": {},
   "outputs": [
    {
     "data": {
      "application/vnd.jupyter.widget-view+json": {
       "model_id": "b4090d9c835d446c9e013d8f416e53d1",
       "version_major": 2,
       "version_minor": 0
      },
      "text/plain": [
       "0it [00:00, ?it/s]"
      ]
     },
     "metadata": {},
     "output_type": "display_data"
    },
    {
     "data": {
      "application/vnd.jupyter.widget-view+json": {
       "model_id": "2d5404993c414bf5a765c2fb2fb3d0ab",
       "version_major": 2,
       "version_minor": 0
      },
      "text/plain": [
       "0it [00:00, ?it/s]"
      ]
     },
     "metadata": {},
     "output_type": "display_data"
    },
    {
     "name": "stdout",
     "output_type": "stream",
     "text": [
      "+--------------------+------------------------+\n",
      "| JobSatisfaction    |   phi(JobSatisfaction) |\n",
      "+====================+========================+\n",
      "| JobSatisfaction(0) |                 0.2158 |\n",
      "+--------------------+------------------------+\n",
      "| JobSatisfaction(1) |                 0.7842 |\n",
      "+--------------------+------------------------+\n"
     ]
    }
   ],
   "source": [
    "# Same as before, plus middle salary\n",
    "print(job_satisfaction_inference.query(['JobSatisfaction'],{'JobLevel':2, 'WorkLifeBalance':1, 'MonthlyIncome':0}))"
   ]
  },
  {
   "cell_type": "code",
   "execution_count": 447,
   "id": "1b757bf9",
   "metadata": {},
   "outputs": [
    {
     "data": {
      "application/vnd.jupyter.widget-view+json": {
       "model_id": "40aee897a8b1490d8c270aa70f99e140",
       "version_major": 2,
       "version_minor": 0
      },
      "text/plain": [
       "  0%|          | 0/6 [00:00<?, ?it/s]"
      ]
     },
     "metadata": {},
     "output_type": "display_data"
    },
    {
     "data": {
      "application/vnd.jupyter.widget-view+json": {
       "model_id": "95ca2847083a49969b0e5e937e19604f",
       "version_major": 2,
       "version_minor": 0
      },
      "text/plain": [
       "  0%|          | 0/6 [00:00<?, ?it/s]"
      ]
     },
     "metadata": {},
     "output_type": "display_data"
    },
    {
     "name": "stdout",
     "output_type": "stream",
     "text": [
      "+--------------------+------------------------+\n",
      "| JobSatisfaction    |   phi(JobSatisfaction) |\n",
      "+====================+========================+\n",
      "| JobSatisfaction(0) |                 0.4124 |\n",
      "+--------------------+------------------------+\n",
      "| JobSatisfaction(1) |                 0.5876 |\n",
      "+--------------------+------------------------+\n"
     ]
    }
   ],
   "source": [
    "print(job_satisfaction_inference.query(['JobSatisfaction'],{'MonthlyIncome':1}))"
   ]
  },
  {
   "cell_type": "code",
   "execution_count": 452,
   "id": "d47eb25a",
   "metadata": {},
   "outputs": [
    {
     "data": {
      "application/vnd.jupyter.widget-view+json": {
       "model_id": "ce8fd7ab61804a4893c6ea5dfd40cf7e",
       "version_major": 2,
       "version_minor": 0
      },
      "text/plain": [
       "  0%|          | 0/5 [00:00<?, ?it/s]"
      ]
     },
     "metadata": {},
     "output_type": "display_data"
    },
    {
     "data": {
      "application/vnd.jupyter.widget-view+json": {
       "model_id": "984cf1216a75441984e7ad6ac663e3ad",
       "version_major": 2,
       "version_minor": 0
      },
      "text/plain": [
       "  0%|          | 0/5 [00:00<?, ?it/s]"
      ]
     },
     "metadata": {},
     "output_type": "display_data"
    },
    {
     "name": "stdout",
     "output_type": "stream",
     "text": [
      "+--------------------+------------------------+\n",
      "| JobSatisfaction    |   phi(JobSatisfaction) |\n",
      "+====================+========================+\n",
      "| JobSatisfaction(0) |                 0.4154 |\n",
      "+--------------------+------------------------+\n",
      "| JobSatisfaction(1) |                 0.5846 |\n",
      "+--------------------+------------------------+\n"
     ]
    }
   ],
   "source": [
    "print(job_satisfaction_inference.query(['JobSatisfaction'],{'MonthlyIncome':1, 'Department':2}))"
   ]
  },
  {
   "cell_type": "code",
   "execution_count": 455,
   "id": "e8caaafc",
   "metadata": {},
   "outputs": [
    {
     "data": {
      "application/vnd.jupyter.widget-view+json": {
       "model_id": "cd584bdf8bb748b8920d4dc8e98471ef",
       "version_major": 2,
       "version_minor": 0
      },
      "text/plain": [
       "  0%|          | 0/4 [00:00<?, ?it/s]"
      ]
     },
     "metadata": {},
     "output_type": "display_data"
    },
    {
     "data": {
      "application/vnd.jupyter.widget-view+json": {
       "model_id": "e348d4e7afb34165812311fefb8d75ca",
       "version_major": 2,
       "version_minor": 0
      },
      "text/plain": [
       "  0%|          | 0/4 [00:00<?, ?it/s]"
      ]
     },
     "metadata": {},
     "output_type": "display_data"
    },
    {
     "name": "stdout",
     "output_type": "stream",
     "text": [
      "+--------------------+------------------------+\n",
      "| JobSatisfaction    |   phi(JobSatisfaction) |\n",
      "+====================+========================+\n",
      "| JobSatisfaction(0) |                 0.4174 |\n",
      "+--------------------+------------------------+\n",
      "| JobSatisfaction(1) |                 0.5826 |\n",
      "+--------------------+------------------------+\n"
     ]
    }
   ],
   "source": [
    "print(job_satisfaction_inference.query(['JobSatisfaction'],{'MonthlyIncome':1, 'Department':2, 'Age':0}))"
   ]
  },
  {
   "cell_type": "code",
   "execution_count": null,
   "id": "2723131b",
   "metadata": {},
   "outputs": [],
   "source": []
  },
  {
   "cell_type": "code",
   "execution_count": 457,
   "id": "4f82c6b4",
   "metadata": {},
   "outputs": [
    {
     "data": {
      "application/vnd.jupyter.widget-view+json": {
       "model_id": "afbce7db01a94bd68bc6a82dd387c397",
       "version_major": 2,
       "version_minor": 0
      },
      "text/plain": [
       "0it [00:00, ?it/s]"
      ]
     },
     "metadata": {},
     "output_type": "display_data"
    },
    {
     "data": {
      "application/vnd.jupyter.widget-view+json": {
       "model_id": "b8bb9718d033474795a335d2c1b39438",
       "version_major": 2,
       "version_minor": 0
      },
      "text/plain": [
       "0it [00:00, ?it/s]"
      ]
     },
     "metadata": {},
     "output_type": "display_data"
    },
    {
     "name": "stdout",
     "output_type": "stream",
     "text": [
      "+-----------+---------------+\n",
      "| Gender    |   phi(Gender) |\n",
      "+===========+===============+\n",
      "| Gender(0) |        0.5978 |\n",
      "+-----------+---------------+\n",
      "| Gender(1) |        0.4022 |\n",
      "+-----------+---------------+\n"
     ]
    }
   ],
   "source": [
    "print(job_satisfaction_inference.query(['Gender']))"
   ]
  },
  {
   "cell_type": "code",
   "execution_count": 458,
   "id": "361b9774",
   "metadata": {},
   "outputs": [
    {
     "data": {
      "application/vnd.jupyter.widget-view+json": {
       "model_id": "bface87cf4ef44c0a0fd59e23029b02c",
       "version_major": 2,
       "version_minor": 0
      },
      "text/plain": [
       "  0%|          | 0/6 [00:00<?, ?it/s]"
      ]
     },
     "metadata": {},
     "output_type": "display_data"
    },
    {
     "data": {
      "application/vnd.jupyter.widget-view+json": {
       "model_id": "e3e547622f364f179e24484a25024713",
       "version_major": 2,
       "version_minor": 0
      },
      "text/plain": [
       "  0%|          | 0/6 [00:00<?, ?it/s]"
      ]
     },
     "metadata": {},
     "output_type": "display_data"
    },
    {
     "name": "stdout",
     "output_type": "stream",
     "text": [
      "+-----------+---------------+\n",
      "| Gender    |   phi(Gender) |\n",
      "+===========+===============+\n",
      "| Gender(0) |        0.5983 |\n",
      "+-----------+---------------+\n",
      "| Gender(1) |        0.4017 |\n",
      "+-----------+---------------+\n"
     ]
    }
   ],
   "source": [
    "print(job_satisfaction_inference.query(['Gender'],{'JobSatisfaction':1}))"
   ]
  },
  {
   "cell_type": "code",
   "execution_count": 462,
   "id": "926b8d38",
   "metadata": {},
   "outputs": [
    {
     "data": {
      "application/vnd.jupyter.widget-view+json": {
       "model_id": "1187ed6fe269455da1813b6af9307c96",
       "version_major": 2,
       "version_minor": 0
      },
      "text/plain": [
       "  0%|          | 0/5 [00:00<?, ?it/s]"
      ]
     },
     "metadata": {},
     "output_type": "display_data"
    },
    {
     "data": {
      "application/vnd.jupyter.widget-view+json": {
       "model_id": "cdacf8d1787c4e45a00bebb62f1768b4",
       "version_major": 2,
       "version_minor": 0
      },
      "text/plain": [
       "  0%|          | 0/5 [00:00<?, ?it/s]"
      ]
     },
     "metadata": {},
     "output_type": "display_data"
    },
    {
     "name": "stdout",
     "output_type": "stream",
     "text": [
      "+-----------+---------------+\n",
      "| Gender    |   phi(Gender) |\n",
      "+===========+===============+\n",
      "| Gender(0) |        0.5984 |\n",
      "+-----------+---------------+\n",
      "| Gender(1) |        0.4016 |\n",
      "+-----------+---------------+\n"
     ]
    }
   ],
   "source": [
    "print(job_satisfaction_inference.query(['Gender'],{'JobSatisfaction':1, 'Department':2}))"
   ]
  },
  {
   "cell_type": "code",
   "execution_count": null,
   "id": "7125b8c9",
   "metadata": {},
   "outputs": [],
   "source": []
  },
  {
   "cell_type": "code",
   "execution_count": 464,
   "id": "32c9df28",
   "metadata": {},
   "outputs": [
    {
     "data": {
      "application/vnd.jupyter.widget-view+json": {
       "model_id": "babe8c1541d44965be5d25fa32483173",
       "version_major": 2,
       "version_minor": 0
      },
      "text/plain": [
       "  0%|          | 0/5 [00:00<?, ?it/s]"
      ]
     },
     "metadata": {},
     "output_type": "display_data"
    },
    {
     "data": {
      "application/vnd.jupyter.widget-view+json": {
       "model_id": "7833c98dc98f41d49169436748affe4e",
       "version_major": 2,
       "version_minor": 0
      },
      "text/plain": [
       "  0%|          | 0/5 [00:00<?, ?it/s]"
      ]
     },
     "metadata": {},
     "output_type": "display_data"
    },
    {
     "name": "stdout",
     "output_type": "stream",
     "text": [
      "+------------------+----------------------+\n",
      "| MonthlyIncome    |   phi(MonthlyIncome) |\n",
      "+==================+======================+\n",
      "| MonthlyIncome(0) |               0.7050 |\n",
      "+------------------+----------------------+\n",
      "| MonthlyIncome(1) |               0.1809 |\n",
      "+------------------+----------------------+\n",
      "| MonthlyIncome(2) |               0.1140 |\n",
      "+------------------+----------------------+\n"
     ]
    }
   ],
   "source": [
    "print(job_satisfaction_inference.query(['MonthlyIncome']))"
   ]
  },
  {
   "cell_type": "code",
   "execution_count": 467,
   "id": "cd62b67e",
   "metadata": {},
   "outputs": [
    {
     "data": {
      "application/vnd.jupyter.widget-view+json": {
       "model_id": "d3a176c92fca49d480f57a05578bb6ce",
       "version_major": 2,
       "version_minor": 0
      },
      "text/plain": [
       "  0%|          | 0/1 [00:00<?, ?it/s]"
      ]
     },
     "metadata": {},
     "output_type": "display_data"
    },
    {
     "data": {
      "application/vnd.jupyter.widget-view+json": {
       "model_id": "b9576b5451484902b55a9b2c712efcb6",
       "version_major": 2,
       "version_minor": 0
      },
      "text/plain": [
       "  0%|          | 0/1 [00:00<?, ?it/s]"
      ]
     },
     "metadata": {},
     "output_type": "display_data"
    },
    {
     "name": "stdout",
     "output_type": "stream",
     "text": [
      "+------------------+----------------------+\n",
      "| MonthlyIncome    |   phi(MonthlyIncome) |\n",
      "+==================+======================+\n",
      "| MonthlyIncome(0) |               0.9590 |\n",
      "+------------------+----------------------+\n",
      "| MonthlyIncome(1) |               0.0401 |\n",
      "+------------------+----------------------+\n",
      "| MonthlyIncome(2) |               0.0009 |\n",
      "+------------------+----------------------+\n"
     ]
    }
   ],
   "source": [
    "print(job_satisfaction_inference.query(['MonthlyIncome'], {'JobLevel':0}))"
   ]
  },
  {
   "cell_type": "code",
   "execution_count": 469,
   "id": "32a7222e",
   "metadata": {},
   "outputs": [
    {
     "data": {
      "application/vnd.jupyter.widget-view+json": {
       "model_id": "bef2398e83bb4c8fb9eb5a616c59c97f",
       "version_major": 2,
       "version_minor": 0
      },
      "text/plain": [
       "  0%|          | 0/5 [00:00<?, ?it/s]"
      ]
     },
     "metadata": {},
     "output_type": "display_data"
    },
    {
     "data": {
      "application/vnd.jupyter.widget-view+json": {
       "model_id": "ccadd611e7cc46548a90ececdafe6cd3",
       "version_major": 2,
       "version_minor": 0
      },
      "text/plain": [
       "  0%|          | 0/5 [00:00<?, ?it/s]"
      ]
     },
     "metadata": {},
     "output_type": "display_data"
    },
    {
     "name": "stdout",
     "output_type": "stream",
     "text": [
      "+------------------+----------------------+\n",
      "| MonthlyIncome    |   phi(MonthlyIncome) |\n",
      "+==================+======================+\n",
      "| MonthlyIncome(0) |               0.7214 |\n",
      "+------------------+----------------------+\n",
      "| MonthlyIncome(1) |               0.1639 |\n",
      "+------------------+----------------------+\n",
      "| MonthlyIncome(2) |               0.1146 |\n",
      "+------------------+----------------------+\n"
     ]
    }
   ],
   "source": [
    "print(job_satisfaction_inference.query(['MonthlyIncome'], {'Education':0, 'JobSatisfaction':1}))"
   ]
  },
  {
   "cell_type": "code",
   "execution_count": 473,
   "id": "99f085d8",
   "metadata": {},
   "outputs": [
    {
     "data": {
      "application/vnd.jupyter.widget-view+json": {
       "model_id": "d6b066ccbbe144bf961aafd0d94c3994",
       "version_major": 2,
       "version_minor": 0
      },
      "text/plain": [
       "  0%|          | 0/4 [00:00<?, ?it/s]"
      ]
     },
     "metadata": {},
     "output_type": "display_data"
    },
    {
     "data": {
      "application/vnd.jupyter.widget-view+json": {
       "model_id": "5fe514a813134b2e8f67bb01f148136b",
       "version_major": 2,
       "version_minor": 0
      },
      "text/plain": [
       "  0%|          | 0/4 [00:00<?, ?it/s]"
      ]
     },
     "metadata": {},
     "output_type": "display_data"
    },
    {
     "name": "stdout",
     "output_type": "stream",
     "text": [
      "+------------------+----------------------+\n",
      "| MonthlyIncome    |   phi(MonthlyIncome) |\n",
      "+==================+======================+\n",
      "| MonthlyIncome(0) |               0.7292 |\n",
      "+------------------+----------------------+\n",
      "| MonthlyIncome(1) |               0.1536 |\n",
      "+------------------+----------------------+\n",
      "| MonthlyIncome(2) |               0.1172 |\n",
      "+------------------+----------------------+\n"
     ]
    }
   ],
   "source": [
    "print(job_satisfaction_inference.query(['MonthlyIncome'], {'Education':0, 'JobSatisfaction':1, 'Department':0}))"
   ]
  },
  {
   "cell_type": "code",
   "execution_count": null,
   "id": "610b093d",
   "metadata": {},
   "outputs": [],
   "source": []
  },
  {
   "cell_type": "code",
   "execution_count": 474,
   "id": "4f588197",
   "metadata": {},
   "outputs": [
    {
     "data": {
      "application/vnd.jupyter.widget-view+json": {
       "model_id": "dc59e128574b4f4190cf645dc66ddb92",
       "version_major": 2,
       "version_minor": 0
      },
      "text/plain": [
       "  0%|          | 0/5 [00:00<?, ?it/s]"
      ]
     },
     "metadata": {},
     "output_type": "display_data"
    },
    {
     "data": {
      "application/vnd.jupyter.widget-view+json": {
       "model_id": "d9153f0b99724a77bbcdb89da04b18c3",
       "version_major": 2,
       "version_minor": 0
      },
      "text/plain": [
       "  0%|          | 0/5 [00:00<?, ?it/s]"
      ]
     },
     "metadata": {},
     "output_type": "display_data"
    },
    {
     "name": "stdout",
     "output_type": "stream",
     "text": [
      "+--------------------+------------------------+\n",
      "| WorkLifeBalance    |   phi(WorkLifeBalance) |\n",
      "+====================+========================+\n",
      "| WorkLifeBalance(0) |                 0.2825 |\n",
      "+--------------------+------------------------+\n",
      "| WorkLifeBalance(1) |                 0.7175 |\n",
      "+--------------------+------------------------+\n"
     ]
    }
   ],
   "source": [
    "print(job_satisfaction_inference.query(['WorkLifeBalance']))"
   ]
  },
  {
   "cell_type": "code",
   "execution_count": 483,
   "id": "83909371",
   "metadata": {},
   "outputs": [
    {
     "data": {
      "application/vnd.jupyter.widget-view+json": {
       "model_id": "9404d67261a84d7e9c6a46d97a3ed5f6",
       "version_major": 2,
       "version_minor": 0
      },
      "text/plain": [
       "  0%|          | 0/5 [00:00<?, ?it/s]"
      ]
     },
     "metadata": {},
     "output_type": "display_data"
    },
    {
     "data": {
      "application/vnd.jupyter.widget-view+json": {
       "model_id": "a013c19d4abf4cd990c39cb84a0a02c6",
       "version_major": 2,
       "version_minor": 0
      },
      "text/plain": [
       "  0%|          | 0/5 [00:00<?, ?it/s]"
      ]
     },
     "metadata": {},
     "output_type": "display_data"
    },
    {
     "name": "stdout",
     "output_type": "stream",
     "text": [
      "+--------------------+------------------------+\n",
      "| WorkLifeBalance    |   phi(WorkLifeBalance) |\n",
      "+====================+========================+\n",
      "| WorkLifeBalance(0) |                 0.2733 |\n",
      "+--------------------+------------------------+\n",
      "| WorkLifeBalance(1) |                 0.7267 |\n",
      "+--------------------+------------------------+\n"
     ]
    }
   ],
   "source": [
    "print(job_satisfaction_inference.query(['WorkLifeBalance'], {'JobSatisfaction':0}))"
   ]
  },
  {
   "cell_type": "code",
   "execution_count": 484,
   "id": "102deb9c",
   "metadata": {},
   "outputs": [
    {
     "data": {
      "application/vnd.jupyter.widget-view+json": {
       "model_id": "d291d1b7073547dcae0da300604c20ec",
       "version_major": 2,
       "version_minor": 0
      },
      "text/plain": [
       "  0%|          | 0/3 [00:00<?, ?it/s]"
      ]
     },
     "metadata": {},
     "output_type": "display_data"
    },
    {
     "data": {
      "application/vnd.jupyter.widget-view+json": {
       "model_id": "ea2a1ed62f974bc09fb6f652d2348903",
       "version_major": 2,
       "version_minor": 0
      },
      "text/plain": [
       "  0%|          | 0/3 [00:00<?, ?it/s]"
      ]
     },
     "metadata": {},
     "output_type": "display_data"
    },
    {
     "name": "stdout",
     "output_type": "stream",
     "text": [
      "+-------------+-----------------+\n",
      "| JobLevel    |   phi(JobLevel) |\n",
      "+=============+=================+\n",
      "| JobLevel(0) |          0.7257 |\n",
      "+-------------+-----------------+\n",
      "| JobLevel(1) |          0.2226 |\n",
      "+-------------+-----------------+\n",
      "| JobLevel(2) |          0.0517 |\n",
      "+-------------+-----------------+\n"
     ]
    }
   ],
   "source": [
    "print(job_satisfaction_inference.query(['JobLevel']))"
   ]
  },
  {
   "cell_type": "code",
   "execution_count": 486,
   "id": "9df08c2e",
   "metadata": {},
   "outputs": [
    {
     "data": {
      "application/vnd.jupyter.widget-view+json": {
       "model_id": "a3219ab28b16448a9bf0ea1daaa72d75",
       "version_major": 2,
       "version_minor": 0
      },
      "text/plain": [
       "  0%|          | 0/6 [00:00<?, ?it/s]"
      ]
     },
     "metadata": {},
     "output_type": "display_data"
    },
    {
     "data": {
      "application/vnd.jupyter.widget-view+json": {
       "model_id": "942cd827682e4ef1842fa849c0218f34",
       "version_major": 2,
       "version_minor": 0
      },
      "text/plain": [
       "  0%|          | 0/6 [00:00<?, ?it/s]"
      ]
     },
     "metadata": {},
     "output_type": "display_data"
    },
    {
     "name": "stdout",
     "output_type": "stream",
     "text": [
      "+-------------+-----------------+\n",
      "| JobLevel    |   phi(JobLevel) |\n",
      "+=============+=================+\n",
      "| JobLevel(0) |          0.7338 |\n",
      "+-------------+-----------------+\n",
      "| JobLevel(1) |          0.2146 |\n",
      "+-------------+-----------------+\n",
      "| JobLevel(2) |          0.0516 |\n",
      "+-------------+-----------------+\n"
     ]
    }
   ],
   "source": [
    "print(job_satisfaction_inference.query(['JobLevel'], {'JobSatisfaction':1}))"
   ]
  },
  {
   "cell_type": "code",
   "execution_count": 487,
   "id": "a1dc7dbc",
   "metadata": {},
   "outputs": [
    {
     "data": {
      "application/vnd.jupyter.widget-view+json": {
       "model_id": "de282718ff3242e0bb77086fdc3dc82c",
       "version_major": 2,
       "version_minor": 0
      },
      "text/plain": [
       "0it [00:00, ?it/s]"
      ]
     },
     "metadata": {},
     "output_type": "display_data"
    },
    {
     "data": {
      "application/vnd.jupyter.widget-view+json": {
       "model_id": "46c5299a643541b1b2325972b8a3d005",
       "version_major": 2,
       "version_minor": 0
      },
      "text/plain": [
       "0it [00:00, ?it/s]"
      ]
     },
     "metadata": {},
     "output_type": "display_data"
    },
    {
     "name": "stdout",
     "output_type": "stream",
     "text": [
      "+--------+------------+\n",
      "| Age    |   phi(Age) |\n",
      "+========+============+\n",
      "| Age(0) |     0.3148 |\n",
      "+--------+------------+\n",
      "| Age(1) |     0.5162 |\n",
      "+--------+------------+\n",
      "| Age(2) |     0.1691 |\n",
      "+--------+------------+\n"
     ]
    }
   ],
   "source": [
    "print(job_satisfaction_inference.query(['Age']))"
   ]
  }
 ],
 "metadata": {
  "kernelspec": {
   "display_name": "Python 3",
   "language": "python",
   "name": "python3"
  },
  "language_info": {
   "codemirror_mode": {
    "name": "ipython",
    "version": 3
   },
   "file_extension": ".py",
   "mimetype": "text/x-python",
   "name": "python",
   "nbconvert_exporter": "python",
   "pygments_lexer": "ipython3",
   "version": "3.8.8"
  }
 },
 "nbformat": 4,
 "nbformat_minor": 5
}
