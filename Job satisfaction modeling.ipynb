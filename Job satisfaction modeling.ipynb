{
 "cells": [
  {
   "cell_type": "markdown",
   "id": "fd664c70",
   "metadata": {},
   "source": [
    "# Job satisfaction\n",
    "\n",
    "Job satisfaction is a foundamental aspect of modern society, both for personal happiness and companies productiviy. This concept was introduced by Robert Hoppock in 1933 as “The combination of psychological, physiological andenvironmental circumstances that cause a person to truthfully say “I am satisfied with my job”. \n",
    "\n",
    "In this notebook we build a Bayesian Network for modeling and predicting job satisfaction. We will build a simple model for capturing and representing a generic job environment, involving several variables: Age, Education, Gender, Department, JobLevel, MonthlyIncome, WorkLifeBalance and JobSatisfaction. \n",
    "\n",
    "The [IBM Watson's dataset](https://thebrew.in/hr-analytics-quick-snapshot-ibm-dataset/) is used, which is an artificial dataset. In particular, this [version](https://github.com/shailysaigal/Job-Satisfaction-on-IBM-Watson-dataset) is used. We will slightly modify it, for making it more suitable to our task."
   ]
  },
  {
   "cell_type": "markdown",
   "id": "e6169bbb",
   "metadata": {},
   "source": [
    "## DATASET"
   ]
  },
  {
   "cell_type": "code",
   "execution_count": 69,
   "id": "35527979",
   "metadata": {},
   "outputs": [],
   "source": [
    "import pandas as pd\n",
    "import numpy as np\n",
    "import seaborn as sns\n",
    "import matplotlib.pyplot as plt"
   ]
  },
  {
   "cell_type": "code",
   "execution_count": 2,
   "id": "5e253a7a",
   "metadata": {},
   "outputs": [],
   "source": [
    "df = pd.read_excel('IBM_Job_satisfaction.xlsm')"
   ]
  },
  {
   "cell_type": "code",
   "execution_count": 3,
   "id": "9645343a",
   "metadata": {},
   "outputs": [
    {
     "name": "stdout",
     "output_type": "stream",
     "text": [
      "<class 'pandas.core.frame.DataFrame'>\n",
      "RangeIndex: 19478 entries, 0 to 19477\n",
      "Data columns (total 30 columns):\n",
      " #   Column                    Non-Null Count  Dtype \n",
      "---  ------                    --------------  ----- \n",
      " 0   Age                       19478 non-null  int64 \n",
      " 1   BusinessTravel            19478 non-null  object\n",
      " 2   DailyRate                 19478 non-null  int64 \n",
      " 3   Department                19478 non-null  object\n",
      " 4   DistanceFromHome          19478 non-null  int64 \n",
      " 5   Education                 19478 non-null  int64 \n",
      " 6   EnvironmentSatisfaction   19478 non-null  int64 \n",
      " 7   Gender                    19478 non-null  object\n",
      " 8   HourlyRate                19478 non-null  int64 \n",
      " 9   JobInvolvement            19478 non-null  int64 \n",
      " 10  JobLevel                  19478 non-null  int64 \n",
      " 11  JobRole                   19478 non-null  object\n",
      " 12  JobSatisfaction           19478 non-null  int64 \n",
      " 13  MaritalStatus             19478 non-null  object\n",
      " 14  MonthlyIncome             19478 non-null  int64 \n",
      " 15  MonthlyRate               19478 non-null  int64 \n",
      " 16  NumCompaniesWorked        19478 non-null  int64 \n",
      " 17  OverTime                  19478 non-null  object\n",
      " 18  PercentSalaryHike         19478 non-null  int64 \n",
      " 19  RelationshipSatisfaction  19478 non-null  int64 \n",
      " 20  StandardHours             19478 non-null  int64 \n",
      " 21  StockOptionLevel          19478 non-null  int64 \n",
      " 22  TotalWorkingYears         19478 non-null  int64 \n",
      " 23  TrainingTimesLastYear     19478 non-null  int64 \n",
      " 24  WorkLifeBalance           19478 non-null  int64 \n",
      " 25  YearsAtCompany            19478 non-null  int64 \n",
      " 26  YearsInCurrentRole        19478 non-null  int64 \n",
      " 27  YearsSinceLastPromotion   19478 non-null  int64 \n",
      " 28  YearsWithCurrManager      19478 non-null  int64 \n",
      " 29  Employee Source           19478 non-null  object\n",
      "dtypes: int64(23), object(7)\n",
      "memory usage: 4.5+ MB\n"
     ]
    }
   ],
   "source": [
    "df.info()"
   ]
  },
  {
   "cell_type": "markdown",
   "id": "7d8dd4e6",
   "metadata": {},
   "source": [
    "The dataset consists in a collection of responses from $19478$ employees. For each employee, there are several features. we restrict ourselves to the following features: Age, Education, Gender, Department, JobLevel, MonthlyIncome, WorkLifeBalance and JobSatisfaction."
   ]
  },
  {
   "cell_type": "code",
   "execution_count": 4,
   "id": "3998bfff",
   "metadata": {},
   "outputs": [],
   "source": [
    "df = df[['Age', 'Department', 'Education', 'Gender', 'JobLevel', 'MonthlyIncome', 'WorkLifeBalance','JobSatisfaction']]"
   ]
  },
  {
   "cell_type": "code",
   "execution_count": 5,
   "id": "c58e863f",
   "metadata": {},
   "outputs": [
    {
     "name": "stdout",
     "output_type": "stream",
     "text": [
      "<class 'pandas.core.frame.DataFrame'>\n",
      "RangeIndex: 19478 entries, 0 to 19477\n",
      "Data columns (total 8 columns):\n",
      " #   Column           Non-Null Count  Dtype \n",
      "---  ------           --------------  ----- \n",
      " 0   Age              19478 non-null  int64 \n",
      " 1   Department       19478 non-null  object\n",
      " 2   Education        19478 non-null  int64 \n",
      " 3   Gender           19478 non-null  object\n",
      " 4   JobLevel         19478 non-null  int64 \n",
      " 5   MonthlyIncome    19478 non-null  int64 \n",
      " 6   WorkLifeBalance  19478 non-null  int64 \n",
      " 7   JobSatisfaction  19478 non-null  int64 \n",
      "dtypes: int64(6), object(2)\n",
      "memory usage: 1.2+ MB\n"
     ]
    }
   ],
   "source": [
    "df.info()"
   ]
  },
  {
   "cell_type": "markdown",
   "id": "fbeac372",
   "metadata": {},
   "source": [
    "### Brief analyisis"
   ]
  },
  {
   "cell_type": "code",
   "execution_count": 6,
   "id": "23e9be25",
   "metadata": {},
   "outputs": [
    {
     "data": {
      "text/html": [
       "<div>\n",
       "<style scoped>\n",
       "    .dataframe tbody tr th:only-of-type {\n",
       "        vertical-align: middle;\n",
       "    }\n",
       "\n",
       "    .dataframe tbody tr th {\n",
       "        vertical-align: top;\n",
       "    }\n",
       "\n",
       "    .dataframe thead th {\n",
       "        text-align: right;\n",
       "    }\n",
       "</style>\n",
       "<table border=\"1\" class=\"dataframe\">\n",
       "  <thead>\n",
       "    <tr style=\"text-align: right;\">\n",
       "      <th></th>\n",
       "      <th>Age</th>\n",
       "      <th>Education</th>\n",
       "      <th>JobLevel</th>\n",
       "      <th>MonthlyIncome</th>\n",
       "      <th>WorkLifeBalance</th>\n",
       "      <th>JobSatisfaction</th>\n",
       "    </tr>\n",
       "  </thead>\n",
       "  <tbody>\n",
       "    <tr>\n",
       "      <th>count</th>\n",
       "      <td>19478.000000</td>\n",
       "      <td>19478.000000</td>\n",
       "      <td>19478.000000</td>\n",
       "      <td>19478.000000</td>\n",
       "      <td>19478.000000</td>\n",
       "      <td>19478.000000</td>\n",
       "    </tr>\n",
       "    <tr>\n",
       "      <th>mean</th>\n",
       "      <td>37.524489</td>\n",
       "      <td>2.924274</td>\n",
       "      <td>2.104990</td>\n",
       "      <td>6665.078961</td>\n",
       "      <td>2.769689</td>\n",
       "      <td>2.752849</td>\n",
       "    </tr>\n",
       "    <tr>\n",
       "      <th>std</th>\n",
       "      <td>8.860420</td>\n",
       "      <td>1.026008</td>\n",
       "      <td>1.115506</td>\n",
       "      <td>4781.062495</td>\n",
       "      <td>0.700480</td>\n",
       "      <td>1.097875</td>\n",
       "    </tr>\n",
       "    <tr>\n",
       "      <th>min</th>\n",
       "      <td>18.000000</td>\n",
       "      <td>1.000000</td>\n",
       "      <td>1.000000</td>\n",
       "      <td>1009.000000</td>\n",
       "      <td>1.000000</td>\n",
       "      <td>1.000000</td>\n",
       "    </tr>\n",
       "    <tr>\n",
       "      <th>25%</th>\n",
       "      <td>31.000000</td>\n",
       "      <td>2.000000</td>\n",
       "      <td>1.000000</td>\n",
       "      <td>3038.000000</td>\n",
       "      <td>2.000000</td>\n",
       "      <td>2.000000</td>\n",
       "    </tr>\n",
       "    <tr>\n",
       "      <th>50%</th>\n",
       "      <td>36.000000</td>\n",
       "      <td>3.000000</td>\n",
       "      <td>2.000000</td>\n",
       "      <td>5042.000000</td>\n",
       "      <td>3.000000</td>\n",
       "      <td>3.000000</td>\n",
       "    </tr>\n",
       "    <tr>\n",
       "      <th>75%</th>\n",
       "      <td>43.000000</td>\n",
       "      <td>4.000000</td>\n",
       "      <td>3.000000</td>\n",
       "      <td>8620.000000</td>\n",
       "      <td>3.000000</td>\n",
       "      <td>4.000000</td>\n",
       "    </tr>\n",
       "    <tr>\n",
       "      <th>max</th>\n",
       "      <td>60.000000</td>\n",
       "      <td>5.000000</td>\n",
       "      <td>5.000000</td>\n",
       "      <td>19999.000000</td>\n",
       "      <td>4.000000</td>\n",
       "      <td>4.000000</td>\n",
       "    </tr>\n",
       "  </tbody>\n",
       "</table>\n",
       "</div>"
      ],
      "text/plain": [
       "                Age     Education      JobLevel  MonthlyIncome  \\\n",
       "count  19478.000000  19478.000000  19478.000000   19478.000000   \n",
       "mean      37.524489      2.924274      2.104990    6665.078961   \n",
       "std        8.860420      1.026008      1.115506    4781.062495   \n",
       "min       18.000000      1.000000      1.000000    1009.000000   \n",
       "25%       31.000000      2.000000      1.000000    3038.000000   \n",
       "50%       36.000000      3.000000      2.000000    5042.000000   \n",
       "75%       43.000000      4.000000      3.000000    8620.000000   \n",
       "max       60.000000      5.000000      5.000000   19999.000000   \n",
       "\n",
       "       WorkLifeBalance  JobSatisfaction  \n",
       "count     19478.000000     19478.000000  \n",
       "mean          2.769689         2.752849  \n",
       "std           0.700480         1.097875  \n",
       "min           1.000000         1.000000  \n",
       "25%           2.000000         2.000000  \n",
       "50%           3.000000         3.000000  \n",
       "75%           3.000000         4.000000  \n",
       "max           4.000000         4.000000  "
      ]
     },
     "execution_count": 6,
     "metadata": {},
     "output_type": "execute_result"
    }
   ],
   "source": [
    "df.describe()"
   ]
  },
  {
   "cell_type": "markdown",
   "id": "48640f8b",
   "metadata": {},
   "source": [
    "The numerical features are the following.\n",
    "- `Age`, with values in $[18,60]$.\n",
    "- `Education`, with values in $[1,5]$, $5$ for the highest education level.\n",
    "- `JobLevel`, with values in $[1,5]$, $5$ for the highest job level.\n",
    "- `MonthlyIncome`, with values in $[1009,19999]$.\n",
    "- `WorkLifeBalance`, with values in $[0,4]$, $4$ for the highest work-life balance level.\n",
    "- `JobSatisfaction`, with values in $[0,4]$, $4$ for the highest job-satisfaction level."
   ]
  },
  {
   "cell_type": "markdown",
   "id": "953f2e00",
   "metadata": {},
   "source": [
    "There are also two non-numerical features: `Department` and `Gender`."
   ]
  },
  {
   "cell_type": "code",
   "execution_count": 10,
   "id": "dcdda527",
   "metadata": {},
   "outputs": [
    {
     "name": "stdout",
     "output_type": "stream",
     "text": [
      "`Department` unique values: ['Research & Development', 'Human Resources', 'Sales']\n",
      "`Gender` unique values: ['Male', 'Female']\n"
     ]
    }
   ],
   "source": [
    "print('`Department` unique values:', list(df['Department'].unique()))\n",
    "print('`Gender` unique values:', list(df['Gender'].unique()))"
   ]
  },
  {
   "cell_type": "markdown",
   "id": "0fdcab09",
   "metadata": {},
   "source": [
    "### Visualization"
   ]
  },
  {
   "cell_type": "code",
   "execution_count": 29,
   "id": "a5d34f7a",
   "metadata": {},
   "outputs": [
    {
     "data": {
      "text/plain": [
       "Text(0, 0.5, '#employees')"
      ]
     },
     "execution_count": 29,
     "metadata": {},
     "output_type": "execute_result"
    },
    {
     "data": {
      "image/png": "[encoded data removed]",
      "text/plain": [
       "<Figure size 432x288 with 1 Axes>"
      ]
     },
     "metadata": {
      "needs_background": "light"
     },
     "output_type": "display_data"
    }
   ],
   "source": [
    "plot = df['Age'].sort_values().plot(use_index=False)\n",
    "plot.set_title('Age')\n",
    "plot.set_ylabel('#employees')"
   ]
  },
  {
   "cell_type": "code",
   "execution_count": 30,
   "id": "6790ab6b",
   "metadata": {},
   "outputs": [
    {
     "data": {
      "image/png": "[encoded data removed]",
      "text/plain": [
       "<Figure size 432x288 with 1 Axes>"
      ]
     },
     "metadata": {
      "needs_background": "light"
     },
     "output_type": "display_data"
    }
   ],
   "source": [
    "hist = df['Education'].hist()\n",
    "hist.set_title('Education')\n",
    "hist.set_ylabel('#employees');"
   ]
  },
  {
   "cell_type": "code",
   "execution_count": 31,
   "id": "0abdcdd4",
   "metadata": {},
   "outputs": [
    {
     "data": {
      "image/png": "[encoded data removed]",
      "text/plain": [
       "<Figure size 432x288 with 1 Axes>"
      ]
     },
     "metadata": {
      "needs_background": "light"
     },
     "output_type": "display_data"
    }
   ],
   "source": [
    "hist = df['Gender'].hist()\n",
    "hist.set_title('Gender')\n",
    "hist.set_ylabel('#employees');"
   ]
  },
  {
   "cell_type": "code",
   "execution_count": 25,
   "id": "9190df6b",
   "metadata": {},
   "outputs": [
    {
     "data": {
      "image/png": "[encoded data removed]",
      "text/plain": [
       "<Figure size 432x288 with 1 Axes>"
      ]
     },
     "metadata": {
      "needs_background": "light"
     },
     "output_type": "display_data"
    }
   ],
   "source": [
    "hist = df['Department'].hist()\n",
    "hist.set_title('Department')\n",
    "hist.set_ylabel('#employees');"
   ]
  },
  {
   "cell_type": "code",
   "execution_count": 32,
   "id": "92d4fd6b",
   "metadata": {},
   "outputs": [
    {
     "data": {
      "image/png": "[encoded data removed]",
      "text/plain": [
       "<Figure size 432x288 with 1 Axes>"
      ]
     },
     "metadata": {
      "needs_background": "light"
     },
     "output_type": "display_data"
    }
   ],
   "source": [
    "hist = df['JobLevel'].hist()\n",
    "hist.set_title('JobLevel')\n",
    "hist.set_ylabel('#employees');"
   ]
  },
  {
   "cell_type": "code",
   "execution_count": 28,
   "id": "ce499352",
   "metadata": {},
   "outputs": [
    {
     "data": {
      "text/plain": [
       "Text(0, 0.5, '#employees')"
      ]
     },
     "execution_count": 28,
     "metadata": {},
     "output_type": "execute_result"
    },
    {
     "data": {
      "image/png": "[encoded data removed]",
      "text/plain": [
       "<Figure size 432x288 with 1 Axes>"
      ]
     },
     "metadata": {
      "needs_background": "light"
     },
     "output_type": "display_data"
    }
   ],
   "source": [
    "plot = df['MonthlyIncome'].sort_values().plot(use_index=False)\n",
    "plot.set_title('MonthlyIncome')\n",
    "plot.set_ylabel('#employees')"
   ]
  },
  {
   "cell_type": "code",
   "execution_count": 33,
   "id": "53b09fa7",
   "metadata": {},
   "outputs": [
    {
     "data": {
      "image/png": "[encoded data removed]",
      "text/plain": [
       "<Figure size 432x288 with 1 Axes>"
      ]
     },
     "metadata": {
      "needs_background": "light"
     },
     "output_type": "display_data"
    }
   ],
   "source": [
    "hist = df['WorkLifeBalance'].hist()\n",
    "hist.set_title('WorkLifeBalance')\n",
    "hist.set_ylabel('#employees');"
   ]
  },
  {
   "cell_type": "code",
   "execution_count": 34,
   "id": "b673af91",
   "metadata": {},
   "outputs": [
    {
     "data": {
      "image/png": "[encoded data removed]",
      "text/plain": [
       "<Figure size 432x288 with 1 Axes>"
      ]
     },
     "metadata": {
      "needs_background": "light"
     },
     "output_type": "display_data"
    }
   ],
   "source": [
    "hist = df['JobSatisfaction'].hist()\n",
    "hist.set_title('JobSatisfaction')\n",
    "hist.set_ylabel('#employees');"
   ]
  },
  {
   "cell_type": "markdown",
   "id": "d4c6051e",
   "metadata": {},
   "source": [
    "## PREPROCESSING\n",
    "Several preprocessing activities must be carried out before building our model."
   ]
  },
  {
   "cell_type": "markdown",
   "id": "37b15289",
   "metadata": {},
   "source": [
    "### Dealing with non-numerical features\n",
    "We map the non-numerical features, i.e. `Department` and `Gender,` into numerical values."
   ]
  },
  {
   "cell_type": "code",
   "execution_count": 35,
   "id": "afd1094a",
   "metadata": {},
   "outputs": [
    {
     "data": {
      "text/plain": [
       "{'Human Resources': 0, 'Research & Development': 1, 'Sales': 2}"
      ]
     },
     "execution_count": 35,
     "metadata": {},
     "output_type": "execute_result"
    }
   ],
   "source": [
    "dept_dict = {d:i for i,d in enumerate(df['Department'].unique()[[1, 0, 2]])}\n",
    "dept_dict_inv = {i:d for d,i in dept_dict.items()}\n",
    "dept_dict"
   ]
  },
  {
   "cell_type": "code",
   "execution_count": 36,
   "id": "54ee7d82",
   "metadata": {},
   "outputs": [],
   "source": [
    "df['Department'] = df['Department'].map(dept_dict)"
   ]
  },
  {
   "cell_type": "code",
   "execution_count": 37,
   "id": "97041ccb",
   "metadata": {},
   "outputs": [
    {
     "data": {
      "text/plain": [
       "{'Female': 0, 'Male': 1}"
      ]
     },
     "execution_count": 37,
     "metadata": {},
     "output_type": "execute_result"
    }
   ],
   "source": [
    "gender_dict = {g:i for i,g in enumerate(df['Gender'].unique()[[1,0]])}\n",
    "gender_dict_inv = {i:g for g,i in dept_dict.items()}\n",
    "gender_dict"
   ]
  },
  {
   "cell_type": "code",
   "execution_count": 38,
   "id": "66c5fbfd",
   "metadata": {},
   "outputs": [],
   "source": [
    "df['Gender'] = df['Gender'].map(gender_dict)"
   ]
  },
  {
   "cell_type": "markdown",
   "id": "e62f6d4d",
   "metadata": {},
   "source": [
    "### Dealing with continuous features\n",
    "We discretize the continuous features, i.e. `Age` and `MonthlyIncome`. We discretize each feature into three balanced levels.\n",
    "\n",
    "First of all, let's do that for `Age`."
   ]
  },
  {
   "cell_type": "code",
   "execution_count": 39,
   "id": "e8739e0e",
   "metadata": {},
   "outputs": [
    {
     "data": {
      "text/plain": [
       "(33, 41)"
      ]
     },
     "execution_count": 39,
     "metadata": {},
     "output_type": "execute_result"
    }
   ],
   "source": [
    "# Computing the levels for dividing `Age` into three balanced intervals\n",
    "q1_age, q2_age = df['Age'].quantile([0.3333,0.6666]).astype(int).values\n",
    "q1_age, q2_age"
   ]
  },
  {
   "cell_type": "code",
   "execution_count": 40,
   "id": "a4762368",
   "metadata": {},
   "outputs": [
    {
     "data": {
      "text/plain": [
       "(6856, 6655, 5967)"
      ]
     },
     "execution_count": 40,
     "metadata": {},
     "output_type": "execute_result"
    }
   ],
   "source": [
    "(df['Age']<=q1_age).sum(), (np.logical_and(df['Age']>q1_age,df['Age']<=q2_age)).sum(), (df['Age']>q2_age).sum()"
   ]
  },
  {
   "cell_type": "code",
   "execution_count": 42,
   "id": "f3ee73e8",
   "metadata": {},
   "outputs": [],
   "source": [
    "min_age = df['Age'].min()\n",
    "max_age = df['Age'].max()\n",
    "\n",
    "def transform_age(age):\n",
    "    if age<=q1_age:\n",
    "        return f'{min_age}-{q1_age}'\n",
    "    elif age>q1_age and age<=q2_age:\n",
    "        return f'{q1_age}-{q2_age}'\n",
    "    elif age>q2_age:\n",
    "        return f'{q2_age}-{max_age}'\n",
    "    \n",
    "df['Age'] = df['Age'].map(transform_age)"
   ]
  },
  {
   "cell_type": "code",
   "execution_count": 47,
   "id": "67894d82",
   "metadata": {},
   "outputs": [
    {
     "name": "stdout",
     "output_type": "stream",
     "text": [
      "Three levels of `Age`: ['41-60', '18-33', '33-41']\n"
     ]
    }
   ],
   "source": [
    "print('Three levels of `Age`:', sorted(list(df['Age'].unique())))"
   ]
  },
  {
   "cell_type": "code",
   "execution_count": 48,
   "id": "ebae27ce",
   "metadata": {},
   "outputs": [
    {
     "data": {
      "text/plain": [
       "{'18-33': 0, '33-41': 1, '41-60': 2}"
      ]
     },
     "execution_count": 48,
     "metadata": {},
     "output_type": "execute_result"
    }
   ],
   "source": [
    "# Now we map the three levels into numbers\n",
    "age_dict = {a:i for i,a in enumerate(sorted(df['Age'].unique()))}\n",
    "age_dict_inv = {i:a for a,i in age_dict.items()}\n",
    "age_dict"
   ]
  },
  {
   "cell_type": "code",
   "execution_count": 49,
   "id": "e084417f",
   "metadata": {},
   "outputs": [],
   "source": [
    "df['Age'] = df['Age'].map(age_dict)"
   ]
  },
  {
   "cell_type": "code",
   "execution_count": 52,
   "id": "5edd52c3",
   "metadata": {},
   "outputs": [
    {
     "name": "stdout",
     "output_type": "stream",
     "text": [
      "Three levels of `Age`: [0, 1, 2]\n"
     ]
    }
   ],
   "source": [
    "print('Three levels of `Age`:', sorted(list(df['Age'].unique())))"
   ]
  },
  {
   "cell_type": "markdown",
   "id": "5b4f9d09",
   "metadata": {},
   "source": [
    "Let's now do that for `MonthlyIncome`."
   ]
  },
  {
   "cell_type": "code",
   "execution_count": 50,
   "id": "c2d5ebaf",
   "metadata": {},
   "outputs": [
    {
     "data": {
      "text/plain": [
       "(3812, 6632)"
      ]
     },
     "execution_count": 50,
     "metadata": {},
     "output_type": "execute_result"
    }
   ],
   "source": [
    "# Computing the levels for dividing `MonthlyIncome` into three balanced intervals\n",
    "q1_inc, q2_inc = df['MonthlyIncome'].quantile([0.3333,0.6666]).astype(int).values\n",
    "q1_inc, q2_inc"
   ]
  },
  {
   "cell_type": "code",
   "execution_count": 54,
   "id": "be24e9c9",
   "metadata": {},
   "outputs": [
    {
     "data": {
      "text/plain": [
       "(6499, 6496, 6483)"
      ]
     },
     "execution_count": 54,
     "metadata": {},
     "output_type": "execute_result"
    }
   ],
   "source": [
    "(df['MonthlyIncome']<=q1_inc).sum(), (np.logical_and(df['MonthlyIncome']>q1_inc,df['MonthlyIncome']<=q2_inc)).sum(), (df['MonthlyIncome']>q2_inc).sum()"
   ]
  },
  {
   "cell_type": "code",
   "execution_count": 55,
   "id": "0c164e00",
   "metadata": {},
   "outputs": [],
   "source": [
    "min_inc = df['MonthlyIncome'].min()\n",
    "max_inc = df['MonthlyIncome'].max()\n",
    "\n",
    "def transform_income(income):\n",
    "    if income<=q1_inc:\n",
    "        return f'{min_inc}-{q1_inc}'\n",
    "    elif income>q1_inc and income<=q2_inc:\n",
    "        return f'{q1_inc}-{q2_inc}'\n",
    "    elif income>q2_inc:\n",
    "        return f'{q2_inc}-{max_inc}'\n",
    "    \n",
    "df['MonthlyIncome'] = df['MonthlyIncome'].map(transform_income)"
   ]
  },
  {
   "cell_type": "code",
   "execution_count": 56,
   "id": "12422f4d",
   "metadata": {},
   "outputs": [
    {
     "name": "stdout",
     "output_type": "stream",
     "text": [
      "Three levels of `MonthlyIncome`: ['1009-3812', '3812-6632', '6632-19999']\n"
     ]
    }
   ],
   "source": [
    "print('Three levels of `MonthlyIncome`:', sorted(list(df['MonthlyIncome'].unique())))"
   ]
  },
  {
   "cell_type": "code",
   "execution_count": 57,
   "id": "851ee02e",
   "metadata": {},
   "outputs": [
    {
     "data": {
      "text/plain": [
       "{'1009-3812': 0, '3812-6632': 1, '6632-19999': 2}"
      ]
     },
     "execution_count": 57,
     "metadata": {},
     "output_type": "execute_result"
    }
   ],
   "source": [
    "# Now we map the three levels into numbers\n",
    "income_dict = {inc:i for i,inc in enumerate(sorted(df['MonthlyIncome'].unique(), key=lambda inc: int(inc.split('-')[0])))}\n",
    "income_dict_inv = {inc:a for a,inc in income_dict.items()}\n",
    "income_dict"
   ]
  },
  {
   "cell_type": "code",
   "execution_count": 58,
   "id": "b5e8a8b1",
   "metadata": {},
   "outputs": [],
   "source": [
    "df['MonthlyIncome'] = df['MonthlyIncome'].map(income_dict)"
   ]
  },
  {
   "cell_type": "code",
   "execution_count": 59,
   "id": "f4e8a082",
   "metadata": {},
   "outputs": [
    {
     "name": "stdout",
     "output_type": "stream",
     "text": [
      "Three levels of `MonthlyIncome`: [0, 1, 2]\n"
     ]
    }
   ],
   "source": [
    "print('Three levels of `MonthlyIncome`:', sorted(list(df['MonthlyIncome'].unique())))"
   ]
  },
  {
   "cell_type": "markdown",
   "id": "4d1c9bb6",
   "metadata": {},
   "source": [
    "### Reducing the number of levels\n",
    "We take the already discretized variables, i.e. `Education`, `JobLevel`, `WorkLifeBalance`, `JobSatisfaction`, and we reduce the number of levels into three balanced levels."
   ]
  },
  {
   "cell_type": "markdown",
   "id": "d82d9b62",
   "metadata": {},
   "source": [
    "`Education`: levels $1, 2, ..., 5$. We reduce that into three balanced levels $0, 1, 2$."
   ]
  },
  {
   "cell_type": "code",
   "execution_count": 60,
   "id": "bcfeaf1f",
   "metadata": {},
   "outputs": [
    {
     "data": {
      "text/plain": [
       "(5975, 7479, 6024)"
      ]
     },
     "execution_count": 60,
     "metadata": {},
     "output_type": "execute_result"
    }
   ],
   "source": [
    "(df['Education']<=2).sum(), (df['Education']==3).sum(), (df['Education']>3).sum()"
   ]
  },
  {
   "cell_type": "code",
   "execution_count": 61,
   "id": "52f51cf9",
   "metadata": {},
   "outputs": [],
   "source": [
    "def transform_education(e):\n",
    "    if e>=1 and e<=2:\n",
    "        return 0\n",
    "    elif e==3:\n",
    "        return 1\n",
    "    else: \n",
    "        return 2\n",
    "\n",
    "df['Education'] = df['Education'].map(transform_education)"
   ]
  },
  {
   "cell_type": "markdown",
   "id": "6db65550",
   "metadata": {},
   "source": [
    "`JobLevel`: levels $1,2,...,5$. We reduce that into three balanced levels $0,1,2$."
   ]
  },
  {
   "cell_type": "code",
   "execution_count": 62,
   "id": "01bcde24",
   "metadata": {},
   "outputs": [
    {
     "data": {
      "text/plain": [
       "(6766, 7347, 5365)"
      ]
     },
     "execution_count": 62,
     "metadata": {},
     "output_type": "execute_result"
    }
   ],
   "source": [
    "(df['JobLevel']==1).sum(), (df['JobLevel']==2).sum(), (df['JobLevel']>2).sum()"
   ]
  },
  {
   "cell_type": "code",
   "execution_count": 63,
   "id": "021a7521",
   "metadata": {},
   "outputs": [],
   "source": [
    "def transform_jobLevel(l):\n",
    "    if l==1:\n",
    "        return 0\n",
    "    elif l==2:\n",
    "        return 1\n",
    "    else: \n",
    "        return 2\n",
    "\n",
    "df['JobLevel'] = df['JobLevel'].map(transform_jobLevel)"
   ]
  },
  {
   "cell_type": "markdown",
   "id": "03208a9a",
   "metadata": {},
   "source": [
    "`WorkLifeBalance`: levels $1,2,3,4$. We reduce that into three levels $0,1,2$."
   ]
  },
  {
   "cell_type": "code",
   "execution_count": 64,
   "id": "41a17122",
   "metadata": {},
   "outputs": [],
   "source": [
    "def transform_workLifeBalance(b):\n",
    "    if b>=1 and b<=2:\n",
    "        return 0\n",
    "    elif b>=3 and b<=4:\n",
    "        return 1\n",
    "\n",
    "df['WorkLifeBalance'] = df['WorkLifeBalance'].map(transform_workLifeBalance)"
   ]
  },
  {
   "cell_type": "markdown",
   "id": "e5940085",
   "metadata": {},
   "source": [
    "`JobSatisfaction`: levels $1,2,3,4$. We reduce that into three levels $0,1,2$."
   ]
  },
  {
   "cell_type": "code",
   "execution_count": 65,
   "id": "f17a4d6d",
   "metadata": {},
   "outputs": [],
   "source": [
    "def transform_jobSatisfaction(s):\n",
    "    if s>=1 and s<=2:\n",
    "        return 0\n",
    "    elif s>=3 and s<=4:\n",
    "        return 1\n",
    "\n",
    "df['JobSatisfaction'] = df['JobSatisfaction'].map(transform_jobSatisfaction)"
   ]
  },
  {
   "cell_type": "markdown",
   "id": "0e07dd49",
   "metadata": {},
   "source": [
    "## ANALYSIS\n",
    "Eight discretized and balanced features."
   ]
  },
  {
   "cell_type": "code",
   "execution_count": 66,
   "id": "f0327864",
   "metadata": {},
   "outputs": [
    {
     "data": {
      "text/html": [
       "<div>\n",
       "<style scoped>\n",
       "    .dataframe tbody tr th:only-of-type {\n",
       "        vertical-align: middle;\n",
       "    }\n",
       "\n",
       "    .dataframe tbody tr th {\n",
       "        vertical-align: top;\n",
       "    }\n",
       "\n",
       "    .dataframe thead th {\n",
       "        text-align: right;\n",
       "    }\n",
       "</style>\n",
       "<table border=\"1\" class=\"dataframe\">\n",
       "  <thead>\n",
       "    <tr style=\"text-align: right;\">\n",
       "      <th></th>\n",
       "      <th>Age</th>\n",
       "      <th>Department</th>\n",
       "      <th>Education</th>\n",
       "      <th>Gender</th>\n",
       "      <th>JobLevel</th>\n",
       "      <th>MonthlyIncome</th>\n",
       "      <th>WorkLifeBalance</th>\n",
       "      <th>JobSatisfaction</th>\n",
       "    </tr>\n",
       "  </thead>\n",
       "  <tbody>\n",
       "    <tr>\n",
       "      <th>count</th>\n",
       "      <td>19478.000000</td>\n",
       "      <td>19478.000000</td>\n",
       "      <td>19478.000000</td>\n",
       "      <td>19478.000000</td>\n",
       "      <td>19478.000000</td>\n",
       "      <td>19478.000000</td>\n",
       "      <td>19478.000000</td>\n",
       "      <td>19478.000000</td>\n",
       "    </tr>\n",
       "    <tr>\n",
       "      <th>mean</th>\n",
       "      <td>0.954359</td>\n",
       "      <td>1.246021</td>\n",
       "      <td>1.002516</td>\n",
       "      <td>0.597854</td>\n",
       "      <td>0.928073</td>\n",
       "      <td>0.999179</td>\n",
       "      <td>0.716295</td>\n",
       "      <td>0.620700</td>\n",
       "    </tr>\n",
       "    <tr>\n",
       "      <th>std</th>\n",
       "      <td>0.810113</td>\n",
       "      <td>0.518838</td>\n",
       "      <td>0.784891</td>\n",
       "      <td>0.490344</td>\n",
       "      <td>0.785916</td>\n",
       "      <td>0.816412</td>\n",
       "      <td>0.450807</td>\n",
       "      <td>0.485225</td>\n",
       "    </tr>\n",
       "    <tr>\n",
       "      <th>min</th>\n",
       "      <td>0.000000</td>\n",
       "      <td>0.000000</td>\n",
       "      <td>0.000000</td>\n",
       "      <td>0.000000</td>\n",
       "      <td>0.000000</td>\n",
       "      <td>0.000000</td>\n",
       "      <td>0.000000</td>\n",
       "      <td>0.000000</td>\n",
       "    </tr>\n",
       "    <tr>\n",
       "      <th>25%</th>\n",
       "      <td>0.000000</td>\n",
       "      <td>1.000000</td>\n",
       "      <td>0.000000</td>\n",
       "      <td>0.000000</td>\n",
       "      <td>0.000000</td>\n",
       "      <td>0.000000</td>\n",
       "      <td>0.000000</td>\n",
       "      <td>0.000000</td>\n",
       "    </tr>\n",
       "    <tr>\n",
       "      <th>50%</th>\n",
       "      <td>1.000000</td>\n",
       "      <td>1.000000</td>\n",
       "      <td>1.000000</td>\n",
       "      <td>1.000000</td>\n",
       "      <td>1.000000</td>\n",
       "      <td>1.000000</td>\n",
       "      <td>1.000000</td>\n",
       "      <td>1.000000</td>\n",
       "    </tr>\n",
       "    <tr>\n",
       "      <th>75%</th>\n",
       "      <td>2.000000</td>\n",
       "      <td>2.000000</td>\n",
       "      <td>2.000000</td>\n",
       "      <td>1.000000</td>\n",
       "      <td>2.000000</td>\n",
       "      <td>2.000000</td>\n",
       "      <td>1.000000</td>\n",
       "      <td>1.000000</td>\n",
       "    </tr>\n",
       "    <tr>\n",
       "      <th>max</th>\n",
       "      <td>2.000000</td>\n",
       "      <td>2.000000</td>\n",
       "      <td>2.000000</td>\n",
       "      <td>1.000000</td>\n",
       "      <td>2.000000</td>\n",
       "      <td>2.000000</td>\n",
       "      <td>1.000000</td>\n",
       "      <td>1.000000</td>\n",
       "    </tr>\n",
       "  </tbody>\n",
       "</table>\n",
       "</div>"
      ],
      "text/plain": [
       "                Age    Department     Education        Gender      JobLevel  \\\n",
       "count  19478.000000  19478.000000  19478.000000  19478.000000  19478.000000   \n",
       "mean       0.954359      1.246021      1.002516      0.597854      0.928073   \n",
       "std        0.810113      0.518838      0.784891      0.490344      0.785916   \n",
       "min        0.000000      0.000000      0.000000      0.000000      0.000000   \n",
       "25%        0.000000      1.000000      0.000000      0.000000      0.000000   \n",
       "50%        1.000000      1.000000      1.000000      1.000000      1.000000   \n",
       "75%        2.000000      2.000000      2.000000      1.000000      2.000000   \n",
       "max        2.000000      2.000000      2.000000      1.000000      2.000000   \n",
       "\n",
       "       MonthlyIncome  WorkLifeBalance  JobSatisfaction  \n",
       "count   19478.000000     19478.000000     19478.000000  \n",
       "mean        0.999179         0.716295         0.620700  \n",
       "std         0.816412         0.450807         0.485225  \n",
       "min         0.000000         0.000000         0.000000  \n",
       "25%         0.000000         0.000000         0.000000  \n",
       "50%         1.000000         1.000000         1.000000  \n",
       "75%         2.000000         1.000000         1.000000  \n",
       "max         2.000000         1.000000         1.000000  "
      ]
     },
     "execution_count": 66,
     "metadata": {},
     "output_type": "execute_result"
    }
   ],
   "source": [
    "df.describe()"
   ]
  },
  {
   "cell_type": "markdown",
   "id": "5af62963",
   "metadata": {},
   "source": [
    "Let's explore the relationships between them."
   ]
  },
  {
   "cell_type": "markdown",
   "id": "2ae85ea3",
   "metadata": {},
   "source": [
    "### Heatmap"
   ]
  },
  {
   "cell_type": "code",
   "execution_count": 70,
   "id": "b9edcc65",
   "metadata": {},
   "outputs": [
    {
     "data": {
      "text/plain": [
       "<AxesSubplot:>"
      ]
     },
     "execution_count": 70,
     "metadata": {},
     "output_type": "execute_result"
    },
    {
     "data": {
      "image/png": "[encoded data removed]",
      "text/plain": [
       "<Figure size 432x288 with 2 Axes>"
      ]
     },
     "metadata": {
      "needs_background": "light"
     },
     "output_type": "display_data"
    }
   ],
   "source": [
    "corr = df[df.columns].corr()\n",
    "sns.heatmap(corr, cmap=\"YlGnBu\", annot=True)"
   ]
  },
  {
   "cell_type": "markdown",
   "id": "b0418097",
   "metadata": {},
   "source": [
    "- String correlation between `JobLevel` and `MonthlyIncome`.\n",
    "- Correlation between `Age` and `JobLevel` and `Education`.\n",
    "- Between all the remaining features, no relationship. No relationships `Gender`-`JobLevel`, `Education`-`JobLevel`, `MonthlyIncome`-`JobeSatisfaction`, `WorkLifeBalance`-`JobSatisfactio`, ... . Quite unrealistic."
   ]
  },
  {
   "cell_type": "markdown",
   "id": "2515756c",
   "metadata": {},
   "source": [
    "### Pairplot"
   ]
  },
  {
   "cell_type": "code",
   "execution_count": 71,
   "id": "941a4d57",
   "metadata": {},
   "outputs": [
    {
     "data": {
      "image/png": "[encoded data removed]",
      "text/plain": [
       "<Figure size 1440x1440 with 72 Axes>"
      ]
     },
     "metadata": {
      "needs_background": "light"
     },
     "output_type": "display_data"
    }
   ],
   "source": [
    "import seaborn as sns\n",
    "sns.pairplot(df);"
   ]
  },
  {
   "cell_type": "markdown",
   "id": "89a5b649",
   "metadata": {},
   "source": [
    "### Boxplots\n",
    "Apart from `JobLevel`-`MonthlyIncome`, `Age`-`JobLevel` and `Age`-`Education`, no other relationships."
   ]
  },
  {
   "cell_type": "code",
   "execution_count": 72,
   "id": "9d140511",
   "metadata": {},
   "outputs": [
    {
     "data": {
      "text/plain": [
       "<AxesSubplot:xlabel='JobLevel', ylabel='MonthlyIncome'>"
      ]
     },
     "execution_count": 72,
     "metadata": {},
     "output_type": "execute_result"
    },
    {
     "data": {
      "image/png": "[encoded data removed]",
      "text/plain": [
       "<Figure size 432x288 with 1 Axes>"
      ]
     },
     "metadata": {
      "needs_background": "light"
     },
     "output_type": "display_data"
    }
   ],
   "source": [
    "sns.boxplot(x='JobLevel', y='MonthlyIncome', data=df)"
   ]
  },
  {
   "cell_type": "code",
   "execution_count": 73,
   "id": "d6d48896",
   "metadata": {},
   "outputs": [
    {
     "data": {
      "text/plain": [
       "<AxesSubplot:xlabel='Age', ylabel='JobLevel'>"
      ]
     },
     "execution_count": 73,
     "metadata": {},
     "output_type": "execute_result"
    },
    {
     "data": {
      "image/png": "[encoded data removed]",
      "text/plain": [
       "<Figure size 432x288 with 1 Axes>"
      ]
     },
     "metadata": {
      "needs_background": "light"
     },
     "output_type": "display_data"
    }
   ],
   "source": [
    "sns.boxplot(x='Age', y='JobLevel', data=df)"
   ]
  },
  {
   "cell_type": "code",
   "execution_count": 75,
   "id": "83b60f71",
   "metadata": {},
   "outputs": [
    {
     "data": {
      "text/plain": [
       "<AxesSubplot:xlabel='Age', ylabel='Education'>"
      ]
     },
     "execution_count": 75,
     "metadata": {},
     "output_type": "execute_result"
    },
    {
     "data": {
      "image/png": "[encoded data removed]",
      "text/plain": [
       "<Figure size 432x288 with 1 Axes>"
      ]
     },
     "metadata": {
      "needs_background": "light"
     },
     "output_type": "display_data"
    }
   ],
   "source": [
    "sns.boxplot(x='Age', y='Education', data=df)"
   ]
  },
  {
   "cell_type": "code",
   "execution_count": 76,
   "id": "a5f4fdc7",
   "metadata": {},
   "outputs": [
    {
     "data": {
      "text/plain": [
       "<AxesSubplot:xlabel='MonthlyIncome', ylabel='JobSatisfaction'>"
      ]
     },
     "execution_count": 76,
     "metadata": {},
     "output_type": "execute_result"
    },
    {
     "data": {
      "image/png": "[encoded data removed]",
      "text/plain": [
       "<Figure size 432x288 with 1 Axes>"
      ]
     },
     "metadata": {
      "needs_background": "light"
     },
     "output_type": "display_data"
    }
   ],
   "source": [
    "sns.boxplot(x='MonthlyIncome', y='JobSatisfaction', data=df)"
   ]
  },
  {
   "cell_type": "code",
   "execution_count": 77,
   "id": "3e643449",
   "metadata": {},
   "outputs": [
    {
     "data": {
      "text/plain": [
       "<AxesSubplot:xlabel='Gender', ylabel='JobLevel'>"
      ]
     },
     "execution_count": 77,
     "metadata": {},
     "output_type": "execute_result"
    },
    {
     "data": {
      "image/png": "[encoded data removed]",
      "text/plain": [
       "<Figure size 432x288 with 1 Axes>"
      ]
     },
     "metadata": {
      "needs_background": "light"
     },
     "output_type": "display_data"
    }
   ],
   "source": [
    "sns.boxplot(x='Gender', y='JobLevel', data=df)"
   ]
  },
  {
   "cell_type": "markdown",
   "id": "62ca3228",
   "metadata": {},
   "source": [
    "## ADDING BIAS\n",
    "As is has just been showed, there are only few relationships in our dataset. Only relationships `JobLevel`-`MonthlyIncome`, `Age`-`JobLevel` and `Age`-`Education`.\n",
    "\n",
    "This is quite unrealistic, and it is not suitable for our purposes. Therefore, we slightly modify the dataset, by adding some bias into it. "
   ]
  },
  {
   "cell_type": "code",
   "execution_count": 78,
   "id": "d136aad4",
   "metadata": {},
   "outputs": [],
   "source": [
    "from utils import add_bias"
   ]
  },
  {
   "cell_type": "code",
   "execution_count": 79,
   "id": "4263ef01",
   "metadata": {},
   "outputs": [
    {
     "name": "stdout",
     "output_type": "stream",
     "text": [
      "Help on function add_bias in module utils:\n",
      "\n",
      "add_bias(data, evidence, variable, positive=True, amount=0.2)\n",
      "    Adds some bias in the given dataset, for injecting a certain relationship.\n",
      "    \n",
      "    The relationship of interest is the relationship `evidence`->`variable`: `evidence` is the antecedent and `variable` is\n",
      "    the consequent. \n",
      "    Intuitively, this relationship is enforced by slightly modifying some values of `variable` s.t. a bigger correlation \n",
      "    between the variables emrges. \n",
      "    \n",
      "    Parameters\n",
      "    ----------\n",
      "    data : pd.DataFrame\n",
      "        Dataset into which injecting the bias\n",
      "    evidence : str\n",
      "        Antecedent feature\n",
      "    variable : str\n",
      "        Consequent feature\n",
      "    positive : bool, optional\n",
      "        Positive or negative influence of the antecedent on the consequent, by default True.\n",
      "        Positive influence means positive correlation: the bigger `evidence`, the bigger `variable`.\n",
      "        Negative influence means negative correlation: the smaller `evidence`, the bigger `variable`.\n",
      "    amount : float, optional\n",
      "        Amount of bias to inject, by default 0.2.\n",
      "        Intuitively represents the probability that a value of `variable` is changed. \n",
      "    \n",
      "    Returns\n",
      "    -------\n",
      "    data: pd.DataFrame\n",
      "        The new dataset with the injected bias\n",
      "    \n",
      "    Notes\n",
      "    -------\n",
      "    The input DataFrame is not modified, but a copy is created.\n",
      "\n"
     ]
    }
   ],
   "source": [
    "help(add_bias)"
   ]
  },
  {
   "cell_type": "code",
   "execution_count": null,
   "id": "1bb86477",
   "metadata": {},
   "outputs": [],
   "source": []
  },
  {
   "cell_type": "code",
   "execution_count": null,
   "id": "3dd1730e",
   "metadata": {},
   "outputs": [],
   "source": []
  },
  {
   "cell_type": "code",
   "execution_count": null,
   "id": "141223de",
   "metadata": {},
   "outputs": [],
   "source": []
  },
  {
   "cell_type": "code",
   "execution_count": null,
   "id": "6115fdab",
   "metadata": {},
   "outputs": [],
   "source": []
  }
 ],
 "metadata": {
  "kernelspec": {
   "display_name": "Python 3",
   "language": "python",
   "name": "python3"
  },
  "language_info": {
   "codemirror_mode": {
    "name": "ipython",
    "version": 3
   },
   "file_extension": ".py",
   "mimetype": "text/x-python",
   "name": "python",
   "nbconvert_exporter": "python",
   "pygments_lexer": "ipython3",
   "version": "3.8.8"
  }
 },
 "nbformat": 4,
 "nbformat_minor": 5
}
