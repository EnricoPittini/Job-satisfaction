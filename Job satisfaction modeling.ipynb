{
 "cells": [
  {
   "cell_type": "markdown",
   "id": "fd664c70",
   "metadata": {},
   "source": [
    "# Job satisfaction\n",
    "\n",
    "Job satisfaction is a foundamental aspect of modern society, both for personal happiness and companies productivity. This concept was introduced by Robert Hoppock in 1933 as “The combination of psychological, physiological and environmental circumstances that cause a person to truthfully say “I am satisfied with my job”. \n",
    "\n",
    "In this notebook we build a Bayesian Network for modeling and predicting job satisfaction. We will build a simple model for capturing and representing a generic job environment, involving several variables: Age, Education, Gender, Department, JobLevel, MonthlyIncome, WorkLifeBalance and JobSatisfaction. \n",
    "\n",
    "The [IBM Watson's dataset](https://thebrew.in/hr-analytics-quick-snapshot-ibm-dataset/) is used, which is an artificial dataset. In particular, this [version](https://github.com/shailysaigal/Job-Satisfaction-on-IBM-Watson-dataset) is used. We will slightly modify it, for making it more suitable to our task.\n",
    "\n",
    "For our purposes, the `pgmpy` library will be used."
   ]
  },
  {
   "cell_type": "markdown",
   "id": "e6169bbb",
   "metadata": {},
   "source": [
    "## DATASET"
   ]
  },
  {
   "cell_type": "code",
   "execution_count": 1,
   "id": "35527979",
   "metadata": {},
   "outputs": [],
   "source": [
    "import pandas as pd\n",
    "import numpy as np\n",
    "import seaborn as sns\n",
    "import matplotlib.pyplot as plt"
   ]
  },
  {
   "cell_type": "code",
   "execution_count": 38,
   "id": "5e253a7a",
   "metadata": {},
   "outputs": [],
   "source": [
    "df = pd.read_excel('Datasets/IBM_Job_satisfaction.xlsm')"
   ]
  },
  {
   "cell_type": "code",
   "execution_count": 3,
   "id": "9645343a",
   "metadata": {},
   "outputs": [
    {
     "name": "stdout",
     "output_type": "stream",
     "text": [
      "<class 'pandas.core.frame.DataFrame'>\n",
      "RangeIndex: 19478 entries, 0 to 19477\n",
      "Data columns (total 30 columns):\n",
      " #   Column                    Non-Null Count  Dtype \n",
      "---  ------                    --------------  ----- \n",
      " 0   Age                       19478 non-null  int64 \n",
      " 1   BusinessTravel            19478 non-null  object\n",
      " 2   DailyRate                 19478 non-null  int64 \n",
      " 3   Department                19478 non-null  object\n",
      " 4   DistanceFromHome          19478 non-null  int64 \n",
      " 5   Education                 19478 non-null  int64 \n",
      " 6   EnvironmentSatisfaction   19478 non-null  int64 \n",
      " 7   Gender                    19478 non-null  object\n",
      " 8   HourlyRate                19478 non-null  int64 \n",
      " 9   JobInvolvement            19478 non-null  int64 \n",
      " 10  JobLevel                  19478 non-null  int64 \n",
      " 11  JobRole                   19478 non-null  object\n",
      " 12  JobSatisfaction           19478 non-null  int64 \n",
      " 13  MaritalStatus             19478 non-null  object\n",
      " 14  MonthlyIncome             19478 non-null  int64 \n",
      " 15  MonthlyRate               19478 non-null  int64 \n",
      " 16  NumCompaniesWorked        19478 non-null  int64 \n",
      " 17  OverTime                  19478 non-null  object\n",
      " 18  PercentSalaryHike         19478 non-null  int64 \n",
      " 19  RelationshipSatisfaction  19478 non-null  int64 \n",
      " 20  StandardHours             19478 non-null  int64 \n",
      " 21  StockOptionLevel          19478 non-null  int64 \n",
      " 22  TotalWorkingYears         19478 non-null  int64 \n",
      " 23  TrainingTimesLastYear     19478 non-null  int64 \n",
      " 24  WorkLifeBalance           19478 non-null  int64 \n",
      " 25  YearsAtCompany            19478 non-null  int64 \n",
      " 26  YearsInCurrentRole        19478 non-null  int64 \n",
      " 27  YearsSinceLastPromotion   19478 non-null  int64 \n",
      " 28  YearsWithCurrManager      19478 non-null  int64 \n",
      " 29  Employee Source           19478 non-null  object\n",
      "dtypes: int64(23), object(7)\n",
      "memory usage: 4.5+ MB\n"
     ]
    }
   ],
   "source": [
    "df.info()"
   ]
  },
  {
   "cell_type": "markdown",
   "id": "7d8dd4e6",
   "metadata": {},
   "source": [
    "The dataset consists in a collection of responses from $19478$ employees. For each employee, there are several features. We restrict to the following features: Age, Education, Gender, Department, JobLevel, MonthlyIncome, WorkLifeBalance and JobSatisfaction."
   ]
  },
  {
   "cell_type": "code",
   "execution_count": 39,
   "id": "3998bfff",
   "metadata": {},
   "outputs": [],
   "source": [
    "df = df[['Age', 'Department', 'Education', 'Gender', 'JobLevel', 'MonthlyIncome', 'WorkLifeBalance','JobSatisfaction']]"
   ]
  },
  {
   "cell_type": "code",
   "execution_count": 6,
   "id": "c58e863f",
   "metadata": {},
   "outputs": [
    {
     "name": "stdout",
     "output_type": "stream",
     "text": [
      "<class 'pandas.core.frame.DataFrame'>\n",
      "RangeIndex: 19478 entries, 0 to 19477\n",
      "Data columns (total 8 columns):\n",
      " #   Column           Non-Null Count  Dtype \n",
      "---  ------           --------------  ----- \n",
      " 0   Age              19478 non-null  int64 \n",
      " 1   Department       19478 non-null  object\n",
      " 2   Education        19478 non-null  int64 \n",
      " 3   Gender           19478 non-null  object\n",
      " 4   JobLevel         19478 non-null  int64 \n",
      " 5   MonthlyIncome    19478 non-null  int64 \n",
      " 6   WorkLifeBalance  19478 non-null  int64 \n",
      " 7   JobSatisfaction  19478 non-null  int64 \n",
      "dtypes: int64(6), object(2)\n",
      "memory usage: 1.2+ MB\n"
     ]
    }
   ],
   "source": [
    "df.info()"
   ]
  },
  {
   "cell_type": "markdown",
   "id": "fbeac372",
   "metadata": {},
   "source": [
    "### Brief analyisis"
   ]
  },
  {
   "cell_type": "code",
   "execution_count": 7,
   "id": "23e9be25",
   "metadata": {},
   "outputs": [
    {
     "data": {
      "text/html": [
       "<div>\n",
       "<style scoped>\n",
       "    .dataframe tbody tr th:only-of-type {\n",
       "        vertical-align: middle;\n",
       "    }\n",
       "\n",
       "    .dataframe tbody tr th {\n",
       "        vertical-align: top;\n",
       "    }\n",
       "\n",
       "    .dataframe thead th {\n",
       "        text-align: right;\n",
       "    }\n",
       "</style>\n",
       "<table border=\"1\" class=\"dataframe\">\n",
       "  <thead>\n",
       "    <tr style=\"text-align: right;\">\n",
       "      <th></th>\n",
       "      <th>Age</th>\n",
       "      <th>Education</th>\n",
       "      <th>JobLevel</th>\n",
       "      <th>MonthlyIncome</th>\n",
       "      <th>WorkLifeBalance</th>\n",
       "      <th>JobSatisfaction</th>\n",
       "    </tr>\n",
       "  </thead>\n",
       "  <tbody>\n",
       "    <tr>\n",
       "      <th>count</th>\n",
       "      <td>19478.000000</td>\n",
       "      <td>19478.000000</td>\n",
       "      <td>19478.000000</td>\n",
       "      <td>19478.000000</td>\n",
       "      <td>19478.000000</td>\n",
       "      <td>19478.000000</td>\n",
       "    </tr>\n",
       "    <tr>\n",
       "      <th>mean</th>\n",
       "      <td>37.524489</td>\n",
       "      <td>2.924274</td>\n",
       "      <td>2.104990</td>\n",
       "      <td>6665.078961</td>\n",
       "      <td>2.769689</td>\n",
       "      <td>2.752849</td>\n",
       "    </tr>\n",
       "    <tr>\n",
       "      <th>std</th>\n",
       "      <td>8.860420</td>\n",
       "      <td>1.026008</td>\n",
       "      <td>1.115506</td>\n",
       "      <td>4781.062495</td>\n",
       "      <td>0.700480</td>\n",
       "      <td>1.097875</td>\n",
       "    </tr>\n",
       "    <tr>\n",
       "      <th>min</th>\n",
       "      <td>18.000000</td>\n",
       "      <td>1.000000</td>\n",
       "      <td>1.000000</td>\n",
       "      <td>1009.000000</td>\n",
       "      <td>1.000000</td>\n",
       "      <td>1.000000</td>\n",
       "    </tr>\n",
       "    <tr>\n",
       "      <th>25%</th>\n",
       "      <td>31.000000</td>\n",
       "      <td>2.000000</td>\n",
       "      <td>1.000000</td>\n",
       "      <td>3038.000000</td>\n",
       "      <td>2.000000</td>\n",
       "      <td>2.000000</td>\n",
       "    </tr>\n",
       "    <tr>\n",
       "      <th>50%</th>\n",
       "      <td>36.000000</td>\n",
       "      <td>3.000000</td>\n",
       "      <td>2.000000</td>\n",
       "      <td>5042.000000</td>\n",
       "      <td>3.000000</td>\n",
       "      <td>3.000000</td>\n",
       "    </tr>\n",
       "    <tr>\n",
       "      <th>75%</th>\n",
       "      <td>43.000000</td>\n",
       "      <td>4.000000</td>\n",
       "      <td>3.000000</td>\n",
       "      <td>8620.000000</td>\n",
       "      <td>3.000000</td>\n",
       "      <td>4.000000</td>\n",
       "    </tr>\n",
       "    <tr>\n",
       "      <th>max</th>\n",
       "      <td>60.000000</td>\n",
       "      <td>5.000000</td>\n",
       "      <td>5.000000</td>\n",
       "      <td>19999.000000</td>\n",
       "      <td>4.000000</td>\n",
       "      <td>4.000000</td>\n",
       "    </tr>\n",
       "  </tbody>\n",
       "</table>\n",
       "</div>"
      ],
      "text/plain": [
       "                Age     Education      JobLevel  MonthlyIncome  \\\n",
       "count  19478.000000  19478.000000  19478.000000   19478.000000   \n",
       "mean      37.524489      2.924274      2.104990    6665.078961   \n",
       "std        8.860420      1.026008      1.115506    4781.062495   \n",
       "min       18.000000      1.000000      1.000000    1009.000000   \n",
       "25%       31.000000      2.000000      1.000000    3038.000000   \n",
       "50%       36.000000      3.000000      2.000000    5042.000000   \n",
       "75%       43.000000      4.000000      3.000000    8620.000000   \n",
       "max       60.000000      5.000000      5.000000   19999.000000   \n",
       "\n",
       "       WorkLifeBalance  JobSatisfaction  \n",
       "count     19478.000000     19478.000000  \n",
       "mean          2.769689         2.752849  \n",
       "std           0.700480         1.097875  \n",
       "min           1.000000         1.000000  \n",
       "25%           2.000000         2.000000  \n",
       "50%           3.000000         3.000000  \n",
       "75%           3.000000         4.000000  \n",
       "max           4.000000         4.000000  "
      ]
     },
     "execution_count": 7,
     "metadata": {},
     "output_type": "execute_result"
    }
   ],
   "source": [
    "df.describe()"
   ]
  },
  {
   "cell_type": "markdown",
   "id": "48640f8b",
   "metadata": {},
   "source": [
    "The numerical features are the following.\n",
    "- `Age`, with values in $[18,60]$.\n",
    "- `Education`, with values in $[1,5]$, $5$ for the highest education level.\n",
    "- `JobLevel`, with values in $[1,5]$, $5$ for the highest job level.\n",
    "- `MonthlyIncome`, with values in $[1009,19999]$.\n",
    "- `WorkLifeBalance`, with values in $[0,4]$, $4$ for the highest work-life balance level.\n",
    "- `JobSatisfaction`, with values in $[0,4]$, $4$ for the highest job-satisfaction level."
   ]
  },
  {
   "cell_type": "markdown",
   "id": "953f2e00",
   "metadata": {},
   "source": [
    "There are also two non-numerical features: `Department` and `Gender`."
   ]
  },
  {
   "cell_type": "code",
   "execution_count": 4,
   "id": "dcdda527",
   "metadata": {},
   "outputs": [
    {
     "name": "stdout",
     "output_type": "stream",
     "text": [
      "`Department` unique values: ['Research & Development', 'Human Resources', 'Sales']\n",
      "`Gender` unique values: ['Male', 'Female']\n"
     ]
    }
   ],
   "source": [
    "print('`Department` unique values:', list(df['Department'].unique()))\n",
    "print('`Gender` unique values:', list(df['Gender'].unique()))"
   ]
  },
  {
   "cell_type": "markdown",
   "id": "0fdcab09",
   "metadata": {},
   "source": [
    "### Visualization"
   ]
  },
  {
   "cell_type": "code",
   "execution_count": 29,
   "id": "a5d34f7a",
   "metadata": {},
   "outputs": [
    {
     "data": {
      "text/plain": [
       "Text(0, 0.5, '#employees')"
      ]
     },
     "execution_count": 29,
     "metadata": {},
     "output_type": "execute_result"
    },
    {
     "data": {
      "image/png": "[encoded data removed]",
      "text/plain": [
       "<Figure size 432x288 with 1 Axes>"
      ]
     },
     "metadata": {
      "needs_background": "light"
     },
     "output_type": "display_data"
    }
   ],
   "source": [
    "plot = df['Age'].sort_values().plot(use_index=False)\n",
    "plot.set_title('Age')\n",
    "plot.set_ylabel('#employees')"
   ]
  },
  {
   "cell_type": "code",
   "execution_count": 30,
   "id": "6790ab6b",
   "metadata": {},
   "outputs": [
    {
     "data": {
      "image/png": "[encoded data removed]",
      "text/plain": [
       "<Figure size 432x288 with 1 Axes>"
      ]
     },
     "metadata": {
      "needs_background": "light"
     },
     "output_type": "display_data"
    }
   ],
   "source": [
    "hist = df['Education'].hist()\n",
    "hist.set_title('Education')\n",
    "hist.set_ylabel('#employees');"
   ]
  },
  {
   "cell_type": "code",
   "execution_count": 31,
   "id": "0abdcdd4",
   "metadata": {},
   "outputs": [
    {
     "data": {
      "image/png": "[encoded data removed]",
      "text/plain": [
       "<Figure size 432x288 with 1 Axes>"
      ]
     },
     "metadata": {
      "needs_background": "light"
     },
     "output_type": "display_data"
    }
   ],
   "source": [
    "hist = df['Gender'].hist()\n",
    "hist.set_title('Gender')\n",
    "hist.set_ylabel('#employees');"
   ]
  },
  {
   "cell_type": "code",
   "execution_count": 25,
   "id": "9190df6b",
   "metadata": {},
   "outputs": [
    {
     "data": {
      "image/png": "[encoded data removed]",
      "text/plain": [
       "<Figure size 432x288 with 1 Axes>"
      ]
     },
     "metadata": {
      "needs_background": "light"
     },
     "output_type": "display_data"
    }
   ],
   "source": [
    "hist = df['Department'].hist()\n",
    "hist.set_title('Department')\n",
    "hist.set_ylabel('#employees');"
   ]
  },
  {
   "cell_type": "code",
   "execution_count": 32,
   "id": "92d4fd6b",
   "metadata": {},
   "outputs": [
    {
     "data": {
      "image/png": "[encoded data removed]",
      "text/plain": [
       "<Figure size 432x288 with 1 Axes>"
      ]
     },
     "metadata": {
      "needs_background": "light"
     },
     "output_type": "display_data"
    }
   ],
   "source": [
    "hist = df['JobLevel'].hist()\n",
    "hist.set_title('JobLevel')\n",
    "hist.set_ylabel('#employees');"
   ]
  },
  {
   "cell_type": "code",
   "execution_count": 28,
   "id": "ce499352",
   "metadata": {},
   "outputs": [
    {
     "data": {
      "text/plain": [
       "Text(0, 0.5, '#employees')"
      ]
     },
     "execution_count": 28,
     "metadata": {},
     "output_type": "execute_result"
    },
    {
     "data": {
      "image/png": "[encoded data removed]",
      "text/plain": [
       "<Figure size 432x288 with 1 Axes>"
      ]
     },
     "metadata": {
      "needs_background": "light"
     },
     "output_type": "display_data"
    }
   ],
   "source": [
    "plot = df['MonthlyIncome'].sort_values().plot(use_index=False)\n",
    "plot.set_title('MonthlyIncome')\n",
    "plot.set_ylabel('#employees')"
   ]
  },
  {
   "cell_type": "code",
   "execution_count": 33,
   "id": "53b09fa7",
   "metadata": {},
   "outputs": [
    {
     "data": {
      "image/png": "[encoded data removed]",
      "text/plain": [
       "<Figure size 432x288 with 1 Axes>"
      ]
     },
     "metadata": {
      "needs_background": "light"
     },
     "output_type": "display_data"
    }
   ],
   "source": [
    "hist = df['WorkLifeBalance'].hist()\n",
    "hist.set_title('WorkLifeBalance')\n",
    "hist.set_ylabel('#employees');"
   ]
  },
  {
   "cell_type": "code",
   "execution_count": 34,
   "id": "b673af91",
   "metadata": {},
   "outputs": [
    {
     "data": {
      "image/png": "[encoded data removed]",
      "text/plain": [
       "<Figure size 432x288 with 1 Axes>"
      ]
     },
     "metadata": {
      "needs_background": "light"
     },
     "output_type": "display_data"
    }
   ],
   "source": [
    "hist = df['JobSatisfaction'].hist()\n",
    "hist.set_title('JobSatisfaction')\n",
    "hist.set_ylabel('#employees');"
   ]
  },
  {
   "cell_type": "markdown",
   "id": "46b3b95c",
   "metadata": {},
   "source": [
    "### Loading the final dataset\n",
    "In the next sections, some operations will be done on the dataset:\n",
    "- preprocessing;\n",
    "- adding bias.\n",
    "\n",
    "This final dataset has been stored into `Datasets/IBM_Job_satisfaction_final.xlsm`. So, instead of doing the next operations, it is enough to load the final dataset, as follows:"
   ]
  },
  {
   "cell_type": "code",
   "execution_count": 79,
   "id": "f8cf6d2b",
   "metadata": {},
   "outputs": [],
   "source": [
    "df = pd.read_excel('Datasets/IBM_Job_satisfaction_final.xlsm')"
   ]
  },
  {
   "cell_type": "markdown",
   "id": "d4c6051e",
   "metadata": {},
   "source": [
    "## PREPROCESSING\n",
    "Several preprocessing activities must be carried out before building our model.\n",
    "\n",
    "*Note: the next operations are not needed if the dataset `Datasets/IBM_Job_satisfaction_final.xlsm` has been loaded*. "
   ]
  },
  {
   "cell_type": "markdown",
   "id": "37b15289",
   "metadata": {},
   "source": [
    "### Dealing with non-numerical features\n",
    "We map the non-numerical features, i.e. `Department` and `Gender,` into numerical values."
   ]
  },
  {
   "cell_type": "markdown",
   "id": "2885bb52",
   "metadata": {},
   "source": [
    "**`Department`** In performing this mapping, the values are ordered in an ascending order with respect to the typical salary in a company: ordering 'Human Resources' - 'Research & Development' - 'Sales'"
   ]
  },
  {
   "cell_type": "code",
   "execution_count": 40,
   "id": "afd1094a",
   "metadata": {},
   "outputs": [
    {
     "data": {
      "text/plain": [
       "{'Human Resources': 0, 'Research & Development': 1, 'Sales': 2}"
      ]
     },
     "execution_count": 40,
     "metadata": {},
     "output_type": "execute_result"
    }
   ],
   "source": [
    "# Map `Department` into numerical values.\n",
    "dept_dict = {d:i for i,d in enumerate(df['Department'].unique()[[1, 0, 2]])}\n",
    "dept_dict_inv = {i:d for d,i in dept_dict.items()}\n",
    "dept_dict"
   ]
  },
  {
   "cell_type": "code",
   "execution_count": 41,
   "id": "54ee7d82",
   "metadata": {},
   "outputs": [],
   "source": [
    "# Perform the mapping for `Department`\n",
    "df['Department'] = df['Department'].map(dept_dict)"
   ]
  },
  {
   "cell_type": "markdown",
   "id": "5f33f90c",
   "metadata": {},
   "source": [
    "**`Gender`**"
   ]
  },
  {
   "cell_type": "code",
   "execution_count": 42,
   "id": "97041ccb",
   "metadata": {},
   "outputs": [
    {
     "data": {
      "text/plain": [
       "{'Female': 0, 'Male': 1}"
      ]
     },
     "execution_count": 42,
     "metadata": {},
     "output_type": "execute_result"
    }
   ],
   "source": [
    "# Map `Gender` into numerical values\n",
    "gender_dict = {g:i for i,g in enumerate(df['Gender'].unique()[[1,0]])}\n",
    "gender_dict_inv = {i:g for g,i in dept_dict.items()}\n",
    "gender_dict"
   ]
  },
  {
   "cell_type": "code",
   "execution_count": 43,
   "id": "66c5fbfd",
   "metadata": {},
   "outputs": [],
   "source": [
    "# Perform the mapping for `Gender`\n",
    "df['Gender'] = df['Gender'].map(gender_dict)"
   ]
  },
  {
   "cell_type": "markdown",
   "id": "e62f6d4d",
   "metadata": {},
   "source": [
    "### Dealing with continuous features\n",
    "We discretize the continuous features, i.e. `Age` and `MonthlyIncome`. We discretize each feature into three balanced levels. With \"balanced\" levels we mean that the levels have almost the same number of employees.\n",
    "\n",
    "**`Age`** First of all, let's do that for `Age`. The three balanced levels are the following: from the min (i.e. $18$) to the $0.33$ quantile; from the $0.33$ quantile to the $0.66$ quantile; from the $0.66$ quantile to the max (i.e. $60$). "
   ]
  },
  {
   "cell_type": "code",
   "execution_count": 44,
   "id": "e8739e0e",
   "metadata": {},
   "outputs": [
    {
     "name": "stdout",
     "output_type": "stream",
     "text": [
      "0.33 quantile: 33\t0.66 quantile: 41\n",
      "\n",
      "The three levels for `Age` are the following:\n",
      "\t18-33\n",
      "\t33-41\n",
      "\t41-60\n"
     ]
    }
   ],
   "source": [
    "# Computing the levels for dividing `Age` into three balanced intervals\n",
    "min_age = df['Age'].min()  # 18\n",
    "max_age = df['Age'].max()  # 60\n",
    "\n",
    "# 0.33 quantile and 0.66 quantile\n",
    "q1_age, q2_age = df['Age'].quantile([0.3333,0.6666]).astype(int).values\n",
    "print(f'0.33 quantile: {q1_age}\\t0.66 quantile: {q2_age}')\n",
    "print()\n",
    "\n",
    "\n",
    "print(f'The three levels for `Age` are the following:\\n\\t{min_age}-{q1_age}\\n\\t{q1_age}-{q2_age}\\n\\t{q2_age}-{max_age}')"
   ]
  },
  {
   "cell_type": "code",
   "execution_count": 45,
   "id": "a4762368",
   "metadata": {},
   "outputs": [
    {
     "name": "stdout",
     "output_type": "stream",
     "text": [
      "Number of employees in the three levels: "
     ]
    },
    {
     "data": {
      "text/plain": [
       "(6856, 6655, 5967)"
      ]
     },
     "execution_count": 45,
     "metadata": {},
     "output_type": "execute_result"
    }
   ],
   "source": [
    "print('Number of employees in the three levels:', end=' ')\n",
    "(df['Age']<=q1_age).sum(), (np.logical_and(df['Age']>q1_age,df['Age']<=q2_age)).sum(), (df['Age']>q2_age).sum()"
   ]
  },
  {
   "cell_type": "code",
   "execution_count": 46,
   "id": "f3ee73e8",
   "metadata": {},
   "outputs": [],
   "source": [
    "# Auxiliary function which takes in input an age and returns the string-encoded interval in which the given age belongs.\n",
    "# Example: age=36 -> level '33-41'\n",
    "def transform_age(age):\n",
    "    if age<=q1_age:\n",
    "        return f'{min_age}-{q1_age}'\n",
    "    elif age>q1_age and age<=q2_age:\n",
    "        return f'{q1_age}-{q2_age}'\n",
    "    elif age>q2_age:\n",
    "        return f'{q2_age}-{max_age}'\n",
    "    \n",
    "# Apply the function on each value\n",
    "df['Age'] = df['Age'].map(transform_age)"
   ]
  },
  {
   "cell_type": "code",
   "execution_count": 47,
   "id": "67894d82",
   "metadata": {},
   "outputs": [
    {
     "name": "stdout",
     "output_type": "stream",
     "text": [
      "Three levels of `Age`: ['18-33', '33-41', '41-60']\n"
     ]
    }
   ],
   "source": [
    "print('Three levels of `Age`:', sorted(list(df['Age'].unique())))"
   ]
  },
  {
   "cell_type": "code",
   "execution_count": 48,
   "id": "ebae27ce",
   "metadata": {},
   "outputs": [
    {
     "data": {
      "text/plain": [
       "{'18-33': 0, '33-41': 1, '41-60': 2}"
      ]
     },
     "execution_count": 48,
     "metadata": {},
     "output_type": "execute_result"
    }
   ],
   "source": [
    "# Now we map the three string-encoded levels into numbers\n",
    "age_dict = {a:i for i,a in enumerate(sorted(df['Age'].unique()))}\n",
    "age_dict_inv = {i:a for a,i in age_dict.items()}\n",
    "age_dict"
   ]
  },
  {
   "cell_type": "code",
   "execution_count": 49,
   "id": "e084417f",
   "metadata": {},
   "outputs": [],
   "source": [
    "# Apply the mapping\n",
    "df['Age'] = df['Age'].map(age_dict)"
   ]
  },
  {
   "cell_type": "code",
   "execution_count": 50,
   "id": "5edd52c3",
   "metadata": {},
   "outputs": [
    {
     "name": "stdout",
     "output_type": "stream",
     "text": [
      "Three levels of `Age`: [0, 1, 2]\n"
     ]
    }
   ],
   "source": [
    "print('Three levels of `Age`:', sorted(list(df['Age'].unique())))"
   ]
  },
  {
   "cell_type": "markdown",
   "id": "5b4f9d09",
   "metadata": {},
   "source": [
    "**`MonthlyIncome`** Let's now do that same thing for `MonthlyIncome`. The min value is $1009$, while the max is $19999$."
   ]
  },
  {
   "cell_type": "code",
   "execution_count": 51,
   "id": "c2d5ebaf",
   "metadata": {},
   "outputs": [
    {
     "name": "stdout",
     "output_type": "stream",
     "text": [
      "0.33 quantile: 3812\t0.66 quantile: 6632\n",
      "\n",
      "The three levels for `Age` are the following:\n",
      "\t1009-3812\n",
      "\t3812-6632\n",
      "\t6632-19999\n"
     ]
    }
   ],
   "source": [
    "# Computing the levels for dividing `MonthlyIncome` into three balanced intervals\n",
    "min_inc = df['MonthlyIncome'].min()  # 1009\n",
    "max_inc = df['MonthlyIncome'].max()  # 19999\n",
    "\n",
    "\n",
    "q1_inc, q2_inc = df['MonthlyIncome'].quantile([0.3333,0.6666]).astype(int).values\n",
    "print(f'0.33 quantile: {q1_inc}\\t0.66 quantile: {q2_inc}')\n",
    "print()\n",
    "\n",
    "print(f'The three levels for `Age` are the following:\\n\\t{min_inc}-{q1_inc}\\n\\t{q1_inc}-{q2_inc}\\n\\t{q2_inc}-{max_inc}')"
   ]
  },
  {
   "cell_type": "code",
   "execution_count": 52,
   "id": "be24e9c9",
   "metadata": {},
   "outputs": [
    {
     "name": "stdout",
     "output_type": "stream",
     "text": [
      "Number of employees in the three levels: "
     ]
    },
    {
     "data": {
      "text/plain": [
       "(6499, 6496, 6483)"
      ]
     },
     "execution_count": 52,
     "metadata": {},
     "output_type": "execute_result"
    }
   ],
   "source": [
    "print('Number of employees in the three levels:', end=' ')\n",
    "(df['MonthlyIncome']<=q1_inc).sum(), (np.logical_and(df['MonthlyIncome']>q1_inc,df['MonthlyIncome']<=q2_inc)).sum(), (df['MonthlyIncome']>q2_inc).sum()"
   ]
  },
  {
   "cell_type": "code",
   "execution_count": 53,
   "id": "0c164e00",
   "metadata": {},
   "outputs": [],
   "source": [
    "# Auxiliary function which takes in input an income and returns the string-encoded interval in which the given income\n",
    "# belongs.\n",
    "# Example: income=2700 -> level '1009-3812'\n",
    "def transform_income(income):\n",
    "    if income<=q1_inc:\n",
    "        return f'{min_inc}-{q1_inc}'\n",
    "    elif income>q1_inc and income<=q2_inc:\n",
    "        return f'{q1_inc}-{q2_inc}'\n",
    "    elif income>q2_inc:\n",
    "        return f'{q2_inc}-{max_inc}'\n",
    "    \n",
    "# Apply the function on each value\n",
    "df['MonthlyIncome'] = df['MonthlyIncome'].map(transform_income)"
   ]
  },
  {
   "cell_type": "code",
   "execution_count": 54,
   "id": "12422f4d",
   "metadata": {},
   "outputs": [
    {
     "name": "stdout",
     "output_type": "stream",
     "text": [
      "Three levels of `MonthlyIncome`: ['1009-3812', '3812-6632', '6632-19999']\n"
     ]
    }
   ],
   "source": [
    "print('Three levels of `MonthlyIncome`:', sorted(list(df['MonthlyIncome'].unique())))"
   ]
  },
  {
   "cell_type": "code",
   "execution_count": 55,
   "id": "851ee02e",
   "metadata": {},
   "outputs": [
    {
     "data": {
      "text/plain": [
       "{'1009-3812': 0, '3812-6632': 1, '6632-19999': 2}"
      ]
     },
     "execution_count": 55,
     "metadata": {},
     "output_type": "execute_result"
    }
   ],
   "source": [
    "# Now we map the three levels into numbers\n",
    "income_dict = {inc:i for i,inc in enumerate(sorted(df['MonthlyIncome'].unique(), key=lambda inc: int(inc.split('-')[0])))}\n",
    "income_dict_inv = {inc:a for a,inc in income_dict.items()}\n",
    "income_dict"
   ]
  },
  {
   "cell_type": "code",
   "execution_count": 56,
   "id": "b5e8a8b1",
   "metadata": {},
   "outputs": [],
   "source": [
    "# Apply the mapping\n",
    "df['MonthlyIncome'] = df['MonthlyIncome'].map(income_dict)"
   ]
  },
  {
   "cell_type": "code",
   "execution_count": 57,
   "id": "f4e8a082",
   "metadata": {},
   "outputs": [
    {
     "name": "stdout",
     "output_type": "stream",
     "text": [
      "Three levels of `MonthlyIncome`: [0, 1, 2]\n"
     ]
    }
   ],
   "source": [
    "print('Three levels of `MonthlyIncome`:', sorted(list(df['MonthlyIncome'].unique())))"
   ]
  },
  {
   "cell_type": "markdown",
   "id": "4d1c9bb6",
   "metadata": {},
   "source": [
    "### Reducing the number of levels\n",
    "We take the already discretized variables, i.e. `Education`, `JobLevel`, `WorkLifeBalance`, `JobSatisfaction`, and we reduce the number of levels into three balanced levels."
   ]
  },
  {
   "cell_type": "markdown",
   "id": "d82d9b62",
   "metadata": {},
   "source": [
    "**`Education`**: levels $1, 2, ..., 5$. We reduce that into three balanced levels $0, 1, 2$."
   ]
  },
  {
   "cell_type": "code",
   "execution_count": 58,
   "id": "58210c73",
   "metadata": {},
   "outputs": [
    {
     "data": {
      "image/png": "[encoded data removed]",
      "text/plain": [
       "<Figure size 432x288 with 1 Axes>"
      ]
     },
     "metadata": {
      "needs_background": "light"
     },
     "output_type": "display_data"
    }
   ],
   "source": [
    "hist = df['Education'].hist()\n",
    "hist.set_title('Education')\n",
    "hist.set_ylabel('#employees');"
   ]
  },
  {
   "cell_type": "markdown",
   "id": "b65fd437",
   "metadata": {},
   "source": [
    "- We aggregate the first two levels into the level $0$.\n",
    "- We keep alone the third level, as level $1$.\n",
    "- We aggregate the last two levels into the level $2$."
   ]
  },
  {
   "cell_type": "code",
   "execution_count": 59,
   "id": "bcfeaf1f",
   "metadata": {},
   "outputs": [
    {
     "name": "stdout",
     "output_type": "stream",
     "text": [
      "Number of employees in the three levels: "
     ]
    },
    {
     "data": {
      "text/plain": [
       "(5975, 7479, 6024)"
      ]
     },
     "execution_count": 59,
     "metadata": {},
     "output_type": "execute_result"
    }
   ],
   "source": [
    "print('Number of employees in the three levels:', end=' ')\n",
    "(df['Education']<=2).sum(), (df['Education']==3).sum(), (df['Education']>3).sum()"
   ]
  },
  {
   "cell_type": "code",
   "execution_count": 60,
   "id": "52f51cf9",
   "metadata": {},
   "outputs": [],
   "source": [
    "# Auxiliary function which takes in input an education level `e` and returns the new level.\n",
    "def transform_education(e):\n",
    "    if e>=1 and e<=2:\n",
    "        return 0\n",
    "    elif e==3:\n",
    "        return 1\n",
    "    else: \n",
    "        return 2\n",
    "\n",
    "# Apply the function on each value\n",
    "df['Education'] = df['Education'].map(transform_education)"
   ]
  },
  {
   "cell_type": "code",
   "execution_count": 62,
   "id": "11f5d042",
   "metadata": {},
   "outputs": [
    {
     "name": "stdout",
     "output_type": "stream",
     "text": [
      "Three levels of `Education`: [0, 1, 2]\n"
     ]
    }
   ],
   "source": [
    "print('Three levels of `Education`:', sorted(list(df['Education'].unique())))"
   ]
  },
  {
   "cell_type": "markdown",
   "id": "6db65550",
   "metadata": {},
   "source": [
    "**`JobLevel`**: levels $1,2,...,5$. We reduce that into three balanced levels $0,1,2$."
   ]
  },
  {
   "cell_type": "code",
   "execution_count": 63,
   "id": "4c0c12af",
   "metadata": {},
   "outputs": [
    {
     "data": {
      "image/png": "[encoded data removed]",
      "text/plain": [
       "<Figure size 432x288 with 1 Axes>"
      ]
     },
     "metadata": {
      "needs_background": "light"
     },
     "output_type": "display_data"
    }
   ],
   "source": [
    "hist = df['JobLevel'].hist()\n",
    "hist.set_title('JobLevel')\n",
    "hist.set_ylabel('#employees');"
   ]
  },
  {
   "cell_type": "markdown",
   "id": "4b823dab",
   "metadata": {},
   "source": [
    "- We keep alone the first level, as level $0$.\n",
    "- We keep alone the second level, as level $1$.\n",
    "- We aggregate the last three levels into the level $2$."
   ]
  },
  {
   "cell_type": "code",
   "execution_count": 64,
   "id": "01bcde24",
   "metadata": {},
   "outputs": [
    {
     "name": "stdout",
     "output_type": "stream",
     "text": [
      "Number of employees in the three levels: "
     ]
    },
    {
     "data": {
      "text/plain": [
       "(6766, 7347, 5365)"
      ]
     },
     "execution_count": 64,
     "metadata": {},
     "output_type": "execute_result"
    }
   ],
   "source": [
    "print('Number of employees in the three levels:', end=' ')\n",
    "(df['JobLevel']==1).sum(), (df['JobLevel']==2).sum(), (df['JobLevel']>2).sum()"
   ]
  },
  {
   "cell_type": "code",
   "execution_count": 65,
   "id": "021a7521",
   "metadata": {},
   "outputs": [],
   "source": [
    "# Auxiliary function which takes in input a job level `l` and returns the new level.\n",
    "def transform_jobLevel(l):\n",
    "    if l==1:\n",
    "        return 0\n",
    "    elif l==2:\n",
    "        return 1\n",
    "    else: \n",
    "        return 2\n",
    "\n",
    "# Apply the function on each value\n",
    "df['JobLevel'] = df['JobLevel'].map(transform_jobLevel)"
   ]
  },
  {
   "cell_type": "code",
   "execution_count": 66,
   "id": "c933e56e",
   "metadata": {},
   "outputs": [
    {
     "name": "stdout",
     "output_type": "stream",
     "text": [
      "Three levels of `JobLevel`: [0, 1, 2]\n"
     ]
    }
   ],
   "source": [
    "print('Three levels of `JobLevel`:', sorted(list(df['JobLevel'].unique())))"
   ]
  },
  {
   "cell_type": "markdown",
   "id": "03208a9a",
   "metadata": {},
   "source": [
    "**`WorkLifeBalance`**: levels $1,2,3,4$. We reduce that into three levels $0,1,2$.\n",
    "\n",
    "We simply:\n",
    "- aggregate the first two levels into the same level $0$;\n",
    "- aggregate the last two levels into the same level $1$."
   ]
  },
  {
   "cell_type": "code",
   "execution_count": 67,
   "id": "41a17122",
   "metadata": {},
   "outputs": [],
   "source": [
    "# Auxiliary function which takes in input a work-life balance level `l` and returns the new level.\n",
    "def transform_workLifeBalance(b):\n",
    "    if b>=1 and b<=2:\n",
    "        return 0\n",
    "    elif b>=3 and b<=4:\n",
    "        return 1\n",
    "\n",
    "# Apply the function on each value\n",
    "df['WorkLifeBalance'] = df['WorkLifeBalance'].map(transform_workLifeBalance)"
   ]
  },
  {
   "cell_type": "code",
   "execution_count": 68,
   "id": "4baf8082",
   "metadata": {},
   "outputs": [
    {
     "name": "stdout",
     "output_type": "stream",
     "text": [
      "Three levels of `WorkLifeBalance`: [0, 1]\n"
     ]
    }
   ],
   "source": [
    "print('Three levels of `WorkLifeBalance`:', sorted(list(df['WorkLifeBalance'].unique())))"
   ]
  },
  {
   "cell_type": "markdown",
   "id": "e5940085",
   "metadata": {},
   "source": [
    "**`JobSatisfaction`**: levels $1,2,3,4$. We reduce that into three levels $0,1,2$.\n",
    "\n",
    "We simply:\n",
    "- aggregate the first two levels into the same level $0$;\n",
    "- aggregate the last two levels into the same level $1$."
   ]
  },
  {
   "cell_type": "code",
   "execution_count": 69,
   "id": "f17a4d6d",
   "metadata": {},
   "outputs": [],
   "source": [
    "# Auxiliary function which takes in input a job satisfaction level `l` and returns the new level.\n",
    "def transform_jobSatisfaction(s):\n",
    "    if s>=1 and s<=2:\n",
    "        return 0\n",
    "    elif s>=3 and s<=4:\n",
    "        return 1\n",
    "\n",
    "# Apply the function on each value\n",
    "df['JobSatisfaction'] = df['JobSatisfaction'].map(transform_jobSatisfaction)"
   ]
  },
  {
   "cell_type": "code",
   "execution_count": 70,
   "id": "4576496a",
   "metadata": {},
   "outputs": [
    {
     "name": "stdout",
     "output_type": "stream",
     "text": [
      "Three levels of `JobSatisfaction`: [0, 1]\n"
     ]
    }
   ],
   "source": [
    "print('Three levels of `JobSatisfaction`:', sorted(list(df['JobSatisfaction'].unique())))"
   ]
  },
  {
   "cell_type": "markdown",
   "id": "0e07dd49",
   "metadata": {},
   "source": [
    "## ANALYSIS\n",
    "Eight discretized and balanced features."
   ]
  },
  {
   "cell_type": "code",
   "execution_count": 36,
   "id": "f0327864",
   "metadata": {},
   "outputs": [
    {
     "data": {
      "text/html": [
       "<div>\n",
       "<style scoped>\n",
       "    .dataframe tbody tr th:only-of-type {\n",
       "        vertical-align: middle;\n",
       "    }\n",
       "\n",
       "    .dataframe tbody tr th {\n",
       "        vertical-align: top;\n",
       "    }\n",
       "\n",
       "    .dataframe thead th {\n",
       "        text-align: right;\n",
       "    }\n",
       "</style>\n",
       "<table border=\"1\" class=\"dataframe\">\n",
       "  <thead>\n",
       "    <tr style=\"text-align: right;\">\n",
       "      <th></th>\n",
       "      <th>Age</th>\n",
       "      <th>Department</th>\n",
       "      <th>Education</th>\n",
       "      <th>Gender</th>\n",
       "      <th>JobLevel</th>\n",
       "      <th>MonthlyIncome</th>\n",
       "      <th>WorkLifeBalance</th>\n",
       "      <th>JobSatisfaction</th>\n",
       "    </tr>\n",
       "  </thead>\n",
       "  <tbody>\n",
       "    <tr>\n",
       "      <th>count</th>\n",
       "      <td>19478.000000</td>\n",
       "      <td>19478.000000</td>\n",
       "      <td>19478.000000</td>\n",
       "      <td>19478.000000</td>\n",
       "      <td>19478.000000</td>\n",
       "      <td>19478.000000</td>\n",
       "      <td>19478.000000</td>\n",
       "      <td>19478.000000</td>\n",
       "    </tr>\n",
       "    <tr>\n",
       "      <th>mean</th>\n",
       "      <td>0.954359</td>\n",
       "      <td>1.246021</td>\n",
       "      <td>1.002516</td>\n",
       "      <td>0.597854</td>\n",
       "      <td>0.928073</td>\n",
       "      <td>0.999179</td>\n",
       "      <td>0.716295</td>\n",
       "      <td>0.620700</td>\n",
       "    </tr>\n",
       "    <tr>\n",
       "      <th>std</th>\n",
       "      <td>0.810113</td>\n",
       "      <td>0.518838</td>\n",
       "      <td>0.784891</td>\n",
       "      <td>0.490344</td>\n",
       "      <td>0.785916</td>\n",
       "      <td>0.816412</td>\n",
       "      <td>0.450807</td>\n",
       "      <td>0.485225</td>\n",
       "    </tr>\n",
       "    <tr>\n",
       "      <th>min</th>\n",
       "      <td>0.000000</td>\n",
       "      <td>0.000000</td>\n",
       "      <td>0.000000</td>\n",
       "      <td>0.000000</td>\n",
       "      <td>0.000000</td>\n",
       "      <td>0.000000</td>\n",
       "      <td>0.000000</td>\n",
       "      <td>0.000000</td>\n",
       "    </tr>\n",
       "    <tr>\n",
       "      <th>25%</th>\n",
       "      <td>0.000000</td>\n",
       "      <td>1.000000</td>\n",
       "      <td>0.000000</td>\n",
       "      <td>0.000000</td>\n",
       "      <td>0.000000</td>\n",
       "      <td>0.000000</td>\n",
       "      <td>0.000000</td>\n",
       "      <td>0.000000</td>\n",
       "    </tr>\n",
       "    <tr>\n",
       "      <th>50%</th>\n",
       "      <td>1.000000</td>\n",
       "      <td>1.000000</td>\n",
       "      <td>1.000000</td>\n",
       "      <td>1.000000</td>\n",
       "      <td>1.000000</td>\n",
       "      <td>1.000000</td>\n",
       "      <td>1.000000</td>\n",
       "      <td>1.000000</td>\n",
       "    </tr>\n",
       "    <tr>\n",
       "      <th>75%</th>\n",
       "      <td>2.000000</td>\n",
       "      <td>2.000000</td>\n",
       "      <td>2.000000</td>\n",
       "      <td>1.000000</td>\n",
       "      <td>2.000000</td>\n",
       "      <td>2.000000</td>\n",
       "      <td>1.000000</td>\n",
       "      <td>1.000000</td>\n",
       "    </tr>\n",
       "    <tr>\n",
       "      <th>max</th>\n",
       "      <td>2.000000</td>\n",
       "      <td>2.000000</td>\n",
       "      <td>2.000000</td>\n",
       "      <td>1.000000</td>\n",
       "      <td>2.000000</td>\n",
       "      <td>2.000000</td>\n",
       "      <td>1.000000</td>\n",
       "      <td>1.000000</td>\n",
       "    </tr>\n",
       "  </tbody>\n",
       "</table>\n",
       "</div>"
      ],
      "text/plain": [
       "                Age    Department     Education        Gender      JobLevel  \\\n",
       "count  19478.000000  19478.000000  19478.000000  19478.000000  19478.000000   \n",
       "mean       0.954359      1.246021      1.002516      0.597854      0.928073   \n",
       "std        0.810113      0.518838      0.784891      0.490344      0.785916   \n",
       "min        0.000000      0.000000      0.000000      0.000000      0.000000   \n",
       "25%        0.000000      1.000000      0.000000      0.000000      0.000000   \n",
       "50%        1.000000      1.000000      1.000000      1.000000      1.000000   \n",
       "75%        2.000000      2.000000      2.000000      1.000000      2.000000   \n",
       "max        2.000000      2.000000      2.000000      1.000000      2.000000   \n",
       "\n",
       "       MonthlyIncome  WorkLifeBalance  JobSatisfaction  \n",
       "count   19478.000000     19478.000000     19478.000000  \n",
       "mean        0.999179         0.716295         0.620700  \n",
       "std         0.816412         0.450807         0.485225  \n",
       "min         0.000000         0.000000         0.000000  \n",
       "25%         0.000000         0.000000         0.000000  \n",
       "50%         1.000000         1.000000         1.000000  \n",
       "75%         2.000000         1.000000         1.000000  \n",
       "max         2.000000         1.000000         1.000000  "
      ]
     },
     "execution_count": 36,
     "metadata": {},
     "output_type": "execute_result"
    }
   ],
   "source": [
    "df.describe()"
   ]
  },
  {
   "cell_type": "markdown",
   "id": "5af62963",
   "metadata": {},
   "source": [
    "Let's explore the relationships between them."
   ]
  },
  {
   "cell_type": "markdown",
   "id": "2ae85ea3",
   "metadata": {},
   "source": [
    "### Heatmap\n",
    "*Reminder about correlation: correlation is a  real number in $[0,1]$, computed on a pair of variables $X_i$-$X_j$, measuring the linear relation between them.*\n",
    "- *If the value is high positive, then there is a strong positive linear relation: the higher $X_i$, the higher $X_j$*\n",
    "- *If the value is close to $0$, then weak linear relation*\n",
    "- *If the value is high negative, then there is a strong negative linear relation: the higher $X_i$, the lower $X_j$*"
   ]
  },
  {
   "cell_type": "code",
   "execution_count": 70,
   "id": "b9edcc65",
   "metadata": {},
   "outputs": [
    {
     "data": {
      "text/plain": [
       "<AxesSubplot:>"
      ]
     },
     "execution_count": 70,
     "metadata": {},
     "output_type": "execute_result"
    },
    {
     "data": {
      "image/png": "[encoded data removed]",
      "text/plain": [
       "<Figure size 432x288 with 2 Axes>"
      ]
     },
     "metadata": {
      "needs_background": "light"
     },
     "output_type": "display_data"
    }
   ],
   "source": [
    "corr = df[df.columns].corr()\n",
    "sns.heatmap(corr, cmap=\"YlGnBu\", annot=True)"
   ]
  },
  {
   "cell_type": "markdown",
   "id": "b0418097",
   "metadata": {},
   "source": [
    "- Strong correlation between `JobLevel` and `MonthlyIncome`.\n",
    "- Correlation between `Age`-`JobLevel` and `Age`-`Education` (since there is the correlation `Age`-`JobLevel`, there is also the correlation `Age`-`MonthlyIncome`).\n",
    "- Correlation (even if weaker) between `Department` and `MonthlyIncome`.\n",
    "- Between all the remaining features, no relationship. No relationships `Gender`-`JobLevel`, `Education`-`JobLevel`, `MonthlyIncome`-`JobSatisfaction`, `WorkLifeBalance`-`JobSatisfaction`, ... . Quite unrealistic and not suitable for our task."
   ]
  },
  {
   "cell_type": "markdown",
   "id": "2515756c",
   "metadata": {},
   "source": [
    "### Pairplot"
   ]
  },
  {
   "cell_type": "code",
   "execution_count": 71,
   "id": "941a4d57",
   "metadata": {},
   "outputs": [
    {
     "data": {
      "image/png": "[encoded data removed]",
      "text/plain": [
       "<Figure size 1440x1440 with 72 Axes>"
      ]
     },
     "metadata": {
      "needs_background": "light"
     },
     "output_type": "display_data"
    }
   ],
   "source": [
    "sns.pairplot(df);"
   ]
  },
  {
   "cell_type": "markdown",
   "id": "a5240036",
   "metadata": {},
   "source": [
    "The variables are too discretized for seeing any sensible pattern... Let's try with boxplots."
   ]
  },
  {
   "cell_type": "markdown",
   "id": "89a5b649",
   "metadata": {},
   "source": [
    "### Boxplots\n",
    "Apart from `JobLevel`-`MonthlyIncome`, `Age`-`JobLevel`, `Age`-`Education` and `Department`-`MonthlyIncome`, no other relationships."
   ]
  },
  {
   "cell_type": "markdown",
   "id": "6fb675fd",
   "metadata": {},
   "source": [
    "Let's visualize the relations between features."
   ]
  },
  {
   "cell_type": "code",
   "execution_count": 72,
   "id": "9d140511",
   "metadata": {},
   "outputs": [
    {
     "data": {
      "text/plain": [
       "Text(0.5, 1.0, 'Relationship JobLevel-MonthlyIncome')"
      ]
     },
     "execution_count": 72,
     "metadata": {},
     "output_type": "execute_result"
    },
    {
     "data": {
      "image/png": "[encoded data removed]",
      "text/plain": [
       "<Figure size 432x288 with 1 Axes>"
      ]
     },
     "metadata": {
      "needs_background": "light"
     },
     "output_type": "display_data"
    }
   ],
   "source": [
    "sns.boxplot(x='JobLevel', y='MonthlyIncome', data=df).set_title('Relationship JobLevel-MonthlyIncome')"
   ]
  },
  {
   "cell_type": "code",
   "execution_count": 73,
   "id": "d6d48896",
   "metadata": {},
   "outputs": [
    {
     "data": {
      "text/plain": [
       "Text(0.5, 1.0, 'Relationship Age-JobLevel')"
      ]
     },
     "execution_count": 73,
     "metadata": {},
     "output_type": "execute_result"
    },
    {
     "data": {
      "image/png": "[encoded data removed]",
      "text/plain": [
       "<Figure size 432x288 with 1 Axes>"
      ]
     },
     "metadata": {
      "needs_background": "light"
     },
     "output_type": "display_data"
    }
   ],
   "source": [
    "sns.boxplot(x='Age', y='JobLevel', data=df).set_title('Relationship Age-JobLevel')"
   ]
  },
  {
   "cell_type": "code",
   "execution_count": 74,
   "id": "83b60f71",
   "metadata": {},
   "outputs": [
    {
     "data": {
      "text/plain": [
       "Text(0.5, 1.0, 'Relationship Age-Education')"
      ]
     },
     "execution_count": 74,
     "metadata": {},
     "output_type": "execute_result"
    },
    {
     "data": {
      "image/png": "[encoded data removed]",
      "text/plain": [
       "<Figure size 432x288 with 1 Axes>"
      ]
     },
     "metadata": {
      "needs_background": "light"
     },
     "output_type": "display_data"
    }
   ],
   "source": [
    "sns.boxplot(x='Age', y='Education', data=df).set_title('Relationship Age-Education')"
   ]
  },
  {
   "cell_type": "code",
   "execution_count": 75,
   "id": "79e5bf81",
   "metadata": {},
   "outputs": [
    {
     "data": {
      "text/plain": [
       "Text(0.5, 1.0, 'Relationship Department-MonthlyIncome')"
      ]
     },
     "execution_count": 75,
     "metadata": {},
     "output_type": "execute_result"
    },
    {
     "data": {
      "image/png": "[encoded data removed]",
      "text/plain": [
       "<Figure size 432x288 with 1 Axes>"
      ]
     },
     "metadata": {
      "needs_background": "light"
     },
     "output_type": "display_data"
    }
   ],
   "source": [
    "sns.boxplot(x='Department', y='MonthlyIncome', data=df).set_title('Relationship Department-MonthlyIncome')"
   ]
  },
  {
   "cell_type": "markdown",
   "id": "8afdb0ce",
   "metadata": {},
   "source": [
    "Apart from these, no other relationships between features."
   ]
  },
  {
   "cell_type": "code",
   "execution_count": 76,
   "id": "a5f4fdc7",
   "metadata": {},
   "outputs": [
    {
     "data": {
      "text/plain": [
       "Text(0.5, 1.0, 'Relationship MonthlyIncome-JobSatisfaction')"
      ]
     },
     "execution_count": 76,
     "metadata": {},
     "output_type": "execute_result"
    },
    {
     "data": {
      "image/png": "[encoded data removed]",
      "text/plain": [
       "<Figure size 432x288 with 1 Axes>"
      ]
     },
     "metadata": {
      "needs_background": "light"
     },
     "output_type": "display_data"
    }
   ],
   "source": [
    "sns.boxplot(x='MonthlyIncome', y='JobSatisfaction', data=df).set_title('Relationship MonthlyIncome-JobSatisfaction')"
   ]
  },
  {
   "cell_type": "code",
   "execution_count": 77,
   "id": "3e643449",
   "metadata": {},
   "outputs": [
    {
     "data": {
      "text/plain": [
       "Text(0.5, 1.0, 'Relationship Gender-JobLevel')"
      ]
     },
     "execution_count": 77,
     "metadata": {},
     "output_type": "execute_result"
    },
    {
     "data": {
      "image/png": "[encoded data removed]",
      "text/plain": [
       "<Figure size 432x288 with 1 Axes>"
      ]
     },
     "metadata": {
      "needs_background": "light"
     },
     "output_type": "display_data"
    }
   ],
   "source": [
    "sns.boxplot(x='Gender', y='JobLevel', data=df).set_title('Relationship Gender-JobLevel')"
   ]
  },
  {
   "cell_type": "markdown",
   "id": "62ca3228",
   "metadata": {},
   "source": [
    "## ADDING BIAS\n",
    "As it has just been shown, there are only few relationships in our dataset. Only relationships `JobLevel`-`MonthlyIncome`, `Age`-`JobLevel`, `Age`-`Education` and `Department`-`MonthlyIncome`.\n",
    "\n",
    "This is quite unrealistic, and it is not suitable for our purposes. Therefore, we slightly modify the dataset, by adding some bias into it. \n",
    "\n",
    "*Note: the next operations are not needed if the dataset `Datasets/IBM_Job_satisfaction_final.xlsm` has been loaded*. "
   ]
  },
  {
   "cell_type": "markdown",
   "id": "25451880",
   "metadata": {},
   "source": [
    "### Utility function for injecting bias"
   ]
  },
  {
   "cell_type": "code",
   "execution_count": 78,
   "id": "4263ef01",
   "metadata": {},
   "outputs": [
    {
     "name": "stdout",
     "output_type": "stream",
     "text": [
      "Help on function add_bias in module utils:\n",
      "\n",
      "add_bias(data, antecedent, consequent, positive=True, amount=0.2)\n",
      "    Adds some bias in the given dataset, for injecting a certain relationship.\n",
      "    \n",
      "    The relationship of interest is the relationship between the variables `antecedent` and `consequent`. In particular, the\n",
      "    relationship of interest is `antecedent`->`consequent`.\n",
      "    Intuitively, this relationship is enforced by slightly modifying some values of `consequent` s.t. a bigger correlation \n",
      "    between the two variabless emerges. \n",
      "    \n",
      "    Parameters\n",
      "    ----------\n",
      "    data : pd.DataFrame\n",
      "        Dataset into which injecting the bias\n",
      "    antecedent : str\n",
      "        Antecedent feature\n",
      "    consequent : str\n",
      "        Consequent feature\n",
      "    positive : bool, optional\n",
      "        Positive or negative influence of the antecedent variable on the consequent variable, by default True.\n",
      "        Positive influence means positive correlation: the bigger `antecedent`, the bigger `consequent`.\n",
      "        Negative influence means negative correlation: the smaller `antecedent`, the bigger `consequent`.\n",
      "    amount : float, optional\n",
      "        Amount of bias to inject, by default 0.2.\n",
      "        Intuitively represents the probability that a value of `consequent` is changed. \n",
      "    \n",
      "    Returns\n",
      "    -------\n",
      "    data: pd.DataFrame\n",
      "        The new dataset with the injected bias\n",
      "    \n",
      "    Notes\n",
      "    -------\n",
      "    The input DataFrame is not modified, but a copy is created.\n",
      "\n"
     ]
    }
   ],
   "source": [
    "from utils import add_bias\n",
    "help(add_bias)"
   ]
  },
  {
   "cell_type": "markdown",
   "id": "e49bcb50",
   "metadata": {},
   "source": [
    "### `Gender`-`JobLevel`\n",
    "\n",
    "Positive influence."
   ]
  },
  {
   "cell_type": "code",
   "execution_count": 49,
   "id": "1bb86477",
   "metadata": {},
   "outputs": [],
   "source": [
    "df = add_bias(data=df, evidence='Gender', variable='JobLevel', amount=0.45)"
   ]
  },
  {
   "cell_type": "code",
   "execution_count": 50,
   "id": "3dd1730e",
   "metadata": {},
   "outputs": [
    {
     "data": {
      "image/png": "[encoded data removed]",
      "text/plain": [
       "<Figure size 432x288 with 2 Axes>"
      ]
     },
     "metadata": {
      "needs_background": "light"
     },
     "output_type": "display_data"
    }
   ],
   "source": [
    "corr = df[df.columns].corr()\n",
    "sns.heatmap(corr, cmap=\"YlGnBu\", annot=True);"
   ]
  },
  {
   "cell_type": "markdown",
   "id": "48c1a1c4",
   "metadata": {},
   "source": [
    "### `Education`-`JobLevel`\n",
    "Positive influence."
   ]
  },
  {
   "cell_type": "code",
   "execution_count": 58,
   "id": "c558c544",
   "metadata": {},
   "outputs": [],
   "source": [
    "df = add_bias(data=df, evidence='Education', variable='JobLevel', amount=0.3)"
   ]
  },
  {
   "cell_type": "code",
   "execution_count": 59,
   "id": "1f517e82",
   "metadata": {},
   "outputs": [
    {
     "data": {
      "image/png": "[encoded data removed]",
      "text/plain": [
       "<Figure size 432x288 with 2 Axes>"
      ]
     },
     "metadata": {
      "needs_background": "light"
     },
     "output_type": "display_data"
    }
   ],
   "source": [
    "corr = df[df.columns].corr()\n",
    "sns.heatmap(corr, cmap=\"YlGnBu\", annot=True);"
   ]
  },
  {
   "cell_type": "markdown",
   "id": "1b5c51ab",
   "metadata": {},
   "source": [
    "### `JobLevel`-`WorkLifeBalance`\n",
    "Negative influence"
   ]
  },
  {
   "cell_type": "code",
   "execution_count": 61,
   "id": "92926112",
   "metadata": {},
   "outputs": [],
   "source": [
    "df = add_bias(data=df, evidence='JobLevel', variable='WorkLifeBalance', positive=False, amount=0.4)"
   ]
  },
  {
   "cell_type": "code",
   "execution_count": 62,
   "id": "4820039e",
   "metadata": {},
   "outputs": [
    {
     "data": {
      "image/png": "[encoded data removed]",
      "text/plain": [
       "<Figure size 432x288 with 2 Axes>"
      ]
     },
     "metadata": {
      "needs_background": "light"
     },
     "output_type": "display_data"
    }
   ],
   "source": [
    "corr = df[df.columns].corr()\n",
    "sns.heatmap(corr, cmap=\"YlGnBu\", annot=True);"
   ]
  },
  {
   "cell_type": "markdown",
   "id": "b7e216a0",
   "metadata": {},
   "source": [
    "### `Department`-`WorkLifeBalance`\n",
    "Negative influence"
   ]
  },
  {
   "cell_type": "code",
   "execution_count": 66,
   "id": "f521afc5",
   "metadata": {},
   "outputs": [
    {
     "data": {
      "text/plain": [
       "{'Human Resources': 0, 'Research & Development': 1, 'Sales': 2}"
      ]
     },
     "execution_count": 66,
     "metadata": {},
     "output_type": "execute_result"
    }
   ],
   "source": [
    "dept_dict"
   ]
  },
  {
   "cell_type": "code",
   "execution_count": 67,
   "id": "085133ff",
   "metadata": {},
   "outputs": [],
   "source": [
    "df = add_bias(data=df, evidence='Department', variable='WorkLifeBalance', positive=False, amount=0.4)"
   ]
  },
  {
   "cell_type": "code",
   "execution_count": 68,
   "id": "38669044",
   "metadata": {},
   "outputs": [
    {
     "data": {
      "image/png": "[encoded data removed]",
      "text/plain": [
       "<Figure size 432x288 with 2 Axes>"
      ]
     },
     "metadata": {
      "needs_background": "light"
     },
     "output_type": "display_data"
    }
   ],
   "source": [
    "corr = df[df.columns].corr()\n",
    "sns.heatmap(corr, cmap=\"YlGnBu\", annot=True);"
   ]
  },
  {
   "cell_type": "markdown",
   "id": "22f95a0f",
   "metadata": {},
   "source": [
    "### `MonthlyIncome`-`JobSatisfaction`\n",
    "Positive influence."
   ]
  },
  {
   "cell_type": "code",
   "execution_count": 70,
   "id": "3fcc08a7",
   "metadata": {},
   "outputs": [],
   "source": [
    "df = add_bias(data=df, evidence='MonthlyIncome', variable='JobSatisfaction', positive=True, amount=0.3)"
   ]
  },
  {
   "cell_type": "code",
   "execution_count": 71,
   "id": "dc1c8db7",
   "metadata": {},
   "outputs": [
    {
     "data": {
      "image/png": "[encoded data removed]",
      "text/plain": [
       "<Figure size 432x288 with 2 Axes>"
      ]
     },
     "metadata": {
      "needs_background": "light"
     },
     "output_type": "display_data"
    }
   ],
   "source": [
    "corr = df[df.columns].corr()\n",
    "sns.heatmap(corr, cmap=\"YlGnBu\", annot=True);"
   ]
  },
  {
   "cell_type": "markdown",
   "id": "6f073d4b",
   "metadata": {},
   "source": [
    "### `JobLevel`-`JobSatisfaction`\n",
    "Positive influence."
   ]
  },
  {
   "cell_type": "code",
   "execution_count": 89,
   "id": "f0474259",
   "metadata": {},
   "outputs": [],
   "source": [
    "df = add_bias(data=df, evidence='JobLevel', variable='JobSatisfaction', positive=True, amount=0.3)"
   ]
  },
  {
   "cell_type": "code",
   "execution_count": 90,
   "id": "85841ee8",
   "metadata": {},
   "outputs": [
    {
     "data": {
      "image/png": "[encoded data removed]",
      "text/plain": [
       "<Figure size 432x288 with 2 Axes>"
      ]
     },
     "metadata": {
      "needs_background": "light"
     },
     "output_type": "display_data"
    }
   ],
   "source": [
    "corr = df[df.columns].corr()\n",
    "sns.heatmap(corr, cmap=\"YlGnBu\", annot=True);"
   ]
  },
  {
   "cell_type": "markdown",
   "id": "96a0c0b9",
   "metadata": {},
   "source": [
    "### `WorkLifeBalance`-`WobSatisfaction`\n",
    "Positive influence."
   ]
  },
  {
   "cell_type": "code",
   "execution_count": 118,
   "id": "07be3ee8",
   "metadata": {},
   "outputs": [],
   "source": [
    "df = add_bias(data=df, evidence='WorkLifeBalance', variable='JobSatisfaction', positive=True, amount=0.19)"
   ]
  },
  {
   "cell_type": "code",
   "execution_count": 119,
   "id": "366e9979",
   "metadata": {},
   "outputs": [
    {
     "data": {
      "image/png": "[encoded data removed]",
      "text/plain": [
       "<Figure size 432x288 with 2 Axes>"
      ]
     },
     "metadata": {
      "needs_background": "light"
     },
     "output_type": "display_data"
    }
   ],
   "source": [
    "corr = df[df.columns].corr()\n",
    "sns.heatmap(corr, cmap=\"YlGnBu\", annot=True);"
   ]
  },
  {
   "cell_type": "markdown",
   "id": "66e61f11",
   "metadata": {},
   "source": [
    "### Saving the new dataset\n",
    "To do only the first time."
   ]
  },
  {
   "cell_type": "code",
   "execution_count": 122,
   "id": "34d26d34",
   "metadata": {},
   "outputs": [],
   "source": [
    "df.to_excel('Datasets/IBM_Job_satisfaction_final.xlsm')"
   ]
  },
  {
   "cell_type": "markdown",
   "id": "17cc1929",
   "metadata": {},
   "source": [
    "### Further analysis of the new dataset"
   ]
  },
  {
   "cell_type": "code",
   "execution_count": 124,
   "id": "c41bec58",
   "metadata": {},
   "outputs": [
    {
     "data": {
      "text/html": [
       "<div>\n",
       "<style scoped>\n",
       "    .dataframe tbody tr th:only-of-type {\n",
       "        vertical-align: middle;\n",
       "    }\n",
       "\n",
       "    .dataframe tbody tr th {\n",
       "        vertical-align: top;\n",
       "    }\n",
       "\n",
       "    .dataframe thead th {\n",
       "        text-align: right;\n",
       "    }\n",
       "</style>\n",
       "<table border=\"1\" class=\"dataframe\">\n",
       "  <thead>\n",
       "    <tr style=\"text-align: right;\">\n",
       "      <th></th>\n",
       "      <th>Age</th>\n",
       "      <th>Department</th>\n",
       "      <th>Education</th>\n",
       "      <th>Gender</th>\n",
       "      <th>JobLevel</th>\n",
       "      <th>MonthlyIncome</th>\n",
       "      <th>WorkLifeBalance</th>\n",
       "      <th>JobSatisfaction</th>\n",
       "    </tr>\n",
       "  </thead>\n",
       "  <tbody>\n",
       "    <tr>\n",
       "      <th>count</th>\n",
       "      <td>19478.000000</td>\n",
       "      <td>19478.000000</td>\n",
       "      <td>19478.000000</td>\n",
       "      <td>19478.000000</td>\n",
       "      <td>19478.000000</td>\n",
       "      <td>19478.000000</td>\n",
       "      <td>19478.000000</td>\n",
       "      <td>19478.000000</td>\n",
       "    </tr>\n",
       "    <tr>\n",
       "      <th>mean</th>\n",
       "      <td>0.954359</td>\n",
       "      <td>1.246021</td>\n",
       "      <td>1.002516</td>\n",
       "      <td>0.597854</td>\n",
       "      <td>0.780830</td>\n",
       "      <td>0.999179</td>\n",
       "      <td>0.767481</td>\n",
       "      <td>0.428791</td>\n",
       "    </tr>\n",
       "    <tr>\n",
       "      <th>std</th>\n",
       "      <td>0.810113</td>\n",
       "      <td>0.518838</td>\n",
       "      <td>0.784891</td>\n",
       "      <td>0.490344</td>\n",
       "      <td>0.773375</td>\n",
       "      <td>0.816412</td>\n",
       "      <td>0.422449</td>\n",
       "      <td>0.494916</td>\n",
       "    </tr>\n",
       "    <tr>\n",
       "      <th>min</th>\n",
       "      <td>0.000000</td>\n",
       "      <td>0.000000</td>\n",
       "      <td>0.000000</td>\n",
       "      <td>0.000000</td>\n",
       "      <td>0.000000</td>\n",
       "      <td>0.000000</td>\n",
       "      <td>0.000000</td>\n",
       "      <td>0.000000</td>\n",
       "    </tr>\n",
       "    <tr>\n",
       "      <th>25%</th>\n",
       "      <td>0.000000</td>\n",
       "      <td>1.000000</td>\n",
       "      <td>0.000000</td>\n",
       "      <td>0.000000</td>\n",
       "      <td>0.000000</td>\n",
       "      <td>0.000000</td>\n",
       "      <td>1.000000</td>\n",
       "      <td>0.000000</td>\n",
       "    </tr>\n",
       "    <tr>\n",
       "      <th>50%</th>\n",
       "      <td>1.000000</td>\n",
       "      <td>1.000000</td>\n",
       "      <td>1.000000</td>\n",
       "      <td>1.000000</td>\n",
       "      <td>1.000000</td>\n",
       "      <td>1.000000</td>\n",
       "      <td>1.000000</td>\n",
       "      <td>0.000000</td>\n",
       "    </tr>\n",
       "    <tr>\n",
       "      <th>75%</th>\n",
       "      <td>2.000000</td>\n",
       "      <td>2.000000</td>\n",
       "      <td>2.000000</td>\n",
       "      <td>1.000000</td>\n",
       "      <td>1.000000</td>\n",
       "      <td>2.000000</td>\n",
       "      <td>1.000000</td>\n",
       "      <td>1.000000</td>\n",
       "    </tr>\n",
       "    <tr>\n",
       "      <th>max</th>\n",
       "      <td>2.000000</td>\n",
       "      <td>2.000000</td>\n",
       "      <td>2.000000</td>\n",
       "      <td>1.000000</td>\n",
       "      <td>2.000000</td>\n",
       "      <td>2.000000</td>\n",
       "      <td>1.000000</td>\n",
       "      <td>1.000000</td>\n",
       "    </tr>\n",
       "  </tbody>\n",
       "</table>\n",
       "</div>"
      ],
      "text/plain": [
       "                Age    Department     Education        Gender      JobLevel  \\\n",
       "count  19478.000000  19478.000000  19478.000000  19478.000000  19478.000000   \n",
       "mean       0.954359      1.246021      1.002516      0.597854      0.780830   \n",
       "std        0.810113      0.518838      0.784891      0.490344      0.773375   \n",
       "min        0.000000      0.000000      0.000000      0.000000      0.000000   \n",
       "25%        0.000000      1.000000      0.000000      0.000000      0.000000   \n",
       "50%        1.000000      1.000000      1.000000      1.000000      1.000000   \n",
       "75%        2.000000      2.000000      2.000000      1.000000      1.000000   \n",
       "max        2.000000      2.000000      2.000000      1.000000      2.000000   \n",
       "\n",
       "       MonthlyIncome  WorkLifeBalance  JobSatisfaction  \n",
       "count   19478.000000     19478.000000     19478.000000  \n",
       "mean        0.999179         0.767481         0.428791  \n",
       "std         0.816412         0.422449         0.494916  \n",
       "min         0.000000         0.000000         0.000000  \n",
       "25%         0.000000         1.000000         0.000000  \n",
       "50%         1.000000         1.000000         0.000000  \n",
       "75%         2.000000         1.000000         1.000000  \n",
       "max         2.000000         1.000000         1.000000  "
      ]
     },
     "execution_count": 124,
     "metadata": {},
     "output_type": "execute_result"
    }
   ],
   "source": [
    "df.describe()"
   ]
  },
  {
   "cell_type": "markdown",
   "id": "7dd77daa",
   "metadata": {},
   "source": [
    "Now we can appreciate many other relationships in our dataset."
   ]
  },
  {
   "cell_type": "code",
   "execution_count": 80,
   "id": "afab769c",
   "metadata": {},
   "outputs": [
    {
     "data": {
      "image/png": "[encoded data removed]",
      "text/plain": [
       "<Figure size 432x288 with 1 Axes>"
      ]
     },
     "metadata": {
      "needs_background": "light"
     },
     "output_type": "display_data"
    }
   ],
   "source": [
    "sns.boxplot(x='Gender', y='JobLevel', data=df).set_title('Relationship Gender-JobLevel');"
   ]
  },
  {
   "cell_type": "code",
   "execution_count": 81,
   "id": "5f96531e",
   "metadata": {},
   "outputs": [
    {
     "data": {
      "image/png": "[encoded data removed]",
      "text/plain": [
       "<Figure size 432x288 with 1 Axes>"
      ]
     },
     "metadata": {
      "needs_background": "light"
     },
     "output_type": "display_data"
    }
   ],
   "source": [
    "sns.boxplot(x='Education', y='JobLevel', data=df).set_title('Relationship Education-JobLevel');"
   ]
  },
  {
   "cell_type": "code",
   "execution_count": 82,
   "id": "716468b7",
   "metadata": {},
   "outputs": [
    {
     "data": {
      "image/png": "[encoded data removed]",
      "text/plain": [
       "<Figure size 432x288 with 1 Axes>"
      ]
     },
     "metadata": {
      "needs_background": "light"
     },
     "output_type": "display_data"
    }
   ],
   "source": [
    "sns.boxplot(x='JobLevel', y='WorkLifeBalance', data=df).set_title('Relationship JobLevel-WorkLifeBalance');"
   ]
  },
  {
   "cell_type": "code",
   "execution_count": 83,
   "id": "095caa1c",
   "metadata": {},
   "outputs": [
    {
     "data": {
      "image/png": "[encoded data removed]",
      "text/plain": [
       "<Figure size 432x288 with 1 Axes>"
      ]
     },
     "metadata": {
      "needs_background": "light"
     },
     "output_type": "display_data"
    }
   ],
   "source": [
    "sns.boxplot(x='Department', y='WorkLifeBalance', data=df).set_title('Relationship Department-WorkLifeBalance');"
   ]
  },
  {
   "cell_type": "markdown",
   "id": "7bfd7480",
   "metadata": {},
   "source": [
    "## STRUCTURE OF THE BAYESIAN NETWORK\n",
    "Based on the already-present relationships and on the added relationships, the following is the defined Bayesian Network.\n",
    "<img src=\"Images/BayesianNetwork.png\" width=\"600\">"
   ]
  },
  {
   "cell_type": "markdown",
   "id": "1e73d06d",
   "metadata": {},
   "source": [
    "## TRAINING THE BAYESIAN NETWORK\n",
    "In this section, the training of Bayesian Networks is described. Training a Bayesian Network means learning the values of the parameters in the network, namely the probabilities in the Conditional Probability Distributions (i.e. CPDs). This process is of course driven by the data: we are learning the parameters/probabilities from the given data.\n",
    "\n",
    "The two main algorithms for training a Bayesian Network are: Maximum Likelihood Estimation (i.e. MLE) and Bayesian Estimation. We will see and apply the first one: MLE.\n",
    "\n",
    "In this section, the idea of how MLE works is explained. Moreover, an user-defined implementation of MLE is shown, carrying out also some examples on our dataset.\n",
    "\n",
    "However, this user-defined implementation is not recquired, since the `pgmpy` library is able to train the model by itself. So, later we will simply call a `pgmpy` method for performing the training process."
   ]
  },
  {
   "cell_type": "markdown",
   "id": "a9e9fae0",
   "metadata": {},
   "source": [
    "### MLE: in short\n",
    "Let $D$ be our dataset and $\\theta$ be the parameters of the model, where each $\\theta_i$ represents the CPD associated with the variable $X_i$ of the network. The likelihood function represents the chance that the parameters have values $\\theta$ given that the observed dataset is $D$: it is the global likelihood of the whole model. It is defined as $$L(\\theta|D) = \\prod_i l_i(\\theta_i|D)$$. \n",
    "\n",
    "Each $l_i(\\theta_i|D)$ is the local likelihood of the variable $X_i$, representing the chance that the CPD of $X_i$ is $\\theta_i$. It is defined as: $$l_i(\\theta_i|D) = \\prod_m P(x_i=m|Parents(X_i)=m,\\theta_i)$$.\n",
    "\n",
    "The objective of MLE is to maximize the function $L(\\theta|D)$: $$\\theta^* = argmax \\quad L(\\theta|D)$$.\n",
    "\n",
    "For computational reasons, this is typically carried out by considering the negative log-likelihood and by minimizing it."
   ]
  },
  {
   "cell_type": "markdown",
   "id": "c3b68b7b",
   "metadata": {},
   "source": [
    "### MLE: in practice\n",
    "In practice, the MLE works in the following way. Let's suppose that we want to compute the CPD of the variable $X$ with respect to the variables $X_1,...,X_n$, i.e. the parents. ($X$ could have no parents: in this case the prior distribution of $X$ is computed).\n",
    "\n",
    "Computing the CPD consists in computing the probability of $X=x$ conditioned to $X_1=x_1,...,X_n=x_n$, for each possible value $x$ of $X$ and for each possible combination of values $x_1,...,x_n$ of $X_1,...,X_n$ (if each $X_i$ has $n_i$ possible different values, the number of different possible combinations is $\\prod_i n_i$).\n",
    "\n",
    "To sum up, the objective is to compute the probability $P(X=x|X_1=x_1,...,X_n=x_n)$ for each value $x$ and for each combination $x_1,...,x_n$.\n",
    "\n",
    "This probability $P(X=x|X_1=x_1,...,X_n=x_n)$ is simply computed in the following way.\n",
    "- The number of instances in the training set s.t. $X_1=x_1,...,X_n=x_n$ is count. Let $M$ be this number.\n",
    "- The number of instancees in the training set s.t. $X=x$  and $X_1=x_1,...,X_n=x_n$ is count. Let $K$ be this number. For sure, we have that $K\\leq M$.\n",
    "- Finally, we have that $P(X=x|X_1=x_1,...,X_n=x_n) = K/M$.\n",
    "\n",
    "Basically, $P(X=x|X_1=x_1,...,X_n=x_n)$ is simply computed as the portion of instances with $X=x$ among all instances with $X_1=x_1,...,X_n=x_n$. It is simply a conditioned relative frequency."
   ]
  },
  {
   "cell_type": "markdown",
   "id": "a35a2e75",
   "metadata": {},
   "source": [
    "### MLE: results\n",
    "With MLE, the CPD pf each variable $X_i$ is computed, which is basically a table.\n",
    "\n",
    "If $X_i$ has no parents, the table is simply the prior distribution. Just one row. <img src=\"Images/CPD Age.png\" width=\"300\">\n",
    "\n",
    "If $X_i$ has some parents, the table is the CPD. Each row is a probability distribution of the variable given the corresponding combination of values for its evidences/parent nodes. <img src=\"Images/CPD JobLevel.png\" width=\"300\">"
   ]
  },
  {
   "cell_type": "markdown",
   "id": "1fdc668c",
   "metadata": {},
   "source": [
    "### MLE: user-defined implementation\n",
    "The MLE estimation has been implemented in an utility function."
   ]
  },
  {
   "cell_type": "code",
   "execution_count": 85,
   "id": "9fb1a0c3",
   "metadata": {},
   "outputs": [],
   "source": [
    "from utils import compute_cpd"
   ]
  },
  {
   "cell_type": "code",
   "execution_count": 86,
   "id": "dfd13edc",
   "metadata": {},
   "outputs": [
    {
     "name": "stdout",
     "output_type": "stream",
     "text": [
      "Help on function compute_cpd in module utils:\n",
      "\n",
      "compute_cpd(data, variable, evidences=None)\n",
      "    Computes the CPD of `variable` with respect to the `evidences`, using the given dataset.\n",
      "    \n",
      "    The list of evidence variables in `evidences` could be empty: in such case, the prior distribution of `variable` is \n",
      "    computed.\n",
      "    \n",
      "    Parameters\n",
      "    ----------\n",
      "    data : pd.DataFrame\n",
      "        Dataset\n",
      "    variable : str\n",
      "        Variable on which the CPD is computed\n",
      "    evidences : list of str, optional\n",
      "        List of evidence variables, by default None\n",
      "    \n",
      "    Returns\n",
      "    -------\n",
      "    cpd: pd.DataFrame\n",
      "        Desired CPD\n",
      "    \n",
      "    Notes\n",
      "    -------\n",
      "    In the comments in the code, we denote `variable` as X, with a specific possible value x. And we denote `evidences` as \n",
      "    X1,...,Xk, with specific possible values x1, ..., xk.\n",
      "\n"
     ]
    }
   ],
   "source": [
    "help(compute_cpd)"
   ]
  },
  {
   "cell_type": "markdown",
   "id": "353838f4",
   "metadata": {},
   "source": [
    "### Computing the CPD: some examples"
   ]
  },
  {
   "cell_type": "markdown",
   "id": "96ca4848",
   "metadata": {},
   "source": [
    "**CPD of `Age`**. Prior distribution."
   ]
  },
  {
   "cell_type": "code",
   "execution_count": 87,
   "id": "08e86a69",
   "metadata": {
    "scrolled": true
   },
   "outputs": [
    {
     "data": {
      "text/html": [
       "<div>\n",
       "<style scoped>\n",
       "    .dataframe tbody tr th:only-of-type {\n",
       "        vertical-align: middle;\n",
       "    }\n",
       "\n",
       "    .dataframe tbody tr th {\n",
       "        vertical-align: top;\n",
       "    }\n",
       "\n",
       "    .dataframe thead th {\n",
       "        text-align: right;\n",
       "    }\n",
       "</style>\n",
       "<table border=\"1\" class=\"dataframe\">\n",
       "  <thead>\n",
       "    <tr style=\"text-align: right;\">\n",
       "      <th>Age</th>\n",
       "      <th>0</th>\n",
       "      <th>1</th>\n",
       "      <th>2</th>\n",
       "    </tr>\n",
       "    <tr>\n",
       "      <th>Evidences</th>\n",
       "      <th></th>\n",
       "      <th></th>\n",
       "      <th></th>\n",
       "    </tr>\n",
       "  </thead>\n",
       "  <tbody>\n",
       "    <tr>\n",
       "      <th></th>\n",
       "      <td>0.351987</td>\n",
       "      <td>0.341668</td>\n",
       "      <td>0.306346</td>\n",
       "    </tr>\n",
       "  </tbody>\n",
       "</table>\n",
       "</div>"
      ],
      "text/plain": [
       "Age               0         1         2\n",
       "Evidences                              \n",
       "           0.351987  0.341668  0.306346"
      ]
     },
     "execution_count": 87,
     "metadata": {},
     "output_type": "execute_result"
    }
   ],
   "source": [
    "compute_cpd(data=df, variable='Age')"
   ]
  },
  {
   "cell_type": "markdown",
   "id": "41bbeb2c",
   "metadata": {},
   "source": [
    "**CPD of `JobLevel`**. Prior distribution."
   ]
  },
  {
   "cell_type": "code",
   "execution_count": 7,
   "id": "bac5d6b8",
   "metadata": {},
   "outputs": [
    {
     "data": {
      "text/html": [
       "<div>\n",
       "<style scoped>\n",
       "    .dataframe tbody tr th:only-of-type {\n",
       "        vertical-align: middle;\n",
       "    }\n",
       "\n",
       "    .dataframe tbody tr th {\n",
       "        vertical-align: top;\n",
       "    }\n",
       "\n",
       "    .dataframe thead th {\n",
       "        text-align: right;\n",
       "    }\n",
       "</style>\n",
       "<table border=\"1\" class=\"dataframe\">\n",
       "  <thead>\n",
       "    <tr style=\"text-align: right;\">\n",
       "      <th>JobLevel</th>\n",
       "      <th>0</th>\n",
       "      <th>1</th>\n",
       "      <th>2</th>\n",
       "    </tr>\n",
       "    <tr>\n",
       "      <th>Evidences</th>\n",
       "      <th></th>\n",
       "      <th></th>\n",
       "      <th></th>\n",
       "    </tr>\n",
       "  </thead>\n",
       "  <tbody>\n",
       "    <tr>\n",
       "      <th></th>\n",
       "      <td>0.432642</td>\n",
       "      <td>0.353886</td>\n",
       "      <td>0.213472</td>\n",
       "    </tr>\n",
       "  </tbody>\n",
       "</table>\n",
       "</div>"
      ],
      "text/plain": [
       "JobLevel          0         1         2\n",
       "Evidences                              \n",
       "           0.432642  0.353886  0.213472"
      ]
     },
     "execution_count": 7,
     "metadata": {},
     "output_type": "execute_result"
    }
   ],
   "source": [
    "compute_cpd(data=df, variable='JobLevel')"
   ]
  },
  {
   "cell_type": "markdown",
   "id": "54f5eeaa",
   "metadata": {},
   "source": [
    "Let's now put the evidence (i.e. parent node) `Age`."
   ]
  },
  {
   "cell_type": "code",
   "execution_count": 9,
   "id": "099c06b1",
   "metadata": {},
   "outputs": [
    {
     "data": {
      "text/html": [
       "<div>\n",
       "<style scoped>\n",
       "    .dataframe tbody tr th:only-of-type {\n",
       "        vertical-align: middle;\n",
       "    }\n",
       "\n",
       "    .dataframe tbody tr th {\n",
       "        vertical-align: top;\n",
       "    }\n",
       "\n",
       "    .dataframe thead th {\n",
       "        text-align: right;\n",
       "    }\n",
       "</style>\n",
       "<table border=\"1\" class=\"dataframe\">\n",
       "  <thead>\n",
       "    <tr style=\"text-align: right;\">\n",
       "      <th>JobLevel</th>\n",
       "      <th>0</th>\n",
       "      <th>1</th>\n",
       "      <th>2</th>\n",
       "    </tr>\n",
       "    <tr>\n",
       "      <th>Evidences</th>\n",
       "      <th></th>\n",
       "      <th></th>\n",
       "      <th></th>\n",
       "    </tr>\n",
       "  </thead>\n",
       "  <tbody>\n",
       "    <tr>\n",
       "      <th>Age==0</th>\n",
       "      <td>0.503209</td>\n",
       "      <td>0.333139</td>\n",
       "      <td>0.163652</td>\n",
       "    </tr>\n",
       "    <tr>\n",
       "      <th>Age==1</th>\n",
       "      <td>0.409617</td>\n",
       "      <td>0.370098</td>\n",
       "      <td>0.220285</td>\n",
       "    </tr>\n",
       "    <tr>\n",
       "      <th>Age==2</th>\n",
       "      <td>0.377241</td>\n",
       "      <td>0.359645</td>\n",
       "      <td>0.263114</td>\n",
       "    </tr>\n",
       "  </tbody>\n",
       "</table>\n",
       "</div>"
      ],
      "text/plain": [
       "JobLevel          0         1         2\n",
       "Evidences                              \n",
       " Age==0    0.503209  0.333139  0.163652\n",
       " Age==1    0.409617  0.370098  0.220285\n",
       " Age==2    0.377241  0.359645  0.263114"
      ]
     },
     "execution_count": 9,
     "metadata": {},
     "output_type": "execute_result"
    }
   ],
   "source": [
    "compute_cpd(data=df, variable='JobLevel', evidences=['Age'])"
   ]
  },
  {
   "cell_type": "markdown",
   "id": "ad24fb1c",
   "metadata": {},
   "source": [
    "As it can be noticed, a bigger `Age` increases the probability of having a bigger `JobLevel`.\n",
    "\n",
    "Let's now put also the evidence `Education`."
   ]
  },
  {
   "cell_type": "code",
   "execution_count": 10,
   "id": "d0d0bdcd",
   "metadata": {},
   "outputs": [
    {
     "data": {
      "text/html": [
       "<div>\n",
       "<style scoped>\n",
       "    .dataframe tbody tr th:only-of-type {\n",
       "        vertical-align: middle;\n",
       "    }\n",
       "\n",
       "    .dataframe tbody tr th {\n",
       "        vertical-align: top;\n",
       "    }\n",
       "\n",
       "    .dataframe thead th {\n",
       "        text-align: right;\n",
       "    }\n",
       "</style>\n",
       "<table border=\"1\" class=\"dataframe\">\n",
       "  <thead>\n",
       "    <tr style=\"text-align: right;\">\n",
       "      <th>JobLevel</th>\n",
       "      <th>0</th>\n",
       "      <th>1</th>\n",
       "      <th>2</th>\n",
       "    </tr>\n",
       "    <tr>\n",
       "      <th>Evidences</th>\n",
       "      <th></th>\n",
       "      <th></th>\n",
       "      <th></th>\n",
       "    </tr>\n",
       "  </thead>\n",
       "  <tbody>\n",
       "    <tr>\n",
       "      <th>Age==0  Education==0</th>\n",
       "      <td>0.550719</td>\n",
       "      <td>0.319833</td>\n",
       "      <td>0.129447</td>\n",
       "    </tr>\n",
       "    <tr>\n",
       "      <th>Age==0  Education==1</th>\n",
       "      <td>0.529866</td>\n",
       "      <td>0.322909</td>\n",
       "      <td>0.147224</td>\n",
       "    </tr>\n",
       "    <tr>\n",
       "      <th>Age==0  Education==2</th>\n",
       "      <td>0.355994</td>\n",
       "      <td>0.380117</td>\n",
       "      <td>0.263889</td>\n",
       "    </tr>\n",
       "    <tr>\n",
       "      <th>Age==1  Education==0</th>\n",
       "      <td>0.492769</td>\n",
       "      <td>0.363685</td>\n",
       "      <td>0.143546</td>\n",
       "    </tr>\n",
       "    <tr>\n",
       "      <th>Age==1  Education==1</th>\n",
       "      <td>0.436577</td>\n",
       "      <td>0.368375</td>\n",
       "      <td>0.195048</td>\n",
       "    </tr>\n",
       "    <tr>\n",
       "      <th>Age==1  Education==2</th>\n",
       "      <td>0.322204</td>\n",
       "      <td>0.376508</td>\n",
       "      <td>0.301287</td>\n",
       "    </tr>\n",
       "    <tr>\n",
       "      <th>Age==2  Education==0</th>\n",
       "      <td>0.420873</td>\n",
       "      <td>0.364256</td>\n",
       "      <td>0.214870</td>\n",
       "    </tr>\n",
       "    <tr>\n",
       "      <th>Age==2  Education==1</th>\n",
       "      <td>0.404118</td>\n",
       "      <td>0.364221</td>\n",
       "      <td>0.231660</td>\n",
       "    </tr>\n",
       "    <tr>\n",
       "      <th>Age==2  Education==2</th>\n",
       "      <td>0.318894</td>\n",
       "      <td>0.351613</td>\n",
       "      <td>0.329493</td>\n",
       "    </tr>\n",
       "  </tbody>\n",
       "</table>\n",
       "</div>"
      ],
      "text/plain": [
       "JobLevel                       0         1         2\n",
       "Evidences                                           \n",
       " Age==0  Education==0   0.550719  0.319833  0.129447\n",
       " Age==0  Education==1   0.529866  0.322909  0.147224\n",
       " Age==0  Education==2   0.355994  0.380117  0.263889\n",
       " Age==1  Education==0   0.492769  0.363685  0.143546\n",
       " Age==1  Education==1   0.436577  0.368375  0.195048\n",
       " Age==1  Education==2   0.322204  0.376508  0.301287\n",
       " Age==2  Education==0   0.420873  0.364256  0.214870\n",
       " Age==2  Education==1   0.404118  0.364221  0.231660\n",
       " Age==2  Education==2   0.318894  0.351613  0.329493"
      ]
     },
     "execution_count": 10,
     "metadata": {},
     "output_type": "execute_result"
    }
   ],
   "source": [
    "compute_cpd(data=df, variable='JobLevel', evidences=['Age','Education'])"
   ]
  },
  {
   "cell_type": "markdown",
   "id": "53aa160a",
   "metadata": {},
   "source": [
    "Also a bigger `Education` increases the probability of having a bigger `JobLevel`.\n",
    "\n",
    "Finally, let's put also the `Gender` parent node."
   ]
  },
  {
   "cell_type": "code",
   "execution_count": 11,
   "id": "141223de",
   "metadata": {},
   "outputs": [
    {
     "data": {
      "text/html": [
       "<div>\n",
       "<style scoped>\n",
       "    .dataframe tbody tr th:only-of-type {\n",
       "        vertical-align: middle;\n",
       "    }\n",
       "\n",
       "    .dataframe tbody tr th {\n",
       "        vertical-align: top;\n",
       "    }\n",
       "\n",
       "    .dataframe thead th {\n",
       "        text-align: right;\n",
       "    }\n",
       "</style>\n",
       "<table border=\"1\" class=\"dataframe\">\n",
       "  <thead>\n",
       "    <tr style=\"text-align: right;\">\n",
       "      <th>JobLevel</th>\n",
       "      <th>0</th>\n",
       "      <th>1</th>\n",
       "      <th>2</th>\n",
       "    </tr>\n",
       "    <tr>\n",
       "      <th>Evidences</th>\n",
       "      <th></th>\n",
       "      <th></th>\n",
       "      <th></th>\n",
       "    </tr>\n",
       "  </thead>\n",
       "  <tbody>\n",
       "    <tr>\n",
       "      <th>Age==0  Education==0  Gender==0</th>\n",
       "      <td>0.662626</td>\n",
       "      <td>0.257576</td>\n",
       "      <td>0.079798</td>\n",
       "    </tr>\n",
       "    <tr>\n",
       "      <th>Age==0  Education==0  Gender==1</th>\n",
       "      <td>0.483656</td>\n",
       "      <td>0.357143</td>\n",
       "      <td>0.159201</td>\n",
       "    </tr>\n",
       "    <tr>\n",
       "      <th>Age==0  Education==1  Gender==0</th>\n",
       "      <td>0.652372</td>\n",
       "      <td>0.243613</td>\n",
       "      <td>0.104015</td>\n",
       "    </tr>\n",
       "    <tr>\n",
       "      <th>Age==0  Education==1  Gender==1</th>\n",
       "      <td>0.453143</td>\n",
       "      <td>0.372571</td>\n",
       "      <td>0.174286</td>\n",
       "    </tr>\n",
       "    <tr>\n",
       "      <th>Age==0  Education==2  Gender==0</th>\n",
       "      <td>0.403333</td>\n",
       "      <td>0.383333</td>\n",
       "      <td>0.213333</td>\n",
       "    </tr>\n",
       "    <tr>\n",
       "      <th>Age==0  Education==2  Gender==1</th>\n",
       "      <td>0.319010</td>\n",
       "      <td>0.377604</td>\n",
       "      <td>0.303385</td>\n",
       "    </tr>\n",
       "    <tr>\n",
       "      <th>Age==1  Education==0  Gender==0</th>\n",
       "      <td>0.616310</td>\n",
       "      <td>0.286096</td>\n",
       "      <td>0.097594</td>\n",
       "    </tr>\n",
       "    <tr>\n",
       "      <th>Age==1  Education==0  Gender==1</th>\n",
       "      <td>0.410188</td>\n",
       "      <td>0.415550</td>\n",
       "      <td>0.174263</td>\n",
       "    </tr>\n",
       "    <tr>\n",
       "      <th>Age==1  Education==1  Gender==0</th>\n",
       "      <td>0.518478</td>\n",
       "      <td>0.347826</td>\n",
       "      <td>0.133696</td>\n",
       "    </tr>\n",
       "    <tr>\n",
       "      <th>Age==1  Education==1  Gender==1</th>\n",
       "      <td>0.382055</td>\n",
       "      <td>0.382055</td>\n",
       "      <td>0.235890</td>\n",
       "    </tr>\n",
       "    <tr>\n",
       "      <th>Age==1  Education==2  Gender==0</th>\n",
       "      <td>0.371681</td>\n",
       "      <td>0.391347</td>\n",
       "      <td>0.236971</td>\n",
       "    </tr>\n",
       "    <tr>\n",
       "      <th>Age==1  Education==2  Gender==1</th>\n",
       "      <td>0.287951</td>\n",
       "      <td>0.366236</td>\n",
       "      <td>0.345813</td>\n",
       "    </tr>\n",
       "    <tr>\n",
       "      <th>Age==2  Education==0  Gender==0</th>\n",
       "      <td>0.589231</td>\n",
       "      <td>0.289231</td>\n",
       "      <td>0.121538</td>\n",
       "    </tr>\n",
       "    <tr>\n",
       "      <th>Age==2  Education==0  Gender==1</th>\n",
       "      <td>0.286765</td>\n",
       "      <td>0.424020</td>\n",
       "      <td>0.289216</td>\n",
       "    </tr>\n",
       "    <tr>\n",
       "      <th>Age==2  Education==1  Gender==0</th>\n",
       "      <td>0.473251</td>\n",
       "      <td>0.362140</td>\n",
       "      <td>0.164609</td>\n",
       "    </tr>\n",
       "    <tr>\n",
       "      <th>Age==2  Education==1  Gender==1</th>\n",
       "      <td>0.354673</td>\n",
       "      <td>0.365710</td>\n",
       "      <td>0.279617</td>\n",
       "    </tr>\n",
       "    <tr>\n",
       "      <th>Age==2  Education==2  Gender==0</th>\n",
       "      <td>0.365476</td>\n",
       "      <td>0.369048</td>\n",
       "      <td>0.265476</td>\n",
       "    </tr>\n",
       "    <tr>\n",
       "      <th>Age==2  Education==2  Gender==1</th>\n",
       "      <td>0.289474</td>\n",
       "      <td>0.340602</td>\n",
       "      <td>0.369925</td>\n",
       "    </tr>\n",
       "  </tbody>\n",
       "</table>\n",
       "</div>"
      ],
      "text/plain": [
       "JobLevel                                  0         1         2\n",
       "Evidences                                                      \n",
       " Age==0  Education==0  Gender==0   0.662626  0.257576  0.079798\n",
       " Age==0  Education==0  Gender==1   0.483656  0.357143  0.159201\n",
       " Age==0  Education==1  Gender==0   0.652372  0.243613  0.104015\n",
       " Age==0  Education==1  Gender==1   0.453143  0.372571  0.174286\n",
       " Age==0  Education==2  Gender==0   0.403333  0.383333  0.213333\n",
       " Age==0  Education==2  Gender==1   0.319010  0.377604  0.303385\n",
       " Age==1  Education==0  Gender==0   0.616310  0.286096  0.097594\n",
       " Age==1  Education==0  Gender==1   0.410188  0.415550  0.174263\n",
       " Age==1  Education==1  Gender==0   0.518478  0.347826  0.133696\n",
       " Age==1  Education==1  Gender==1   0.382055  0.382055  0.235890\n",
       " Age==1  Education==2  Gender==0   0.371681  0.391347  0.236971\n",
       " Age==1  Education==2  Gender==1   0.287951  0.366236  0.345813\n",
       " Age==2  Education==0  Gender==0   0.589231  0.289231  0.121538\n",
       " Age==2  Education==0  Gender==1   0.286765  0.424020  0.289216\n",
       " Age==2  Education==1  Gender==0   0.473251  0.362140  0.164609\n",
       " Age==2  Education==1  Gender==1   0.354673  0.365710  0.279617\n",
       " Age==2  Education==2  Gender==0   0.365476  0.369048  0.265476\n",
       " Age==2  Education==2  Gender==1   0.289474  0.340602  0.369925"
      ]
     },
     "execution_count": 11,
     "metadata": {},
     "output_type": "execute_result"
    }
   ],
   "source": [
    "compute_cpd(data=df, variable='JobLevel', evidences=['Age','Education', 'Gender'])"
   ]
  },
  {
   "cell_type": "markdown",
   "id": "10d67924",
   "metadata": {},
   "source": [
    "As it can be noticed, also being a male (i.e. `Gender`$=1$) increases the probability of having a bigger `JobLevel`. "
   ]
  },
  {
   "cell_type": "markdown",
   "id": "d7f37acd",
   "metadata": {},
   "source": [
    "**CPD of `WorkLifeBalance`**. Let's now inspect the CPD of `WorkLifeBalance`. First of all, prior distribution."
   ]
  },
  {
   "cell_type": "code",
   "execution_count": 16,
   "id": "a13ee768",
   "metadata": {},
   "outputs": [
    {
     "data": {
      "text/html": [
       "<div>\n",
       "<style scoped>\n",
       "    .dataframe tbody tr th:only-of-type {\n",
       "        vertical-align: middle;\n",
       "    }\n",
       "\n",
       "    .dataframe tbody tr th {\n",
       "        vertical-align: top;\n",
       "    }\n",
       "\n",
       "    .dataframe thead th {\n",
       "        text-align: right;\n",
       "    }\n",
       "</style>\n",
       "<table border=\"1\" class=\"dataframe\">\n",
       "  <thead>\n",
       "    <tr style=\"text-align: right;\">\n",
       "      <th>WorkLifeBalance</th>\n",
       "      <th>0</th>\n",
       "      <th>1</th>\n",
       "    </tr>\n",
       "    <tr>\n",
       "      <th>Evidences</th>\n",
       "      <th></th>\n",
       "      <th></th>\n",
       "    </tr>\n",
       "  </thead>\n",
       "  <tbody>\n",
       "    <tr>\n",
       "      <th></th>\n",
       "      <td>0.232519</td>\n",
       "      <td>0.767481</td>\n",
       "    </tr>\n",
       "  </tbody>\n",
       "</table>\n",
       "</div>"
      ],
      "text/plain": [
       "WorkLifeBalance         0         1\n",
       "Evidences                          \n",
       "                 0.232519  0.767481"
      ]
     },
     "execution_count": 16,
     "metadata": {},
     "output_type": "execute_result"
    }
   ],
   "source": [
    "compute_cpd(data=df, variable='WorkLifeBalance')"
   ]
  },
  {
   "cell_type": "markdown",
   "id": "072c8261",
   "metadata": {},
   "source": [
    "Let's add the evidence `JobLevel`."
   ]
  },
  {
   "cell_type": "code",
   "execution_count": 17,
   "id": "8c7376f7",
   "metadata": {},
   "outputs": [
    {
     "data": {
      "text/html": [
       "<div>\n",
       "<style scoped>\n",
       "    .dataframe tbody tr th:only-of-type {\n",
       "        vertical-align: middle;\n",
       "    }\n",
       "\n",
       "    .dataframe tbody tr th {\n",
       "        vertical-align: top;\n",
       "    }\n",
       "\n",
       "    .dataframe thead th {\n",
       "        text-align: right;\n",
       "    }\n",
       "</style>\n",
       "<table border=\"1\" class=\"dataframe\">\n",
       "  <thead>\n",
       "    <tr style=\"text-align: right;\">\n",
       "      <th>WorkLifeBalance</th>\n",
       "      <th>0</th>\n",
       "      <th>1</th>\n",
       "    </tr>\n",
       "    <tr>\n",
       "      <th>Evidences</th>\n",
       "      <th></th>\n",
       "      <th></th>\n",
       "    </tr>\n",
       "  </thead>\n",
       "  <tbody>\n",
       "    <tr>\n",
       "      <th>JobLevel==0</th>\n",
       "      <td>0.217040</td>\n",
       "      <td>0.782960</td>\n",
       "    </tr>\n",
       "    <tr>\n",
       "      <th>JobLevel==1</th>\n",
       "      <td>0.231249</td>\n",
       "      <td>0.768751</td>\n",
       "    </tr>\n",
       "    <tr>\n",
       "      <th>JobLevel==2</th>\n",
       "      <td>0.265993</td>\n",
       "      <td>0.734007</td>\n",
       "    </tr>\n",
       "  </tbody>\n",
       "</table>\n",
       "</div>"
      ],
      "text/plain": [
       "WorkLifeBalance         0         1\n",
       "Evidences                          \n",
       " JobLevel==0     0.217040  0.782960\n",
       " JobLevel==1     0.231249  0.768751\n",
       " JobLevel==2     0.265993  0.734007"
      ]
     },
     "execution_count": 17,
     "metadata": {},
     "output_type": "execute_result"
    }
   ],
   "source": [
    "compute_cpd(data=df, variable='WorkLifeBalance', evidences=['JobLevel'])"
   ]
  },
  {
   "cell_type": "markdown",
   "id": "749f5c20",
   "metadata": {},
   "source": [
    "A bigger `JobLevel` decreases the probability of having a balanced work-life management.\n",
    "\n",
    "Finally, let's put also the evidence `Department`."
   ]
  },
  {
   "cell_type": "code",
   "execution_count": 18,
   "id": "4f864786",
   "metadata": {},
   "outputs": [
    {
     "data": {
      "text/html": [
       "<div>\n",
       "<style scoped>\n",
       "    .dataframe tbody tr th:only-of-type {\n",
       "        vertical-align: middle;\n",
       "    }\n",
       "\n",
       "    .dataframe tbody tr th {\n",
       "        vertical-align: top;\n",
       "    }\n",
       "\n",
       "    .dataframe thead th {\n",
       "        text-align: right;\n",
       "    }\n",
       "</style>\n",
       "<table border=\"1\" class=\"dataframe\">\n",
       "  <thead>\n",
       "    <tr style=\"text-align: right;\">\n",
       "      <th>WorkLifeBalance</th>\n",
       "      <th>0</th>\n",
       "      <th>1</th>\n",
       "    </tr>\n",
       "    <tr>\n",
       "      <th>Evidences</th>\n",
       "      <th></th>\n",
       "      <th></th>\n",
       "    </tr>\n",
       "  </thead>\n",
       "  <tbody>\n",
       "    <tr>\n",
       "      <th>JobLevel==0  Department==0</th>\n",
       "      <td>0.092838</td>\n",
       "      <td>0.907162</td>\n",
       "    </tr>\n",
       "    <tr>\n",
       "      <th>JobLevel==0  Department==1</th>\n",
       "      <td>0.194170</td>\n",
       "      <td>0.805830</td>\n",
       "    </tr>\n",
       "    <tr>\n",
       "      <th>JobLevel==0  Department==2</th>\n",
       "      <td>0.299908</td>\n",
       "      <td>0.700092</td>\n",
       "    </tr>\n",
       "    <tr>\n",
       "      <th>JobLevel==1  Department==0</th>\n",
       "      <td>0.102190</td>\n",
       "      <td>0.897810</td>\n",
       "    </tr>\n",
       "    <tr>\n",
       "      <th>JobLevel==1  Department==1</th>\n",
       "      <td>0.203232</td>\n",
       "      <td>0.796768</td>\n",
       "    </tr>\n",
       "    <tr>\n",
       "      <th>JobLevel==1  Department==2</th>\n",
       "      <td>0.308278</td>\n",
       "      <td>0.691722</td>\n",
       "    </tr>\n",
       "    <tr>\n",
       "      <th>JobLevel==2  Department==0</th>\n",
       "      <td>0.176829</td>\n",
       "      <td>0.823171</td>\n",
       "    </tr>\n",
       "    <tr>\n",
       "      <th>JobLevel==2  Department==1</th>\n",
       "      <td>0.239805</td>\n",
       "      <td>0.760195</td>\n",
       "    </tr>\n",
       "    <tr>\n",
       "      <th>JobLevel==2  Department==2</th>\n",
       "      <td>0.330053</td>\n",
       "      <td>0.669947</td>\n",
       "    </tr>\n",
       "  </tbody>\n",
       "</table>\n",
       "</div>"
      ],
      "text/plain": [
       "WorkLifeBalance                      0         1\n",
       "Evidences                                       \n",
       " JobLevel==0  Department==0   0.092838  0.907162\n",
       " JobLevel==0  Department==1   0.194170  0.805830\n",
       " JobLevel==0  Department==2   0.299908  0.700092\n",
       " JobLevel==1  Department==0   0.102190  0.897810\n",
       " JobLevel==1  Department==1   0.203232  0.796768\n",
       " JobLevel==1  Department==2   0.308278  0.691722\n",
       " JobLevel==2  Department==0   0.176829  0.823171\n",
       " JobLevel==2  Department==1   0.239805  0.760195\n",
       " JobLevel==2  Department==2   0.330053  0.669947"
      ]
     },
     "execution_count": 18,
     "metadata": {},
     "output_type": "execute_result"
    }
   ],
   "source": [
    "compute_cpd(data=df, variable='WorkLifeBalance', evidences=['JobLevel', 'Department'])"
   ]
  },
  {
   "cell_type": "markdown",
   "id": "0af59162",
   "metadata": {},
   "source": [
    "Also working in an higher `Department` decreases the probability of having a good `WorkLifeBalance`."
   ]
  },
  {
   "cell_type": "markdown",
   "id": "a80d2fae",
   "metadata": {},
   "source": [
    "**CPD of `JobSatisfaction`**. Let's now inspect the CPD of `JobSatisfaction`. First of all, prior distribution."
   ]
  },
  {
   "cell_type": "code",
   "execution_count": 12,
   "id": "b92bee11",
   "metadata": {},
   "outputs": [
    {
     "data": {
      "text/html": [
       "<div>\n",
       "<style scoped>\n",
       "    .dataframe tbody tr th:only-of-type {\n",
       "        vertical-align: middle;\n",
       "    }\n",
       "\n",
       "    .dataframe tbody tr th {\n",
       "        vertical-align: top;\n",
       "    }\n",
       "\n",
       "    .dataframe thead th {\n",
       "        text-align: right;\n",
       "    }\n",
       "</style>\n",
       "<table border=\"1\" class=\"dataframe\">\n",
       "  <thead>\n",
       "    <tr style=\"text-align: right;\">\n",
       "      <th>JobSatisfaction</th>\n",
       "      <th>0</th>\n",
       "      <th>1</th>\n",
       "    </tr>\n",
       "    <tr>\n",
       "      <th>Evidences</th>\n",
       "      <th></th>\n",
       "      <th></th>\n",
       "    </tr>\n",
       "  </thead>\n",
       "  <tbody>\n",
       "    <tr>\n",
       "      <th></th>\n",
       "      <td>0.571209</td>\n",
       "      <td>0.428791</td>\n",
       "    </tr>\n",
       "  </tbody>\n",
       "</table>\n",
       "</div>"
      ],
      "text/plain": [
       "JobSatisfaction         0         1\n",
       "Evidences                          \n",
       "                 0.571209  0.428791"
      ]
     },
     "execution_count": 12,
     "metadata": {},
     "output_type": "execute_result"
    }
   ],
   "source": [
    "compute_cpd(data=df, variable='JobSatisfaction')"
   ]
  },
  {
   "cell_type": "markdown",
   "id": "fda24de6",
   "metadata": {},
   "source": [
    "Then, we add the evidence `JobLevel`."
   ]
  },
  {
   "cell_type": "code",
   "execution_count": 13,
   "id": "3f510202",
   "metadata": {},
   "outputs": [
    {
     "data": {
      "text/html": [
       "<div>\n",
       "<style scoped>\n",
       "    .dataframe tbody tr th:only-of-type {\n",
       "        vertical-align: middle;\n",
       "    }\n",
       "\n",
       "    .dataframe tbody tr th {\n",
       "        vertical-align: top;\n",
       "    }\n",
       "\n",
       "    .dataframe thead th {\n",
       "        text-align: right;\n",
       "    }\n",
       "</style>\n",
       "<table border=\"1\" class=\"dataframe\">\n",
       "  <thead>\n",
       "    <tr style=\"text-align: right;\">\n",
       "      <th>JobSatisfaction</th>\n",
       "      <th>0</th>\n",
       "      <th>1</th>\n",
       "    </tr>\n",
       "    <tr>\n",
       "      <th>Evidences</th>\n",
       "      <th></th>\n",
       "      <th></th>\n",
       "    </tr>\n",
       "  </thead>\n",
       "  <tbody>\n",
       "    <tr>\n",
       "      <th>JobLevel==0</th>\n",
       "      <td>0.634627</td>\n",
       "      <td>0.365373</td>\n",
       "    </tr>\n",
       "    <tr>\n",
       "      <th>JobLevel==1</th>\n",
       "      <td>0.576962</td>\n",
       "      <td>0.423038</td>\n",
       "    </tr>\n",
       "    <tr>\n",
       "      <th>JobLevel==2</th>\n",
       "      <td>0.433141</td>\n",
       "      <td>0.566859</td>\n",
       "    </tr>\n",
       "  </tbody>\n",
       "</table>\n",
       "</div>"
      ],
      "text/plain": [
       "JobSatisfaction         0         1\n",
       "Evidences                          \n",
       " JobLevel==0     0.634627  0.365373\n",
       " JobLevel==1     0.576962  0.423038\n",
       " JobLevel==2     0.433141  0.566859"
      ]
     },
     "execution_count": 13,
     "metadata": {},
     "output_type": "execute_result"
    }
   ],
   "source": [
    "compute_cpd(data=df, variable='JobSatisfaction', evidences=['JobLevel'])"
   ]
  },
  {
   "cell_type": "markdown",
   "id": "69213559",
   "metadata": {},
   "source": [
    "Having an higher `JobLevel` increases the probability of being satisfied about the job.\n",
    "\n",
    "Let's put also the evidence `MonthlyIncome`."
   ]
  },
  {
   "cell_type": "code",
   "execution_count": 14,
   "id": "aa74b609",
   "metadata": {},
   "outputs": [
    {
     "data": {
      "text/html": [
       "<div>\n",
       "<style scoped>\n",
       "    .dataframe tbody tr th:only-of-type {\n",
       "        vertical-align: middle;\n",
       "    }\n",
       "\n",
       "    .dataframe tbody tr th {\n",
       "        vertical-align: top;\n",
       "    }\n",
       "\n",
       "    .dataframe thead th {\n",
       "        text-align: right;\n",
       "    }\n",
       "</style>\n",
       "<table border=\"1\" class=\"dataframe\">\n",
       "  <thead>\n",
       "    <tr style=\"text-align: right;\">\n",
       "      <th>JobSatisfaction</th>\n",
       "      <th>0</th>\n",
       "      <th>1</th>\n",
       "    </tr>\n",
       "    <tr>\n",
       "      <th>Evidences</th>\n",
       "      <th></th>\n",
       "      <th></th>\n",
       "    </tr>\n",
       "  </thead>\n",
       "  <tbody>\n",
       "    <tr>\n",
       "      <th>JobLevel==0  MonthlyIncome==0</th>\n",
       "      <td>0.643902</td>\n",
       "      <td>0.356098</td>\n",
       "    </tr>\n",
       "    <tr>\n",
       "      <th>JobLevel==0  MonthlyIncome==1</th>\n",
       "      <td>0.654168</td>\n",
       "      <td>0.345832</td>\n",
       "    </tr>\n",
       "    <tr>\n",
       "      <th>JobLevel==0  MonthlyIncome==2</th>\n",
       "      <td>0.548018</td>\n",
       "      <td>0.451982</td>\n",
       "    </tr>\n",
       "    <tr>\n",
       "      <th>JobLevel==1  MonthlyIncome==0</th>\n",
       "      <td>0.595099</td>\n",
       "      <td>0.404901</td>\n",
       "    </tr>\n",
       "    <tr>\n",
       "      <th>JobLevel==1  MonthlyIncome==1</th>\n",
       "      <td>0.598390</td>\n",
       "      <td>0.401610</td>\n",
       "    </tr>\n",
       "    <tr>\n",
       "      <th>JobLevel==1  MonthlyIncome==2</th>\n",
       "      <td>0.542473</td>\n",
       "      <td>0.457527</td>\n",
       "    </tr>\n",
       "    <tr>\n",
       "      <th>JobLevel==2  MonthlyIncome==0</th>\n",
       "      <td>0.488959</td>\n",
       "      <td>0.511041</td>\n",
       "    </tr>\n",
       "    <tr>\n",
       "      <th>JobLevel==2  MonthlyIncome==1</th>\n",
       "      <td>0.421875</td>\n",
       "      <td>0.578125</td>\n",
       "    </tr>\n",
       "    <tr>\n",
       "      <th>JobLevel==2  MonthlyIncome==2</th>\n",
       "      <td>0.430955</td>\n",
       "      <td>0.569045</td>\n",
       "    </tr>\n",
       "  </tbody>\n",
       "</table>\n",
       "</div>"
      ],
      "text/plain": [
       "JobSatisfaction                         0         1\n",
       "Evidences                                          \n",
       " JobLevel==0  MonthlyIncome==0   0.643902  0.356098\n",
       " JobLevel==0  MonthlyIncome==1   0.654168  0.345832\n",
       " JobLevel==0  MonthlyIncome==2   0.548018  0.451982\n",
       " JobLevel==1  MonthlyIncome==0   0.595099  0.404901\n",
       " JobLevel==1  MonthlyIncome==1   0.598390  0.401610\n",
       " JobLevel==1  MonthlyIncome==2   0.542473  0.457527\n",
       " JobLevel==2  MonthlyIncome==0   0.488959  0.511041\n",
       " JobLevel==2  MonthlyIncome==1   0.421875  0.578125\n",
       " JobLevel==2  MonthlyIncome==2   0.430955  0.569045"
      ]
     },
     "execution_count": 14,
     "metadata": {},
     "output_type": "execute_result"
    }
   ],
   "source": [
    "compute_cpd(data=df, variable='JobSatisfaction', evidences=['JobLevel', 'MonthlyIncome'])"
   ]
  },
  {
   "cell_type": "markdown",
   "id": "b0490b34",
   "metadata": {},
   "source": [
    "Also a bigger `MonthlyIncome` increases the `JobSatisfaction`.\n",
    "\n",
    "Finally, let's put also the evidence `WorkLifeBalance`."
   ]
  },
  {
   "cell_type": "code",
   "execution_count": 15,
   "id": "4d1a1c2c",
   "metadata": {},
   "outputs": [
    {
     "data": {
      "text/html": [
       "<div>\n",
       "<style scoped>\n",
       "    .dataframe tbody tr th:only-of-type {\n",
       "        vertical-align: middle;\n",
       "    }\n",
       "\n",
       "    .dataframe tbody tr th {\n",
       "        vertical-align: top;\n",
       "    }\n",
       "\n",
       "    .dataframe thead th {\n",
       "        text-align: right;\n",
       "    }\n",
       "</style>\n",
       "<table border=\"1\" class=\"dataframe\">\n",
       "  <thead>\n",
       "    <tr style=\"text-align: right;\">\n",
       "      <th>JobSatisfaction</th>\n",
       "      <th>0</th>\n",
       "      <th>1</th>\n",
       "    </tr>\n",
       "    <tr>\n",
       "      <th>Evidences</th>\n",
       "      <th></th>\n",
       "      <th></th>\n",
       "    </tr>\n",
       "  </thead>\n",
       "  <tbody>\n",
       "    <tr>\n",
       "      <th>JobLevel==0  MonthlyIncome==0  WorkLifeBalance==0</th>\n",
       "      <td>0.752711</td>\n",
       "      <td>0.247289</td>\n",
       "    </tr>\n",
       "    <tr>\n",
       "      <th>JobLevel==0  MonthlyIncome==0  WorkLifeBalance==1</th>\n",
       "      <td>0.614248</td>\n",
       "      <td>0.385752</td>\n",
       "    </tr>\n",
       "    <tr>\n",
       "      <th>JobLevel==0  MonthlyIncome==1  WorkLifeBalance==0</th>\n",
       "      <td>0.752252</td>\n",
       "      <td>0.247748</td>\n",
       "    </tr>\n",
       "    <tr>\n",
       "      <th>JobLevel==0  MonthlyIncome==1  WorkLifeBalance==1</th>\n",
       "      <td>0.626023</td>\n",
       "      <td>0.373977</td>\n",
       "    </tr>\n",
       "    <tr>\n",
       "      <th>JobLevel==0  MonthlyIncome==2  WorkLifeBalance==0</th>\n",
       "      <td>0.609959</td>\n",
       "      <td>0.390041</td>\n",
       "    </tr>\n",
       "    <tr>\n",
       "      <th>JobLevel==0  MonthlyIncome==2  WorkLifeBalance==1</th>\n",
       "      <td>0.531320</td>\n",
       "      <td>0.468680</td>\n",
       "    </tr>\n",
       "    <tr>\n",
       "      <th>JobLevel==1  MonthlyIncome==0  WorkLifeBalance==0</th>\n",
       "      <td>0.727488</td>\n",
       "      <td>0.272512</td>\n",
       "    </tr>\n",
       "    <tr>\n",
       "      <th>JobLevel==1  MonthlyIncome==0  WorkLifeBalance==1</th>\n",
       "      <td>0.556701</td>\n",
       "      <td>0.443299</td>\n",
       "    </tr>\n",
       "    <tr>\n",
       "      <th>JobLevel==1  MonthlyIncome==1  WorkLifeBalance==0</th>\n",
       "      <td>0.707612</td>\n",
       "      <td>0.292388</td>\n",
       "    </tr>\n",
       "    <tr>\n",
       "      <th>JobLevel==1  MonthlyIncome==1  WorkLifeBalance==1</th>\n",
       "      <td>0.565286</td>\n",
       "      <td>0.434714</td>\n",
       "    </tr>\n",
       "    <tr>\n",
       "      <th>JobLevel==1  MonthlyIncome==2  WorkLifeBalance==0</th>\n",
       "      <td>0.621212</td>\n",
       "      <td>0.378788</td>\n",
       "    </tr>\n",
       "    <tr>\n",
       "      <th>JobLevel==1  MonthlyIncome==2  WorkLifeBalance==1</th>\n",
       "      <td>0.518327</td>\n",
       "      <td>0.481673</td>\n",
       "    </tr>\n",
       "    <tr>\n",
       "      <th>JobLevel==2  MonthlyIncome==0  WorkLifeBalance==0</th>\n",
       "      <td>0.573333</td>\n",
       "      <td>0.426667</td>\n",
       "    </tr>\n",
       "    <tr>\n",
       "      <th>JobLevel==2  MonthlyIncome==0  WorkLifeBalance==1</th>\n",
       "      <td>0.462810</td>\n",
       "      <td>0.537190</td>\n",
       "    </tr>\n",
       "    <tr>\n",
       "      <th>JobLevel==2  MonthlyIncome==1  WorkLifeBalance==0</th>\n",
       "      <td>0.493056</td>\n",
       "      <td>0.506944</td>\n",
       "    </tr>\n",
       "    <tr>\n",
       "      <th>JobLevel==2  MonthlyIncome==1  WorkLifeBalance==1</th>\n",
       "      <td>0.394022</td>\n",
       "      <td>0.605978</td>\n",
       "    </tr>\n",
       "    <tr>\n",
       "      <th>JobLevel==2  MonthlyIncome==2  WorkLifeBalance==0</th>\n",
       "      <td>0.526245</td>\n",
       "      <td>0.473755</td>\n",
       "    </tr>\n",
       "    <tr>\n",
       "      <th>JobLevel==2  MonthlyIncome==2  WorkLifeBalance==1</th>\n",
       "      <td>0.396818</td>\n",
       "      <td>0.603182</td>\n",
       "    </tr>\n",
       "  </tbody>\n",
       "</table>\n",
       "</div>"
      ],
      "text/plain": [
       "JobSatisfaction                                            0         1\n",
       "Evidences                                                             \n",
       " JobLevel==0  MonthlyIncome==0  WorkLifeBalance...  0.752711  0.247289\n",
       " JobLevel==0  MonthlyIncome==0  WorkLifeBalance...  0.614248  0.385752\n",
       " JobLevel==0  MonthlyIncome==1  WorkLifeBalance...  0.752252  0.247748\n",
       " JobLevel==0  MonthlyIncome==1  WorkLifeBalance...  0.626023  0.373977\n",
       " JobLevel==0  MonthlyIncome==2  WorkLifeBalance...  0.609959  0.390041\n",
       " JobLevel==0  MonthlyIncome==2  WorkLifeBalance...  0.531320  0.468680\n",
       " JobLevel==1  MonthlyIncome==0  WorkLifeBalance...  0.727488  0.272512\n",
       " JobLevel==1  MonthlyIncome==0  WorkLifeBalance...  0.556701  0.443299\n",
       " JobLevel==1  MonthlyIncome==1  WorkLifeBalance...  0.707612  0.292388\n",
       " JobLevel==1  MonthlyIncome==1  WorkLifeBalance...  0.565286  0.434714\n",
       " JobLevel==1  MonthlyIncome==2  WorkLifeBalance...  0.621212  0.378788\n",
       " JobLevel==1  MonthlyIncome==2  WorkLifeBalance...  0.518327  0.481673\n",
       " JobLevel==2  MonthlyIncome==0  WorkLifeBalance...  0.573333  0.426667\n",
       " JobLevel==2  MonthlyIncome==0  WorkLifeBalance...  0.462810  0.537190\n",
       " JobLevel==2  MonthlyIncome==1  WorkLifeBalance...  0.493056  0.506944\n",
       " JobLevel==2  MonthlyIncome==1  WorkLifeBalance...  0.394022  0.605978\n",
       " JobLevel==2  MonthlyIncome==2  WorkLifeBalance...  0.526245  0.473755\n",
       " JobLevel==2  MonthlyIncome==2  WorkLifeBalance...  0.396818  0.603182"
      ]
     },
     "execution_count": 15,
     "metadata": {},
     "output_type": "execute_result"
    }
   ],
   "source": [
    "compute_cpd(data=df, variable='JobSatisfaction', evidences=['JobLevel', 'MonthlyIncome', 'WorkLifeBalance'])"
   ]
  },
  {
   "cell_type": "markdown",
   "id": "d2433af7",
   "metadata": {},
   "source": [
    "Also having a good `WorkLifeBalance` increases the probability of having a good `JobSatisfaction`."
   ]
  },
  {
   "cell_type": "markdown",
   "id": "ab01ee91",
   "metadata": {},
   "source": [
    "## DEFINING THE BAYESIAN NETWORK\n",
    "Let's now create the Bayesian Network, using the `pgmpy` library."
   ]
  },
  {
   "cell_type": "code",
   "execution_count": 92,
   "id": "f41be9ef",
   "metadata": {},
   "outputs": [],
   "source": [
    "from pgmpy.models import BayesianNetwork"
   ]
  },
  {
   "cell_type": "code",
   "execution_count": 93,
   "id": "636e08d5",
   "metadata": {},
   "outputs": [],
   "source": [
    "# We create the model by defining the list of edges between the variables\n",
    "job_satisfaction_model = BayesianNetwork(\n",
    "    [\n",
    "        ('Age', 'Education'),\n",
    "        ('Age', 'JobLevel'),\n",
    "        ('Education', 'JobLevel'),\n",
    "        ('Gender', 'JobLevel'),\n",
    "        ('Department', 'MonthlyIncome'),\n",
    "        ('JobLevel', 'MonthlyIncome'),\n",
    "        ('Department', 'WorkLifeBalance'),\n",
    "        ('JobLevel', 'WorkLifeBalance'),\n",
    "        ('JobLevel', 'JobSatisfaction'),\n",
    "        ('MonthlyIncome', 'JobSatisfaction'),\n",
    "        ('WorkLifeBalance', 'JobSatisfaction'),\n",
    "    ]\n",
    ")"
   ]
  },
  {
   "cell_type": "markdown",
   "id": "159d2dbd",
   "metadata": {},
   "source": [
    "### Training"
   ]
  },
  {
   "cell_type": "markdown",
   "id": "7cb61c83",
   "metadata": {},
   "source": [
    "Training the model, namely computing the CPDs. By default, the training performs the MLE technique, as explained before."
   ]
  },
  {
   "cell_type": "code",
   "execution_count": 94,
   "id": "a4dd12f6",
   "metadata": {},
   "outputs": [],
   "source": [
    "job_satisfaction_model.fit(data=df)"
   ]
  },
  {
   "cell_type": "markdown",
   "id": "a6c999c6",
   "metadata": {},
   "source": [
    "Checking the correctness of the model."
   ]
  },
  {
   "cell_type": "code",
   "execution_count": 154,
   "id": "a7618878",
   "metadata": {},
   "outputs": [
    {
     "data": {
      "text/plain": [
       "True"
      ]
     },
     "execution_count": 154,
     "metadata": {},
     "output_type": "execute_result"
    }
   ],
   "source": [
    "job_satisfaction_model.check_model()"
   ]
  },
  {
   "cell_type": "markdown",
   "id": "9ee402d2",
   "metadata": {},
   "source": [
    "The computed CPDs are exactly equal to the CPDs computed by the user-defined functionality shown before."
   ]
  },
  {
   "cell_type": "markdown",
   "id": "05c5029a",
   "metadata": {},
   "source": [
    "CPD of `Age`"
   ]
  },
  {
   "cell_type": "code",
   "execution_count": 24,
   "id": "7f10599b",
   "metadata": {},
   "outputs": [
    {
     "name": "stdout",
     "output_type": "stream",
     "text": [
      "[[0.35198686 0.34166752 0.30634562]]\n"
     ]
    },
    {
     "data": {
      "text/html": [
       "<div>\n",
       "<style scoped>\n",
       "    .dataframe tbody tr th:only-of-type {\n",
       "        vertical-align: middle;\n",
       "    }\n",
       "\n",
       "    .dataframe tbody tr th {\n",
       "        vertical-align: top;\n",
       "    }\n",
       "\n",
       "    .dataframe thead th {\n",
       "        text-align: right;\n",
       "    }\n",
       "</style>\n",
       "<table border=\"1\" class=\"dataframe\">\n",
       "  <thead>\n",
       "    <tr style=\"text-align: right;\">\n",
       "      <th>Age</th>\n",
       "      <th>0</th>\n",
       "      <th>1</th>\n",
       "      <th>2</th>\n",
       "    </tr>\n",
       "    <tr>\n",
       "      <th>Evidences</th>\n",
       "      <th></th>\n",
       "      <th></th>\n",
       "      <th></th>\n",
       "    </tr>\n",
       "  </thead>\n",
       "  <tbody>\n",
       "    <tr>\n",
       "      <th></th>\n",
       "      <td>0.351987</td>\n",
       "      <td>0.341668</td>\n",
       "      <td>0.306346</td>\n",
       "    </tr>\n",
       "  </tbody>\n",
       "</table>\n",
       "</div>"
      ],
      "text/plain": [
       "Age               0         1         2\n",
       "Evidences                              \n",
       "           0.351987  0.341668  0.306346"
      ]
     },
     "execution_count": 24,
     "metadata": {},
     "output_type": "execute_result"
    }
   ],
   "source": [
    "# CPD of Age\n",
    "print(job_satisfaction_model.get_cpds('Age').get_values().T)\n",
    "compute_cpd(data=df, variable='Age')"
   ]
  },
  {
   "cell_type": "markdown",
   "id": "c5286ec3",
   "metadata": {},
   "source": [
    "CPD of `JobLevel`"
   ]
  },
  {
   "cell_type": "code",
   "execution_count": 25,
   "id": "041a2385",
   "metadata": {},
   "outputs": [
    {
     "name": "stdout",
     "output_type": "stream",
     "text": [
      "[[0.66262626 0.25757576 0.07979798]\n",
      " [0.48365617 0.35714286 0.15920097]\n",
      " [0.65237226 0.24361314 0.1040146 ]\n",
      " [0.45314286 0.37257143 0.17428571]\n",
      " [0.40333333 0.38333333 0.21333333]\n",
      " [0.31901042 0.37760417 0.30338542]\n",
      " [0.61631016 0.28609626 0.09759358]\n",
      " [0.41018767 0.4155496  0.17426273]\n",
      " [0.51847826 0.34782609 0.13369565]\n",
      " [0.38205499 0.38205499 0.23589001]\n",
      " [0.37168142 0.3913471  0.23697148]\n",
      " [0.28795099 0.36623553 0.34581348]\n",
      " [0.58923077 0.28923077 0.12153846]\n",
      " [0.28676471 0.42401961 0.28921569]\n",
      " [0.47325103 0.36213992 0.16460905]\n",
      " [0.35467255 0.36571008 0.27961737]\n",
      " [0.36547619 0.36904762 0.26547619]\n",
      " [0.28947368 0.3406015  0.36992481]]\n"
     ]
    },
    {
     "data": {
      "text/html": [
       "<div>\n",
       "<style scoped>\n",
       "    .dataframe tbody tr th:only-of-type {\n",
       "        vertical-align: middle;\n",
       "    }\n",
       "\n",
       "    .dataframe tbody tr th {\n",
       "        vertical-align: top;\n",
       "    }\n",
       "\n",
       "    .dataframe thead th {\n",
       "        text-align: right;\n",
       "    }\n",
       "</style>\n",
       "<table border=\"1\" class=\"dataframe\">\n",
       "  <thead>\n",
       "    <tr style=\"text-align: right;\">\n",
       "      <th>JobLevel</th>\n",
       "      <th>0</th>\n",
       "      <th>1</th>\n",
       "      <th>2</th>\n",
       "    </tr>\n",
       "    <tr>\n",
       "      <th>Evidences</th>\n",
       "      <th></th>\n",
       "      <th></th>\n",
       "      <th></th>\n",
       "    </tr>\n",
       "  </thead>\n",
       "  <tbody>\n",
       "    <tr>\n",
       "      <th>Age==0  Education==0  Gender==0</th>\n",
       "      <td>0.662626</td>\n",
       "      <td>0.257576</td>\n",
       "      <td>0.079798</td>\n",
       "    </tr>\n",
       "    <tr>\n",
       "      <th>Age==0  Education==0  Gender==1</th>\n",
       "      <td>0.483656</td>\n",
       "      <td>0.357143</td>\n",
       "      <td>0.159201</td>\n",
       "    </tr>\n",
       "    <tr>\n",
       "      <th>Age==0  Education==1  Gender==0</th>\n",
       "      <td>0.652372</td>\n",
       "      <td>0.243613</td>\n",
       "      <td>0.104015</td>\n",
       "    </tr>\n",
       "    <tr>\n",
       "      <th>Age==0  Education==1  Gender==1</th>\n",
       "      <td>0.453143</td>\n",
       "      <td>0.372571</td>\n",
       "      <td>0.174286</td>\n",
       "    </tr>\n",
       "    <tr>\n",
       "      <th>Age==0  Education==2  Gender==0</th>\n",
       "      <td>0.403333</td>\n",
       "      <td>0.383333</td>\n",
       "      <td>0.213333</td>\n",
       "    </tr>\n",
       "    <tr>\n",
       "      <th>Age==0  Education==2  Gender==1</th>\n",
       "      <td>0.319010</td>\n",
       "      <td>0.377604</td>\n",
       "      <td>0.303385</td>\n",
       "    </tr>\n",
       "    <tr>\n",
       "      <th>Age==1  Education==0  Gender==0</th>\n",
       "      <td>0.616310</td>\n",
       "      <td>0.286096</td>\n",
       "      <td>0.097594</td>\n",
       "    </tr>\n",
       "    <tr>\n",
       "      <th>Age==1  Education==0  Gender==1</th>\n",
       "      <td>0.410188</td>\n",
       "      <td>0.415550</td>\n",
       "      <td>0.174263</td>\n",
       "    </tr>\n",
       "    <tr>\n",
       "      <th>Age==1  Education==1  Gender==0</th>\n",
       "      <td>0.518478</td>\n",
       "      <td>0.347826</td>\n",
       "      <td>0.133696</td>\n",
       "    </tr>\n",
       "    <tr>\n",
       "      <th>Age==1  Education==1  Gender==1</th>\n",
       "      <td>0.382055</td>\n",
       "      <td>0.382055</td>\n",
       "      <td>0.235890</td>\n",
       "    </tr>\n",
       "    <tr>\n",
       "      <th>Age==1  Education==2  Gender==0</th>\n",
       "      <td>0.371681</td>\n",
       "      <td>0.391347</td>\n",
       "      <td>0.236971</td>\n",
       "    </tr>\n",
       "    <tr>\n",
       "      <th>Age==1  Education==2  Gender==1</th>\n",
       "      <td>0.287951</td>\n",
       "      <td>0.366236</td>\n",
       "      <td>0.345813</td>\n",
       "    </tr>\n",
       "    <tr>\n",
       "      <th>Age==2  Education==0  Gender==0</th>\n",
       "      <td>0.589231</td>\n",
       "      <td>0.289231</td>\n",
       "      <td>0.121538</td>\n",
       "    </tr>\n",
       "    <tr>\n",
       "      <th>Age==2  Education==0  Gender==1</th>\n",
       "      <td>0.286765</td>\n",
       "      <td>0.424020</td>\n",
       "      <td>0.289216</td>\n",
       "    </tr>\n",
       "    <tr>\n",
       "      <th>Age==2  Education==1  Gender==0</th>\n",
       "      <td>0.473251</td>\n",
       "      <td>0.362140</td>\n",
       "      <td>0.164609</td>\n",
       "    </tr>\n",
       "    <tr>\n",
       "      <th>Age==2  Education==1  Gender==1</th>\n",
       "      <td>0.354673</td>\n",
       "      <td>0.365710</td>\n",
       "      <td>0.279617</td>\n",
       "    </tr>\n",
       "    <tr>\n",
       "      <th>Age==2  Education==2  Gender==0</th>\n",
       "      <td>0.365476</td>\n",
       "      <td>0.369048</td>\n",
       "      <td>0.265476</td>\n",
       "    </tr>\n",
       "    <tr>\n",
       "      <th>Age==2  Education==2  Gender==1</th>\n",
       "      <td>0.289474</td>\n",
       "      <td>0.340602</td>\n",
       "      <td>0.369925</td>\n",
       "    </tr>\n",
       "  </tbody>\n",
       "</table>\n",
       "</div>"
      ],
      "text/plain": [
       "JobLevel                                  0         1         2\n",
       "Evidences                                                      \n",
       " Age==0  Education==0  Gender==0   0.662626  0.257576  0.079798\n",
       " Age==0  Education==0  Gender==1   0.483656  0.357143  0.159201\n",
       " Age==0  Education==1  Gender==0   0.652372  0.243613  0.104015\n",
       " Age==0  Education==1  Gender==1   0.453143  0.372571  0.174286\n",
       " Age==0  Education==2  Gender==0   0.403333  0.383333  0.213333\n",
       " Age==0  Education==2  Gender==1   0.319010  0.377604  0.303385\n",
       " Age==1  Education==0  Gender==0   0.616310  0.286096  0.097594\n",
       " Age==1  Education==0  Gender==1   0.410188  0.415550  0.174263\n",
       " Age==1  Education==1  Gender==0   0.518478  0.347826  0.133696\n",
       " Age==1  Education==1  Gender==1   0.382055  0.382055  0.235890\n",
       " Age==1  Education==2  Gender==0   0.371681  0.391347  0.236971\n",
       " Age==1  Education==2  Gender==1   0.287951  0.366236  0.345813\n",
       " Age==2  Education==0  Gender==0   0.589231  0.289231  0.121538\n",
       " Age==2  Education==0  Gender==1   0.286765  0.424020  0.289216\n",
       " Age==2  Education==1  Gender==0   0.473251  0.362140  0.164609\n",
       " Age==2  Education==1  Gender==1   0.354673  0.365710  0.279617\n",
       " Age==2  Education==2  Gender==0   0.365476  0.369048  0.265476\n",
       " Age==2  Education==2  Gender==1   0.289474  0.340602  0.369925"
      ]
     },
     "execution_count": 25,
     "metadata": {},
     "output_type": "execute_result"
    }
   ],
   "source": [
    "# CPD of JobLevel\n",
    "print(job_satisfaction_model.get_cpds('JobLevel').get_values().T)\n",
    "compute_cpd(data=df, variable='JobLevel', evidences=['Age', 'Education', 'Gender'])"
   ]
  },
  {
   "cell_type": "markdown",
   "id": "5d86a559",
   "metadata": {},
   "source": [
    "## ANALYSIS OF THE BAYESIAN NETWORK\n",
    "Let's perform some analysis of the model."
   ]
  },
  {
   "cell_type": "markdown",
   "id": "45d146d8",
   "metadata": {},
   "source": [
    "### Independences\n",
    "Let's inspect the independences of each variable, given its parents."
   ]
  },
  {
   "cell_type": "markdown",
   "id": "e67688db",
   "metadata": {},
   "source": [
    "**`Age`**"
   ]
  },
  {
   "cell_type": "code",
   "execution_count": 28,
   "id": "ce2f0387",
   "metadata": {},
   "outputs": [
    {
     "data": {
      "text/plain": [
       "(Age ⟂ Gender, Department)"
      ]
     },
     "execution_count": 28,
     "metadata": {},
     "output_type": "execute_result"
    }
   ],
   "source": [
    "job_satisfaction_model.local_independencies('Age')"
   ]
  },
  {
   "cell_type": "markdown",
   "id": "038e7b3c",
   "metadata": {},
   "source": [
    "**`Education`**"
   ]
  },
  {
   "cell_type": "code",
   "execution_count": 30,
   "id": "acc52c01",
   "metadata": {},
   "outputs": [
    {
     "data": {
      "text/plain": [
       "(Education ⟂ Gender, Department | Age)"
      ]
     },
     "execution_count": 30,
     "metadata": {},
     "output_type": "execute_result"
    }
   ],
   "source": [
    "job_satisfaction_model.local_independencies('Education')"
   ]
  },
  {
   "cell_type": "markdown",
   "id": "bb924333",
   "metadata": {},
   "source": [
    "**`Gender`**"
   ]
  },
  {
   "cell_type": "code",
   "execution_count": 31,
   "id": "7a646291",
   "metadata": {},
   "outputs": [
    {
     "data": {
      "text/plain": [
       "(Gender ⟂ Age, Education, Department)"
      ]
     },
     "execution_count": 31,
     "metadata": {},
     "output_type": "execute_result"
    }
   ],
   "source": [
    "job_satisfaction_model.local_independencies('Gender')"
   ]
  },
  {
   "cell_type": "markdown",
   "id": "f180cd70",
   "metadata": {},
   "source": [
    "**`Department`**"
   ]
  },
  {
   "cell_type": "code",
   "execution_count": 32,
   "id": "b1e10af1",
   "metadata": {},
   "outputs": [
    {
     "data": {
      "text/plain": [
       "(Department ⟂ Gender, Age, JobLevel, Education)"
      ]
     },
     "execution_count": 32,
     "metadata": {},
     "output_type": "execute_result"
    }
   ],
   "source": [
    "job_satisfaction_model.local_independencies('Department')"
   ]
  },
  {
   "cell_type": "markdown",
   "id": "8de1d329",
   "metadata": {},
   "source": [
    "**`JobLevel`**"
   ]
  },
  {
   "cell_type": "code",
   "execution_count": 33,
   "id": "3cf70746",
   "metadata": {},
   "outputs": [
    {
     "data": {
      "text/plain": [
       "(JobLevel ⟂ Department | Gender, Age, Education)"
      ]
     },
     "execution_count": 33,
     "metadata": {},
     "output_type": "execute_result"
    }
   ],
   "source": [
    "job_satisfaction_model.local_independencies('JobLevel')"
   ]
  },
  {
   "cell_type": "markdown",
   "id": "7d085d17",
   "metadata": {},
   "source": [
    "**`WorkLifeBalance`**"
   ]
  },
  {
   "cell_type": "code",
   "execution_count": 35,
   "id": "82c7aa2b",
   "metadata": {},
   "outputs": [
    {
     "data": {
      "text/plain": [
       "(WorkLifeBalance ⟂ Gender, MonthlyIncome, Age, Education | JobLevel, Department)"
      ]
     },
     "execution_count": 35,
     "metadata": {},
     "output_type": "execute_result"
    }
   ],
   "source": [
    "job_satisfaction_model.local_independencies('WorkLifeBalance')"
   ]
  },
  {
   "cell_type": "markdown",
   "id": "168dd496",
   "metadata": {},
   "source": [
    "**`MonthlyIncome`**"
   ]
  },
  {
   "cell_type": "code",
   "execution_count": 34,
   "id": "b857a1fb",
   "metadata": {},
   "outputs": [
    {
     "data": {
      "text/plain": [
       "(MonthlyIncome ⟂ Gender, WorkLifeBalance, Age, Education | JobLevel, Department)"
      ]
     },
     "execution_count": 34,
     "metadata": {},
     "output_type": "execute_result"
    }
   ],
   "source": [
    "job_satisfaction_model.local_independencies('MonthlyIncome')"
   ]
  },
  {
   "cell_type": "markdown",
   "id": "434f62e7",
   "metadata": {},
   "source": [
    "**`JobSatisfaction`**"
   ]
  },
  {
   "cell_type": "code",
   "execution_count": 36,
   "id": "50bbca30",
   "metadata": {},
   "outputs": [
    {
     "data": {
      "text/plain": [
       "(JobSatisfaction ⟂ Gender, Age, Education, Department | WorkLifeBalance, MonthlyIncome, JobLevel)"
      ]
     },
     "execution_count": 36,
     "metadata": {},
     "output_type": "execute_result"
    }
   ],
   "source": [
    "job_satisfaction_model.local_independencies('JobSatisfaction')"
   ]
  },
  {
   "cell_type": "markdown",
   "id": "230e185b",
   "metadata": {},
   "source": [
    "### Flow of influence"
   ]
  },
  {
   "cell_type": "markdown",
   "id": "30380b82",
   "metadata": {},
   "source": [
    "In this section, we analyize how the influence of each variable $X$ flows across the network. We can think of the flow of influence of $X$ as the set of variables $X_i$ reached by the influence of $X$. It is important to point out that the influence of $X$ can flow in every direction, not only downward: $X$ can also influence variables which are upward with respect to him.\n",
    "\n",
    "The flow of influence of $X$ can change depending on if we have some evidences and which variables are these evidences.\n",
    "\n",
    "If a variable $X_i$ is reached by the flow of influence of $X$, then $X_i$ is dependent from $X$ (given the optional evidences). If $X_i$ is not reached by the flow of influence of $X$, then $X_i$ is independent with respect to $X$ (given the optional evidences, conditional independency).\n",
    "\n",
    "In this section, we inspect the flow of influence of each variable, without having any evidence."
   ]
  },
  {
   "cell_type": "markdown",
   "id": "d0475aa5",
   "metadata": {},
   "source": [
    "**`Age`**"
   ]
  },
  {
   "cell_type": "code",
   "execution_count": 39,
   "id": "175cc483",
   "metadata": {},
   "outputs": [
    {
     "data": {
      "text/plain": [
       "{'Age': {'Age',\n",
       "  'Education',\n",
       "  'JobLevel',\n",
       "  'JobSatisfaction',\n",
       "  'MonthlyIncome',\n",
       "  'WorkLifeBalance'}}"
      ]
     },
     "execution_count": 39,
     "metadata": {},
     "output_type": "execute_result"
    }
   ],
   "source": [
    "# Flow of influence of `Age`\n",
    "job_satisfaction_model.active_trail_nodes('Age')"
   ]
  },
  {
   "cell_type": "markdown",
   "id": "f644b329",
   "metadata": {},
   "source": [
    "*The variables which are not reached by the flow of influence of `Age` are the variables which are independent from `Age` (without having any evidence, absolute independence).*"
   ]
  },
  {
   "cell_type": "markdown",
   "id": "e2303242",
   "metadata": {},
   "source": [
    "**`Education`**"
   ]
  },
  {
   "cell_type": "code",
   "execution_count": 40,
   "id": "5450023a",
   "metadata": {},
   "outputs": [
    {
     "data": {
      "text/plain": [
       "{'Education': {'Age',\n",
       "  'Education',\n",
       "  'JobLevel',\n",
       "  'JobSatisfaction',\n",
       "  'MonthlyIncome',\n",
       "  'WorkLifeBalance'}}"
      ]
     },
     "execution_count": 40,
     "metadata": {},
     "output_type": "execute_result"
    }
   ],
   "source": [
    "# Flow of influence of `Education`\n",
    "job_satisfaction_model.active_trail_nodes('Education')"
   ]
  },
  {
   "cell_type": "markdown",
   "id": "0e605333",
   "metadata": {},
   "source": [
    "*The variables which are not reached by the flow of influence of `Education` are the variables which are independent from `Education` (without having any evidence, absolute independence).*"
   ]
  },
  {
   "cell_type": "markdown",
   "id": "6eaf9be3",
   "metadata": {},
   "source": [
    "**`Gender`**"
   ]
  },
  {
   "cell_type": "code",
   "execution_count": 41,
   "id": "e98f5536",
   "metadata": {},
   "outputs": [
    {
     "data": {
      "text/plain": [
       "{'Gender': {'Gender',\n",
       "  'JobLevel',\n",
       "  'JobSatisfaction',\n",
       "  'MonthlyIncome',\n",
       "  'WorkLifeBalance'}}"
      ]
     },
     "execution_count": 41,
     "metadata": {},
     "output_type": "execute_result"
    }
   ],
   "source": [
    "# Flow of influence of `Gender`\n",
    "job_satisfaction_model.active_trail_nodes('Gender')"
   ]
  },
  {
   "cell_type": "markdown",
   "id": "e9bffa3c",
   "metadata": {},
   "source": [
    "*The variables which are not reached by the flow of influence of `Gender` are the variables which are independent from `Gender` (without having any evidence, absolute independence).*"
   ]
  },
  {
   "cell_type": "markdown",
   "id": "688b6505",
   "metadata": {},
   "source": [
    "**`Department`**"
   ]
  },
  {
   "cell_type": "code",
   "execution_count": 42,
   "id": "57b58952",
   "metadata": {},
   "outputs": [
    {
     "data": {
      "text/plain": [
       "{'Department': {'Department',\n",
       "  'JobSatisfaction',\n",
       "  'MonthlyIncome',\n",
       "  'WorkLifeBalance'}}"
      ]
     },
     "execution_count": 42,
     "metadata": {},
     "output_type": "execute_result"
    }
   ],
   "source": [
    "# Flow of influence of `Department`\n",
    "job_satisfaction_model.active_trail_nodes('Department')"
   ]
  },
  {
   "cell_type": "markdown",
   "id": "32a11a78",
   "metadata": {},
   "source": [
    "*The variables which are not reached by the flow of influence of `Department` are the variables which are independent from `Department` (without having any evidence, absolute independence).*"
   ]
  },
  {
   "cell_type": "markdown",
   "id": "c2293b1a",
   "metadata": {},
   "source": [
    "**`JobLevel`**"
   ]
  },
  {
   "cell_type": "code",
   "execution_count": 44,
   "id": "afebe25e",
   "metadata": {},
   "outputs": [
    {
     "data": {
      "text/plain": [
       "{'JobLevel': {'Age',\n",
       "  'Education',\n",
       "  'Gender',\n",
       "  'JobLevel',\n",
       "  'JobSatisfaction',\n",
       "  'MonthlyIncome',\n",
       "  'WorkLifeBalance'}}"
      ]
     },
     "execution_count": 44,
     "metadata": {},
     "output_type": "execute_result"
    }
   ],
   "source": [
    "# Flow of influence of `JobLevel`\n",
    "job_satisfaction_model.active_trail_nodes('JobLevel')"
   ]
  },
  {
   "cell_type": "markdown",
   "id": "6b3b9d85",
   "metadata": {},
   "source": [
    "*The variables which are not reached by the flow of influence of `JobLevel` are the variables which are independent from `JobLevel` (without having any evidence, absolute independence).*"
   ]
  },
  {
   "cell_type": "markdown",
   "id": "edfb9a3f",
   "metadata": {},
   "source": [
    "**`WorkLifeBalance`**"
   ]
  },
  {
   "cell_type": "code",
   "execution_count": 43,
   "id": "cc3b10dc",
   "metadata": {},
   "outputs": [
    {
     "data": {
      "text/plain": [
       "{'WorkLifeBalance': {'Age',\n",
       "  'Department',\n",
       "  'Education',\n",
       "  'Gender',\n",
       "  'JobLevel',\n",
       "  'JobSatisfaction',\n",
       "  'MonthlyIncome',\n",
       "  'WorkLifeBalance'}}"
      ]
     },
     "execution_count": 43,
     "metadata": {},
     "output_type": "execute_result"
    }
   ],
   "source": [
    "# Flow of influence of `WorkLifeBalance`\n",
    "job_satisfaction_model.active_trail_nodes('WorkLifeBalance')"
   ]
  },
  {
   "cell_type": "markdown",
   "id": "ae477bb3",
   "metadata": {},
   "source": [
    "*The variables which are not reached by the flow of influence of `WorkLifeBalance` are the variables which are independent from `WorkLifeBalance` (without having any evidence, absolute independence).*"
   ]
  },
  {
   "cell_type": "markdown",
   "id": "48f8b7d3",
   "metadata": {},
   "source": [
    "**`MonthlyIncome`**"
   ]
  },
  {
   "cell_type": "code",
   "execution_count": 45,
   "id": "18230522",
   "metadata": {},
   "outputs": [
    {
     "data": {
      "text/plain": [
       "{'MonthlyIncome': {'Age',\n",
       "  'Department',\n",
       "  'Education',\n",
       "  'Gender',\n",
       "  'JobLevel',\n",
       "  'JobSatisfaction',\n",
       "  'MonthlyIncome',\n",
       "  'WorkLifeBalance'}}"
      ]
     },
     "execution_count": 45,
     "metadata": {},
     "output_type": "execute_result"
    }
   ],
   "source": [
    "# Flow of influence of `MonthlyIncome`\n",
    "job_satisfaction_model.active_trail_nodes('MonthlyIncome')"
   ]
  },
  {
   "cell_type": "markdown",
   "id": "2343fb60",
   "metadata": {},
   "source": [
    "*The variables which are not reached by the flow of influence of `MonthlyIncome` are the variables which are independent from `MonthlyIncome` (without having any evidence, absolute independence).*"
   ]
  },
  {
   "cell_type": "markdown",
   "id": "7938947e",
   "metadata": {},
   "source": [
    "**`JobSatisfaction`**"
   ]
  },
  {
   "cell_type": "code",
   "execution_count": 46,
   "id": "f7c905a2",
   "metadata": {},
   "outputs": [
    {
     "data": {
      "text/plain": [
       "{'JobSatisfaction': {'Age',\n",
       "  'Department',\n",
       "  'Education',\n",
       "  'Gender',\n",
       "  'JobLevel',\n",
       "  'JobSatisfaction',\n",
       "  'MonthlyIncome',\n",
       "  'WorkLifeBalance'}}"
      ]
     },
     "execution_count": 46,
     "metadata": {},
     "output_type": "execute_result"
    }
   ],
   "source": [
    "# Flow of influence of `JobSatisfaction`\n",
    "job_satisfaction_model.active_trail_nodes('JobSatisfaction')"
   ]
  },
  {
   "cell_type": "markdown",
   "id": "5f65153f",
   "metadata": {},
   "source": [
    "*The variables which are not reached by the flow of influence of `JobSatisfaction` are the variables which are independent from `JobSatisfaction` (without having any evidence, absolute independence).*"
   ]
  },
  {
   "cell_type": "markdown",
   "id": "ffda25dc",
   "metadata": {},
   "source": [
    "### Breaking the flow of influence\n",
    "Normally, between two variables for which there exist a path linking them, there is the flow of influence. They influence each other. <img src=\"Images/NormalFlow.png\" width=\"40\">\n",
    "\n",
    "However, if we add as evidence a node between the two variables and that node is the only passage of the flow of influence between the two variables, then the flow is broken: the two variables don't influence each other anymore  <img src=\"Images/BreakFlow.png\" width=\"40\">\n",
    "\n",
    "Let's see some examples."
   ]
  },
  {
   "cell_type": "markdown",
   "id": "1c94991f",
   "metadata": {},
   "source": [
    "**Breaking the flow of influence between `Age`-`MonthlyIncome`**\n",
    "\n",
    "Without having any evidence, these two variables influence each other. Indeed, `MonthlyIncome` is in the flow of influence of `Age`."
   ]
  },
  {
   "cell_type": "code",
   "execution_count": 180,
   "id": "d6b38dc8",
   "metadata": {},
   "outputs": [
    {
     "data": {
      "text/plain": [
       "{'Age': {'Age',\n",
       "  'Education',\n",
       "  'JobLevel',\n",
       "  'JobSatisfaction',\n",
       "  'MonthlyIncome',\n",
       "  'WorkLifeBalance'}}"
      ]
     },
     "execution_count": 180,
     "metadata": {},
     "output_type": "execute_result"
    }
   ],
   "source": [
    "# Flow of influence of `Age`\n",
    "job_satisfaction_model.active_trail_nodes('Age')"
   ]
  },
  {
   "cell_type": "markdown",
   "id": "352ff4d1",
   "metadata": {},
   "source": [
    "The influence flows between `Age` and `MonthlyIncome` only passing through `JobLevel`. `JobLevel` is the only passage of the influence between `Age` and `MonthlyIncome`. This means that, if we add `JobLevel` as evidence, the flow of influence between `Age` and `MonthlyIncome` is broken. <img src=\"Images/BreakInfluence_Age_MonthlyIncome.png\" width=\"400\">"
   ]
  },
  {
   "cell_type": "code",
   "execution_count": 181,
   "id": "ab254ec0",
   "metadata": {},
   "outputs": [
    {
     "data": {
      "text/plain": [
       "{'Age': {'Age', 'Education', 'Gender'}}"
      ]
     },
     "execution_count": 181,
     "metadata": {},
     "output_type": "execute_result"
    }
   ],
   "source": [
    "# Flow of influence of `Age` with evidence 'JobLevel': `MonthlyIncome` is not influenced anymore by `Age`\n",
    "job_satisfaction_model.active_trail_nodes('Age', observed='JobLevel')"
   ]
  },
  {
   "cell_type": "markdown",
   "id": "33d7fd2f",
   "metadata": {},
   "source": [
    "This exact same reasoning can be applied also if we replace `Age` with `Education`/`Gender` and/or if we replace `MonthlyIncome` with `JobSatisfaction`/`WorkLifeBalance`."
   ]
  },
  {
   "cell_type": "markdown",
   "id": "2fa37c48",
   "metadata": {},
   "source": [
    "### V-structures\n",
    "Normally, the influence does not flow between two variables which are the common parents of the same node. <img src=\"Images/V-structure.png\" width=\"200\">\n",
    "However, if the common child, or a descendent of the common child, is in the evidence, then this opens the flow of the influence between the common parents: this is the V-structure.\n",
    "\n",
    "Let's see some exaples."
   ]
  },
  {
   "cell_type": "markdown",
   "id": "c59c7bee",
   "metadata": {},
   "source": [
    "**V-structure `Age`-`Gender`**\n",
    "\n",
    "If we don't have any evidence, the influence does not flow between these two variables. Indeed, they are independent. However, if we add the evidence `JobLevel` (or any descendant of this variable), then the V-structure activates and it opens the flow of the influence between the common parents.\n",
    "\n",
    "<img src=\"Images/VS_Age_Gender.png\" width=\"350\">"
   ]
  },
  {
   "cell_type": "code",
   "execution_count": 47,
   "id": "3701d49b",
   "metadata": {},
   "outputs": [
    {
     "data": {
      "text/plain": [
       "{'Age': {'Age',\n",
       "  'Education',\n",
       "  'JobLevel',\n",
       "  'JobSatisfaction',\n",
       "  'MonthlyIncome',\n",
       "  'WorkLifeBalance'}}"
      ]
     },
     "execution_count": 47,
     "metadata": {},
     "output_type": "execute_result"
    }
   ],
   "source": [
    "# Flow of incluence of `Age`, without any evidence. The variable `Gender` is not reached by the influence of \n",
    "# `Age`: they are independent.\n",
    "job_satisfaction_model.active_trail_nodes('Age')"
   ]
  },
  {
   "cell_type": "code",
   "execution_count": 48,
   "id": "0c877942",
   "metadata": {},
   "outputs": [
    {
     "data": {
      "text/plain": [
       "{'Age': {'Age', 'Education', 'Gender'}}"
      ]
     },
     "execution_count": 48,
     "metadata": {},
     "output_type": "execute_result"
    }
   ],
   "source": [
    "# Flow of incluence of `Age`, with the evidence `JobLevel`: the variable `Gender` now is reached by the flow of influence\n",
    "job_satisfaction_model.active_trail_nodes('Age', observed='JobLevel')"
   ]
  },
  {
   "cell_type": "markdown",
   "id": "8b69f004",
   "metadata": {},
   "source": [
    "*It is important to notice that putting the evidence `JobLevel` removes many nodes from the flow of influence of `Age`*"
   ]
  },
  {
   "cell_type": "markdown",
   "id": "d9414996",
   "metadata": {},
   "source": [
    "**V-structure `Education`-`Gender`**\n",
    "\n",
    "The same thing happens also between `Education` and `Gender`. \n",
    "- If no evidence $\\implies$ the variables are independent.\n",
    "- If evidence `JobLevel` (or any descendant) $\\implies$ the variables influence each other.\n",
    "\n",
    "<img src=\"Images/VS_Education_Gender.png\" width=\"350\">"
   ]
  },
  {
   "cell_type": "code",
   "execution_count": 49,
   "id": "ea3c0909",
   "metadata": {},
   "outputs": [
    {
     "data": {
      "text/plain": [
       "{'Education': {'Age',\n",
       "  'Education',\n",
       "  'JobLevel',\n",
       "  'JobSatisfaction',\n",
       "  'MonthlyIncome',\n",
       "  'WorkLifeBalance'}}"
      ]
     },
     "execution_count": 49,
     "metadata": {},
     "output_type": "execute_result"
    }
   ],
   "source": [
    "# Flow of incluence of `Education`, without any evidence. The variable `Gender` is not reached by the influence of \n",
    "# `Education`: they are independent.\n",
    "job_satisfaction_model.active_trail_nodes('Education')"
   ]
  },
  {
   "cell_type": "code",
   "execution_count": 51,
   "id": "1afb9929",
   "metadata": {},
   "outputs": [
    {
     "data": {
      "text/plain": [
       "{'Education': {'Age', 'Education', 'Gender'}}"
      ]
     },
     "execution_count": 51,
     "metadata": {},
     "output_type": "execute_result"
    }
   ],
   "source": [
    "# Flow of incluence of `Education`, with the evidence `JobLevel`: the variable `Gender` now is reached by the flow of \n",
    "# influence\n",
    "job_satisfaction_model.active_trail_nodes('Education', observed='JobLevel')"
   ]
  },
  {
   "cell_type": "markdown",
   "id": "60ea5459",
   "metadata": {},
   "source": [
    "*It is important to notice that putting the evidence `JobLevel` removes many nodes from the flow of influence of `Education`*"
   ]
  },
  {
   "cell_type": "markdown",
   "id": "4994a8f6",
   "metadata": {},
   "source": [
    "**V-structure `JobLevel`-`Department`**\n",
    "\n",
    "The same thing happens also between `JobLevel` and `Department`. \n",
    "- If no evidence $\\implies$ the variables are independent.\n",
    "- If evidence `MonthlyIncome` (or any descendant) $\\implies$ the variables influence each other.\n",
    "\n",
    "<img src=\"Images/VS_JobLevel_Department.png\" width=\"350\">\n",
    "\n",
    "Actualy, the variable `JobLevel`-`Department` have more than one common child. They have two common childs: `MonthlyIncome` and `WorkLifeBalance`. Therefore, we can choose one of these two variables to activate the V-structure (or any descendant of these nodes)."
   ]
  },
  {
   "cell_type": "code",
   "execution_count": 52,
   "id": "425e77ac",
   "metadata": {},
   "outputs": [
    {
     "data": {
      "text/plain": [
       "{'JobLevel': {'Age',\n",
       "  'Education',\n",
       "  'Gender',\n",
       "  'JobLevel',\n",
       "  'JobSatisfaction',\n",
       "  'MonthlyIncome',\n",
       "  'WorkLifeBalance'}}"
      ]
     },
     "execution_count": 52,
     "metadata": {},
     "output_type": "execute_result"
    }
   ],
   "source": [
    "# Flow of incluence of `JobLevel`, without any evidence. The variable `Department` is not reached by the influence of \n",
    "# `JobLevel`: they are independent.\n",
    "job_satisfaction_model.active_trail_nodes('JobLevel')"
   ]
  },
  {
   "cell_type": "code",
   "execution_count": 53,
   "id": "f7d23e79",
   "metadata": {},
   "outputs": [
    {
     "data": {
      "text/plain": [
       "{'JobLevel': {'Age',\n",
       "  'Department',\n",
       "  'Education',\n",
       "  'Gender',\n",
       "  'JobLevel',\n",
       "  'JobSatisfaction',\n",
       "  'WorkLifeBalance'}}"
      ]
     },
     "execution_count": 53,
     "metadata": {},
     "output_type": "execute_result"
    }
   ],
   "source": [
    "# Flow of incluence of `JobLevel`, with the evidence `MonthlyIncome`: the variable `Department` now is reached by the flow \n",
    "# of influence\n",
    "job_satisfaction_model.active_trail_nodes('JobLevel', observed='MonthlyIncome')"
   ]
  },
  {
   "cell_type": "markdown",
   "id": "e7b8af8c",
   "metadata": {},
   "source": [
    "### Markov blankets\n",
    "Given a variable $X$, its Markov blanket is the set of nodes consisting of:\n",
    "- all its parents;\n",
    "- all its children;\n",
    "- all the parents of its children.\n",
    "\n",
    "<img src=\"Images/Markov_blanket.png\" width=\"200\">\n",
    "\n",
    "The important point is that each variable $X$ is independent from all other variables $X_i$  of the network if the markov blanket is given as evidence, namely if all the variables in the Markov blanket are given as evidence.\n",
    "\n",
    "Let's see some examples."
   ]
  },
  {
   "cell_type": "markdown",
   "id": "62f21e0c",
   "metadata": {},
   "source": [
    "**`Age`** <img src=\"Images/MB_Age.png\" width=\"400\">"
   ]
  },
  {
   "cell_type": "code",
   "execution_count": 62,
   "id": "6db93f08",
   "metadata": {},
   "outputs": [
    {
     "data": {
      "text/plain": [
       "['Gender', 'JobLevel', 'Education']"
      ]
     },
     "execution_count": 62,
     "metadata": {},
     "output_type": "execute_result"
    }
   ],
   "source": [
    "mb_age = job_satisfaction_model.get_markov_blanket('Age')\n",
    "mb_age"
   ]
  },
  {
   "cell_type": "code",
   "execution_count": 63,
   "id": "4e2e107b",
   "metadata": {},
   "outputs": [
    {
     "data": {
      "text/plain": [
       "{'Age': {'Age'}}"
      ]
     },
     "execution_count": 63,
     "metadata": {},
     "output_type": "execute_result"
    }
   ],
   "source": [
    "# `Age` is independent from all other nodes given its Markov blanket\n",
    "job_satisfaction_model.active_trail_nodes('Age', observed=mb_age)"
   ]
  },
  {
   "cell_type": "markdown",
   "id": "b6d9ba88",
   "metadata": {},
   "source": [
    "**`Education`** <img src=\"Images/MB_Education.png\" width=\"400\">"
   ]
  },
  {
   "cell_type": "code",
   "execution_count": 64,
   "id": "2e2358e3",
   "metadata": {},
   "outputs": [
    {
     "data": {
      "text/plain": [
       "['Gender', 'Age', 'JobLevel']"
      ]
     },
     "execution_count": 64,
     "metadata": {},
     "output_type": "execute_result"
    }
   ],
   "source": [
    "mb_education = job_satisfaction_model.get_markov_blanket('Education')\n",
    "mb_education"
   ]
  },
  {
   "cell_type": "code",
   "execution_count": 65,
   "id": "c04bff6b",
   "metadata": {},
   "outputs": [
    {
     "data": {
      "text/plain": [
       "{'Education': {'Education'}}"
      ]
     },
     "execution_count": 65,
     "metadata": {},
     "output_type": "execute_result"
    }
   ],
   "source": [
    "# `Education` is independent from all other nodes given its Markov blanket\n",
    "job_satisfaction_model.active_trail_nodes('Education', observed=mb_education)"
   ]
  },
  {
   "cell_type": "markdown",
   "id": "614f2bbc",
   "metadata": {},
   "source": [
    "**`Gender`** <img src=\"Images/MB_Gender.png\" width=\"400\">"
   ]
  },
  {
   "cell_type": "code",
   "execution_count": 66,
   "id": "a2b9a22e",
   "metadata": {},
   "outputs": [
    {
     "data": {
      "text/plain": [
       "['Age', 'JobLevel', 'Education']"
      ]
     },
     "execution_count": 66,
     "metadata": {},
     "output_type": "execute_result"
    }
   ],
   "source": [
    "mb_gender = job_satisfaction_model.get_markov_blanket('Gender')\n",
    "mb_gender"
   ]
  },
  {
   "cell_type": "code",
   "execution_count": 67,
   "id": "78d09cfe",
   "metadata": {},
   "outputs": [
    {
     "data": {
      "text/plain": [
       "{'Gender': {'Gender'}}"
      ]
     },
     "execution_count": 67,
     "metadata": {},
     "output_type": "execute_result"
    }
   ],
   "source": [
    "# `Gender` is independent from all other nodes given its Markov blanket\n",
    "job_satisfaction_model.active_trail_nodes('Gender', observed=mb_gender)"
   ]
  },
  {
   "cell_type": "markdown",
   "id": "b8b382bf",
   "metadata": {},
   "source": [
    "**`Department`** <img src=\"Images/MB_Department.png\" width=\"400\">"
   ]
  },
  {
   "cell_type": "code",
   "execution_count": 68,
   "id": "b0df6819",
   "metadata": {},
   "outputs": [
    {
     "data": {
      "text/plain": [
       "['WorkLifeBalance', 'MonthlyIncome', 'JobLevel']"
      ]
     },
     "execution_count": 68,
     "metadata": {},
     "output_type": "execute_result"
    }
   ],
   "source": [
    "mb_department = job_satisfaction_model.get_markov_blanket('Department')\n",
    "mb_department"
   ]
  },
  {
   "cell_type": "code",
   "execution_count": 69,
   "id": "feb62db9",
   "metadata": {},
   "outputs": [
    {
     "data": {
      "text/plain": [
       "{'Department': {'Department'}}"
      ]
     },
     "execution_count": 69,
     "metadata": {},
     "output_type": "execute_result"
    }
   ],
   "source": [
    "# `Department` is independent from all other nodes given its Markov blanket\n",
    "job_satisfaction_model.active_trail_nodes('Department', observed=mb_department)"
   ]
  },
  {
   "cell_type": "markdown",
   "id": "bd8ed544",
   "metadata": {},
   "source": [
    "**`JobLevel`** <img src=\"Images/MB_JobLevel.png\" width=\"400\">"
   ]
  },
  {
   "cell_type": "code",
   "execution_count": 70,
   "id": "203aeda5",
   "metadata": {},
   "outputs": [
    {
     "data": {
      "text/plain": [
       "['JobSatisfaction',\n",
       " 'Gender',\n",
       " 'WorkLifeBalance',\n",
       " 'MonthlyIncome',\n",
       " 'Age',\n",
       " 'Education',\n",
       " 'Department']"
      ]
     },
     "execution_count": 70,
     "metadata": {},
     "output_type": "execute_result"
    }
   ],
   "source": [
    "mb_jobLevel = job_satisfaction_model.get_markov_blanket('JobLevel')\n",
    "mb_jobLevel"
   ]
  },
  {
   "cell_type": "code",
   "execution_count": 71,
   "id": "f0f221c6",
   "metadata": {},
   "outputs": [
    {
     "data": {
      "text/plain": [
       "{'JobLevel': {'JobLevel'}}"
      ]
     },
     "execution_count": 71,
     "metadata": {},
     "output_type": "execute_result"
    }
   ],
   "source": [
    "# `JobLevel` is independent from all other nodes given its Markov blanket\n",
    "job_satisfaction_model.active_trail_nodes('JobLevel', observed=mb_jobLevel)"
   ]
  },
  {
   "cell_type": "markdown",
   "id": "ea129347",
   "metadata": {},
   "source": [
    "**`WorkLifeBalance`** <img src=\"Images/MB_WorkLifeBalance.png\" width=\"400\">"
   ]
  },
  {
   "cell_type": "code",
   "execution_count": 72,
   "id": "70ab5208",
   "metadata": {},
   "outputs": [
    {
     "data": {
      "text/plain": [
       "['JobSatisfaction', 'JobLevel', 'MonthlyIncome', 'Department']"
      ]
     },
     "execution_count": 72,
     "metadata": {},
     "output_type": "execute_result"
    }
   ],
   "source": [
    "mb_workLifeBalance = job_satisfaction_model.get_markov_blanket('WorkLifeBalance')\n",
    "mb_workLifeBalance"
   ]
  },
  {
   "cell_type": "code",
   "execution_count": 73,
   "id": "1f652f6e",
   "metadata": {},
   "outputs": [
    {
     "data": {
      "text/plain": [
       "{'WorkLifeBalance': {'WorkLifeBalance'}}"
      ]
     },
     "execution_count": 73,
     "metadata": {},
     "output_type": "execute_result"
    }
   ],
   "source": [
    "# `WorkLifeBalance` is independent from all other nodes given its Markov blanket\n",
    "job_satisfaction_model.active_trail_nodes('WorkLifeBalance', observed=mb_workLifeBalance)"
   ]
  },
  {
   "cell_type": "markdown",
   "id": "efb4ceb7",
   "metadata": {},
   "source": [
    "**`MonthlyIncome`** <img src=\"Images/MB_MonthlyIncome.png\" width=\"400\">"
   ]
  },
  {
   "cell_type": "code",
   "execution_count": 74,
   "id": "eab0fa54",
   "metadata": {},
   "outputs": [
    {
     "data": {
      "text/plain": [
       "['JobSatisfaction', 'JobLevel', 'WorkLifeBalance', 'Department']"
      ]
     },
     "execution_count": 74,
     "metadata": {},
     "output_type": "execute_result"
    }
   ],
   "source": [
    "mb_monthlyIncome = job_satisfaction_model.get_markov_blanket('MonthlyIncome')\n",
    "mb_monthlyIncome"
   ]
  },
  {
   "cell_type": "code",
   "execution_count": 75,
   "id": "34cb415b",
   "metadata": {},
   "outputs": [
    {
     "data": {
      "text/plain": [
       "{'MonthlyIncome': {'MonthlyIncome'}}"
      ]
     },
     "execution_count": 75,
     "metadata": {},
     "output_type": "execute_result"
    }
   ],
   "source": [
    "# `MonthlyIncome` is independent from all other nodes given its Markov blanket\n",
    "job_satisfaction_model.active_trail_nodes('MonthlyIncome', observed=mb_monthlyIncome)"
   ]
  },
  {
   "cell_type": "markdown",
   "id": "6ef14b9b",
   "metadata": {},
   "source": [
    "**`JobSatisfaction`** <img src=\"Images/MB_JobSatisfaction.png\" width=\"400\">"
   ]
  },
  {
   "cell_type": "code",
   "execution_count": 76,
   "id": "31d17bc6",
   "metadata": {},
   "outputs": [
    {
     "data": {
      "text/plain": [
       "['WorkLifeBalance', 'MonthlyIncome', 'JobLevel']"
      ]
     },
     "execution_count": 76,
     "metadata": {},
     "output_type": "execute_result"
    }
   ],
   "source": [
    "mb_jobSatisfaction = job_satisfaction_model.get_markov_blanket('JobSatisfaction')\n",
    "mb_jobSatisfaction"
   ]
  },
  {
   "cell_type": "code",
   "execution_count": 77,
   "id": "2805b562",
   "metadata": {},
   "outputs": [
    {
     "data": {
      "text/plain": [
       "{'JobSatisfaction': {'JobSatisfaction'}}"
      ]
     },
     "execution_count": 77,
     "metadata": {},
     "output_type": "execute_result"
    }
   ],
   "source": [
    "# `JobSatisfaction` is independent from all other nodes given its Markov blanket\n",
    "job_satisfaction_model.active_trail_nodes('JobSatisfaction', observed=mb_jobSatisfaction)"
   ]
  },
  {
   "cell_type": "markdown",
   "id": "dd06da65",
   "metadata": {},
   "source": [
    "## INFERENCE\n",
    "In this section we apply some inference. Namely, we compute the probability distribution of the variables, given some optional evidences.\n",
    "\n",
    "One of the most interesting points is to see how the probability distribution of a variable changes by using different evidences. \n",
    "\n",
    "Inference can be applied in every direction. In particular:\n",
    "- it can be applied from the top to the bottom (the variable is downward with respect to the evidences);\n",
    "- it can be applied from the bottom to the top (the variable is upward with respect to the evidences).\n",
    "\n",
    "In particular, in this section we will use **exact inference**: the probabilities are precisely computed, using exact methods. The exact method used is the **Variable Elimination method**. "
   ]
  },
  {
   "cell_type": "code",
   "execution_count": 157,
   "id": "e9a3e652",
   "metadata": {},
   "outputs": [],
   "source": [
    "from pgmpy.inference import VariableElimination\n",
    "\n",
    "job_satisfaction_inference = VariableElimination(job_satisfaction_model)"
   ]
  },
  {
   "cell_type": "markdown",
   "id": "5ee140d0",
   "metadata": {},
   "source": [
    "### Inference on `JobSatisfaction`\n",
    "Let's start with the most interesting variable: `JobSatisfaction`. We start by analyizing its prior distribution and then we see how the distribution changes by adding evidences."
   ]
  },
  {
   "cell_type": "markdown",
   "id": "b982ca04",
   "metadata": {},
   "source": [
    "**Prior distribution**"
   ]
  },
  {
   "cell_type": "code",
   "execution_count": 80,
   "id": "552f778f",
   "metadata": {},
   "outputs": [
    {
     "name": "stdout",
     "output_type": "stream",
     "text": [
      "+--------------------+------------------------+\n",
      "| JobSatisfaction    |   phi(JobSatisfaction) |\n",
      "+====================+========================+\n",
      "| JobSatisfaction(0) |                 0.5711 |\n",
      "+--------------------+------------------------+\n",
      "| JobSatisfaction(1) |                 0.4289 |\n",
      "+--------------------+------------------------+\n"
     ]
    }
   ],
   "source": [
    "print(job_satisfaction_inference.query(['JobSatisfaction'], show_progress=False));"
   ]
  },
  {
   "cell_type": "markdown",
   "id": "dd3eebd3",
   "metadata": {},
   "source": [
    "**Good `WorkLifeBalance`**"
   ]
  },
  {
   "cell_type": "code",
   "execution_count": 109,
   "id": "0a8b7d58",
   "metadata": {},
   "outputs": [
    {
     "name": "stdout",
     "output_type": "stream",
     "text": [
      "+--------------------+------------------------+\n",
      "| JobSatisfaction    |   phi(JobSatisfaction) |\n",
      "+====================+========================+\n",
      "| JobSatisfaction(0) |                 0.5431 |\n",
      "+--------------------+------------------------+\n",
      "| JobSatisfaction(1) |                 0.4569 |\n",
      "+--------------------+------------------------+\n"
     ]
    }
   ],
   "source": [
    "# Good `WorkLifeBalance`\n",
    "print(job_satisfaction_inference.query(['JobSatisfaction'],{'WorkLifeBalance':1}, show_progress=False))"
   ]
  },
  {
   "cell_type": "markdown",
   "id": "db3bae4f",
   "metadata": {},
   "source": [
    "Increasing of the probability of `JobSatisfaction` from $0.43$ to $0.46$."
   ]
  },
  {
   "cell_type": "markdown",
   "id": "f366145e",
   "metadata": {},
   "source": [
    "**High `JobLevel`**"
   ]
  },
  {
   "cell_type": "code",
   "execution_count": 110,
   "id": "94daaf3d",
   "metadata": {},
   "outputs": [
    {
     "name": "stdout",
     "output_type": "stream",
     "text": [
      "+--------------------+------------------------+\n",
      "| JobSatisfaction    |   phi(JobSatisfaction) |\n",
      "+====================+========================+\n",
      "| JobSatisfaction(0) |                 0.4329 |\n",
      "+--------------------+------------------------+\n",
      "| JobSatisfaction(1) |                 0.5671 |\n",
      "+--------------------+------------------------+\n"
     ]
    }
   ],
   "source": [
    "# High `JobLevel`\n",
    "print(job_satisfaction_inference.query(['JobSatisfaction'],{'JobLevel':2}, show_progress=False))"
   ]
  },
  {
   "cell_type": "markdown",
   "id": "68f605e8",
   "metadata": {},
   "source": [
    "Increasing of the probability of `JobSatisfaction` from $0.43$ to $0.57$."
   ]
  },
  {
   "cell_type": "code",
   "execution_count": 111,
   "id": "90d2e061",
   "metadata": {},
   "outputs": [
    {
     "name": "stdout",
     "output_type": "stream",
     "text": [
      "+--------------------+------------------------+\n",
      "| JobSatisfaction    |   phi(JobSatisfaction) |\n",
      "+====================+========================+\n",
      "| JobSatisfaction(0) |                 0.4013 |\n",
      "+--------------------+------------------------+\n",
      "| JobSatisfaction(1) |                 0.5987 |\n",
      "+--------------------+------------------------+\n"
     ]
    }
   ],
   "source": [
    "# Combining good `WorkLifeBalance` and high `JobLevel`\n",
    "print(job_satisfaction_inference.query(['JobSatisfaction'],{'WorkLifeBalance':1, 'JobLevel':2}, show_progress=False))"
   ]
  },
  {
   "cell_type": "markdown",
   "id": "f5698de8",
   "metadata": {},
   "source": [
    "Further increasing of the probability."
   ]
  },
  {
   "cell_type": "markdown",
   "id": "06e508bb",
   "metadata": {},
   "source": [
    "**Adding high `MonthlyIncome`**"
   ]
  },
  {
   "cell_type": "code",
   "execution_count": 112,
   "id": "4f55bd32",
   "metadata": {},
   "outputs": [
    {
     "name": "stdout",
     "output_type": "stream",
     "text": [
      "+--------------------+------------------------+\n",
      "| JobSatisfaction    |   phi(JobSatisfaction) |\n",
      "+====================+========================+\n",
      "| JobSatisfaction(0) |                 0.3968 |\n",
      "+--------------------+------------------------+\n",
      "| JobSatisfaction(1) |                 0.6032 |\n",
      "+--------------------+------------------------+\n"
     ]
    }
   ],
   "source": [
    "# Combining good `WorkLifeBalance`, high `JobLevel` and high `MonthlyIncome`\n",
    "print(job_satisfaction_inference.query(['JobSatisfaction'],{'WorkLifeBalance':1, 'JobLevel':2, 'MonthlyIncome':2}, \n",
    "                                       show_progress=False))"
   ]
  },
  {
   "cell_type": "markdown",
   "id": "97f00867",
   "metadata": {},
   "source": [
    "Slight improvement of the probability. No big improvement. This makes sense, since `MonthlyIncome` is highly correlated with `JobLevel`."
   ]
  },
  {
   "cell_type": "markdown",
   "id": "ac3d1fba",
   "metadata": {},
   "source": [
    "**`Department`**"
   ]
  },
  {
   "cell_type": "code",
   "execution_count": 114,
   "id": "451c18ce",
   "metadata": {},
   "outputs": [
    {
     "name": "stdout",
     "output_type": "stream",
     "text": [
      "+--------------------+------------------------+\n",
      "| JobSatisfaction    |   phi(JobSatisfaction) |\n",
      "+====================+========================+\n",
      "| JobSatisfaction(0) |                 0.5689 |\n",
      "+--------------------+------------------------+\n",
      "| JobSatisfaction(1) |                 0.4311 |\n",
      "+--------------------+------------------------+\n"
     ]
    }
   ],
   "source": [
    "# High `Department`\n",
    "print(job_satisfaction_inference.query(['JobSatisfaction'],{'Department':1}, show_progress=False))"
   ]
  },
  {
   "cell_type": "markdown",
   "id": "17c0bc4d",
   "metadata": {},
   "source": [
    "An high `Department` decreases the prior probability... . Let's try a low `Department`."
   ]
  },
  {
   "cell_type": "code",
   "execution_count": 116,
   "id": "cd9ef58e",
   "metadata": {},
   "outputs": [
    {
     "name": "stdout",
     "output_type": "stream",
     "text": [
      "+--------------------+------------------------+\n",
      "| JobSatisfaction    |   phi(JobSatisfaction) |\n",
      "+====================+========================+\n",
      "| JobSatisfaction(0) |                 0.5570 |\n",
      "+--------------------+------------------------+\n",
      "| JobSatisfaction(1) |                 0.4430 |\n",
      "+--------------------+------------------------+\n"
     ]
    }
   ],
   "source": [
    "# Low `Department`\n",
    "print(job_satisfaction_inference.query(['JobSatisfaction'],{'Department':0}, show_progress=False))"
   ]
  },
  {
   "cell_type": "markdown",
   "id": "3e811517",
   "metadata": {},
   "source": [
    "Slight increase of the probability of `JobSatisfaction`."
   ]
  },
  {
   "cell_type": "code",
   "execution_count": 117,
   "id": "ff7b978c",
   "metadata": {},
   "outputs": [
    {
     "name": "stdout",
     "output_type": "stream",
     "text": [
      "+--------------------+------------------------+\n",
      "| JobSatisfaction    |   phi(JobSatisfaction) |\n",
      "+====================+========================+\n",
      "| JobSatisfaction(0) |                 0.3968 |\n",
      "+--------------------+------------------------+\n",
      "| JobSatisfaction(1) |                 0.6032 |\n",
      "+--------------------+------------------------+\n"
     ]
    }
   ],
   "source": [
    "# Combining good `WorkLifeBalance`, high `JobLevel`, high `MonthlyIncome` and low `Department`\n",
    "print(job_satisfaction_inference.query(['JobSatisfaction'],{'WorkLifeBalance':1, 'JobLevel':2, 'MonthlyIncome':2, \n",
    "                                                            'Department':0}, \n",
    "                                       show_progress=False))"
   ]
  },
  {
   "cell_type": "markdown",
   "id": "1fb6532b",
   "metadata": {},
   "source": [
    "If we already have `WorkLifeBalance`-`JobLevel`-`MonthlyIncome`, adding `Department` does not change the distribution with respect to not having `Department`. Same probability distribution of `JobSatisfaction` of before. This because `JobSatisfaction` and `Department` are independent given the evidences `WorkLifeBalance`, `JobLevel`, and `MonthlyIncome`.\n",
    "\n",
    "Indeed, {`WorkLifeBalance`, `JobLevel`, `MonthlyIncome`} is the markov blanket of `JobSatisfaction`: given these evidences, `JobSatisfaction` is independent from everything else. \n",
    "\n",
    "If we remove one evidence (e.g. `MonthlyIncome`), `JobSatisfaction` and `Department` are dependent again."
   ]
  },
  {
   "cell_type": "code",
   "execution_count": 123,
   "id": "ed5c23cc",
   "metadata": {},
   "outputs": [
    {
     "name": "stdout",
     "output_type": "stream",
     "text": [
      "+--------------------+------------------------+\n",
      "| JobSatisfaction    |   phi(JobSatisfaction) |\n",
      "+====================+========================+\n",
      "| JobSatisfaction(0) |                 0.4009 |\n",
      "+--------------------+------------------------+\n",
      "| JobSatisfaction(1) |                 0.5991 |\n",
      "+--------------------+------------------------+\n"
     ]
    }
   ],
   "source": [
    "# Combining good `WorkLifeBalance`, high `JobLevel` and low `Department`\n",
    "print(job_satisfaction_inference.query(['JobSatisfaction'],{'WorkLifeBalance':1, 'JobLevel':2, 'Department':0}, \n",
    "                                       show_progress=False))"
   ]
  },
  {
   "cell_type": "markdown",
   "id": "09f3b2af",
   "metadata": {},
   "source": [
    "Decreasing of the probability."
   ]
  },
  {
   "cell_type": "markdown",
   "id": "b88a3eac",
   "metadata": {},
   "source": [
    "**High `Age`, high `Education`, `Gender` male**"
   ]
  },
  {
   "cell_type": "code",
   "execution_count": 120,
   "id": "fc4ac9f9",
   "metadata": {},
   "outputs": [
    {
     "name": "stdout",
     "output_type": "stream",
     "text": [
      "+--------------------+------------------------+\n",
      "| JobSatisfaction    |   phi(JobSatisfaction) |\n",
      "+====================+========================+\n",
      "| JobSatisfaction(0) |                 0.5603 |\n",
      "+--------------------+------------------------+\n",
      "| JobSatisfaction(1) |                 0.4397 |\n",
      "+--------------------+------------------------+\n"
     ]
    }
   ],
   "source": [
    "# High `Age`\n",
    "print(job_satisfaction_inference.query(['JobSatisfaction'],{'Age':2}, show_progress=False))"
   ]
  },
  {
   "cell_type": "markdown",
   "id": "741beae0",
   "metadata": {},
   "source": [
    "Slight increase of the prior probability."
   ]
  },
  {
   "cell_type": "code",
   "execution_count": 121,
   "id": "aa32048a",
   "metadata": {
    "scrolled": true
   },
   "outputs": [
    {
     "name": "stdout",
     "output_type": "stream",
     "text": [
      "+--------------------+------------------------+\n",
      "| JobSatisfaction    |   phi(JobSatisfaction) |\n",
      "+====================+========================+\n",
      "| JobSatisfaction(0) |                 0.5521 |\n",
      "+--------------------+------------------------+\n",
      "| JobSatisfaction(1) |                 0.4479 |\n",
      "+--------------------+------------------------+\n"
     ]
    }
   ],
   "source": [
    "# High `Education`\n",
    "print(job_satisfaction_inference.query(['JobSatisfaction'],{'Education':2}, show_progress=False))"
   ]
  },
  {
   "cell_type": "markdown",
   "id": "b6d211b4",
   "metadata": {},
   "source": [
    "Slight increase of the prior probability."
   ]
  },
  {
   "cell_type": "code",
   "execution_count": 122,
   "id": "dda53d29",
   "metadata": {},
   "outputs": [
    {
     "name": "stdout",
     "output_type": "stream",
     "text": [
      "+--------------------+------------------------+\n",
      "| JobSatisfaction    |   phi(JobSatisfaction) |\n",
      "+====================+========================+\n",
      "| JobSatisfaction(0) |                 0.5618 |\n",
      "+--------------------+------------------------+\n",
      "| JobSatisfaction(1) |                 0.4382 |\n",
      "+--------------------+------------------------+\n"
     ]
    }
   ],
   "source": [
    "# `Gender` male\n",
    "print(job_satisfaction_inference.query(['JobSatisfaction'],{'Gender':1}, show_progress=False))"
   ]
  },
  {
   "cell_type": "markdown",
   "id": "6dde54ae",
   "metadata": {},
   "source": [
    "Slight increase of the prior probability."
   ]
  },
  {
   "cell_type": "code",
   "execution_count": 126,
   "id": "6f513f23",
   "metadata": {},
   "outputs": [
    {
     "name": "stdout",
     "output_type": "stream",
     "text": [
      "+--------------------+------------------------+\n",
      "| JobSatisfaction    |   phi(JobSatisfaction) |\n",
      "+====================+========================+\n",
      "| JobSatisfaction(0) |                 0.5403 |\n",
      "+--------------------+------------------------+\n",
      "| JobSatisfaction(1) |                 0.4597 |\n",
      "+--------------------+------------------------+\n"
     ]
    }
   ],
   "source": [
    "# Combining high `Age`, high `Education` and `Gender` male\n",
    "print(job_satisfaction_inference.query(['JobSatisfaction'],{'Age':2, 'Education':2, 'Gender':1}, show_progress=False))"
   ]
  },
  {
   "cell_type": "markdown",
   "id": "43e05c31",
   "metadata": {},
   "source": [
    "Further increasing of the probability."
   ]
  },
  {
   "cell_type": "code",
   "execution_count": 127,
   "id": "75e6ab7c",
   "metadata": {},
   "outputs": [
    {
     "name": "stdout",
     "output_type": "stream",
     "text": [
      "+--------------------+------------------------+\n",
      "| JobSatisfaction    |   phi(JobSatisfaction) |\n",
      "+====================+========================+\n",
      "| JobSatisfaction(0) |                 0.5266 |\n",
      "+--------------------+------------------------+\n",
      "| JobSatisfaction(1) |                 0.4734 |\n",
      "+--------------------+------------------------+\n"
     ]
    }
   ],
   "source": [
    "# Combining high `Age`, high `Education`, `Gender` male and low `Department`\n",
    "print(job_satisfaction_inference.query(['JobSatisfaction'],{'Age':2, 'Education':2, 'Gender':1, 'Department':0}, \n",
    "                                       show_progress=False))"
   ]
  },
  {
   "cell_type": "markdown",
   "id": "d12fd0c9",
   "metadata": {},
   "source": [
    "Further increasing of the probability."
   ]
  },
  {
   "cell_type": "code",
   "execution_count": 128,
   "id": "f5685e40",
   "metadata": {},
   "outputs": [
    {
     "name": "stdout",
     "output_type": "stream",
     "text": [
      "+--------------------+------------------------+\n",
      "| JobSatisfaction    |   phi(JobSatisfaction) |\n",
      "+====================+========================+\n",
      "| JobSatisfaction(0) |                 0.4329 |\n",
      "+--------------------+------------------------+\n",
      "| JobSatisfaction(1) |                 0.5671 |\n",
      "+--------------------+------------------------+\n"
     ]
    }
   ],
   "source": [
    "# Combining high `JobLevel`, high `Age`, high `Education` and `Gender` male\n",
    "print(job_satisfaction_inference.query(['JobSatisfaction'],{'JobLevel':2, 'Age':2, 'Education':2, 'Gender':1}, \n",
    "                                       show_progress=False))"
   ]
  },
  {
   "cell_type": "markdown",
   "id": "f9cbc1ff",
   "metadata": {},
   "source": [
    "This is the same result obtained with having only `JobLevel` as evidence. In other words, if we already have `JobLevel`, then adding `Age`-`Education`-`Gender` does not change the distribution of `JobSatisfaction`. \n",
    "\n",
    "This because `JobSatisfaction` is independent from `Age`, `Education` and `Gender` if we have `JobLevel` as evidence.\n",
    "Indeed, `Age`, `Education` and `Gender` affect `JobSatisfaction` only through `JobLevel`, therefore having `JobLevel` as evidence breaks the flow of influence. "
   ]
  },
  {
   "cell_type": "markdown",
   "id": "9c1ad6c9",
   "metadata": {},
   "source": [
    "### Inference on `JobLevel`"
   ]
  },
  {
   "cell_type": "markdown",
   "id": "4d4d0bd2",
   "metadata": {},
   "source": [
    "**Prior distribution**"
   ]
  },
  {
   "cell_type": "code",
   "execution_count": 129,
   "id": "5ac2a751",
   "metadata": {},
   "outputs": [
    {
     "name": "stdout",
     "output_type": "stream",
     "text": [
      "+-------------+-----------------+\n",
      "| JobLevel    |   phi(JobLevel) |\n",
      "+=============+=================+\n",
      "| JobLevel(0) |          0.4326 |\n",
      "+-------------+-----------------+\n",
      "| JobLevel(1) |          0.3536 |\n",
      "+-------------+-----------------+\n",
      "| JobLevel(2) |          0.2138 |\n",
      "+-------------+-----------------+\n"
     ]
    }
   ],
   "source": [
    "print(job_satisfaction_inference.query(['JobLevel'], show_progress=False))"
   ]
  },
  {
   "cell_type": "markdown",
   "id": "4c2a72a1",
   "metadata": {},
   "source": [
    "**High `JobSatisfaction`**"
   ]
  },
  {
   "cell_type": "code",
   "execution_count": 131,
   "id": "c6603f25",
   "metadata": {},
   "outputs": [
    {
     "name": "stdout",
     "output_type": "stream",
     "text": [
      "+-------------+-----------------+\n",
      "| JobLevel    |   phi(JobLevel) |\n",
      "+=============+=================+\n",
      "| JobLevel(0) |          0.3683 |\n",
      "+-------------+-----------------+\n",
      "| JobLevel(1) |          0.3490 |\n",
      "+-------------+-----------------+\n",
      "| JobLevel(2) |          0.2827 |\n",
      "+-------------+-----------------+\n"
     ]
    }
   ],
   "source": [
    "# High `JobSatisfaction`\n",
    "print(job_satisfaction_inference.query(['JobLevel'], {'JobSatisfaction':1}, show_progress=False))"
   ]
  },
  {
   "cell_type": "markdown",
   "id": "2ff95506",
   "metadata": {},
   "source": [
    "Increasing the probability of having a high `JobLevel`."
   ]
  },
  {
   "cell_type": "markdown",
   "id": "a38df1c9",
   "metadata": {},
   "source": [
    "**Adding `WorkLifeBalance`**"
   ]
  },
  {
   "cell_type": "code",
   "execution_count": 132,
   "id": "80166b22",
   "metadata": {},
   "outputs": [
    {
     "name": "stdout",
     "output_type": "stream",
     "text": [
      "+-------------+-----------------+\n",
      "| JobLevel    |   phi(JobLevel) |\n",
      "+=============+=================+\n",
      "| JobLevel(0) |          0.3778 |\n",
      "+-------------+-----------------+\n",
      "| JobLevel(1) |          0.3531 |\n",
      "+-------------+-----------------+\n",
      "| JobLevel(2) |          0.2691 |\n",
      "+-------------+-----------------+\n"
     ]
    }
   ],
   "source": [
    "# Combination of high `JobSatisfaction` and high `WorkLifeBalance`\n",
    "print(job_satisfaction_inference.query(['JobLevel'], {'JobSatisfaction':1, 'WorkLifeBalance':1}, show_progress=False))"
   ]
  },
  {
   "cell_type": "markdown",
   "id": "d9fcbd32",
   "metadata": {},
   "source": [
    "Decreasing of the probability of having an high `JobLevel`..."
   ]
  },
  {
   "cell_type": "code",
   "execution_count": 133,
   "id": "d6aa5653",
   "metadata": {},
   "outputs": [
    {
     "name": "stdout",
     "output_type": "stream",
     "text": [
      "+-------------+-----------------+\n",
      "| JobLevel    |   phi(JobLevel) |\n",
      "+=============+=================+\n",
      "| JobLevel(0) |          0.3261 |\n",
      "+-------------+-----------------+\n",
      "| JobLevel(1) |          0.3303 |\n",
      "+-------------+-----------------+\n",
      "| JobLevel(2) |          0.3436 |\n",
      "+-------------+-----------------+\n"
     ]
    }
   ],
   "source": [
    "# Combination of high `JobSatisfaction` and low `WorkLifeBalance`\n",
    "print(job_satisfaction_inference.query(['JobLevel'], {'JobSatisfaction':1, 'WorkLifeBalance':0}, show_progress=False))"
   ]
  },
  {
   "cell_type": "markdown",
   "id": "42d5832d",
   "metadata": {},
   "source": [
    "Increasing of the probability!\n",
    "\n",
    "The more you work, the higher is your job."
   ]
  },
  {
   "cell_type": "markdown",
   "id": "b423c4d1",
   "metadata": {},
   "source": [
    "**`Department`**"
   ]
  },
  {
   "cell_type": "code",
   "execution_count": 134,
   "id": "3de8b28a",
   "metadata": {},
   "outputs": [
    {
     "name": "stdout",
     "output_type": "stream",
     "text": [
      "+-------------+-----------------+\n",
      "| JobLevel    |   phi(JobLevel) |\n",
      "+=============+=================+\n",
      "| JobLevel(0) |          0.4326 |\n",
      "+-------------+-----------------+\n",
      "| JobLevel(1) |          0.3536 |\n",
      "+-------------+-----------------+\n",
      "| JobLevel(2) |          0.2138 |\n",
      "+-------------+-----------------+\n"
     ]
    }
   ],
   "source": [
    "# High `Department`\n",
    "print(job_satisfaction_inference.query(['JobLevel'], {'Department':1}, show_progress=False))"
   ]
  },
  {
   "cell_type": "markdown",
   "id": "b047ef05",
   "metadata": {},
   "source": [
    "Having `Department` as evidence does not change the prior distribution of `JobLevel`. This because `Department` and `JobLevel` are independent: no flow of influence between them.\n",
    "\n",
    "However, if we add `WorkLifeBalance` as evidence, we activate the V-structure, opening the flow of influence."
   ]
  },
  {
   "cell_type": "code",
   "execution_count": 158,
   "id": "bc84142f",
   "metadata": {},
   "outputs": [
    {
     "name": "stdout",
     "output_type": "stream",
     "text": [
      "+-------------+-----------------+\n",
      "| JobLevel    |   phi(JobLevel) |\n",
      "+=============+=================+\n",
      "| JobLevel(0) |          0.4055 |\n",
      "+-------------+-----------------+\n",
      "| JobLevel(1) |          0.3469 |\n",
      "+-------------+-----------------+\n",
      "| JobLevel(2) |          0.2476 |\n",
      "+-------------+-----------------+\n"
     ]
    }
   ],
   "source": [
    "# Combining high `Department` and low `WorkLifeBalance`\n",
    "print(job_satisfaction_inference.query(['JobLevel'], {'Department':1, 'WorkLifeBalance':0}, show_progress=False))"
   ]
  },
  {
   "cell_type": "markdown",
   "id": "78b948c8",
   "metadata": {},
   "source": [
    "Increasing of the probability!"
   ]
  },
  {
   "cell_type": "markdown",
   "id": "8e676f0d",
   "metadata": {},
   "source": [
    "**High `MonthlyIncome`** \n",
    "\n",
    "`MonthlyIncome` is highly correlated with `JobLevel`."
   ]
  },
  {
   "cell_type": "code",
   "execution_count": 159,
   "id": "e01f6c6a",
   "metadata": {},
   "outputs": [
    {
     "name": "stdout",
     "output_type": "stream",
     "text": [
      "+-------------+-----------------+\n",
      "| JobLevel    |   phi(JobLevel) |\n",
      "+=============+=================+\n",
      "| JobLevel(0) |          0.1771 |\n",
      "+-------------+-----------------+\n",
      "| JobLevel(1) |          0.3886 |\n",
      "+-------------+-----------------+\n",
      "| JobLevel(2) |          0.4342 |\n",
      "+-------------+-----------------+\n"
     ]
    }
   ],
   "source": [
    "# High `MonthlyIncome`\n",
    "print(job_satisfaction_inference.query(['JobLevel'], {'MonthlyIncome':2}, show_progress=False))"
   ]
  },
  {
   "cell_type": "markdown",
   "id": "0468e6e3",
   "metadata": {},
   "source": [
    "Dramatically increasing the prior probability!"
   ]
  },
  {
   "cell_type": "code",
   "execution_count": 182,
   "id": "a9c263ad",
   "metadata": {},
   "outputs": [
    {
     "name": "stdout",
     "output_type": "stream",
     "text": [
      "+-------------+-----------------+\n",
      "| JobLevel    |   phi(JobLevel) |\n",
      "+=============+=================+\n",
      "| JobLevel(0) |          0.1536 |\n",
      "+-------------+-----------------+\n",
      "| JobLevel(1) |          0.3268 |\n",
      "+-------------+-----------------+\n",
      "| JobLevel(2) |          0.5195 |\n",
      "+-------------+-----------------+\n"
     ]
    }
   ],
   "source": [
    "# Combining high `MonthlyIncome` with high `JobSatisfaction` and low `WorkLifeBalance`\n",
    "print(job_satisfaction_inference.query(['JobLevel'], {'MonthlyIncome':2, 'JobSatisfaction':1, 'WorkLifeBalance':0}, \n",
    "                                       show_progress=False))"
   ]
  },
  {
   "cell_type": "markdown",
   "id": "07e0da27",
   "metadata": {},
   "source": [
    "Further increasing!"
   ]
  },
  {
   "cell_type": "markdown",
   "id": "3f9ed446",
   "metadata": {},
   "source": [
    "**High `Age`, high `Education`, `Gender` male**"
   ]
  },
  {
   "cell_type": "code",
   "execution_count": 139,
   "id": "5e71ccd1",
   "metadata": {},
   "outputs": [
    {
     "name": "stdout",
     "output_type": "stream",
     "text": [
      "+-------------+-----------------+\n",
      "| JobLevel    |   phi(JobLevel) |\n",
      "+=============+=================+\n",
      "| JobLevel(0) |          0.3739 |\n",
      "+-------------+-----------------+\n",
      "| JobLevel(1) |          0.3612 |\n",
      "+-------------+-----------------+\n",
      "| JobLevel(2) |          0.2649 |\n",
      "+-------------+-----------------+\n"
     ]
    }
   ],
   "source": [
    "# High `Age`\n",
    "print(job_satisfaction_inference.query(['JobLevel'], {'Age':2}, show_progress=False))"
   ]
  },
  {
   "cell_type": "markdown",
   "id": "3407ecc6",
   "metadata": {},
   "source": [
    "Increasing of the prior probability."
   ]
  },
  {
   "cell_type": "code",
   "execution_count": 140,
   "id": "c8a78004",
   "metadata": {},
   "outputs": [
    {
     "name": "stdout",
     "output_type": "stream",
     "text": [
      "+-------------+-----------------+\n",
      "| JobLevel    |   phi(JobLevel) |\n",
      "+=============+=================+\n",
      "| JobLevel(0) |          0.3282 |\n",
      "+-------------+-----------------+\n",
      "| JobLevel(1) |          0.3684 |\n",
      "+-------------+-----------------+\n",
      "| JobLevel(2) |          0.3034 |\n",
      "+-------------+-----------------+\n"
     ]
    }
   ],
   "source": [
    "# High `Education`\n",
    "print(job_satisfaction_inference.query(['JobLevel'], {'Education':2}, show_progress=False))"
   ]
  },
  {
   "cell_type": "markdown",
   "id": "206cca0b",
   "metadata": {},
   "source": [
    "Good increasing of the prior probability!"
   ]
  },
  {
   "cell_type": "code",
   "execution_count": 142,
   "id": "7097194a",
   "metadata": {},
   "outputs": [
    {
     "name": "stdout",
     "output_type": "stream",
     "text": [
      "+-------------+-----------------+\n",
      "| JobLevel    |   phi(JobLevel) |\n",
      "+=============+=================+\n",
      "| JobLevel(0) |          0.3717 |\n",
      "+-------------+-----------------+\n",
      "| JobLevel(1) |          0.3748 |\n",
      "+-------------+-----------------+\n",
      "| JobLevel(2) |          0.2535 |\n",
      "+-------------+-----------------+\n"
     ]
    }
   ],
   "source": [
    "# `Gender` male\n",
    "print(job_satisfaction_inference.query(['JobLevel'], {'Gender':1}, show_progress=False))"
   ]
  },
  {
   "cell_type": "markdown",
   "id": "81808199",
   "metadata": {},
   "source": [
    "Increasing of the prior probability."
   ]
  },
  {
   "cell_type": "code",
   "execution_count": 143,
   "id": "8e885b19",
   "metadata": {},
   "outputs": [
    {
     "name": "stdout",
     "output_type": "stream",
     "text": [
      "+-------------+-----------------+\n",
      "| JobLevel    |   phi(JobLevel) |\n",
      "+=============+=================+\n",
      "| JobLevel(0) |          0.2895 |\n",
      "+-------------+-----------------+\n",
      "| JobLevel(1) |          0.3406 |\n",
      "+-------------+-----------------+\n",
      "| JobLevel(2) |          0.3699 |\n",
      "+-------------+-----------------+\n"
     ]
    }
   ],
   "source": [
    "# Combining high `Age`, high `Education`, `Gender` male\n",
    "print(job_satisfaction_inference.query(['JobLevel'], {'Age':2, 'Education':2, 'Gender':1}, show_progress=False))"
   ]
  },
  {
   "cell_type": "markdown",
   "id": "727bbeb0",
   "metadata": {},
   "source": [
    "Further increasing of the probability."
   ]
  },
  {
   "cell_type": "code",
   "execution_count": 183,
   "id": "72a33e29",
   "metadata": {},
   "outputs": [
    {
     "name": "stdout",
     "output_type": "stream",
     "text": [
      "+-------------+-----------------+\n",
      "| JobLevel    |   phi(JobLevel) |\n",
      "+=============+=================+\n",
      "| JobLevel(0) |          0.0781 |\n",
      "+-------------+-----------------+\n",
      "| JobLevel(1) |          0.2392 |\n",
      "+-------------+-----------------+\n",
      "| JobLevel(2) |          0.6827 |\n",
      "+-------------+-----------------+\n"
     ]
    }
   ],
   "source": [
    "# Combining high `MonthlyIncome` with high `JobSatisfaction`, low `WorkLifeBalance`, high `Age`, high `Education`, \n",
    "# `Gender` male\n",
    "print(job_satisfaction_inference.query(['JobLevel'], {'MonthlyIncome':2, 'JobSatisfaction':1, 'WorkLifeBalance':0, \n",
    "                                                      'Age':2, 'Education':2, 'Gender':1}, \n",
    "                                       show_progress=False))"
   ]
  },
  {
   "cell_type": "markdown",
   "id": "7c2ec44b",
   "metadata": {},
   "source": [
    "Very high probability of having an high `JobLevel`!"
   ]
  },
  {
   "cell_type": "markdown",
   "id": "8c11ee46",
   "metadata": {},
   "source": [
    "### Inference on `Gender`"
   ]
  },
  {
   "cell_type": "markdown",
   "id": "cacaafd9",
   "metadata": {},
   "source": [
    "**Prior distribution**"
   ]
  },
  {
   "cell_type": "code",
   "execution_count": 162,
   "id": "ce1a1590",
   "metadata": {},
   "outputs": [
    {
     "name": "stdout",
     "output_type": "stream",
     "text": [
      "+-----------+---------------+\n",
      "| Gender    |   phi(Gender) |\n",
      "+===========+===============+\n",
      "| Gender(0) |        0.4021 |\n",
      "+-----------+---------------+\n",
      "| Gender(1) |        0.5979 |\n",
      "+-----------+---------------+\n"
     ]
    }
   ],
   "source": [
    "print(job_satisfaction_inference.query(['Gender'], show_progress=False))"
   ]
  },
  {
   "cell_type": "markdown",
   "id": "cf3f93da",
   "metadata": {},
   "source": [
    "**High `JobSatisfaction`**"
   ]
  },
  {
   "cell_type": "code",
   "execution_count": 163,
   "id": "0d43695e",
   "metadata": {},
   "outputs": [
    {
     "name": "stdout",
     "output_type": "stream",
     "text": [
      "+-----------+---------------+\n",
      "| Gender    |   phi(Gender) |\n",
      "+===========+===============+\n",
      "| Gender(0) |        0.3893 |\n",
      "+-----------+---------------+\n",
      "| Gender(1) |        0.6107 |\n",
      "+-----------+---------------+\n"
     ]
    }
   ],
   "source": [
    "# High `JobSatisfaction`\n",
    "print(job_satisfaction_inference.query(['Gender'], {'JobSatisfaction':1}, show_progress=False))"
   ]
  },
  {
   "cell_type": "markdown",
   "id": "e1e94e8c",
   "metadata": {},
   "source": [
    "Slight increasing of the probability of being male."
   ]
  },
  {
   "cell_type": "markdown",
   "id": "d1ea0153",
   "metadata": {},
   "source": [
    "**High `JobLevel`**"
   ]
  },
  {
   "cell_type": "code",
   "execution_count": 164,
   "id": "7d040340",
   "metadata": {},
   "outputs": [
    {
     "name": "stdout",
     "output_type": "stream",
     "text": [
      "+-----------+---------------+\n",
      "| Gender    |   phi(Gender) |\n",
      "+===========+===============+\n",
      "| Gender(0) |        0.2912 |\n",
      "+-----------+---------------+\n",
      "| Gender(1) |        0.7088 |\n",
      "+-----------+---------------+\n"
     ]
    }
   ],
   "source": [
    "# High `JobLevel`\n",
    "print(job_satisfaction_inference.query(['Gender'], {'JobLevel':2}, show_progress=False))"
   ]
  },
  {
   "cell_type": "markdown",
   "id": "d5df4070",
   "metadata": {},
   "source": [
    "Big increasing of the probability of being male!"
   ]
  },
  {
   "cell_type": "code",
   "execution_count": 165,
   "id": "d785c605",
   "metadata": {},
   "outputs": [
    {
     "name": "stdout",
     "output_type": "stream",
     "text": [
      "+-----------+---------------+\n",
      "| Gender    |   phi(Gender) |\n",
      "+===========+===============+\n",
      "| Gender(0) |        0.2912 |\n",
      "+-----------+---------------+\n",
      "| Gender(1) |        0.7088 |\n",
      "+-----------+---------------+\n"
     ]
    }
   ],
   "source": [
    "# Combining high `JobLevel` with high `JobSatisfaction`\n",
    "print(job_satisfaction_inference.query(['Gender'], {'JobLevel':2, 'JobSatisfaction':1}, show_progress=False))"
   ]
  },
  {
   "cell_type": "markdown",
   "id": "ea6070de",
   "metadata": {},
   "source": [
    "No difference. Because `Gender` and `JobSatisfaction` are indendent given `JobLevel`: indeed, the influence flows between `Gender` and `JobSatisfaction` only through `JobLevel`, so if we have `JobLevel` as evidence we break that flow."
   ]
  },
  {
   "cell_type": "markdown",
   "id": "0c1a69b9",
   "metadata": {},
   "source": [
    "**High `WorkLifeBalance`**"
   ]
  },
  {
   "cell_type": "code",
   "execution_count": 166,
   "id": "76f3efd8",
   "metadata": {},
   "outputs": [
    {
     "name": "stdout",
     "output_type": "stream",
     "text": [
      "+-----------+---------------+\n",
      "| Gender    |   phi(Gender) |\n",
      "+===========+===============+\n",
      "| Gender(0) |        0.4036 |\n",
      "+-----------+---------------+\n",
      "| Gender(1) |        0.5964 |\n",
      "+-----------+---------------+\n"
     ]
    }
   ],
   "source": [
    "# High `WorkLifeBalance`\n",
    "print(job_satisfaction_inference.query(['Gender'], {'WorkLifeBalance':1}, show_progress=False))"
   ]
  },
  {
   "cell_type": "markdown",
   "id": "d116eaf1",
   "metadata": {},
   "source": [
    "Almost same probability of being male. (Slight decreasing)."
   ]
  },
  {
   "cell_type": "markdown",
   "id": "ad1e7064",
   "metadata": {},
   "source": [
    "**High `Age`**"
   ]
  },
  {
   "cell_type": "code",
   "execution_count": 167,
   "id": "4c868828",
   "metadata": {},
   "outputs": [
    {
     "name": "stdout",
     "output_type": "stream",
     "text": [
      "+-----------+---------------+\n",
      "| Gender    |   phi(Gender) |\n",
      "+===========+===============+\n",
      "| Gender(0) |        0.4021 |\n",
      "+-----------+---------------+\n",
      "| Gender(1) |        0.5979 |\n",
      "+-----------+---------------+\n"
     ]
    }
   ],
   "source": [
    "# High `Age`\n",
    "print(job_satisfaction_inference.query(['Gender'], {'Age':2}, show_progress=False))"
   ]
  },
  {
   "cell_type": "markdown",
   "id": "050deed6",
   "metadata": {},
   "source": [
    "The prior distribution has not changed. This beacuse `Gender` and `Age` are independent: no flow of influence between them.\n",
    "\n",
    "However, if we add `JobLevel` as evidence, the V-structure activates: this opens the flow of influence."
   ]
  },
  {
   "cell_type": "code",
   "execution_count": 176,
   "id": "df287034",
   "metadata": {},
   "outputs": [
    {
     "name": "stdout",
     "output_type": "stream",
     "text": [
      "+-----------+---------------+\n",
      "| Gender    |   phi(Gender) |\n",
      "+===========+===============+\n",
      "| Gender(0) |        0.2895 |\n",
      "+-----------+---------------+\n",
      "| Gender(1) |        0.7105 |\n",
      "+-----------+---------------+\n"
     ]
    }
   ],
   "source": [
    "# Combining high `Age` and high `JobLevel`\n",
    "print(job_satisfaction_inference.query(['Gender'], {'Age':2, 'JobLevel':2}, show_progress=False))"
   ]
  },
  {
   "cell_type": "markdown",
   "id": "a7df0bcb",
   "metadata": {},
   "source": [
    "Increasing of the probability of being male! Bigger probability than having only high `JobLevel`."
   ]
  },
  {
   "cell_type": "markdown",
   "id": "078a71b1",
   "metadata": {},
   "source": [
    "**Adding high `Education`**"
   ]
  },
  {
   "cell_type": "markdown",
   "id": "fbf91d5b",
   "metadata": {},
   "source": [
    "Also `Education` is independent from `Gender`. But if we add `JobLevel`, the V-structure activates, opening the flow of influence between them."
   ]
  },
  {
   "cell_type": "code",
   "execution_count": 178,
   "id": "48870ffe",
   "metadata": {},
   "outputs": [
    {
     "name": "stdout",
     "output_type": "stream",
     "text": [
      "+-----------+---------------+\n",
      "| Gender    |   phi(Gender) |\n",
      "+===========+===============+\n",
      "| Gender(0) |        0.3256 |\n",
      "+-----------+---------------+\n",
      "| Gender(1) |        0.6744 |\n",
      "+-----------+---------------+\n"
     ]
    }
   ],
   "source": [
    "# Combining high `Age`, high `JobLevel` and high `Education`\n",
    "print(job_satisfaction_inference.query(['Gender'], {'Age':2, 'JobLevel':2, 'Education':2}, show_progress=False))"
   ]
  },
  {
   "cell_type": "markdown",
   "id": "9614581d",
   "metadata": {},
   "source": [
    "The probability has changed, but in a negative way. Decreasing of the probability ...\n",
    "\n",
    "Let's try the other way around: low `Education`."
   ]
  },
  {
   "cell_type": "code",
   "execution_count": 179,
   "id": "d1a3babf",
   "metadata": {},
   "outputs": [
    {
     "name": "stdout",
     "output_type": "stream",
     "text": [
      "+-----------+---------------+\n",
      "| Gender    |   phi(Gender) |\n",
      "+===========+===============+\n",
      "| Gender(0) |        0.2204 |\n",
      "+-----------+---------------+\n",
      "| Gender(1) |        0.7796 |\n",
      "+-----------+---------------+\n"
     ]
    }
   ],
   "source": [
    "# Combining high `Age`, high `JobLevel` and low `Education`\n",
    "print(job_satisfaction_inference.query(['Gender'], {'Age':2, 'JobLevel':2, 'Education':0}, show_progress=False))"
   ]
  },
  {
   "cell_type": "markdown",
   "id": "f0113adb",
   "metadata": {},
   "source": [
    "This increases the probability of being male!\n",
    "\n",
    "How can we interpret this last result? If we know that `JobLevel` is high, knowing that `Education` is low increases the chance that the `JobLevel` is high due to the `Gender`. Knowing that `Education` is low increases the chance that the `JobLevel` is high beacuse the person is male. (We are more confident that the reason why `JobLevel` is high is beacuse of the `Gender` male)."
   ]
  },
  {
   "cell_type": "markdown",
   "id": "6faf1d83",
   "metadata": {},
   "source": [
    "## APPROXIMATE INFERENCE\n",
    "Let's perform again some inference, but this time using **approximate inference**.\n",
    "\n",
    "The following approximate inference techniques will be tried.\n",
    "1. Rejection sampling.\n",
    "2. Likelihood Weighting\n",
    "\n",
    "These approximate techniques will be tested for performing inference on `JobSatisfaction`. Namely, the following probability distributions are computed.\n",
    "- Probability distribution of `JobSatisfaction` (prior distribution)\n",
    "- Probability distribution of `JobSatisfaction` given `Gender`$=1$ and `MonthlyIncome`$=2$.\n",
    "\n",
    "The following are the exact probability distributions of interest."
   ]
  },
  {
   "cell_type": "code",
   "execution_count": 184,
   "id": "55c52740",
   "metadata": {},
   "outputs": [
    {
     "name": "stdout",
     "output_type": "stream",
     "text": [
      "+--------------------+------------------------+\n",
      "| JobSatisfaction    |   phi(JobSatisfaction) |\n",
      "+====================+========================+\n",
      "| JobSatisfaction(0) |                 0.5711 |\n",
      "+--------------------+------------------------+\n",
      "| JobSatisfaction(1) |                 0.4289 |\n",
      "+--------------------+------------------------+\n"
     ]
    }
   ],
   "source": [
    "# Prior distribution of `JobSatisfaction`\n",
    "print(job_satisfaction_inference.query(['JobSatisfaction'], show_progress=False))"
   ]
  },
  {
   "cell_type": "code",
   "execution_count": 88,
   "id": "dd4d2188",
   "metadata": {},
   "outputs": [],
   "source": [
    "exact_prior = 0.4289"
   ]
  },
  {
   "cell_type": "code",
   "execution_count": 186,
   "id": "9c0eb63a",
   "metadata": {},
   "outputs": [
    {
     "name": "stdout",
     "output_type": "stream",
     "text": [
      "+--------------------+------------------------+\n",
      "| JobSatisfaction    |   phi(JobSatisfaction) |\n",
      "+====================+========================+\n",
      "| JobSatisfaction(0) |                 0.4901 |\n",
      "+--------------------+------------------------+\n",
      "| JobSatisfaction(1) |                 0.5099 |\n",
      "+--------------------+------------------------+\n"
     ]
    }
   ],
   "source": [
    "# Combining evidences `Gender`=1 and `MonthlyIncome`=2\n",
    "print(job_satisfaction_inference.query(['JobSatisfaction'], {'Gender':1, 'MonthlyIncome':2}, show_progress=False))"
   ]
  },
  {
   "cell_type": "code",
   "execution_count": 89,
   "id": "dc327c36",
   "metadata": {},
   "outputs": [],
   "source": [
    "exact_evidences = 0.5099"
   ]
  },
  {
   "cell_type": "markdown",
   "id": "5e204b9f",
   "metadata": {},
   "source": [
    "### Initialization and utlity functions"
   ]
  },
  {
   "cell_type": "code",
   "execution_count": 95,
   "id": "fe2ba442",
   "metadata": {},
   "outputs": [],
   "source": [
    "from pgmpy.sampling import BayesianModelSampling\n",
    "from pgmpy.factors.discrete import State\n",
    "\n",
    "job_satisfaction_approx_inference = BayesianModelSampling(job_satisfaction_model)"
   ]
  },
  {
   "cell_type": "markdown",
   "id": "9febf799",
   "metadata": {},
   "source": [
    "Function for computing the probability of `JobSatisfaction`$=1$ from the given RS (i.e. Rejection Sampling) samples."
   ]
  },
  {
   "cell_type": "code",
   "execution_count": 96,
   "id": "2ca28b38",
   "metadata": {},
   "outputs": [],
   "source": [
    "def prob_RS(samples, variable):\n",
    "    return np.mean(samples['JobSatisfaction'], axis=0)"
   ]
  },
  {
   "cell_type": "markdown",
   "id": "deaacffa",
   "metadata": {},
   "source": [
    "Function for computing the probability of `JobSatisfaction`$=1$ from the given LW (i.e. Likelihood Weighting) samples."
   ]
  },
  {
   "cell_type": "code",
   "execution_count": 97,
   "id": "62c06ec1",
   "metadata": {},
   "outputs": [],
   "source": [
    "def prob_LW(samples, variable):\n",
    "    return round(np.sum(np.dot(samples['JobSatisfaction'],samples['_weight']))/np.sum(samples['_weight']),2)"
   ]
  },
  {
   "cell_type": "markdown",
   "id": "64ef2c9c",
   "metadata": {},
   "source": [
    "Function for computing the relative error of the approximation."
   ]
  },
  {
   "cell_type": "code",
   "execution_count": 98,
   "id": "bbcecf84",
   "metadata": {},
   "outputs": [],
   "source": [
    "def relative_error(exact_value,approx_value):\n",
    "    return np.absolute((exact_value-approx_value)/exact_value)"
   ]
  },
  {
   "cell_type": "markdown",
   "id": "99ab649d",
   "metadata": {},
   "source": [
    "### Rejection sampling"
   ]
  },
  {
   "cell_type": "markdown",
   "id": "6ea4aea2",
   "metadata": {},
   "source": [
    "**Number of samples: $2000$.**\n",
    "\n",
    "Prior distribution of `JobSatisfaction`"
   ]
  },
  {
   "cell_type": "code",
   "execution_count": 111,
   "id": "91027b9d",
   "metadata": {},
   "outputs": [
    {
     "data": {
      "application/vnd.jupyter.widget-view+json": {
       "model_id": "54141d750b564870bebf30b0649e8c6c",
       "version_major": 2,
       "version_minor": 0
      },
      "text/plain": [
       "  0%|          | 0/8 [00:00<?, ?it/s]"
      ]
     },
     "metadata": {},
     "output_type": "display_data"
    },
    {
     "name": "stdout",
     "output_type": "stream",
     "text": [
      "Probability of `JobSatisfaction`=1 (with no evidence): 0.4265\n",
      "Error: 0.0056\n"
     ]
    }
   ],
   "source": [
    "samples = job_satisfaction_approx_inference.rejection_sample([], size=2000,  show_progress=False)\n",
    "approx_prior = prob_RS(samples, 'JobSatisfaction')\n",
    "print('Probability of `JobSatisfaction`=1 (with no evidence):', approx_prior)\n",
    "print('Error: {:.4f}'.format(relative_error(exact_prior, approx_prior)))"
   ]
  },
  {
   "cell_type": "markdown",
   "id": "5e7e6f3d",
   "metadata": {},
   "source": [
    "Very good approximation.\n",
    "\n",
    "Let's see with the evidences."
   ]
  },
  {
   "cell_type": "code",
   "execution_count": 119,
   "id": "32023787",
   "metadata": {},
   "outputs": [
    {
     "name": "stdout",
     "output_type": "stream",
     "text": [
      "Probability of `JobSatisfaction`=1 (with evidences): 0.506\n",
      "Error: 0.0076\n"
     ]
    }
   ],
   "source": [
    "samples = job_satisfaction_approx_inference.rejection_sample([State('Gender', 1),State('MonthlyIncome', 2)], \n",
    "                                                              size=2000,  show_progress=False)\n",
    "approx_evidences = prob_RS(samples, 'JobSatisfaction')\n",
    "print('Probability of `JobSatisfaction`=1 (with evidences):', approx_evidences)\n",
    "print('Error: {:.4f}'.format(relative_error(exact_evidences, approx_evidences)))"
   ]
  },
  {
   "cell_type": "markdown",
   "id": "00a8d065",
   "metadata": {},
   "source": [
    "Also this is a good approximation."
   ]
  },
  {
   "cell_type": "markdown",
   "id": "745de60e",
   "metadata": {},
   "source": [
    "**Decreasing the number of samples to $500$.**\n",
    "\n",
    "Prior probability."
   ]
  },
  {
   "cell_type": "code",
   "execution_count": 127,
   "id": "0e3b3d39",
   "metadata": {},
   "outputs": [
    {
     "data": {
      "application/vnd.jupyter.widget-view+json": {
       "model_id": "6b47c7a04ea544119b78acf51badc428",
       "version_major": 2,
       "version_minor": 0
      },
      "text/plain": [
       "  0%|          | 0/8 [00:00<?, ?it/s]"
      ]
     },
     "metadata": {},
     "output_type": "display_data"
    },
    {
     "name": "stdout",
     "output_type": "stream",
     "text": [
      "Probability of `JobSatisfaction`=1 (with no evidence): 0.436\n",
      "Error: 0.0166\n"
     ]
    }
   ],
   "source": [
    "samples = job_satisfaction_approx_inference.rejection_sample([], size=500,  show_progress=False)\n",
    "approx_prior = prob_RS(samples, 'JobSatisfaction')\n",
    "print('Probability of `JobSatisfaction`=1 (with no evidence):', approx_prior)\n",
    "print('Error: {:.4f}'.format(relative_error(exact_prior, approx_prior)))"
   ]
  },
  {
   "cell_type": "markdown",
   "id": "5e6b73d7",
   "metadata": {},
   "source": [
    "Worse approximation.\n",
    "\n",
    "Let's add the evidences."
   ]
  },
  {
   "cell_type": "code",
   "execution_count": 128,
   "id": "17a33ba9",
   "metadata": {},
   "outputs": [
    {
     "name": "stdout",
     "output_type": "stream",
     "text": [
      "Probability of `JobSatisfaction`=1 (with evidences): 0.52\n",
      "Error: 0.0198\n"
     ]
    }
   ],
   "source": [
    "samples = job_satisfaction_approx_inference.rejection_sample([State('Gender', 1),State('MonthlyIncome', 2)], \n",
    "                                                              size=500,  show_progress=False)\n",
    "approx_evidences = prob_RS(samples, 'JobSatisfaction')\n",
    "print('Probability of `JobSatisfaction`=1 (with evidences):', approx_evidences)\n",
    "print('Error: {:.4f}'.format(relative_error(exact_evidences, approx_evidences)))"
   ]
  },
  {
   "cell_type": "markdown",
   "id": "e74adb32",
   "metadata": {},
   "source": [
    "Worse approximation."
   ]
  },
  {
   "cell_type": "markdown",
   "id": "87df72f8",
   "metadata": {},
   "source": [
    "**Increasing the number of samples to $5000$.**"
   ]
  },
  {
   "cell_type": "code",
   "execution_count": 144,
   "id": "90226463",
   "metadata": {},
   "outputs": [
    {
     "data": {
      "application/vnd.jupyter.widget-view+json": {
       "model_id": "a51e287f771048ad83cffc297539b97b",
       "version_major": 2,
       "version_minor": 0
      },
      "text/plain": [
       "  0%|          | 0/8 [00:00<?, ?it/s]"
      ]
     },
     "metadata": {},
     "output_type": "display_data"
    },
    {
     "name": "stdout",
     "output_type": "stream",
     "text": [
      "Probability of `JobSatisfaction`=1 (with no evidence): 0.4292\n",
      "Error: 0.0007\n"
     ]
    }
   ],
   "source": [
    "samples = job_satisfaction_approx_inference.rejection_sample([], size=5000,  show_progress=False)\n",
    "approx_prior = prob_RS(samples, 'JobSatisfaction')\n",
    "print('Probability of `JobSatisfaction`=1 (with no evidence):', approx_prior)\n",
    "print('Error: {:.4f}'.format(relative_error(exact_prior, approx_prior)))"
   ]
  },
  {
   "cell_type": "markdown",
   "id": "d80ba78c",
   "metadata": {},
   "source": [
    "Better approximation."
   ]
  },
  {
   "cell_type": "code",
   "execution_count": 147,
   "id": "4d7a8c95",
   "metadata": {},
   "outputs": [
    {
     "name": "stdout",
     "output_type": "stream",
     "text": [
      "Probability of `JobSatisfaction`=1 (with evidences): 0.5072\n",
      "Error: 0.0053\n"
     ]
    }
   ],
   "source": [
    "samples = job_satisfaction_approx_inference.rejection_sample([State('Gender', 1),State('MonthlyIncome', 2)], \n",
    "                                                              size=5000,  show_progress=False)\n",
    "approx_evidences = prob_RS(samples, 'JobSatisfaction')\n",
    "print('Probability of `JobSatisfaction`=1 (with evidences):', approx_evidences)\n",
    "print('Error: {:.4f}'.format(relative_error(exact_evidences, approx_evidences)))"
   ]
  },
  {
   "cell_type": "markdown",
   "id": "18bd238e",
   "metadata": {},
   "source": [
    "Better approximation."
   ]
  },
  {
   "cell_type": "markdown",
   "id": "bcaa669e",
   "metadata": {},
   "source": [
    "### Likelihood Weighting"
   ]
  },
  {
   "cell_type": "markdown",
   "id": "da65e661",
   "metadata": {},
   "source": [
    "The results are in general worse than rejection sampling."
   ]
  },
  {
   "cell_type": "markdown",
   "id": "8b478ed1",
   "metadata": {},
   "source": [
    "**Number of samples: $2000$.**"
   ]
  },
  {
   "cell_type": "code",
   "execution_count": 151,
   "id": "776e0541",
   "metadata": {},
   "outputs": [
    {
     "name": "stdout",
     "output_type": "stream",
     "text": [
      "Probability of `JobSatisfaction`=1 (with no evidence): 0.44\n",
      "Error: 0.0259\n"
     ]
    }
   ],
   "source": [
    "samples = job_satisfaction_approx_inference.likelihood_weighted_sample([], size=2000,  show_progress=False)\n",
    "approx_prior = prob_LW(samples, 'JobSatisfaction')\n",
    "print('Probability of `JobSatisfaction`=1 (with no evidence):', approx_prior)\n",
    "print('Error: {:.4f}'.format(relative_error(exact_prior, approx_prior)))"
   ]
  },
  {
   "cell_type": "code",
   "execution_count": 152,
   "id": "7d9082f7",
   "metadata": {},
   "outputs": [
    {
     "name": "stdout",
     "output_type": "stream",
     "text": [
      "Probability of `JobSatisfaction`=1 (with evidences): 0.5\n",
      "Error: 0.0194\n"
     ]
    }
   ],
   "source": [
    "samples = job_satisfaction_approx_inference.likelihood_weighted_sample([State('Gender', 1),State('MonthlyIncome', 2)], \n",
    "                                                              size=2000,  show_progress=False)\n",
    "approx_evidences = prob_LW(samples, 'JobSatisfaction')\n",
    "print('Probability of `JobSatisfaction`=1 (with evidences):', approx_evidences)\n",
    "print('Error: {:.4f}'.format(relative_error(exact_evidences, approx_evidences)))"
   ]
  },
  {
   "cell_type": "markdown",
   "id": "f04187c4",
   "metadata": {},
   "source": [
    "**Decreasing the number of samples to $500$.**"
   ]
  },
  {
   "cell_type": "code",
   "execution_count": 155,
   "id": "cdbc2fd9",
   "metadata": {},
   "outputs": [
    {
     "name": "stdout",
     "output_type": "stream",
     "text": [
      "Probability of `JobSatisfaction`=1 (with no evidence): 0.45\n",
      "Error: 0.0492\n"
     ]
    }
   ],
   "source": [
    "samples = job_satisfaction_approx_inference.likelihood_weighted_sample([], size=500,  show_progress=False)\n",
    "approx_prior = prob_LW(samples, 'JobSatisfaction')\n",
    "print('Probability of `JobSatisfaction`=1 (with no evidence):', approx_prior)\n",
    "print('Error: {:.4f}'.format(relative_error(exact_prior, approx_prior)))"
   ]
  },
  {
   "cell_type": "code",
   "execution_count": 153,
   "id": "c3d0604c",
   "metadata": {},
   "outputs": [
    {
     "name": "stdout",
     "output_type": "stream",
     "text": [
      "Probability of `JobSatisfaction`=1 (with evidences): 0.53\n",
      "Error: 0.0394\n"
     ]
    }
   ],
   "source": [
    "samples = job_satisfaction_approx_inference.likelihood_weighted_sample([State('Gender', 1),State('MonthlyIncome', 2)], \n",
    "                                                              size=500,  show_progress=False)\n",
    "approx_evidences = prob_LW(samples, 'JobSatisfaction')\n",
    "print('Probability of `JobSatisfaction`=1 (with evidences):', approx_evidences)\n",
    "print('Error: {:.4f}'.format(relative_error(exact_evidences, approx_evidences)))"
   ]
  },
  {
   "cell_type": "markdown",
   "id": "39dd911d",
   "metadata": {},
   "source": [
    "**Increasing the number of samples to $5000$.**"
   ]
  },
  {
   "cell_type": "code",
   "execution_count": 156,
   "id": "37227b6e",
   "metadata": {},
   "outputs": [
    {
     "name": "stdout",
     "output_type": "stream",
     "text": [
      "Probability of `JobSatisfaction`=1 (with no evidence): 0.43\n",
      "Error: 0.0026\n"
     ]
    }
   ],
   "source": [
    "samples = job_satisfaction_approx_inference.likelihood_weighted_sample([], size=5000,  show_progress=False)\n",
    "approx_prior = prob_LW(samples, 'JobSatisfaction')\n",
    "print('Probability of `JobSatisfaction`=1 (with no evidence):', approx_prior)\n",
    "print('Error: {:.4f}'.format(relative_error(exact_prior, approx_prior)))"
   ]
  },
  {
   "cell_type": "code",
   "execution_count": 157,
   "id": "e2d5b373",
   "metadata": {},
   "outputs": [
    {
     "name": "stdout",
     "output_type": "stream",
     "text": [
      "Probability of `JobSatisfaction`=1 (with evidences): 0.51\n",
      "Error: 0.0002\n"
     ]
    }
   ],
   "source": [
    "samples = job_satisfaction_approx_inference.likelihood_weighted_sample([State('Gender', 1),State('MonthlyIncome', 2)], \n",
    "                                                              size=5000,  show_progress=False)\n",
    "approx_evidences = prob_LW(samples, 'JobSatisfaction')\n",
    "print('Probability of `JobSatisfaction`=1 (with evidences):', approx_evidences)\n",
    "print('Error: {:.4f}'.format(relative_error(exact_evidences, approx_evidences)))"
   ]
  }
 ],
 "metadata": {
  "kernelspec": {
   "display_name": "Python 3",
   "language": "python",
   "name": "python3"
  },
  "language_info": {
   "codemirror_mode": {
    "name": "ipython",
    "version": 3
   },
   "file_extension": ".py",
   "mimetype": "text/x-python",
   "name": "python",
   "nbconvert_exporter": "python",
   "pygments_lexer": "ipython3",
   "version": "3.8.8"
  }
 },
 "nbformat": 4,
 "nbformat_minor": 5
}
